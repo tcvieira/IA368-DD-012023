{
  "cells": [
    {
      "cell_type": "markdown",
      "metadata": {
        "id": "iTp7lUCWvXxE"
      },
      "source": [
        "# Hugging Face Causal Language Model\n",
        "\n",
        "fine-tuning of the [Facebook/opt-125](https://huggingface.co/facebook/opt-125m) model using an portuguese dataset [mc4-pt-sample-1g.txt](https://unicamp-dl/ia025a_2022s1/aula9/sample-1gb.txt) of 300 million tokens in its causal language modeling pre-training. The opt-125 model was originally trained on a english dataset of approximately 300 bil\\lion tokens.\n",
        "\n",
        "The task is to predict the next token in a sequence, like GPT and not like BERT\n",
        "\n",
        "[![google colab link](https://colab.research.google.com/assets/colab-badge.svg)](https://colab.research.google.com/github/tcvieira/IA368-DD-012023/blob/main/assingments/04/notebook.ipynb)"
      ]
    },
    {
      "cell_type": "code",
      "source": [
        "# The training is done using an T4 with 16GB of memory\n",
        "!nvidia-smi"
      ],
      "metadata": {
        "colab": {
          "base_uri": "https://localhost:8080/"
        },
        "id": "vsaLBGA0wR87",
        "outputId": "1e735763-73a0-457f-9f0d-f84194097bb1"
      },
      "execution_count": 2,
      "outputs": [
        {
          "output_type": "stream",
          "name": "stdout",
          "text": [
            "Wed Mar 29 19:30:06 2023       \n",
            "+-----------------------------------------------------------------------------+\n",
            "| NVIDIA-SMI 525.85.12    Driver Version: 525.85.12    CUDA Version: 12.0     |\n",
            "|-------------------------------+----------------------+----------------------+\n",
            "| GPU  Name        Persistence-M| Bus-Id        Disp.A | Volatile Uncorr. ECC |\n",
            "| Fan  Temp  Perf  Pwr:Usage/Cap|         Memory-Usage | GPU-Util  Compute M. |\n",
            "|                               |                      |               MIG M. |\n",
            "|===============================+======================+======================|\n",
            "|   0  Tesla T4            Off  | 00000000:00:04.0 Off |                    0 |\n",
            "| N/A   39C    P8     9W /  70W |      0MiB / 15360MiB |      0%      Default |\n",
            "|                               |                      |                  N/A |\n",
            "+-------------------------------+----------------------+----------------------+\n",
            "                                                                               \n",
            "+-----------------------------------------------------------------------------+\n",
            "| Processes:                                                                  |\n",
            "|  GPU   GI   CI        PID   Type   Process name                  GPU Memory |\n",
            "|        ID   ID                                                   Usage      |\n",
            "|=============================================================================|\n",
            "|  No running processes found                                                 |\n",
            "+-----------------------------------------------------------------------------+\n"
          ]
        }
      ]
    },
    {
      "cell_type": "markdown",
      "source": [
        "# Installs"
      ],
      "metadata": {
        "id": "FxtL-z4DOlLm"
      }
    },
    {
      "cell_type": "code",
      "source": [
        "!pip install transformers -q\n",
        "!pip install datasets -q\n",
        "!pip install ipython-autotime -q\n",
        "%load_ext autotime"
      ],
      "metadata": {
        "colab": {
          "base_uri": "https://localhost:8080/"
        },
        "id": "GR7NS7wUOkjP",
        "outputId": "16e975ff-6cfa-42de-e027-191fe57ed03b"
      },
      "execution_count": 3,
      "outputs": [
        {
          "output_type": "stream",
          "name": "stdout",
          "text": [
            "\u001b[2K     \u001b[90m━━━━━━━━━━━━━━━━━━━━━━━━━━━━━━━━━━━━━━━━\u001b[0m \u001b[32m6.8/6.8 MB\u001b[0m \u001b[31m103.4 MB/s\u001b[0m eta \u001b[36m0:00:00\u001b[0m\n",
            "\u001b[2K     \u001b[90m━━━━━━━━━━━━━━━━━━━━━━━━━━━━━━━━━━━━━━\u001b[0m \u001b[32m199.8/199.8 KB\u001b[0m \u001b[31m21.0 MB/s\u001b[0m eta \u001b[36m0:00:00\u001b[0m\n",
            "\u001b[2K     \u001b[90m━━━━━━━━━━━━━━━━━━━━━━━━━━━━━━━━━━━━━━━━\u001b[0m \u001b[32m7.6/7.6 MB\u001b[0m \u001b[31m112.2 MB/s\u001b[0m eta \u001b[36m0:00:00\u001b[0m\n",
            "\u001b[2K     \u001b[90m━━━━━━━━━━━━━━━━━━━━━━━━━━━━━━━━━━━━━━\u001b[0m \u001b[32m468.7/468.7 KB\u001b[0m \u001b[31m29.8 MB/s\u001b[0m eta \u001b[36m0:00:00\u001b[0m\n",
            "\u001b[2K     \u001b[90m━━━━━━━━━━━━━━━━━━━━━━━━━━━━━━━━━━━━━━\u001b[0m \u001b[32m110.5/110.5 KB\u001b[0m \u001b[31m14.5 MB/s\u001b[0m eta \u001b[36m0:00:00\u001b[0m\n",
            "\u001b[2K     \u001b[90m━━━━━━━━━━━━━━━━━━━━━━━━━━━━━━━━━━━━━━━━\u001b[0m \u001b[32m1.0/1.0 MB\u001b[0m \u001b[31m64.2 MB/s\u001b[0m eta \u001b[36m0:00:00\u001b[0m\n",
            "\u001b[2K     \u001b[90m━━━━━━━━━━━━━━━━━━━━━━━━━━━━━━━━━━━━━━━\u001b[0m \u001b[32m212.2/212.2 KB\u001b[0m \u001b[31m8.1 MB/s\u001b[0m eta \u001b[36m0:00:00\u001b[0m\n",
            "\u001b[2K     \u001b[90m━━━━━━━━━━━━━━━━━━━━━━━━━━━━━━━━━━━━━━\u001b[0m \u001b[32m132.9/132.9 KB\u001b[0m \u001b[31m18.2 MB/s\u001b[0m eta \u001b[36m0:00:00\u001b[0m\n",
            "\u001b[2K     \u001b[90m━━━━━━━━━━━━━━━━━━━━━━━━━━━━━━━━━━━━━━\u001b[0m \u001b[32m158.8/158.8 KB\u001b[0m \u001b[31m20.5 MB/s\u001b[0m eta \u001b[36m0:00:00\u001b[0m\n",
            "\u001b[2K     \u001b[90m━━━━━━━━━━━━━━━━━━━━━━━━━━━━━━━━━━━━━━\u001b[0m \u001b[32m114.2/114.2 KB\u001b[0m \u001b[31m16.9 MB/s\u001b[0m eta \u001b[36m0:00:00\u001b[0m\n",
            "\u001b[2K     \u001b[90m━━━━━━━━━━━━━━━━━━━━━━━━━━━━━━━━━━━━━━\u001b[0m \u001b[32m264.6/264.6 KB\u001b[0m \u001b[31m31.8 MB/s\u001b[0m eta \u001b[36m0:00:00\u001b[0m\n",
            "\u001b[2K     \u001b[90m━━━━━━━━━━━━━━━━━━━━━━━━━━━━━━━━━━━━━━━━\u001b[0m \u001b[32m1.6/1.6 MB\u001b[0m \u001b[31m65.4 MB/s\u001b[0m eta \u001b[36m0:00:00\u001b[0m\n",
            "\u001b[?25htime: 379 µs (started: 2023-03-29 19:30:37 +00:00)\n"
          ]
        }
      ]
    },
    {
      "cell_type": "markdown",
      "source": [
        "# Imports"
      ],
      "metadata": {
        "id": "iQ1z2uJwtGUS"
      }
    },
    {
      "cell_type": "code",
      "source": [
        "from datasets import load_dataset, DatasetDict\n",
        "from transformers import (\n",
        "    AutoTokenizer,\n",
        "    AutoModelForCausalLM,\n",
        "    DataCollatorForLanguageModeling,\n",
        "    Trainer,\n",
        "    TrainingArguments,\n",
        "    AutoConfig\n",
        ")\n",
        "import torch\n",
        "\n",
        "device = torch.device('cuda' if torch.cuda.is_available() else 'cpu')\n",
        "device"
      ],
      "metadata": {
        "colab": {
          "base_uri": "https://localhost:8080/"
        },
        "id": "qFljHbultHia",
        "outputId": "d29ff483-491b-448c-9120-70379f38a9d5"
      },
      "execution_count": 4,
      "outputs": [
        {
          "output_type": "execute_result",
          "data": {
            "text/plain": [
              "device(type='cuda')"
            ]
          },
          "metadata": {},
          "execution_count": 4
        },
        {
          "output_type": "stream",
          "name": "stdout",
          "text": [
            "time: 6.41 s (started: 2023-03-29 19:30:37 +00:00)\n"
          ]
        }
      ]
    },
    {
      "cell_type": "markdown",
      "metadata": {
        "id": "Fv8Y9pDUzriX"
      },
      "source": [
        "# Dataset"
      ]
    },
    {
      "cell_type": "code",
      "source": [
        "from google.colab import drive\n",
        "drive.mount('/content/drive', force_remount=True)"
      ],
      "metadata": {
        "colab": {
          "base_uri": "https://localhost:8080/"
        },
        "id": "zy064E4bO5V5",
        "outputId": "376c89db-fe01-4ed9-98c3-a1eb4cd29e35"
      },
      "execution_count": 5,
      "outputs": [
        {
          "output_type": "stream",
          "name": "stdout",
          "text": [
            "Mounted at /content/drive\n",
            "time: 30.3 s (started: 2023-03-29 19:30:43 +00:00)\n"
          ]
        }
      ]
    },
    {
      "cell_type": "code",
      "source": [
        "PATH_DATASET = '/content/drive/MyDrive/unicamp/IA368DD/class_4'"
      ],
      "metadata": {
        "colab": {
          "base_uri": "https://localhost:8080/"
        },
        "id": "ejSZ8wsKQyp3",
        "outputId": "c248e029-36bd-486f-9ceb-620f7da3f6c8"
      },
      "execution_count": 6,
      "outputs": [
        {
          "output_type": "stream",
          "name": "stdout",
          "text": [
            "time: 342 µs (started: 2023-03-29 19:31:14 +00:00)\n"
          ]
        }
      ]
    },
    {
      "cell_type": "code",
      "source": [
        "#!gsutil cp gs://unicamp-dl/ia025a_2022s1/aula9/sample-1gb.txt {PATH_DATASET}/sample-1gb.txt"
      ],
      "metadata": {
        "colab": {
          "base_uri": "https://localhost:8080/"
        },
        "id": "T_AOOtmSRbPQ",
        "outputId": "e58f1030-a261-4f7d-fb73-c3cb8cab8e71"
      },
      "execution_count": 7,
      "outputs": [
        {
          "output_type": "stream",
          "name": "stdout",
          "text": [
            "time: 245 µs (started: 2023-03-29 19:31:14 +00:00)\n"
          ]
        }
      ]
    },
    {
      "cell_type": "code",
      "source": [
        "!head {PATH_DATASET}/sample-1gb.txt"
      ],
      "metadata": {
        "colab": {
          "base_uri": "https://localhost:8080/"
        },
        "id": "rlKzW9mxR3Ak",
        "outputId": "e4dd520b-d421-4554-af01-93dc47c1d76d"
      },
      "execution_count": 8,
      "outputs": [
        {
          "output_type": "stream",
          "name": "stdout",
          "text": [
            "Linkbar Há alguns anos, o número de rapazes e moças que subiam ao púlpito para pregar era maior que o de hoje. Na sua simplicidade, falavam do amor de Deus, da Salvação e davam testemunho sob a unção do Espirito Santo. Hoje, parece que a figura do \"preletor oficial\" inibiu muitos de falarem com ousadia a Palavra de Deus. Parece que há um receio de falar diante de um público que, certamente, é mais intelectualizado que há alguns anos. Jovens pregadores ficam embaraçados e cometem certos deslizes, que poderiam ser evitados. Neste modesto trabalho, vamos dar apenas algumas sugestões, e não um estudo sobre a Homilética (Arte de Falar em Publico). I -O QUE PREGAR? É a comunicação verbal da Palavra de Deus aos ouvintes. É a transmissão do evangelho de Nosso Senhor Jesus Cristo às pessoas que precisam ouvi-lo. II- QUAL A FINALIDADE DA PREGAÇÃO? É persuadir as pessoas a aceitarem a mensagem da Palavra de Deus para sua salvação (descrentes) ou para seu crescimento espiritual (crentes). Diante disso, o pregador precisa saber para quem esta falando: Para crentes ou para descrentes? III- QUE DEVE CONTER A PREGAÇÃO? Três coisas são básicas: 1. OBJETIVIDADE. Refere-se ao alvo a atingir. Se pregamos para descrentes, desejamos que eles entendam que precisam crer em Jesus para ser salvos. Devemos orar muito, antes de pregar, para que o Espirito Santo convença as pessoas do seu pecado. Se isso acontecer, a pregação alcança seu alvo. O centro da pregação deve ser Cristo e não o pregador, como acontece em certas cruzadas ou movimentos evangelísticos. Há pregadores que se perdem no púlpito. Começam a falar do amor de Deus, e passam a divagar sobre o Apocalipse, vão até Gênesis, aos profetas e, ao final, não sabem como sair do emaranhado de palavras. É preciso ter objetividade. 2. TRANSMISSÃO. O pregador deve procurar transmitir a mensagem de Deus às pessoas. Paulo disse: \"Porque eu recebi do Senhor o que também vos ensinei...\" O mensageiro deve receber a mensagem de Deus e transmiti-la aos homens. Não deve ficar inventando mensagens, terias, filosofias para mostrar conhecimentos. 3. CONVICÇÃO. O pregador deve transmitir aquilo de que tem convicção, para que a mensagem seja aceita. Tem que viver aquilo que prega. IV - A BASE DA PREGAÇÃO (ou do sermão) 1. A PALAVRA DE DEUS A base da pregação deve ser a Palavra de Deus, a Bíblia Sagrada. Podemos dizer, em outras palavras que a base da pregação deve ser o TEXTO BÍBLICO . Ilustrações podem ser aproveitadas, desde que Que se relacionem com o tema da mensagem , mas não podem tomar o lugar da Palavra de Deus. Ouvimos um pregador que, não tendo êxito em \"abalar\" os ouvintes, apelou para uma história fantasiosa e tomou 80% do tempo destinado à mensagem. 2. QUE TEXTO ESCOLHER? O Pr. Elienai Cabral sugere (em resumo) 8 (oito) características para um bom tema a ser escolhido )p. 50-51). 3) Textos objetivos: que atendam às necessidades espirituais das pessoas (Com oração e unção). 4) Textos sobre os quais não haja dificuldade para a interpretação (hermenêutica). 5) Textos dentro dos limites de capacidade do pregador. 6) Textos que expressem o tema da pregação para não fugir ao objetivo. 7) Texto que desperte interesse (Com oração, o Espírito mostra o que deve ser pregado). 8) Textos cuja seqüência seja de fácil acompanhamento pelo pregador e pelo auditório. V - A ESTRUTURA DA PREGAÇÃO ( Do sermão) Toda pregação com esboço ou não, deve ser dividida, basicamente, em duas partes: 1. INTRODUÇÃO. É a parte inicial da mensagem, pela qual o pregador entra em contato com o auditório. Visa despertar o interesse pela pregação; \"prepara a mente dos ouvintes , para que possam compreender o assunto do sermão e as idéias a serem desenvolvidas...\" (Key, p. 31). Uma boa introdução deve ser BREVE, SIMPLES, INTERESSANTE E APROPRIADA. (Cabral, p. 66) Conhecemos um grande pregador que gasta 30 ou 40 minutos na introdução. Isso cansa, principalmente os descrentes. A introdução não deve ir além de 10 ou 15% do tempo da mensagem. (Normalmente, o pregador sabe de quanto tempo dispõe, exceto em casos especiais). 2. CORPO (ou desenvolvimento) DA MENSAGEM (Do sermão). É a parte mais importante da mensagem. Ela deve conter a seqüência das idéias a serem apresentadas. No corpo do sermão ou da mensagem , podemos ter: 1) Ordem ou divisões (1º , 2º, 3º , etc.); 2) Transição de um pensamento para outro. As divisões devem ser de acordo com os objetivos mensagem; devem-se evitar \" excesso de floreios\", \"rodeios\", ou \"conversa fiada\". O povo percebe. 3.CONCLUSÃO. É o auge da pregação. O seu clímax. Nela, o pregador faz a aplicação do que pregou no corpo do sermão. Nesse momento, o pregador e o auditório, pelo poder do Espirito Santo, devem chegar à conclusão de que a mensagem atingiu seu objetivo. Sem uma boa conclusão, o que foi dito pode perder o brilho. Uma conclusão pode ser feita através de: 1) Recapitulação. O pregador deve rever o que pregou, em resumo ou tópicos, evidenciando pensamentos-chave , pontos fortes da mensagem (Cabral, p. 70). 2) Narração. O pregador pode valer-se de um fato, uma rápida ilustração para comover o auditório, levando o descrente a uma decisão, na unção do Espírito Santo. 3) Persuasão . É a parte mais difícil da conclusão. Depende muito mais do Espírito Santo do que do pregador. Por isso, toda mensagem deve ter a unção do Espírito Santo. Para tanto, o pregador precisa orar muito, e até jejuar, diante de Deus, para que a mensagem atinja seu alvo. 4) Convite. Toda pregação deve terminar com um convite ou apelo, seja para pecadores, seja para a igreja. Um convite na unção do Espírito tem maravilhoso efeito no coração das pessoas. De acordo com Braga (p. 211-212), a conclusão deve ser breve e simples, e com palavras adequadas. Um certo jovem pregou numa igreja. Ao fazer o apelo, não vendo ninguém atender, passou a contar que alguém ganhou um grande prêmio porque deu uma grande oferta para a Obra. Desviou totalmente o alvo da mensagem. VI - TIPOS DE SERMÕES 1. SERMÃO TEMÁTICO (Ou Tópico). É aquele \"cujas divisões principais derivam do tema, independentemente do (Braga, p.17). É aquele em que as divisões principais do derivadas de um TEXTO constituído de UMA BREVE PORÇÃO DA BÍBLIA ( Braga, p. 30). Exemplo: Titulo: \"O Único Caminho Para Deus\" (Jo 14.6). 1) Através de Jesus, o único caminho. 2) Através de Jesus, a verdade. 3)Através de Jesus, a vida. 3. SERMÃO EXPOSITIVO É aquele em que as divisões baseiam-se numa porção mais extensa (texto) da Bíblia, não abrangendo \"um só versículo, mas uma passagem, um capítulo, vários capítulos, ou mesmo um livro inteiro\" (Cabral, p. 78). Nele , é mostrada (exposta) uma verdade contida num texto bíblico. Exige tempo, estudo e conhecimento bíblico. É o que caracteriza uma pessoa e a torna diferente de outra. \"É tudo quanto o indivíduo é\". Na pregação, o pregador demonstra que tem personalidade, quando se expressa, falando ou gesticulando, de acordo com aquilo que ele é e não imitando outras pessoas. De vez em quando, percebe-se pregadores , imitando evangelistas famosos, dando gritos, pulando e correndo no púlpito, torcendo o pescoço, ajeitando a gravata, falando rouco ou estridente. Isso é falta de personalidade. É querer ser ator, imitador e não um instrumento nas mãos do Espírito Santo. É o sentimento de devoção e amor pelos outros e pelas coisas de Deus. O pregador deve sentir pelo Espírito as necessidades do auditório, principalmente dos pecadores. (1 Tm 4.8; Hb 12.28). 2) Devoção É o sentimento religioso, de dedicação às práticas ensinadas na Palavra de Deus. Na devoção, o pregador busca inspirar-se na ORAÇÃO, na LEITURA DA BÍBLIA, e no LOUVAR A DEUS. Temos visto verdadeiros profissionais da pregação, técnicos, que sabem pregar, mas não sabem orar; sabem gritar, mas não sabem amar as almas. Pregam por interesse, por torpe ganância. Que os jovens pregadores (e os antigos) não entrem por esse caminho. Conta-se que Moody, o grande evangelista, orava uma hora para pregar cinco minutos. Enquanto isso, temos pregadores que oram cinco minutos para pregarem uma hora! 3) Sinceridade Reflete a verdade contida na própria alma. O pregador deve pregar aquilo que vive e viver aquilo que prega (Tg 2.12). Um jovem, dirigente de Mocidade, pregava bem. O povo se alegrava. Mas, um dia, uma jovem descrente procurou a direção da igreja para dizer que estava grávida dele e, o pior, o jovem não assumiu a paternidade. Por fim, confessou o pecado, foi excluído, e contribuiu para uma alma descrer do evangelho. 4) Humildade \"Nenhum pregador pode subir ao púlpito sem antes ter descido, pela oração, os degraus da humildade. Na oração, o egoísmo se quebranta. O medo se desfaz, e a certeza da vitória aparece clara como a luz do sol ao meio-dia\" (Cabral, p. 43). (Ler Pv 15.33). Um jovem vivia criticando quem ia pregar, dizendo que, se fosse ele, pregaria muito melhor. Um dia, o pastor deu oportunidade ao moço para pregar. Ele subiu ao púlpito, orgulhoso, sorridente. Tentou achar um texto na Bíblia, de um lado para outro, e nada. Suou, pediu desculpa, e desceu cabisbaixo. Sentou noutro lugar, junto a um irmão experiente, que, percebendo sua tristeza, disse: \"Moço, se você tivesse subido como desceu (humilde), teria descido como subiu (alegre)\". E uma grande lição para todo pregador. 5) Poder O pregador (jovem ou não) precisa do Poder de Deus. S. Paulo disse que não pregava sabedoria humana, mas com poder (1 Co 1.4-5). É preciso ter unção e graça para pregar. Do contrário, ocupa-se o púlpito e o tempo para dizer coisas inoportunas. E melhor um sermão fora da Homilética, mas na unção de Deus, do que dentro da técnica, e sem poder. Isso só se consegue com oração, jejum, leitura bíblica, e vida consagrada. Não se obtém num curso de Homilética. Um mosaico com inscrições em hebraico contando a histórica bíblica de Sansão foi encontrado na Galiléia (Israel), nas ruínas de uma sinagoga do século 4 a.C. A escavação foi conduzida pelo Dr. Jodi Magnees, da North Carolina University (EUA), em parceria com arqueólogos da Israel Antiquities Authority (Autoridade de Antiguidades de Israel). A descoberta ocorreu perto do kibbutz Hokuk, local que várias fontes talmúdicas se referem como sendo a Hokuk histórica, onde rabinos se reuniam para escrever o Talmude (livro sagrado dos judeus). Um livro do rabino mediveal Ashtori Ishtori, do século XIV, faz referência a uma sinagoga na mesma área onde as descobertas foram feitas. Segundo o dr. David Amit, da Autoridade de Antiguidades de Israel, o mosaico \"contém uma descrição do Sansão bíblico e dois pares de raposas com uma tocha flamejante ligando suas caudas\", como descrito nas obras de Sansão no Livro dos Juízes.Read more... \"Não dizeis vós: Ainda há quatro meses até que venha a ceifa? Ora eu vos digo: Levantai os vossos olhos, e vede os campos, que já estão brancos para a ceifa. Quem ceifa já está recebendo recompensa e ajuntando fruto para a vida eterna; para que o que semeia e o que ceifa juntamente se regozijem\" João 4:35,36. Logo após se encontrar com a mulher samaritana e ela ter saído para evangelizar sua cidade, Jesus se encontra com os seus discípulos e estes insistem para que ele coma a comida que eles trouxeram da cidade. Jesus se recusa a comer e passa a ensinar-lhes verdades espirituais sobre o tempo da colheita de Deus. (as vezes precisamos recusar algumas comidas, mesmo que pareçam muito boas e tenham sido trazidas a nós por pessoas com as melhores intenções). Calendários diferentesJesus disse: No calendário de vocês, ainda faltam quatro meses para a colheita, no calendário de Deus, o tempo é agora. É possível que a nossa forma de ver as coisas possa estar diferente da de Deus. Temos discernido que este é um tempo de colheita, mas alguns talvez estejam pensando: Falta muito tempo, não se preocupe, não esquenta a cabeça, temos outras prioridades. Queridos, este é o tempo de Deus para colheita! Com mais ou menos tempo de igreja, com muito preparo ou pouco, com situações pessoais todas resolvidas ou ainda algumas dificuldades para resolver, este é um tempo de colheita e todos poderão participar. A mulher samaritana tinha muitas dificuldades ainda, mas isso não impediu que ela largasse o cântaro e fosse colher vidas para Jesus. Olhos voltados para as coisas terrenasJesus disse: \"Levantai os vossos olhos\", olhos que precisam ser levantados, são olhos que não estão focados onde deveriam estar. Olhos tem relação com o coração. Onde o meu coração está? Nas coisas que desejo? no meu estilo de vida que não pode ser mudado? Nos meus conceitos que são perfeitos e indiscutíveis? Nas coisas terrenas? A recomendação de Jesus é que os nossos olhos estejam nos campos do Senhor, mas somente quem ergue os olhos para olhar firmemente para Jesus é que pode ver e discernir o tempo e perceber que uma grande colheita já está preparada. Mas se o nosso calendário (propósitos e desejos do coração) não estiver alinhado com o do Senhor, nada acontecerá. Nem em sua vida, nem na vida dos que precisam ser alcançados.Semeadura e colheita, só se realizam quando arde no coração o desejo de plantar e colher, quando os olhos do coração estão focalizados no propósito de Deus. Fazendo a coisa certa no lugar certoA ordem de Jesus é semear e colher, não adianta dizer: Senhor, eu trabalho na fazenda, mas só quero cuidar do gado. Em nossa igreja, plantamos e colhemos principalmente através dos grupos familiares, é por isso que líderes não devem somente administrar o grupo ou simplesmente cuidar, mas pastorear e investir plantando coisas do reino de Deus na vida dos seus liderados. O grupo é o celeiro e lugar de treinamento para novos ceifeiros. É o lugar onde recebemos diversos tipos de sementes diferentes ( fé, amor, autoridade, unidade...), traçamos as estratégias apropriadas para plantarmos na vidas das pessoas as coisas do reino de Deus, é onde consideramos a forma de plantio, os adubos a irrigação, os cuidados com as ervas daninhas, é lugar de preparo e encaminhamento (encontro, café com leite puro, discipulado, curso preparatório, veredas, diaconato, treinamento de líderes....) deve haver unidade de propósito e de visão entre os ceifeiros, do contrário a colheita não acontece. Alcançando o resultado finalSemear e colher não acontece por acaso. É necessário um processo. O processo realizado corretamente é o que nos permite chegar ao resultado final. No grupo familiar devemos agir como garimpeiros procurando as pedras preciosas. Primeiro o garimpeiro sonda o terreno, analisa as barrancas do rio, as suas areias, o seu aspecto. Na esperança de que algo de muito valor possa sair dali, ele monta o acampamento (decide investir o seu tempo naquele lugar). Então, entra na água e começa o processo de procura ( pode ser longo). É um processo sistemático mas que deve ser feito com toda atenção ( no descuido podemos perder pedras preciosas). Ele está disposto a enfrentar as dificuldades (friagem no corpo pelo contato com a água fria, dor nas costas, sol na cabeça, picadas de inseto...) desconforto é um preço a ser pago. Mas eis que as pedras começam a surgir na bateia. Hoje uma, daqui a dois meses, duas, depois outras e ele vai encontrando seu tesouro (vidas). Geralmente saem da areia e do barro sujas, sem forma bonita e sem brilho. Mas, logo em seguida começa a fase de lavagem e formação (encontro, libertação, curso preparatório...) e depois a lapidação e polimento (pressões e experiências com Deus). Destino final: Ser parte de uma jóia com muitas outras pedras que refletem a luz da glória de Deus. O local do seu grupo familiar é o canto do riacho que o Senhor te deu para garimpar, as pedras são pessoas esperando para serem alcançadas. Peça a Deus sabedoria, força, direção e entusiasmo para cumprir o propósito. O papa Bento XVI iliba totalmente o povo judeu da morte de Jesus Cristo, um dos assuntos mais controversos do cristianismo, num novo livro de que foram hoje publicados. No livro, intitulado \"Jesus de Nazaré\", Bento XVI recorre a uma análise bíblica e teológica para explicar por que não é verdade que o povo judeu no seu conjunto seja responsável pela morte de Jesus. Embora o Vaticano sustente há cinco décadas que os judeus não foram coletivamente responsáveis, académicos judeus ouvidos pela agência noticiosa norte-americana AP consideraram que o argumento agora exposto pelo papa é significativo e vai contribuir para combater o antissemitismo. \"Há uma tendência humana natural para aceitar as coisas como verdadeiras e muitas vezes isto leva a erros de perceção\" quanto aos riscos de antissemitismo, considerou o rabi David Rosen, responsável para os assuntos inter-religiosos do comité judaico americano que há vários anos lidera o diálogo entre as duas religiões. Segundo Rosen, o Vaticano divulgou em 1965 a sua nota mais autorizada sobre o assunto, \"Nostra Aetate\", nota que revolucionou as relações da Igreja Católica com o judaísmo ao afirmar que a morte de Cristo não pode ser atribuída ao povo judeu nem na altura nem atualmente. Para o rabi, as palavras de Bento XVI podem representar um marco mais importante e duradouro na medida em que os crentes tendem a ler mais as escrituras e artigos ou livros do que os documentos da Igreja, especialmente os mais antigos. Este é o segundo volume de \"Jesus de Nazaré\" de Bento XVI lançado em 2007, o primeiro livro que lançou como papa, sobre os primeiros anos da vida e dos ensinamentos de Jesus Cristo. Este segundo volume, com lançamento previsto para 10 de março, é sobre a segunda parte da vida de Cristo. Quatro cristãos foram presos em Laos por serem surpreendidos pela polícia enquanto tentavam explicar a Bíblia para um homem. Dois deles eram cidadãos tailandeses. O caso aconteceu na aldeia de Luang Namtha na segunda quinzena do mês de junho e só foi divulgado dias depois por agências internacionais. Os relatos afirmam que supostamente um ex-policial ficou chocado por ver esses homens citando a Bíblia e resolveu denunciar. Os presos estavam dentro de uma casa fazendo visitas e falando sobre o Livro Sagrado para o morador. \"Quando a polícia chegou eles procuraram e acharam entre os pertences desses cristãos discos de história da Bíblia e um livro de figuras em preto e branco. A medida da polícia foi tomar os passaportes de todos eles\", disse Prasertsee que é diretor da ONG HRWLRF que defende dos direitos humanos. \"De noite a polícia voltou para prendê-los e os transportaram para a prisão\", continuou Prasertsee. \"Todos os pertences, inclusive dinheiro, fones e coisas pessoas foram confiscados\", denuncia.As famílias estão preocupadas com os prisioneiros, dois dos tailandeses tiveram os nomes divulgados: Phanthakorn, de 40 anos, e Wiwardamrong, de 54. A preocupação se dá pelo fato de que em Laos os prisioneiros não recebem alimento, é a família deles quem fornecem comida. \"As famílias estão se esforçando para ter contato com os presos, mas as autoridades de Laos tem dificultado essa relação\", afirma o direto da HRWLRF. hebraico TRANSLITERAÇÃO DO GREGO É possível fazer a transliteração de qualquer palavra constituída pelo alfabeto grego para o latino e vice-versa. ARQUEOLOGIA E TEOLOGIA pastor paulo Mestrado em Ciências da Religião; Bacharel em Teologia; Psicologia Pastoral; Doutor em Teologia, Doutor Honoris causa em Teologia Sistemática; Psicanálise Clinica com Mestrado em Psicanalise;É bacharel em linguística e hebraico e mestre em hebraico. Professor da área bíblica e de hebraico do Seminário, em São Paulo.\n",
            "Comissão de Construção da Nova Sede GOB. A Comissão de Construção da Nova Sede do Grande Oriente do Brasil - Minas Gerais disponibiliza esta área para que os IIr.'. Maçons, devidamente regularizados, possam acompanhar todo o processo de construção da nova sede do GOB-MG; inclusive esclarecendo possíveis dúvidas que possam existir. Acesse a página da SMI - Sociedade Maçônica de Investimentos S/A e vejam todo conteúdo.\n",
            "06/12/2011 MPT realiza audiência pública e alerta para aumento de acidentes na construção civil 180°.com/PI A construção civil passa por um \"boom\" na cidade de Picos, especialmente na iniciativa privada. Motivado pela necessidade de debater as normas de segurança para os funcionários da construção civil, o Ministério Público do Trabalho do Piauí promoveu na tarde desta sexta-feira (02) uma audiência pública na Câmara Municipal. Além de explanar sobre as normas de segurança a serem seguidas pelos trabalhadores, os procuradores do MPT também alertaram para o aumento de acidentes registrados na construção civil local. \"Agente observa, aqui, que a maioria das obras não se segue as normas mínimas de segurança do trabalho, especialmente a Norma Regulamentada N° 18, que é a norma do Ministério do Trabalho para a construção civil, e o que observamos é um crescente número de acidentes de trabalho e exposição de risco a vida dos trabalhadores\", explicou o procurador do Ministério Público do Trabalho, Carlos Henrique Pereira Leite. Dentre as irregularidades mais graves e constatadas com mais freqüência pelo MPT, estão: trabalho em altura sem proteção e trabalho com instalação elétrica. \"Em que trabalham pessoas não qualificadas e sem a utilização dos equipamentos de proteção individual e coletiva\", informou. Carlos Henrique alerta que o dono de uma obra pode ser responsabilizado caso ocorra um acidente de trabalho. Ele informou que as denúncias ainda são subnotificadas, devido em parte a ausência de um sindicato que lute pelos direitos dos trabalhadores da construção civil em Picos. \"É oportuno lembrar que não há sindicato da construção civil na cidade de Picos\", declarou. A chefe de fiscalização da Superintendência Regional do Trabalho, Soraya Lima declarou que há empenho por parte da Superintendência, mas que esse é um momento de \"boom\" da construção civil em que há um grande número de obras e o consequente aumento das contratações. \"Temos de reconhecer que ainda falta muito para atingir o ideal na construção civil\", declarou. A audiência pública era voltada para os trabalhadores da construção civil e também para os empregadores, oportunidade em que as normas e leis foram explicadas, mas infelizmente a audiência registrou um comparecimento reduzido de pessoas.\n",
            "Usando como exemplo um pneu com código \"P175/70 R14 86V\" já sabemos que é para um veículo de passeio, pois começou com a letra P. Já o código 175/70 é o tamanho do pneu: o número 175 significa a largura de rodagem, medida em milímetros; já o 70 é a altura do pneu, indicando que tem 70% da largura de rodagem – nesse caso 122,5mm. A letra R que vem em seguida significa que o pneu é radial, ou seja, tem uma malha de aço com vergalhões paralelos e transversais. Esses pneus operam sem câmara. O número 14 indicado no código do pneu indica o raio da roda: dependendo do seu veículo, mesmo sendo de passeio, o raio da roda pode ser modificado. Se desejar alterá-lo por qualquer motivo, terá que trocar as rodas também. Por fim, o número 86 significa o índice da carga do pneu, ou seja, ele diz o quanto de peso o pneu aguenta.Aqui, um pneu 86 suporta 530 kgs; como são usados quatro deles num automóvel, ele suporta 2.120 kgs – um peso de carro popular. Existem sites de venda de pneus online que fornecem os tamanhos ideais de aros de pneus conforme a marca do seu carro. Como Cuidar dos Pneus do seu Carro Para que os seus pneus durem mais, é importante mantê-los calibrados no nível correto informado no manual do proprietário, assim como fazer o alinhamento e balanceamento periodicamente. A calibragem deve acontecer a cada 15 dias. Tente memorizar o nível de calibragem para facilitar esse processo. O modo de dirigir também conta: evite aceleradas e freadas bruscas. Vá com calma. Dicas para a Hora de Trocar os Pneus Desgastados Mesmo tomando esses cuidados necessários, eventualmente chega o momento da troca dos pneus por simples desgaste. Uma dica para reduzir o impacto no orçamento é trocá-los aos poucos: compre apenas dois e posteriormente substitua os outros dois. Lembre-se de que o eixo traseiro tem a preferência dos pneus novos. Aproveite e coloque bicos e válvulas novos também. Inovação: Pneus Verdes Recentemente a marca de pneus Pirelli lançou no mercado os chamados \"pneus verdes\". Eles contam com a tecnologia Novateck, desenvolvida especialmente para sua própria reconstrução. Ou seja, ao adquirir o produto, o consumidor, através de reformadores credenciados pela empresa, pode reformar o seu pneu quando desgastes ocorrerem. A marca oferece a mesma qualidade do produto original e garantia de fábrica até a terceira reforma do seu pneu. É um diferencial que a empresa buscar perante os seus clientes e uma forma sustentável de contribuir com o meio ambiente.\n",
            "Utiliza-se quando a ação não ocorre por intervenção deliberada de um agente, mas acidentalmente. Usa-se se + pronome átono + verbo na 3ª pessoa (concordando com o substantivo). ¡Cuidado! ¡El perro se te está escapando! (Cuidado! O cachorro está escapando!) Se me rompió la taza. (A xícara quebrou.) Se nos cayeron los relojes. (Os relógios caíram.) FORMAS ÁTONAS: lo / la / los / las Empregam-se sempre como complemento direto, ou seja, substituindo objetos diretos. 1) Llama un taxi, por favor. (Chama um táxi, por favor.) Llámalo, por favor. (Chama-o, por favor.) 2) Visitaré a mi familia en mis vacaciones. (Visitarei minha família em minhas férias.) La visitaré en mis vacaciones. (Eu a visitarei em minhas férias.) 3) ¿Has encontrado a tus amigos? (Encontraste teus amigos?) No, los estoy buscando. (Não, estou procurando-os.) Atenção! Diferentemente do português, em espanhol os objetos diretos de pessoa ou coisa/animal personificado aparecem precedidos da preposição a. Repare nos exemplos dados acima: os objetos diretos precedidos da preposição a (segundo e terceiro exemplo) são objetos de pessoa, enquanto que o objeto direto não preposicionado (primeiro exemplo) refere-se à coisa não personificada.\n",
            "ATUAÇÃO CINEPASS Uma equipe de alemães está por trás deste novo mercado de vendas de ingressos de cinema. Eles planejam ocupar os 83% de assentos não utilizados nas extremidades traseiras das salas de cinema. Por meio do website, oferecem ofertas exclusivas e preços acessíveis de ingressos e combo de alimentos. Home Página do Filme Página com dados técnicos do filme como Descrição, Duração, Gênero e Elenco. Além das informações sobre o filme, o cliente realiza um filtro de salas de cinema por cidade. Página Promocional Filmes promocionais de determinada sala de cinema. Combos Promocionais O cliente escolhe o combo promocional para determinado filme com data e hora agendada.\n",
            "Agentes de saúde fazem manifestação por melhores condições de trabalho Os agentes de endemias e agentes comunitários da saúde se reuniram hoje pela manhã (17) em uma manifestação na porta da prefeitura reivindicando melhores condições de trabalho. Segundo os representantes do Sindicato dos trabalhadores do Sistema único de Saúde no Estado de Goiás (Sindisaúde) os funcionários cobram melhores salários, além de outros benefícios como vale transporte, equipamentos de proteção individual e uniformes. O sindicato tentou por várias vezes se reunirem com a ex-secretaria de saúde e o prefeito, mas as tentativas não chegaram a lugar algum, o que causou a manifestação. O movimento que começou na porta da prefeitura se estendeu em uma passeata até a Secretária de Saúde, onde estava sendo empossado o novo secretario municipal de saúde. De acordo com Orlando Pedro, um dos cabeça da manifestação, o salário de um agente de endemias é de R$ 779,00, considerado baixo quando relacionado as despesas que cada um tem. \"Tem gente que trabalha em Goiânia e tem que tirar o vale transporte do próprio bolso. Quem fica em áreas mais longes e tem moto, ou carro, também tira do salário para fazer o seu serviço\". Fato este confirmado por uma agente de endemia que diz retirar todo mês do salário mais de R$ 100 só para cumprir sua rota de trabalho. A ex-secretária de saúde, Sônia Maria Martins, disse em uma entrevista de que os funcionários da saúde \"trabalhavam no céu\" e justificou dizendo que até o protetor solar era um dos melhores. Já os agentes discordam da declaração e alegam que poucos recebem o protetor solar, e que o filtro não é o essencial, e trabalham com os mesmos uniformes distribuídos há mais de dois anos. Leocides José Souza, diretor do interior e regional do SindiSaúde, disse que a categoria precisa lutar por um plano de carreira no município e que há uma portaria do Ministério da Saúde que o repasse para os agentes comunitários seria de R$ 950,00 , sendo a diferença entre o salário base e a portaria (algo em torno de R$200) investidos na melhoria de condições dos trabalhadores ou em repasse financeiro como complemento salarial, porém nenhum dos dois é feito na cidade. \"A única coisa que eles dizem ter feito com este valor é comprar algumas bicicletas para os agentes e que todo mês há a manutenção, mas isso não basta. Se há investimentos, prove através de notas que uma melhoria tem sido buscada\", completou o diretor. O prefeito tentou conversar com os agentes antes da manifestação, mas os representantes do sindicato não fariam parte da reunião, o que foi negado. Já no final da passeata, que percorreu as ruas dizendo \"saúde na rua, prefeito a culpa é sua\", Miller Assis conversou com os agentes e disse que tem feito o que a lei permite e o limite do possível para dar condições aos trabalhadores. Ele pediu que as reinvindicações fossem entregues ao novo secretário de saúde, Dirley Côrrea, e que em um prazo breve novas reuniões seriam marcadas. O prefeito disse que o salário dos agentes foi reajustado neste ano, assim como manda a lei e que em um consenso com Conselho Municipal de Saúde decidiu cortas as gratificações recebidas por alguns funcionários, por entender que deve haver isonomia entre os agentes. Em relação aos protetores solares Miller disse que este material já foi comprado, mas não disse quando seria entregue, e que os uniformes estão em fase de licitação. A diretora financeira do Sindisaúde se prontificou a acompanhar as negociações do município e que há outras cidades com menor arrecadação que já pagam o piso salarial de R$ 930,00. Galeria do post Comentários0Comentar!Este artigo ainda não possue comentários. Seja o primeiro a comentar!\n",
            "O governo da província de Misiones, na Argentina, já investiu R$ 13,5 milhões para revitalizar a orla de Puerto Iguazú, às margens do Rio Iguaçu: iniciativa serve de inspiração para o projeto Beira FozFronteira Proposta quer urbanizar orla de Foz Projeto Beira Foz prevê instalação de parques, restaurantes, avenidas e hotéis nas margens do rios Paraná e Iguaçu para combater a criminalidade Exemplo \"Costanera\" trouxe paz e progresso na margem argentina A ocupação das margens dos rios para reduzir a criminalidade e proporcionar bem-estar aos moradores já é uma realidade na Argentina. Em Puerto Iguazú, cidade vizinha a Foz do Iguaçu, o governo da província de Misiones investiu R$ 13,5 milhões para remodelar a orla do rio. A \"costanera\" argentina, como é chamada pelos brasileiros, tem restaurantes, parques, pistas de caminhada e internet gratuita. Omar Rodriguez, diretor de Turismo em Puerto Iguazú, diz que, antes de a orla ser revitalizada, o contrabando de mercadorias do Paraguai via Rio Iguaçu era intenso. \"Agora é paz. A costanera trouxe paz e progresso\", afirma. A orla de Puerto Iguazú é bem menor se comparada à brasileira – são três quilômetros – e a primeira etapa das obras, no trecho de 1.500 metros, está praticamente pronta. Os argentinos aguardam a finalização da construção de restaurantes e bares, um deles já confirmado é o Hard Rock Café em um local cedido pela prefeitura em sistema de concessão pública. Nova etapa Rodriguez adianta que uma segunda etapa da obra está prevista com a ocupação das margens do Rio Iguaçu até a entrada do parque nacional. Entre esses dois pontos já existe uma área de 600 hectares onde está sendo construído um conjunto de hotéis, entre eles, um da rede Hilton. Alguns deles, situados em meio à floresta, já funcionam. A cidade de Posadas, capital de Misiones, tem uma orla exemplar. Situada na fronteira com Encarnación, no Paraguai, a cidade, às margens do Rio Paraná, tem uma extensa orla, com praia artificial, calçadão e restaurantes. Urbanização Novas avenidas aproximam comunidade de rios Um dos aspectos mais importantes do projeto Beira Foz é a reintegração dos moradores à orla. \"Em todo lugar do mundo o rio é o elemento principal para uma cidade, e aqui é o problema. Mas agora vamos resgatar esse potencial\", diz o engenheiro Fábio Prado, representante do Conselho Consultivo da Associação Comercial e Industrial de Foz do Iguaçu (Acifi) e da União Dinâmica de Faculdades Cataratas (UDC) no projeto. Para possibilitar a integração entre a população e os rios, o projeto prevê a construção de avenidas e pistas de caminhada às margens dos Rios Iguaçu e Paraná. A ideia é fazer três traçados. O primeiro, chamado Beira Rio PR-Norte, começa no trevo da Vila C, região da Itaipu Binacional, e termina na Ponte da Amizade. O segundo se estende da ponte até o Marco das Três Fronteiras. E o terceiro liga o marco à entrada do Parque Nacional do Iguaçu. Esse braço do projeto, chamado de Sistema Viário, é coordenado pela Itaipu e pelo Parque Tecnológico de Itaipu (PTI). Entre os locais públicos, estão contemplados no projeto a construção do Parque da Memória, da torre dos 100 anos, em alusão ao centenário de Foz em 2014, a revitalização do Marco das Três Fronteiras, da Colônia de Pescadores, além de pistas para caminhadas e ciclovias. Outros espaços serão ocupados pela iniciativa privada com a construção de hotéis, bares e restaurantes. Aduana Prado lembra que a reurbanização da orla do Rio Paraná tem relação com um movimento iniciado na fronteira em 2001, junto com a Receita Federal, para a ampliação da aduana da Ponte da Amizade, lado brasileiro, cuja obra foi entregue em 2007. Na sequência, a aduana paraguaia também foi reformulada, o que melhorou a receptividade aos turistas nas alfândegas de Foz e Ciudad del Este. Um projeto de iniciativa pública e privada pretende mudar a paisagem da orla do Rio Paraná, na fronteira do Brasil com o Paraguai. Hoje, a área entre a barragem da Itaipu Binacional e o Marco das Três Fronteiras é cercada por portos clandestinos e moradias irregulares, usados pelo contrabando para trazer mercadorias, drogas e armas para o Brasil. A proposta para alterar essa realidade é ocupar os 21 quilômetros de margens do rio com parques, restaurantes, avenidas e hotéis. A ideia – chamada de Projeto Beira Foz – também se estende às margens do Rio Iguaçu, entre o Marco das Três Fronteiras e a entrada do Parque Nacional do Iguaçu, em um trajeto de 17 quilômetros. Além de criar condições para a população de Foz se aproximar e usufruir dos rios, a intervenção urbanística é uma aposta contra a criminalidade. \"O projeto em si é de fundamental importância para mudar não só a cara de Foz do Iguaçu, mas a segurança de todo o país\", opina o delegado-chefe da Polícia Federal (PF) em Foz do Iguaçu, Guilherme de Biagi. Segundo ele, com a ocupação da orla, a própria sociedade se torna um agente fiscalizador. Atualmente, a orla do Paraná tem pelo menos 12 conglomerados de moradias irregulares e uma população de quase mil pessoas. Em meio às residências é comum ver imóveis de fachadas que são depósitos de drogas, cigarros e produtos contrabandeados. O povoamento da beira rio é importante, segundo Biagi, porque a PF pode direcionar o efetivo que hoje patrulha o Rio Paraná para pontos nevrálgicos da fronteira, como o Lago de Itaipu. Ao longo do reservatório, de 1.350 quilômetros, a polícia já mapeou 3 mil miniportos e picadas na mata usados pelos criminosos. Três eixos O Beira Foz está dividido em três eixos: segurança e justiça; habitação e promoção social; e sistema viário. Em relação à segurança, a proposta é instalar três bases ao longo do Rio Paraná chamadas Unidades de Policiamento de Fronteira (UPFron). As estruturas blindadas que serão usadas pela Marinha, PF, Polícia Am­biental e Receita Federal estão sendo projetadas no Parque Tecnológico de Itaipu (PTI), uma das parceiras da proposta. Câmeras para monitoramento eletrônico com visão noturna também auxiliarão o trabalho policial. O projeto envolve os governos federal e estadual, prefeitura de Foz e já tem aval dos Ministérios da Justiça e do Meio Ambiente. Ainda não há estimativa de custo para implementá-lo, mas o valor deve superar R$ 300 milhões. Uma comissão com representantes de instituições públicas e privadas, incluindo a Itaipu Binacional, União Dinâmica de Faculdades Cataratas (UDC) e Associação Comercial e Industrial de Foz do Iguaçu (Acifi), foi formada para levar a proposta adiante. O diretor-superintenden­te da Fundação PTI Juan Sotuyo diz que o Beira Foz vai atrair investimentos privados e beneficiar a cidade. \"O custo benefício é maior que o prejuízo gerado hoje pelo tráfico e contrabando\", ressalta. O mesmo movimento deve ocorrer no Paraguai, segundo Sotuyo. O governo paraguaio acompanha o desenvolvimento do projeto para montar uma estrutura semelhante do outro lado da fronteira, nas cidades de Hernandárias, Ciudad del Este e Presidente Franco, margeadas pelo Rio Paraná. O que você acha O Beira Foz vai conter o trânsito de criminosos na tríplice fronteira? Por quê? Assine a Gazeta do Povo A Cobertura Mais Completa Assine o plano completo da Gazeta do Povo e receba as edições impressas todos os dias da semana + acesso ilimitado no celular, computador e tablet. Tenha a cobertura mais completa do Paraná com a opinião e credibilidade dos melhores colunistas!\n",
            "Ameaçados de punição severa, os ex-palmeirenses Maurício e Obina puderam respirar aliviados, nesta quarta-feira, após o resultado de seus julgamentos no STJD. O zagueiro foi suspenso por três partidas, enquanto o atacante por duas. Os jogadores, que haviam sido denunciados no artigo 253 do Código Brasileiro de Justiça Desportiva (agressão física) por conta da briga em que se envolveram no intervalo da partida entre Palmeiras e Grêmio, no Olímpico em Porto Alegre, pela 36ª rodada do Campeonato Brasileiro, corriam o risco de pegar gancho de 120 a 540 dias. A confusão aconteceu durante uma discussão a respeito do lance que originou o primeiro gol dos gremistas. Antes do início do segundo tempo, ambos foram expulsos e os gaúchos venceram o duelo por 2 a 0. As informações são do site \"Justiça Desportiva\". A defesa de Maurício - que deverá ser emprestado - foi feita pelo advogado do Palmeiras, Rafael Pestana, que negou a agressão e ressaltou o arrependimento do atleta, que teria deixado o estádio chorando. O defensor teve acatado o pedido para que a denúncia fosse desclassificada para o artigo 255 (ato de hostilidade) - que tem pena máxima de três partidas. Obina foi defendido por Michel Assef Filho, advogado do Flamengo - para onde o atacante deverá voltar em 2010. O tribunal desclassificou a denúncia do jogador para o artigo 258 do CBJD (atitude antidesportiva). Assef sustentou que Obina teria reagido a uma ameaça de agressão e usou as imagens para desmentir a súmula do árbitro, afirmando não ter havido troca de socos.\n",
            "Autoridades participam de reabertura dos trabalhos legislativos Os trabalhos legislativos da Assembleia Legislativa de Mato Grosso do Sul foram reabertos na manhã desta terça-feira (2/2), com a solenidade de instalação da 2ª Sessão Legislativa da 10ª Legislatura. O evento, que reúne várias autoridades, teve início às 8h50, no Pavilhão das Bandeiras, entrada principal do Palácio Guaicurus, no Parque dos Poderes. A cerimônia segue um protocolo determinado pelo Regimento Interno da Casa de Leis. Na chegada ao Palácio Guaicurus, o governador Reinaldo Azambuja passou em revista a tropa formada pela Polícia Militar, sendo recebido logo depois pelo presidente Junior Mochi (PMDB) e demais deputados. Prosseguindo o rito, as Bandeiras foram hasteadas. A expectativa com relação a economia foi ressaltada por algumas das autoridades presentes. \"A união existente em nosso Estado, sob o comando do governador Reinaldo e com apoio da Assembleia e Tribunal de Justiça, nos dá esperança que vamos superar a crise econômica e trilhar o melhor caminho possível\", afirmou o desembargador João Maria Lós, presidente do Tribunal de Justiça de Mato Grosso do Sul. Presidente do Tribunal de Contas do Estado, o conselheiro Waldir Neves destacou a importância da relação harmônica entre os Poderes para enfrentar a crise econômica. \"Na atual conjuntura econômica vivida pelo País, os Poderes estão unidos para superarem as dificuldades. Otimismo, garra e vontade são fundamentais. A relação harmônica ajuda muito neste momento\". O Procurador- Geral de Justiça, Humberto de Matos Brites, também comentou sobre relação institucional com a Casa de Leis . \"Sempre tivemos uma relação institucional muito boa com a Assembleia. O Ministério Publico está aqui para desejar um excelente ano legislativo, não obstante a crise que vivemos, temos a certeza que os deputados irão cumprir a risca todas as suas atribuições legais\". Os deputados e autoridades já se dirigiram ao Plenário Júlio Maia para o início da sessão solene. O governador fará a leitura da Mensagem Constitucional de prestação de contas do Poder Executivo referente ao exercício de 2015. Ainda acontecerá o pronunciamento do presidente Junior Mochi e os deputados farão uso da palavra pelo Protocolo. Permitida a reprodução, desde que contenha a assinatura \"Agência ALMS\".Crédito obrigatório para as fotografias, no formato \"Nome do fotógrafo/ALMS\".\n",
            "time: 2.43 s (started: 2023-03-29 19:31:14 +00:00)\n"
          ]
        }
      ]
    },
    {
      "cell_type": "code",
      "source": [
        "!wc -l {PATH_DATASET}/sample-1gb.txt"
      ],
      "metadata": {
        "colab": {
          "base_uri": "https://localhost:8080/"
        },
        "id": "f_egfjedSUvb",
        "outputId": "72afdc4d-c638-4a3d-efd0-f2906f36932d"
      },
      "execution_count": 9,
      "outputs": [
        {
          "output_type": "stream",
          "name": "stdout",
          "text": [
            "250000 /content/drive/MyDrive/unicamp/IA368DD/class_4/sample-1gb.txt\n",
            "time: 12.8 s (started: 2023-03-29 19:31:16 +00:00)\n"
          ]
        }
      ]
    },
    {
      "cell_type": "markdown",
      "source": [
        "## small dataset for testing"
      ],
      "metadata": {
        "id": "ymDm3ZnUVIL8"
      }
    },
    {
      "cell_type": "code",
      "source": [
        "#!sed -n '1,100p' {PATH_DATASET}/sample-1gb.txt > {PATH_DATASET}/sample_small.txt"
      ],
      "metadata": {
        "colab": {
          "base_uri": "https://localhost:8080/"
        },
        "id": "RyuXMIdoVLGu",
        "outputId": "2a0858d5-61c1-4d07-f929-fad3db948950"
      },
      "execution_count": 10,
      "outputs": [
        {
          "output_type": "stream",
          "name": "stdout",
          "text": [
            "time: 211 µs (started: 2023-03-29 19:31:29 +00:00)\n"
          ]
        }
      ]
    },
    {
      "cell_type": "code",
      "source": [
        "!wc -l {PATH_DATASET}/sample_small.txt"
      ],
      "metadata": {
        "colab": {
          "base_uri": "https://localhost:8080/"
        },
        "id": "tYKjM8rzVWKe",
        "outputId": "309ed26e-e63c-42b8-fd8c-8b038820d76a"
      },
      "execution_count": 11,
      "outputs": [
        {
          "output_type": "stream",
          "name": "stdout",
          "text": [
            "100 /content/drive/MyDrive/unicamp/IA368DD/class_4/sample_small.txt\n",
            "time: 1.03 s (started: 2023-03-29 19:31:29 +00:00)\n"
          ]
        }
      ]
    },
    {
      "cell_type": "code",
      "source": [
        "small_dataset = load_dataset(\"text\", data_files=f'{PATH_DATASET}/sample_small.txt')\n",
        "small_dataset[\"validation\"] = load_dataset(\"text\", data_files=f'{PATH_DATASET}/sample_small.txt', split=f\"train[:5%]\")\n",
        "small_dataset[\"train\"] = load_dataset(\"text\", data_files=f'{PATH_DATASET}/sample_small.txt', split=f\"train[5%:]\")\n",
        "\n",
        "small_dataset"
      ],
      "metadata": {
        "colab": {
          "base_uri": "https://localhost:8080/",
          "height": 376,
          "referenced_widgets": [
            "3f02898ed3af400cb781da4be80cd589",
            "7241e3d9197a45deabfaff71afd41671",
            "5f12f47bfb3c495d883f6034d310a0f7",
            "8a2d388af48e40d5b1fd0177da3d6b26",
            "f1d27ca7d94d4693abe0d2d49e4ef145",
            "c68eae720cc14edda8449d231c92b81b",
            "a99e991f219d4708a2a17e651ef982b0",
            "67dac0c5c89a49e79e0e15b7f83d5bae",
            "f445540189c5425d93caf3566df190d8",
            "580fcc62656846fe98dd35423a8fe133",
            "193f762db7ec4e9c96fb543079d66de3",
            "a0c64f69ed8840c39872e20940688345",
            "0d41c55e0bca468a82fe53eeb771e023",
            "94181dad410345e4b0b47aa18c4ec383",
            "53661b2f34dd428c8842d673284d40fc",
            "11910e7d23a24713a3dd268302b094da",
            "0a8a55ddfe7249edab92a01aff7bb1fd",
            "d52b9b99105e4090b1e9a229cdbaa1d8",
            "3e7b7338913e4aa191a533bf1f611772",
            "15002d910405400fa6a8346bd6acefac",
            "4756eb99512f417491af8a418a413be0",
            "d3f9baf284a040a2a1039a6bca484571",
            "9c6d1e9fc5c6414ea55b8679ff9ed9dd",
            "3071fe88d79940969b18f8489b636701",
            "7beff5f5dcb2469e85e3af325d792f98",
            "27d4e24b06fd43bfb267c6b0ff89fd89",
            "a6f00db2ddb64eb7b69b83350f43ab6a",
            "4d378f925b52404aa9d6d547e28cd234",
            "ac9da2a7465b4da4bc13b140b318bcf7",
            "c790d85a59a94028a715f804af30bf10",
            "63416331b0a94721a5ab4724d4183c29",
            "5fbff9459f9f4e3e881e8cfe884fc226",
            "f7fbcc1e8a6e4fba9c35aff8be64007d",
            "7fb675656d6a4a098469c84ee16bf3b6",
            "9c496ccf7c8c49cd808f3a2120daae64",
            "890c0434ef874cd5aca1c8b86ec24a63",
            "67f54c4ba91b4160a699cba3acc4b514",
            "3c3b584d7fc1425d91fef0abed931969",
            "a9cc218e45c24388a06c62f21b4b0167",
            "c9c80e8e6a514d38986755f055f47955",
            "0b0a2b6f843d493ab12ec8f15f42b41c",
            "c05e97b8e5ea4366942c96cc37568a10",
            "1d069b6fa8f1476395b00ab9ef33589a",
            "5bc331bc3705473fb1dd75aed89dc8bc"
          ]
        },
        "id": "lumhT46K0_-H",
        "outputId": "8903c189-97eb-450b-b5f5-5c0ebae4ec12"
      },
      "execution_count": 12,
      "outputs": [
        {
          "output_type": "stream",
          "name": "stdout",
          "text": [
            "Downloading and preparing dataset text/default to /root/.cache/huggingface/datasets/text/default-9e0a1430f318dd3d/0.0.0/cb1e9bd71a82ad27976be3b12b407850fe2837d80c22c5e03a28949843a8ace2...\n"
          ]
        },
        {
          "output_type": "display_data",
          "data": {
            "text/plain": [
              "Downloading data files:   0%|          | 0/1 [00:00<?, ?it/s]"
            ],
            "application/vnd.jupyter.widget-view+json": {
              "version_major": 2,
              "version_minor": 0,
              "model_id": "3f02898ed3af400cb781da4be80cd589"
            }
          },
          "metadata": {}
        },
        {
          "output_type": "display_data",
          "data": {
            "text/plain": [
              "Extracting data files:   0%|          | 0/1 [00:00<?, ?it/s]"
            ],
            "application/vnd.jupyter.widget-view+json": {
              "version_major": 2,
              "version_minor": 0,
              "model_id": "a0c64f69ed8840c39872e20940688345"
            }
          },
          "metadata": {}
        },
        {
          "output_type": "display_data",
          "data": {
            "text/plain": [
              "Generating train split: 0 examples [00:00, ? examples/s]"
            ],
            "application/vnd.jupyter.widget-view+json": {
              "version_major": 2,
              "version_minor": 0,
              "model_id": "9c6d1e9fc5c6414ea55b8679ff9ed9dd"
            }
          },
          "metadata": {}
        },
        {
          "output_type": "stream",
          "name": "stdout",
          "text": [
            "Dataset text downloaded and prepared to /root/.cache/huggingface/datasets/text/default-9e0a1430f318dd3d/0.0.0/cb1e9bd71a82ad27976be3b12b407850fe2837d80c22c5e03a28949843a8ace2. Subsequent calls will reuse this data.\n"
          ]
        },
        {
          "output_type": "display_data",
          "data": {
            "text/plain": [
              "  0%|          | 0/1 [00:00<?, ?it/s]"
            ],
            "application/vnd.jupyter.widget-view+json": {
              "version_major": 2,
              "version_minor": 0,
              "model_id": "7fb675656d6a4a098469c84ee16bf3b6"
            }
          },
          "metadata": {}
        },
        {
          "output_type": "stream",
          "name": "stderr",
          "text": [
            "WARNING:datasets.builder:Found cached dataset text (/root/.cache/huggingface/datasets/text/default-9e0a1430f318dd3d/0.0.0/cb1e9bd71a82ad27976be3b12b407850fe2837d80c22c5e03a28949843a8ace2)\n",
            "WARNING:datasets.builder:Found cached dataset text (/root/.cache/huggingface/datasets/text/default-9e0a1430f318dd3d/0.0.0/cb1e9bd71a82ad27976be3b12b407850fe2837d80c22c5e03a28949843a8ace2)\n"
          ]
        },
        {
          "output_type": "execute_result",
          "data": {
            "text/plain": [
              "DatasetDict({\n",
              "    train: Dataset({\n",
              "        features: ['text'],\n",
              "        num_rows: 95\n",
              "    })\n",
              "    validation: Dataset({\n",
              "        features: ['text'],\n",
              "        num_rows: 5\n",
              "    })\n",
              "})"
            ]
          },
          "metadata": {},
          "execution_count": 12
        },
        {
          "output_type": "stream",
          "name": "stdout",
          "text": [
            "time: 3.18 s (started: 2023-03-29 19:31:30 +00:00)\n"
          ]
        }
      ]
    },
    {
      "cell_type": "code",
      "source": [
        "# base_dataset = load_dataset(\"text\", data_files=f'{PATH_DATASET}/sample-1gb.txt')\n",
        "# base_dataset[\"validation\"] = load_dataset(\"text\", data_files=f'{PATH_DATASET}/sample-1gb.txt', split=f\"train[:20%]\")\n",
        "# base_dataset[\"train\"] = load_dataset(\"text\", data_files=f'{PATH_DATASET}/sample-1gb.txt', split=f\"train[20%:]\")"
      ],
      "metadata": {
        "id": "bv_gQCO7pB6G"
      },
      "execution_count": null,
      "outputs": []
    },
    {
      "cell_type": "markdown",
      "source": [
        "# Select Dataset"
      ],
      "metadata": {
        "id": "hnIQ_w602Oqk"
      }
    },
    {
      "cell_type": "code",
      "source": [
        "dataset = small_dataset"
      ],
      "metadata": {
        "colab": {
          "base_uri": "https://localhost:8080/"
        },
        "id": "5_lth-U22RDw",
        "outputId": "417cf2df-301c-4414-9f18-ce3bab7b4224"
      },
      "execution_count": 13,
      "outputs": [
        {
          "output_type": "stream",
          "name": "stdout",
          "text": [
            "time: 564 µs (started: 2023-03-29 19:41:40 +00:00)\n"
          ]
        }
      ]
    },
    {
      "cell_type": "markdown",
      "source": [
        "# Parameters"
      ],
      "metadata": {
        "id": "6Cv8lozgSeP_"
      }
    },
    {
      "cell_type": "code",
      "source": [
        "MODEL_NAME = 'facebook/opt-125m'\n",
        "MAX_SEQ_LENGTH=256\n",
        "BATCH_SIZE=16\n",
        "EPOCHS=1\n",
        "MODEL_OUTPUT_FOLDER=f'{PATH_DATASET}/model_output'\n",
        "MODEL_SAVE_FOLDER=f'{PATH_DATASET}/model_save'\n",
        "CONTEXT_LENGTH=256\n",
        "BATCH_SIZE=4"
      ],
      "metadata": {
        "colab": {
          "base_uri": "https://localhost:8080/"
        },
        "id": "uX_3ufzNSgjY",
        "outputId": "2dfe1813-ef84-4c24-cbfe-34d148919335"
      },
      "execution_count": 14,
      "outputs": [
        {
          "output_type": "stream",
          "name": "stdout",
          "text": [
            "time: 814 µs (started: 2023-03-29 19:44:48 +00:00)\n"
          ]
        }
      ]
    },
    {
      "cell_type": "markdown",
      "source": [
        "# Tokenizer"
      ],
      "metadata": {
        "id": "Zp-IF2AjUqL6"
      }
    },
    {
      "cell_type": "code",
      "source": [
        "tokenizer = AutoTokenizer.from_pretrained(MODEL_NAME)"
      ],
      "metadata": {
        "colab": {
          "base_uri": "https://localhost:8080/",
          "height": 194,
          "referenced_widgets": [
            "883825314d984c50a4e222c8459c5e5f",
            "e070c5c47ecd49b4a865366dde4e1476",
            "3a7ccae43ecf4c838459972742b8818f",
            "a2363bb2e02a4fd982426c3d5da8bf4d",
            "30dfd3c92bb3480aaf0e015d79d6db06",
            "f72e2257e1c74ff59f99d993a0c88ecf",
            "959d2e5409d64eba8fcbd7309a4448a4",
            "5281b26b1cd64f8590bd756f49756d64",
            "76d998eb0cbd4d7ca3108605e6d47154",
            "8a0e75544bc54527bb7721c48c571557",
            "962c2f3e718a49dea5af069908d5b529",
            "7e324af113544ce985c4d3be8f5f1a5c",
            "ececaf8c195b416a95a92a13a032ea41",
            "8170162c9fab4f4ca149521407d6946b",
            "0a3bd4bab94845168a4624bb5a56b752",
            "cc64d549541e46c69552ab493cc15cd2",
            "44dc640d89b24de0977b31bd8b94287e",
            "3b40b49770d04c0a814b88028751fc48",
            "99e250e368ac40e3963007c256195ff0",
            "256fc48469044b0fa5f6356111a83a1e",
            "0d327e2beb6f44b1afffcd0a97505fb7",
            "1b5aa7f2d6e74b43838490ef9a2a1b11",
            "1db8d19a46ca429fb8ed124f3e1f53f6",
            "da66ce30edbe4925950cd43b45964877",
            "056b11b3b9d94b80a54bfcbbabd7d7dd",
            "1946306cb76b48bf9ab28bc66f27034f",
            "16e2337245054ea3bc202ec4ca9928c0",
            "ba6402de003d4125a13ee34f4a2b8b75",
            "6e7c915dad1244fb829ce38af5e5383d",
            "2a3dd27f04a04341a3321a1d78c34f84",
            "17134c36d0394be2952b217174a8e081",
            "c998c69986aa4f0996ded8dcf0ec4e5f",
            "77a380226bb2490783c74941d7c00d94",
            "e52e8139c3e4472bb00a1597ea16cc76",
            "88b997b287164f90bfe3f2791c4a861c",
            "dc7c023d669f487a88439c317e7af07d",
            "b8e4f6d227fa4c47bc53ad8b1054a379",
            "23a00d76003c44d09fe6eeff735644d1",
            "bf20d20e54c34e0cadc0e553afdf35f3",
            "a57aebd1182243248f41f327e6bf025e",
            "60d74eecdd794165afcf2473e152f71c",
            "ca69c309812348f1bf1693a83a1bd8f9",
            "c45a0048fb39403282abe899e9563aa9",
            "671d61daf8774f189c45fe636eac68f5",
            "cf29a38c3503431c96ceafe33f44c3fd",
            "02c08b7bc0254fd688efbabf3de5f79d",
            "f3c8a2b76873410fadd7b7130bebaf8d",
            "cd31a31a235e4658bb763f4cf0e1398f",
            "eeeec052b9be4f33a6d2c6b6671fdff2",
            "0988e0be573e4210aadb5d0c34dd40fc",
            "3a635e05a5754820ae2701d7c54fad70",
            "8bad256cac3a435db5dcaac5676a1f49",
            "095275b56d3d47878f8ecdc1e6ecd320",
            "ab7ea86e7d91448e9991ae73758e6768",
            "d2daf831283a49b6887f80c1f38904d3"
          ]
        },
        "id": "2fDt3xQ3UsjP",
        "outputId": "21e53c8e-cd59-4da1-a1a2-d16bd44f2366"
      },
      "execution_count": 15,
      "outputs": [
        {
          "output_type": "display_data",
          "data": {
            "text/plain": [
              "Downloading (…)okenizer_config.json:   0%|          | 0.00/685 [00:00<?, ?B/s]"
            ],
            "application/vnd.jupyter.widget-view+json": {
              "version_major": 2,
              "version_minor": 0,
              "model_id": "883825314d984c50a4e222c8459c5e5f"
            }
          },
          "metadata": {}
        },
        {
          "output_type": "display_data",
          "data": {
            "text/plain": [
              "Downloading (…)lve/main/config.json:   0%|          | 0.00/651 [00:00<?, ?B/s]"
            ],
            "application/vnd.jupyter.widget-view+json": {
              "version_major": 2,
              "version_minor": 0,
              "model_id": "7e324af113544ce985c4d3be8f5f1a5c"
            }
          },
          "metadata": {}
        },
        {
          "output_type": "display_data",
          "data": {
            "text/plain": [
              "Downloading (…)olve/main/vocab.json:   0%|          | 0.00/899k [00:00<?, ?B/s]"
            ],
            "application/vnd.jupyter.widget-view+json": {
              "version_major": 2,
              "version_minor": 0,
              "model_id": "1db8d19a46ca429fb8ed124f3e1f53f6"
            }
          },
          "metadata": {}
        },
        {
          "output_type": "display_data",
          "data": {
            "text/plain": [
              "Downloading (…)olve/main/merges.txt:   0%|          | 0.00/456k [00:00<?, ?B/s]"
            ],
            "application/vnd.jupyter.widget-view+json": {
              "version_major": 2,
              "version_minor": 0,
              "model_id": "e52e8139c3e4472bb00a1597ea16cc76"
            }
          },
          "metadata": {}
        },
        {
          "output_type": "display_data",
          "data": {
            "text/plain": [
              "Downloading (…)cial_tokens_map.json:   0%|          | 0.00/441 [00:00<?, ?B/s]"
            ],
            "application/vnd.jupyter.widget-view+json": {
              "version_major": 2,
              "version_minor": 0,
              "model_id": "cf29a38c3503431c96ceafe33f44c3fd"
            }
          },
          "metadata": {}
        },
        {
          "output_type": "stream",
          "name": "stdout",
          "text": [
            "time: 13.2 s (started: 2023-03-29 19:44:53 +00:00)\n"
          ]
        }
      ]
    },
    {
      "cell_type": "markdown",
      "source": [
        "# Model"
      ],
      "metadata": {
        "id": "hi_hABhVcpRi"
      }
    },
    {
      "cell_type": "markdown",
      "source": [
        "`AutoModelForCausalLM` is used for auto-regressive language models like all the GPT models, while `AutoModelForSeq2SeqLM` is used for language models with encoder-decoder architecture like T5 and BART.\n",
        "\n",
        "https://huggingface.co/docs/transformers/model_doc/auto#transformers.AutoModelForCausalLM"
      ],
      "metadata": {
        "id": "VZS50t59ccdU"
      }
    },
    {
      "cell_type": "code",
      "source": [
        "# Download configuration from huggingface.co and cache.\n",
        "config = AutoConfig.from_pretrained(MODEL_NAME)\n",
        "model = AutoModelForCausalLM.from_config(config)\n",
        "model.to(device)"
      ],
      "metadata": {
        "colab": {
          "base_uri": "https://localhost:8080/"
        },
        "id": "xxDnD128dBqZ",
        "outputId": "fe61c403-1e14-41cb-9be5-308e8a6d99cc"
      },
      "execution_count": 16,
      "outputs": [
        {
          "output_type": "execute_result",
          "data": {
            "text/plain": [
              "OPTForCausalLM(\n",
              "  (model): OPTModel(\n",
              "    (decoder): OPTDecoder(\n",
              "      (embed_tokens): Embedding(50272, 768, padding_idx=1)\n",
              "      (embed_positions): OPTLearnedPositionalEmbedding(2050, 768)\n",
              "      (final_layer_norm): LayerNorm((768,), eps=1e-05, elementwise_affine=True)\n",
              "      (layers): ModuleList(\n",
              "        (0): OPTDecoderLayer(\n",
              "          (self_attn): OPTAttention(\n",
              "            (k_proj): Linear(in_features=768, out_features=768, bias=True)\n",
              "            (v_proj): Linear(in_features=768, out_features=768, bias=True)\n",
              "            (q_proj): Linear(in_features=768, out_features=768, bias=True)\n",
              "            (out_proj): Linear(in_features=768, out_features=768, bias=True)\n",
              "          )\n",
              "          (activation_fn): ReLU()\n",
              "          (self_attn_layer_norm): LayerNorm((768,), eps=1e-05, elementwise_affine=True)\n",
              "          (fc1): Linear(in_features=768, out_features=3072, bias=True)\n",
              "          (fc2): Linear(in_features=3072, out_features=768, bias=True)\n",
              "          (final_layer_norm): LayerNorm((768,), eps=1e-05, elementwise_affine=True)\n",
              "        )\n",
              "        (1): OPTDecoderLayer(\n",
              "          (self_attn): OPTAttention(\n",
              "            (k_proj): Linear(in_features=768, out_features=768, bias=True)\n",
              "            (v_proj): Linear(in_features=768, out_features=768, bias=True)\n",
              "            (q_proj): Linear(in_features=768, out_features=768, bias=True)\n",
              "            (out_proj): Linear(in_features=768, out_features=768, bias=True)\n",
              "          )\n",
              "          (activation_fn): ReLU()\n",
              "          (self_attn_layer_norm): LayerNorm((768,), eps=1e-05, elementwise_affine=True)\n",
              "          (fc1): Linear(in_features=768, out_features=3072, bias=True)\n",
              "          (fc2): Linear(in_features=3072, out_features=768, bias=True)\n",
              "          (final_layer_norm): LayerNorm((768,), eps=1e-05, elementwise_affine=True)\n",
              "        )\n",
              "        (2): OPTDecoderLayer(\n",
              "          (self_attn): OPTAttention(\n",
              "            (k_proj): Linear(in_features=768, out_features=768, bias=True)\n",
              "            (v_proj): Linear(in_features=768, out_features=768, bias=True)\n",
              "            (q_proj): Linear(in_features=768, out_features=768, bias=True)\n",
              "            (out_proj): Linear(in_features=768, out_features=768, bias=True)\n",
              "          )\n",
              "          (activation_fn): ReLU()\n",
              "          (self_attn_layer_norm): LayerNorm((768,), eps=1e-05, elementwise_affine=True)\n",
              "          (fc1): Linear(in_features=768, out_features=3072, bias=True)\n",
              "          (fc2): Linear(in_features=3072, out_features=768, bias=True)\n",
              "          (final_layer_norm): LayerNorm((768,), eps=1e-05, elementwise_affine=True)\n",
              "        )\n",
              "        (3): OPTDecoderLayer(\n",
              "          (self_attn): OPTAttention(\n",
              "            (k_proj): Linear(in_features=768, out_features=768, bias=True)\n",
              "            (v_proj): Linear(in_features=768, out_features=768, bias=True)\n",
              "            (q_proj): Linear(in_features=768, out_features=768, bias=True)\n",
              "            (out_proj): Linear(in_features=768, out_features=768, bias=True)\n",
              "          )\n",
              "          (activation_fn): ReLU()\n",
              "          (self_attn_layer_norm): LayerNorm((768,), eps=1e-05, elementwise_affine=True)\n",
              "          (fc1): Linear(in_features=768, out_features=3072, bias=True)\n",
              "          (fc2): Linear(in_features=3072, out_features=768, bias=True)\n",
              "          (final_layer_norm): LayerNorm((768,), eps=1e-05, elementwise_affine=True)\n",
              "        )\n",
              "        (4): OPTDecoderLayer(\n",
              "          (self_attn): OPTAttention(\n",
              "            (k_proj): Linear(in_features=768, out_features=768, bias=True)\n",
              "            (v_proj): Linear(in_features=768, out_features=768, bias=True)\n",
              "            (q_proj): Linear(in_features=768, out_features=768, bias=True)\n",
              "            (out_proj): Linear(in_features=768, out_features=768, bias=True)\n",
              "          )\n",
              "          (activation_fn): ReLU()\n",
              "          (self_attn_layer_norm): LayerNorm((768,), eps=1e-05, elementwise_affine=True)\n",
              "          (fc1): Linear(in_features=768, out_features=3072, bias=True)\n",
              "          (fc2): Linear(in_features=3072, out_features=768, bias=True)\n",
              "          (final_layer_norm): LayerNorm((768,), eps=1e-05, elementwise_affine=True)\n",
              "        )\n",
              "        (5): OPTDecoderLayer(\n",
              "          (self_attn): OPTAttention(\n",
              "            (k_proj): Linear(in_features=768, out_features=768, bias=True)\n",
              "            (v_proj): Linear(in_features=768, out_features=768, bias=True)\n",
              "            (q_proj): Linear(in_features=768, out_features=768, bias=True)\n",
              "            (out_proj): Linear(in_features=768, out_features=768, bias=True)\n",
              "          )\n",
              "          (activation_fn): ReLU()\n",
              "          (self_attn_layer_norm): LayerNorm((768,), eps=1e-05, elementwise_affine=True)\n",
              "          (fc1): Linear(in_features=768, out_features=3072, bias=True)\n",
              "          (fc2): Linear(in_features=3072, out_features=768, bias=True)\n",
              "          (final_layer_norm): LayerNorm((768,), eps=1e-05, elementwise_affine=True)\n",
              "        )\n",
              "        (6): OPTDecoderLayer(\n",
              "          (self_attn): OPTAttention(\n",
              "            (k_proj): Linear(in_features=768, out_features=768, bias=True)\n",
              "            (v_proj): Linear(in_features=768, out_features=768, bias=True)\n",
              "            (q_proj): Linear(in_features=768, out_features=768, bias=True)\n",
              "            (out_proj): Linear(in_features=768, out_features=768, bias=True)\n",
              "          )\n",
              "          (activation_fn): ReLU()\n",
              "          (self_attn_layer_norm): LayerNorm((768,), eps=1e-05, elementwise_affine=True)\n",
              "          (fc1): Linear(in_features=768, out_features=3072, bias=True)\n",
              "          (fc2): Linear(in_features=3072, out_features=768, bias=True)\n",
              "          (final_layer_norm): LayerNorm((768,), eps=1e-05, elementwise_affine=True)\n",
              "        )\n",
              "        (7): OPTDecoderLayer(\n",
              "          (self_attn): OPTAttention(\n",
              "            (k_proj): Linear(in_features=768, out_features=768, bias=True)\n",
              "            (v_proj): Linear(in_features=768, out_features=768, bias=True)\n",
              "            (q_proj): Linear(in_features=768, out_features=768, bias=True)\n",
              "            (out_proj): Linear(in_features=768, out_features=768, bias=True)\n",
              "          )\n",
              "          (activation_fn): ReLU()\n",
              "          (self_attn_layer_norm): LayerNorm((768,), eps=1e-05, elementwise_affine=True)\n",
              "          (fc1): Linear(in_features=768, out_features=3072, bias=True)\n",
              "          (fc2): Linear(in_features=3072, out_features=768, bias=True)\n",
              "          (final_layer_norm): LayerNorm((768,), eps=1e-05, elementwise_affine=True)\n",
              "        )\n",
              "        (8): OPTDecoderLayer(\n",
              "          (self_attn): OPTAttention(\n",
              "            (k_proj): Linear(in_features=768, out_features=768, bias=True)\n",
              "            (v_proj): Linear(in_features=768, out_features=768, bias=True)\n",
              "            (q_proj): Linear(in_features=768, out_features=768, bias=True)\n",
              "            (out_proj): Linear(in_features=768, out_features=768, bias=True)\n",
              "          )\n",
              "          (activation_fn): ReLU()\n",
              "          (self_attn_layer_norm): LayerNorm((768,), eps=1e-05, elementwise_affine=True)\n",
              "          (fc1): Linear(in_features=768, out_features=3072, bias=True)\n",
              "          (fc2): Linear(in_features=3072, out_features=768, bias=True)\n",
              "          (final_layer_norm): LayerNorm((768,), eps=1e-05, elementwise_affine=True)\n",
              "        )\n",
              "        (9): OPTDecoderLayer(\n",
              "          (self_attn): OPTAttention(\n",
              "            (k_proj): Linear(in_features=768, out_features=768, bias=True)\n",
              "            (v_proj): Linear(in_features=768, out_features=768, bias=True)\n",
              "            (q_proj): Linear(in_features=768, out_features=768, bias=True)\n",
              "            (out_proj): Linear(in_features=768, out_features=768, bias=True)\n",
              "          )\n",
              "          (activation_fn): ReLU()\n",
              "          (self_attn_layer_norm): LayerNorm((768,), eps=1e-05, elementwise_affine=True)\n",
              "          (fc1): Linear(in_features=768, out_features=3072, bias=True)\n",
              "          (fc2): Linear(in_features=3072, out_features=768, bias=True)\n",
              "          (final_layer_norm): LayerNorm((768,), eps=1e-05, elementwise_affine=True)\n",
              "        )\n",
              "        (10): OPTDecoderLayer(\n",
              "          (self_attn): OPTAttention(\n",
              "            (k_proj): Linear(in_features=768, out_features=768, bias=True)\n",
              "            (v_proj): Linear(in_features=768, out_features=768, bias=True)\n",
              "            (q_proj): Linear(in_features=768, out_features=768, bias=True)\n",
              "            (out_proj): Linear(in_features=768, out_features=768, bias=True)\n",
              "          )\n",
              "          (activation_fn): ReLU()\n",
              "          (self_attn_layer_norm): LayerNorm((768,), eps=1e-05, elementwise_affine=True)\n",
              "          (fc1): Linear(in_features=768, out_features=3072, bias=True)\n",
              "          (fc2): Linear(in_features=3072, out_features=768, bias=True)\n",
              "          (final_layer_norm): LayerNorm((768,), eps=1e-05, elementwise_affine=True)\n",
              "        )\n",
              "        (11): OPTDecoderLayer(\n",
              "          (self_attn): OPTAttention(\n",
              "            (k_proj): Linear(in_features=768, out_features=768, bias=True)\n",
              "            (v_proj): Linear(in_features=768, out_features=768, bias=True)\n",
              "            (q_proj): Linear(in_features=768, out_features=768, bias=True)\n",
              "            (out_proj): Linear(in_features=768, out_features=768, bias=True)\n",
              "          )\n",
              "          (activation_fn): ReLU()\n",
              "          (self_attn_layer_norm): LayerNorm((768,), eps=1e-05, elementwise_affine=True)\n",
              "          (fc1): Linear(in_features=768, out_features=3072, bias=True)\n",
              "          (fc2): Linear(in_features=3072, out_features=768, bias=True)\n",
              "          (final_layer_norm): LayerNorm((768,), eps=1e-05, elementwise_affine=True)\n",
              "        )\n",
              "      )\n",
              "    )\n",
              "  )\n",
              "  (lm_head): Linear(in_features=768, out_features=50272, bias=False)\n",
              ")"
            ]
          },
          "metadata": {},
          "execution_count": 16
        },
        {
          "output_type": "stream",
          "name": "stdout",
          "text": [
            "time: 7.23 s (started: 2023-03-29 19:45:08 +00:00)\n"
          ]
        }
      ]
    },
    {
      "cell_type": "code",
      "source": [
        "model_size = sum(t.numel() for t in model.parameters())\n",
        "print(f\"OPT-125m size: {model_size/1000**2:.1f}M parameters\")"
      ],
      "metadata": {
        "colab": {
          "base_uri": "https://localhost:8080/"
        },
        "id": "9xFyDe3w2uT5",
        "outputId": "c05d2e33-9367-46a6-83b3-8909c560d731"
      },
      "execution_count": 17,
      "outputs": [
        {
          "output_type": "stream",
          "name": "stdout",
          "text": [
            "OPT-125m size: 125.2M parameters\n",
            "time: 1.58 ms (started: 2023-03-29 19:45:25 +00:00)\n"
          ]
        }
      ]
    },
    {
      "cell_type": "markdown",
      "source": [
        "# Tokenization\n",
        "\n",
        "The model was pretrained with context length of 2048. We use length 256 initially to overcome the exceeded ram problem.\n",
        "\n",
        "CHANGE: we tokenize all samples in the batch (consisting of 1000 documents) and create a long sequence of tokens by concatenating all examples and separating them with the special EOS token. Finally, we divide the long sequence into chunks of 512 tokens, which will be used for training."
      ],
      "metadata": {
        "id": "JSUXfiRMjM15"
      }
    },
    {
      "cell_type": "code",
      "source": [
        "tokenized_dataset = dataset.map(lambda x: tokenizer(x[\"text\"], \n",
        "                                      truncation=True, \n",
        "                                      padding=\"max_length\", \n",
        "                                      max_length=CONTEXT_LENGTH), \n",
        "                                      batched=True, \n",
        "                                      num_proc=4, \n",
        "                                      remove_columns=[\"text\"]\n",
        "                                     )"
      ],
      "metadata": {
        "colab": {
          "base_uri": "https://localhost:8080/",
          "height": 34,
          "referenced_widgets": [
            "f9cd7e31bd0546c8a3481c6136a1cf3b",
            "5eb631b1f2844d8182aed14e4adfca4e",
            "3ff873f554f74acaaed01e59d901bd5a",
            "d566506af979493b864923ecede1325c",
            "600f9679c3224b29a6c6903b9cef34a8",
            "3d5b7180a50c4a8b95981b49b8dd1a73",
            "74d1f8eecf894aedaee0cc015fc6be82",
            "44bb70f213074ebbac9997d51e4e2030",
            "e3f0586b1ee04e058bbf5362e9a31aab",
            "214fb447c29444afb4bf34f87b6e7c33",
            "df7bbcae077e42c5864d7bd95fb9935a",
            "048b60f7dfc74607bfe17102a96ed903",
            "040d3f54afba4e56bbcbc93b469922fa",
            "f42f9334588b47809e97c037713dd030",
            "597f5cf0c8dd431db38ef3375766012d",
            "d9240d1ddc0543c0bd16df129933edbf",
            "1234df3ac700400a8baee756950ebeb2",
            "9a65d4d9241f4c368b8a8b2f8ceef98c",
            "b6fe7e6f2e664d13905f2daa5ecc5ac1",
            "fbca13bfdd0c49348546a0d29c0c198c",
            "433b80ae6fa5411cbb982d8912484626",
            "8680d5b69ba7456882641e3276590943"
          ]
        },
        "id": "L7cvziurjOof",
        "outputId": "774c9f6c-9296-4e2f-c47b-0ec3d75735af"
      },
      "execution_count": 18,
      "outputs": [
        {
          "output_type": "display_data",
          "data": {
            "text/plain": [
              "Map (num_proc=4):   0%|          | 0/95 [00:00<?, ? examples/s]"
            ],
            "application/vnd.jupyter.widget-view+json": {
              "version_major": 2,
              "version_minor": 0,
              "model_id": "f9cd7e31bd0546c8a3481c6136a1cf3b"
            }
          },
          "metadata": {}
        },
        {
          "output_type": "display_data",
          "data": {
            "text/plain": [
              "Map (num_proc=4):   0%|          | 0/5 [00:00<?, ? examples/s]"
            ],
            "application/vnd.jupyter.widget-view+json": {
              "version_major": 2,
              "version_minor": 0,
              "model_id": "048b60f7dfc74607bfe17102a96ed903"
            }
          },
          "metadata": {}
        },
        {
          "output_type": "stream",
          "name": "stdout",
          "text": [
            "time: 876 ms (started: 2023-03-29 19:45:51 +00:00)\n"
          ]
        }
      ]
    },
    {
      "cell_type": "code",
      "source": [
        "print(tokenized_dataset)\n",
        "print(f\"{len(tokenized_dataset['train']['input_ids'][0])} tokens - {tokenized_dataset['train']['input_ids'][0]}\")"
      ],
      "metadata": {
        "colab": {
          "base_uri": "https://localhost:8080/"
        },
        "id": "KUbw9TEc2bdY",
        "outputId": "d1365e78-09bb-4fe6-9ced-59b3e4f70e8f"
      },
      "execution_count": 19,
      "outputs": [
        {
          "output_type": "stream",
          "name": "stdout",
          "text": [
            "DatasetDict({\n",
            "    train: Dataset({\n",
            "        features: ['input_ids', 'attention_mask'],\n",
            "        num_rows: 95\n",
            "    })\n",
            "    validation: Dataset({\n",
            "        features: ['input_ids', 'attention_mask'],\n",
            "        num_rows: 5\n",
            "    })\n",
            "})\n",
            "256 tokens - [2, 2571, 29766, 3849, 6382, 13572, 673, 230, 13974, 47047, 121, 1916, 4065, 11387, 263, 10, 10770, 17682, 293, 3304, 1526, 2953, 2664, 6417, 15357, 242, 117, 5766, 22415, 2102, 263, 9194, 281, 263, 21691, 5224, 366, 263, 11605, 4, 381, 1634, 3286, 26464, 1021, 21033, 271, 11988, 8101, 207, 263, 8446, 1342, 366, 295, 4214, 14258, 1210, 6510, 23473, 34867, 808, 4216, 2664, 3175, 853, 281, 385, 281, 6641, 281, 263, 11605, 4, 7879, 162, 1020, 109, 998, 6, 9, 2816, 1755, 119, 9, 2399, 281, 25948, 20559, 364, 1198, 3381, 366, 10, 19348, 1977, 548, 354, 263, 21691, 5224, 366, 364, 23358, 263, 1076, 8913, 366, 4, 2193, 221, 1526, 571, 1243, 109, 13663, 1794, 221, 1526, 571, 1243, 3137, 4252, 366, 326, 1140, 438, 12979, 366, 109, 14242, 1794, 3137, 139, 27705, 1069, 3381, 4214, 6, 211, 3851, 3381, 4214, 6, 272, 5563, 1396, 139, 364, 1448, 225, 876, 4, 726, 1140, 119, 385, 281, 6296, 102, 3381, 3849, 8906, 293, 98, 7805, 1021, 14242, 1794, 6, 1021, 3653, 242, 588, 10071, 7252, 14242, 19937, 263, 6641, 281, 263, 11605, 2953, 740, 808, 1829, 4, 221, 1526, 571, 1243, 10772, 1975, 6073, 13663, 12579, 12206, 1975, 1499, 5655, 263, 26948, 2095, 6641, 102, 263, 11605, 4, 27166, 366, 10772, 1975, 1499, 5655, 384, 3653, 242, 11363, 1168, 700, 1021, 23358, 12206, 1975, 6073, 3840, 26948, 2102, 14242, 1794, 3137, 414, 364, 17211, 102, 5951, 1397, 2095, 4, 1, 1, 1, 1, 1, 1, 1, 1, 1, 1, 1, 1, 1, 1, 1, 1]\n",
            "time: 19.1 ms (started: 2023-03-29 19:45:57 +00:00)\n"
          ]
        }
      ]
    },
    {
      "cell_type": "markdown",
      "source": [
        "# Training"
      ],
      "metadata": {
        "id": "52rYOmiEjPAc"
      }
    },
    {
      "cell_type": "code",
      "source": [
        "from transformers import TrainingArguments\n",
        "\n",
        "training_args = TrainingArguments(output_dir=MODEL_OUTPUT_FOLDER,\n",
        "                                  num_train_epochs=EPOCHS, \n",
        "                                  per_device_train_batch_size=BATCH_SIZE,\n",
        "                                  per_device_eval_batch_size=BATCH_SIZE, \n",
        "                                  evaluation_strategy=\"epoch\", \n",
        "                                  save_strategy=\"epoch\",\n",
        "                                  logging_strategy=\"epoch\", \n",
        "                                  learning_rate=2e-5, \n",
        "                                  weight_decay=0.01,\n",
        "                                  fp16=True\n",
        "                                )"
      ],
      "metadata": {
        "colab": {
          "base_uri": "https://localhost:8080/"
        },
        "id": "_xJic3-DjQ5y",
        "outputId": "d04ab49b-655e-41f7-a4b0-4361e1a3f2d6"
      },
      "execution_count": 20,
      "outputs": [
        {
          "output_type": "stream",
          "name": "stdout",
          "text": [
            "time: 3.47 ms (started: 2023-03-29 19:46:06 +00:00)\n"
          ]
        }
      ]
    },
    {
      "cell_type": "code",
      "source": [
        "data_collator = DataCollatorForLanguageModeling(tokenizer=tokenizer, mlm=False)\n",
        "trainer = Trainer(model=model, \n",
        "                  args=training_args, \n",
        "                  train_dataset=tokenized_dataset[\"train\"],\n",
        "                  eval_dataset=tokenized_dataset[\"validation\"], \n",
        "                  data_collator=data_collator)"
      ],
      "metadata": {
        "colab": {
          "base_uri": "https://localhost:8080/"
        },
        "id": "KAPtAMhbsGia",
        "outputId": "19d188fb-ad71-4343-d506-a0c7857b84d2"
      },
      "execution_count": 21,
      "outputs": [
        {
          "output_type": "stream",
          "name": "stdout",
          "text": [
            "time: 23.1 ms (started: 2023-03-29 19:46:13 +00:00)\n"
          ]
        }
      ]
    },
    {
      "cell_type": "code",
      "source": [
        "trainer.train()"
      ],
      "metadata": {
        "colab": {
          "base_uri": "https://localhost:8080/",
          "height": 231
        },
        "id": "TBvfrNQgsY1k",
        "outputId": "f154cdcf-547e-4885-b0ee-8e1e5bbcc079"
      },
      "execution_count": 22,
      "outputs": [
        {
          "output_type": "stream",
          "name": "stderr",
          "text": [
            "/usr/local/lib/python3.9/dist-packages/transformers/optimization.py:391: FutureWarning: This implementation of AdamW is deprecated and will be removed in a future version. Use the PyTorch implementation torch.optim.AdamW instead, or set `no_deprecation_warning=True` to disable this warning\n",
            "  warnings.warn(\n",
            "You're using a GPT2TokenizerFast tokenizer. Please note that with a fast tokenizer, using the `__call__` method is faster than using a method to encode the text followed by a call to the `pad` method to get a padded encoding.\n"
          ]
        },
        {
          "output_type": "display_data",
          "data": {
            "text/plain": [
              "<IPython.core.display.HTML object>"
            ],
            "text/html": [
              "\n",
              "    <div>\n",
              "      \n",
              "      <progress value='24' max='24' style='width:300px; height:20px; vertical-align: middle;'></progress>\n",
              "      [24/24 00:08, Epoch 1/1]\n",
              "    </div>\n",
              "    <table border=\"1\" class=\"dataframe\">\n",
              "  <thead>\n",
              " <tr style=\"text-align: left;\">\n",
              "      <th>Epoch</th>\n",
              "      <th>Training Loss</th>\n",
              "      <th>Validation Loss</th>\n",
              "    </tr>\n",
              "  </thead>\n",
              "  <tbody>\n",
              "    <tr>\n",
              "      <td>1</td>\n",
              "      <td>10.162800</td>\n",
              "      <td>9.854373</td>\n",
              "    </tr>\n",
              "  </tbody>\n",
              "</table><p>"
            ]
          },
          "metadata": {}
        },
        {
          "output_type": "execute_result",
          "data": {
            "text/plain": [
              "TrainOutput(global_step=24, training_loss=10.162772496541342, metrics={'train_runtime': 11.7302, 'train_samples_per_second': 8.099, 'train_steps_per_second': 2.046, 'total_flos': 12411371520000.0, 'train_loss': 10.162772496541342, 'epoch': 1.0})"
            ]
          },
          "metadata": {},
          "execution_count": 22
        },
        {
          "output_type": "stream",
          "name": "stdout",
          "text": [
            "time: 11.8 s (started: 2023-03-29 19:46:21 +00:00)\n"
          ]
        }
      ]
    },
    {
      "cell_type": "code",
      "source": [
        "model.save_pretrained(MODEL_SAVE_FOLDER)\n",
        "tokenizer.save_pretrained(MODEL_SAVE_FOLDER)"
      ],
      "metadata": {
        "colab": {
          "base_uri": "https://localhost:8080/"
        },
        "id": "Zn-6bzd9se62",
        "outputId": "8f5279f0-43ea-4856-96b5-f15d7e492fee"
      },
      "execution_count": 23,
      "outputs": [
        {
          "output_type": "execute_result",
          "data": {
            "text/plain": [
              "('/content/drive/MyDrive/unicamp/IA368DD/class_4/model_output/tokenizer_config.json',\n",
              " '/content/drive/MyDrive/unicamp/IA368DD/class_4/model_output/special_tokens_map.json',\n",
              " '/content/drive/MyDrive/unicamp/IA368DD/class_4/model_output/vocab.json',\n",
              " '/content/drive/MyDrive/unicamp/IA368DD/class_4/model_output/merges.txt',\n",
              " '/content/drive/MyDrive/unicamp/IA368DD/class_4/model_output/added_tokens.json',\n",
              " '/content/drive/MyDrive/unicamp/IA368DD/class_4/model_output/tokenizer.json')"
            ]
          },
          "metadata": {},
          "execution_count": 23
        },
        {
          "output_type": "stream",
          "name": "stdout",
          "text": [
            "time: 1.45 s (started: 2023-03-29 19:46:46 +00:00)\n"
          ]
        }
      ]
    },
    {
      "cell_type": "code",
      "source": [
        "!zip model {MODEL_SAVE_FOLDER}/*"
      ],
      "metadata": {
        "colab": {
          "base_uri": "https://localhost:8080/"
        },
        "id": "psdbomF3vxjs",
        "outputId": "2c67af3a-a85e-4364-a339-d75f5127f096"
      },
      "execution_count": 24,
      "outputs": [
        {
          "output_type": "stream",
          "name": "stdout",
          "text": [
            "  adding: content/drive/MyDrive/unicamp/IA368DD/class_4/model_save/config.json (deflated 49%)\n",
            "  adding: content/drive/MyDrive/unicamp/IA368DD/class_4/model_save/generation_config.json (deflated 30%)\n",
            "  adding: content/drive/MyDrive/unicamp/IA368DD/class_4/model_save/pytorch_model.bin (deflated 7%)\n",
            "time: 27 s (started: 2023-03-29 19:47:35 +00:00)\n"
          ]
        }
      ]
    },
    {
      "cell_type": "markdown",
      "source": [
        "# Evaluation"
      ],
      "metadata": {
        "id": "KEd2tpNEjRLx"
      }
    },
    {
      "cell_type": "code",
      "source": [
        "model = AutoModelForCausalLM.from_pretrained(MODEL_SAVE_FOLDER)\n",
        "trainer = Trainer(\n",
        "    model = model,\n",
        "    args=training_args,\n",
        "    train_dataset=tokenized_dataset['train'],\n",
        "    eval_dataset=tokenized_dataset['validation'],\n",
        "    data_collator = data_collator\n",
        ")"
      ],
      "metadata": {
        "colab": {
          "base_uri": "https://localhost:8080/"
        },
        "id": "3H_PNQljudHI",
        "outputId": "a1af5316-0131-46c0-856a-fa85bd468c1d"
      },
      "execution_count": 34,
      "outputs": [
        {
          "output_type": "stream",
          "name": "stdout",
          "text": [
            "time: 1.99 s (started: 2023-03-29 19:52:50 +00:00)\n"
          ]
        }
      ]
    },
    {
      "cell_type": "code",
      "source": [
        "eval_results = trainer.evaluate()\n",
        "perplexity = torch.exp(torch.tensor(eval_results[\"eval_loss\"]))\n",
        "print(f'Train Perplexity =  {perplexity.item():.2f}')"
      ],
      "metadata": {
        "colab": {
          "base_uri": "https://localhost:8080/",
          "height": 72
        },
        "id": "qDpjxNFksaPI",
        "outputId": "44488ad8-ece9-48d2-9b5c-ccacca320fad"
      },
      "execution_count": 35,
      "outputs": [
        {
          "output_type": "display_data",
          "data": {
            "text/plain": [
              "<IPython.core.display.HTML object>"
            ],
            "text/html": [
              "\n",
              "    <div>\n",
              "      \n",
              "      <progress value='2' max='2' style='width:300px; height:20px; vertical-align: middle;'></progress>\n",
              "      [2/2 00:00]\n",
              "    </div>\n",
              "    "
            ]
          },
          "metadata": {}
        },
        {
          "output_type": "stream",
          "name": "stdout",
          "text": [
            "Train Perplexity =  19041.44\n",
            "time: 74.8 ms (started: 2023-03-29 19:52:56 +00:00)\n"
          ]
        }
      ]
    },
    {
      "cell_type": "code",
      "source": [
        "eval_results = trainer.evaluate(tokenized_dataset[\"validation\"])\n",
        "perplexity = torch.exp(torch.tensor(eval_results[\"eval_loss\"]))\n",
        "print(f'Test Perplexity =  {perplexity.item():.2f}')"
      ],
      "metadata": {
        "colab": {
          "base_uri": "https://localhost:8080/",
          "height": 72
        },
        "id": "3nEjQiAb260X",
        "outputId": "9202402e-3a53-4bcb-ac77-42e1cb43e853"
      },
      "execution_count": 36,
      "outputs": [
        {
          "output_type": "display_data",
          "data": {
            "text/plain": [
              "<IPython.core.display.HTML object>"
            ],
            "text/html": [
              "\n",
              "    <div>\n",
              "      \n",
              "      <progress value='4' max='2' style='width:300px; height:20px; vertical-align: middle;'></progress>\n",
              "      [2/2 00:03]\n",
              "    </div>\n",
              "    "
            ]
          },
          "metadata": {}
        },
        {
          "output_type": "stream",
          "name": "stdout",
          "text": [
            "Test Perplexity =  19041.44\n",
            "time: 71.4 ms (started: 2023-03-29 19:52:59 +00:00)\n"
          ]
        }
      ]
    },
    {
      "cell_type": "code",
      "source": [
        "prompt = 'rapazes e moças que subiam ao púlpito'\n",
        "inputs = tokenizer(prompt, return_tensors='pt')\n",
        "\n",
        "# Generate\n",
        "generate_ids = model.generate(inputs.input_ids.to(device), max_length=30)\n",
        "tokenizer.batch_decode(generate_ids, skip_special_tokens=True, clean_up_tokenization_spaces=False)[0]"
      ],
      "metadata": {
        "colab": {
          "base_uri": "https://localhost:8080/",
          "height": 35
        },
        "id": "uRgUhhsHfNhl",
        "outputId": "40703cdb-166f-4cf9-93bb-9a2fe392d9b8"
      },
      "execution_count": 39,
      "outputs": [
        {
          "output_type": "execute_result",
          "data": {
            "text/plain": [
              "'rapazes e moças que subiam ao púlpito de de de de de de de de de de de de de de'"
            ],
            "application/vnd.google.colaboratory.intrinsic+json": {
              "type": "string"
            }
          },
          "metadata": {},
          "execution_count": 39
        },
        {
          "output_type": "stream",
          "name": "stdout",
          "text": [
            "time: 1.87 s (started: 2023-03-29 19:55:02 +00:00)\n"
          ]
        }
      ]
    },
    {
      "cell_type": "code",
      "source": [
        "prompt = 'rapazes e moças que subiam ao púlpito'\n",
        "max_output_tokens = 20\n",
        "model.eval()\n",
        "\n",
        "for _ in range(max_output_tokens):\n",
        "    input_ids = tokenizer(text=prompt)['input_ids']\n",
        "    input_ids_truncated = input_ids[-CONTEXT_LENGTH:]  # Usamos apenas os últimos tokens como entrada para o modelo.\n",
        "    output = model(torch.LongTensor([input_ids_truncated]).to(device))\n",
        "    logits = output['logits'][:, -1, :]  # Usamos apenas o ultimo token da sequencia\n",
        "    predicted_id = torch.argmax(logits).item()  # extraindo o token de maior probabilidade (greedy decoding)\n",
        "    input_ids += [predicted_id]  # Concatenamos a entrada com o token escolhido nesse passo.\n",
        "    prompt = tokenizer.decode(input_ids)\n",
        "    print(prompt.replace('</s>', ''))"
      ],
      "metadata": {
        "colab": {
          "base_uri": "https://localhost:8080/"
        },
        "id": "Z7jJYwfrvmHI",
        "outputId": "6866fafd-1451-4bf0-a5cf-6d33bbc0247e"
      },
      "execution_count": 38,
      "outputs": [
        {
          "output_type": "stream",
          "name": "stdout",
          "text": [
            "rapazes e moças que subiam ao púlpito de\n",
            "rapazes e moças que subiam ao púlpito de de\n",
            "rapazes e moças que subiam ao púlpito de de de\n",
            "rapazes e moças que subiam ao púlpito de de de de\n",
            "rapazes e moças que subiam ao púlpito de de de de de\n",
            "rapazes e moças que subiam ao púlpito de de de de de de\n",
            "rapazes e moças que subiam ao púlpito de de de de de de de\n",
            "rapazes e moças que subiam ao púlpito de de de de de de de de\n",
            "rapazes e moças que subiam ao púlpito de de de de de de de de de\n",
            "rapazes e moças que subiam ao púlpito de de de de de de de de de de\n",
            "rapazes e moças que subiam ao púlpito de de de de de de de de de de de\n",
            "rapazes e moças que subiam ao púlpito de de de de de de de de de de de de\n",
            "rapazes e moças que subiam ao púlpito de de de de de de de de de de de de de\n",
            "rapazes e moças que subiam ao púlpito de de de de de de de de de de de de de de\n",
            "rapazes e moças que subiam ao púlpito de de de de de de de de de de de de de de de\n",
            "rapazes e moças que subiam ao púlpito de de de de de de de de de de de de de de de de\n",
            "rapazes e moças que subiam ao púlpito de de de de de de de de de de de de de de de de de\n",
            "rapazes e moças que subiam ao púlpito de de de de de de de de de de de de de de de de de de\n",
            "rapazes e moças que subiam ao púlpito de de de de de de de de de de de de de de de de de de de\n",
            "rapazes e moças que subiam ao púlpito de de de de de de de de de de de de de de de de de de de de\n",
            "time: 324 ms (started: 2023-03-29 19:53:16 +00:00)\n"
          ]
        }
      ]
    },
    {
      "cell_type": "markdown",
      "source": [
        "----"
      ],
      "metadata": {
        "id": "Hl3CwFerSHyS"
      }
    }
  ],
  "metadata": {
    "accelerator": "GPU",
    "colab": {
      "provenance": [],
      "machine_shape": "hm"
    },
    "gpuClass": "standard",
    "kernelspec": {
      "display_name": "Python 3 (ipykernel)",
      "language": "python",
      "name": "python3"
    },
    "language_info": {
      "codemirror_mode": {
        "name": "ipython",
        "version": 3
      },
      "file_extension": ".py",
      "mimetype": "text/x-python",
      "name": "python",
      "nbconvert_exporter": "python",
      "pygments_lexer": "ipython3",
      "version": "3.9.12"
    },
    "widgets": {
      "application/vnd.jupyter.widget-state+json": {
        "3f02898ed3af400cb781da4be80cd589": {
          "model_module": "@jupyter-widgets/controls",
          "model_name": "HBoxModel",
          "model_module_version": "1.5.0",
          "state": {
            "_dom_classes": [],
            "_model_module": "@jupyter-widgets/controls",
            "_model_module_version": "1.5.0",
            "_model_name": "HBoxModel",
            "_view_count": null,
            "_view_module": "@jupyter-widgets/controls",
            "_view_module_version": "1.5.0",
            "_view_name": "HBoxView",
            "box_style": "",
            "children": [
              "IPY_MODEL_7241e3d9197a45deabfaff71afd41671",
              "IPY_MODEL_5f12f47bfb3c495d883f6034d310a0f7",
              "IPY_MODEL_8a2d388af48e40d5b1fd0177da3d6b26"
            ],
            "layout": "IPY_MODEL_f1d27ca7d94d4693abe0d2d49e4ef145"
          }
        },
        "7241e3d9197a45deabfaff71afd41671": {
          "model_module": "@jupyter-widgets/controls",
          "model_name": "HTMLModel",
          "model_module_version": "1.5.0",
          "state": {
            "_dom_classes": [],
            "_model_module": "@jupyter-widgets/controls",
            "_model_module_version": "1.5.0",
            "_model_name": "HTMLModel",
            "_view_count": null,
            "_view_module": "@jupyter-widgets/controls",
            "_view_module_version": "1.5.0",
            "_view_name": "HTMLView",
            "description": "",
            "description_tooltip": null,
            "layout": "IPY_MODEL_c68eae720cc14edda8449d231c92b81b",
            "placeholder": "​",
            "style": "IPY_MODEL_a99e991f219d4708a2a17e651ef982b0",
            "value": "Downloading data files: 100%"
          }
        },
        "5f12f47bfb3c495d883f6034d310a0f7": {
          "model_module": "@jupyter-widgets/controls",
          "model_name": "FloatProgressModel",
          "model_module_version": "1.5.0",
          "state": {
            "_dom_classes": [],
            "_model_module": "@jupyter-widgets/controls",
            "_model_module_version": "1.5.0",
            "_model_name": "FloatProgressModel",
            "_view_count": null,
            "_view_module": "@jupyter-widgets/controls",
            "_view_module_version": "1.5.0",
            "_view_name": "ProgressView",
            "bar_style": "success",
            "description": "",
            "description_tooltip": null,
            "layout": "IPY_MODEL_67dac0c5c89a49e79e0e15b7f83d5bae",
            "max": 1,
            "min": 0,
            "orientation": "horizontal",
            "style": "IPY_MODEL_f445540189c5425d93caf3566df190d8",
            "value": 1
          }
        },
        "8a2d388af48e40d5b1fd0177da3d6b26": {
          "model_module": "@jupyter-widgets/controls",
          "model_name": "HTMLModel",
          "model_module_version": "1.5.0",
          "state": {
            "_dom_classes": [],
            "_model_module": "@jupyter-widgets/controls",
            "_model_module_version": "1.5.0",
            "_model_name": "HTMLModel",
            "_view_count": null,
            "_view_module": "@jupyter-widgets/controls",
            "_view_module_version": "1.5.0",
            "_view_name": "HTMLView",
            "description": "",
            "description_tooltip": null,
            "layout": "IPY_MODEL_580fcc62656846fe98dd35423a8fe133",
            "placeholder": "​",
            "style": "IPY_MODEL_193f762db7ec4e9c96fb543079d66de3",
            "value": " 1/1 [00:00&lt;00:00, 84.65it/s]"
          }
        },
        "f1d27ca7d94d4693abe0d2d49e4ef145": {
          "model_module": "@jupyter-widgets/base",
          "model_name": "LayoutModel",
          "model_module_version": "1.2.0",
          "state": {
            "_model_module": "@jupyter-widgets/base",
            "_model_module_version": "1.2.0",
            "_model_name": "LayoutModel",
            "_view_count": null,
            "_view_module": "@jupyter-widgets/base",
            "_view_module_version": "1.2.0",
            "_view_name": "LayoutView",
            "align_content": null,
            "align_items": null,
            "align_self": null,
            "border": null,
            "bottom": null,
            "display": null,
            "flex": null,
            "flex_flow": null,
            "grid_area": null,
            "grid_auto_columns": null,
            "grid_auto_flow": null,
            "grid_auto_rows": null,
            "grid_column": null,
            "grid_gap": null,
            "grid_row": null,
            "grid_template_areas": null,
            "grid_template_columns": null,
            "grid_template_rows": null,
            "height": null,
            "justify_content": null,
            "justify_items": null,
            "left": null,
            "margin": null,
            "max_height": null,
            "max_width": null,
            "min_height": null,
            "min_width": null,
            "object_fit": null,
            "object_position": null,
            "order": null,
            "overflow": null,
            "overflow_x": null,
            "overflow_y": null,
            "padding": null,
            "right": null,
            "top": null,
            "visibility": null,
            "width": null
          }
        },
        "c68eae720cc14edda8449d231c92b81b": {
          "model_module": "@jupyter-widgets/base",
          "model_name": "LayoutModel",
          "model_module_version": "1.2.0",
          "state": {
            "_model_module": "@jupyter-widgets/base",
            "_model_module_version": "1.2.0",
            "_model_name": "LayoutModel",
            "_view_count": null,
            "_view_module": "@jupyter-widgets/base",
            "_view_module_version": "1.2.0",
            "_view_name": "LayoutView",
            "align_content": null,
            "align_items": null,
            "align_self": null,
            "border": null,
            "bottom": null,
            "display": null,
            "flex": null,
            "flex_flow": null,
            "grid_area": null,
            "grid_auto_columns": null,
            "grid_auto_flow": null,
            "grid_auto_rows": null,
            "grid_column": null,
            "grid_gap": null,
            "grid_row": null,
            "grid_template_areas": null,
            "grid_template_columns": null,
            "grid_template_rows": null,
            "height": null,
            "justify_content": null,
            "justify_items": null,
            "left": null,
            "margin": null,
            "max_height": null,
            "max_width": null,
            "min_height": null,
            "min_width": null,
            "object_fit": null,
            "object_position": null,
            "order": null,
            "overflow": null,
            "overflow_x": null,
            "overflow_y": null,
            "padding": null,
            "right": null,
            "top": null,
            "visibility": null,
            "width": null
          }
        },
        "a99e991f219d4708a2a17e651ef982b0": {
          "model_module": "@jupyter-widgets/controls",
          "model_name": "DescriptionStyleModel",
          "model_module_version": "1.5.0",
          "state": {
            "_model_module": "@jupyter-widgets/controls",
            "_model_module_version": "1.5.0",
            "_model_name": "DescriptionStyleModel",
            "_view_count": null,
            "_view_module": "@jupyter-widgets/base",
            "_view_module_version": "1.2.0",
            "_view_name": "StyleView",
            "description_width": ""
          }
        },
        "67dac0c5c89a49e79e0e15b7f83d5bae": {
          "model_module": "@jupyter-widgets/base",
          "model_name": "LayoutModel",
          "model_module_version": "1.2.0",
          "state": {
            "_model_module": "@jupyter-widgets/base",
            "_model_module_version": "1.2.0",
            "_model_name": "LayoutModel",
            "_view_count": null,
            "_view_module": "@jupyter-widgets/base",
            "_view_module_version": "1.2.0",
            "_view_name": "LayoutView",
            "align_content": null,
            "align_items": null,
            "align_self": null,
            "border": null,
            "bottom": null,
            "display": null,
            "flex": null,
            "flex_flow": null,
            "grid_area": null,
            "grid_auto_columns": null,
            "grid_auto_flow": null,
            "grid_auto_rows": null,
            "grid_column": null,
            "grid_gap": null,
            "grid_row": null,
            "grid_template_areas": null,
            "grid_template_columns": null,
            "grid_template_rows": null,
            "height": null,
            "justify_content": null,
            "justify_items": null,
            "left": null,
            "margin": null,
            "max_height": null,
            "max_width": null,
            "min_height": null,
            "min_width": null,
            "object_fit": null,
            "object_position": null,
            "order": null,
            "overflow": null,
            "overflow_x": null,
            "overflow_y": null,
            "padding": null,
            "right": null,
            "top": null,
            "visibility": null,
            "width": null
          }
        },
        "f445540189c5425d93caf3566df190d8": {
          "model_module": "@jupyter-widgets/controls",
          "model_name": "ProgressStyleModel",
          "model_module_version": "1.5.0",
          "state": {
            "_model_module": "@jupyter-widgets/controls",
            "_model_module_version": "1.5.0",
            "_model_name": "ProgressStyleModel",
            "_view_count": null,
            "_view_module": "@jupyter-widgets/base",
            "_view_module_version": "1.2.0",
            "_view_name": "StyleView",
            "bar_color": null,
            "description_width": ""
          }
        },
        "580fcc62656846fe98dd35423a8fe133": {
          "model_module": "@jupyter-widgets/base",
          "model_name": "LayoutModel",
          "model_module_version": "1.2.0",
          "state": {
            "_model_module": "@jupyter-widgets/base",
            "_model_module_version": "1.2.0",
            "_model_name": "LayoutModel",
            "_view_count": null,
            "_view_module": "@jupyter-widgets/base",
            "_view_module_version": "1.2.0",
            "_view_name": "LayoutView",
            "align_content": null,
            "align_items": null,
            "align_self": null,
            "border": null,
            "bottom": null,
            "display": null,
            "flex": null,
            "flex_flow": null,
            "grid_area": null,
            "grid_auto_columns": null,
            "grid_auto_flow": null,
            "grid_auto_rows": null,
            "grid_column": null,
            "grid_gap": null,
            "grid_row": null,
            "grid_template_areas": null,
            "grid_template_columns": null,
            "grid_template_rows": null,
            "height": null,
            "justify_content": null,
            "justify_items": null,
            "left": null,
            "margin": null,
            "max_height": null,
            "max_width": null,
            "min_height": null,
            "min_width": null,
            "object_fit": null,
            "object_position": null,
            "order": null,
            "overflow": null,
            "overflow_x": null,
            "overflow_y": null,
            "padding": null,
            "right": null,
            "top": null,
            "visibility": null,
            "width": null
          }
        },
        "193f762db7ec4e9c96fb543079d66de3": {
          "model_module": "@jupyter-widgets/controls",
          "model_name": "DescriptionStyleModel",
          "model_module_version": "1.5.0",
          "state": {
            "_model_module": "@jupyter-widgets/controls",
            "_model_module_version": "1.5.0",
            "_model_name": "DescriptionStyleModel",
            "_view_count": null,
            "_view_module": "@jupyter-widgets/base",
            "_view_module_version": "1.2.0",
            "_view_name": "StyleView",
            "description_width": ""
          }
        },
        "a0c64f69ed8840c39872e20940688345": {
          "model_module": "@jupyter-widgets/controls",
          "model_name": "HBoxModel",
          "model_module_version": "1.5.0",
          "state": {
            "_dom_classes": [],
            "_model_module": "@jupyter-widgets/controls",
            "_model_module_version": "1.5.0",
            "_model_name": "HBoxModel",
            "_view_count": null,
            "_view_module": "@jupyter-widgets/controls",
            "_view_module_version": "1.5.0",
            "_view_name": "HBoxView",
            "box_style": "",
            "children": [
              "IPY_MODEL_0d41c55e0bca468a82fe53eeb771e023",
              "IPY_MODEL_94181dad410345e4b0b47aa18c4ec383",
              "IPY_MODEL_53661b2f34dd428c8842d673284d40fc"
            ],
            "layout": "IPY_MODEL_11910e7d23a24713a3dd268302b094da"
          }
        },
        "0d41c55e0bca468a82fe53eeb771e023": {
          "model_module": "@jupyter-widgets/controls",
          "model_name": "HTMLModel",
          "model_module_version": "1.5.0",
          "state": {
            "_dom_classes": [],
            "_model_module": "@jupyter-widgets/controls",
            "_model_module_version": "1.5.0",
            "_model_name": "HTMLModel",
            "_view_count": null,
            "_view_module": "@jupyter-widgets/controls",
            "_view_module_version": "1.5.0",
            "_view_name": "HTMLView",
            "description": "",
            "description_tooltip": null,
            "layout": "IPY_MODEL_0a8a55ddfe7249edab92a01aff7bb1fd",
            "placeholder": "​",
            "style": "IPY_MODEL_d52b9b99105e4090b1e9a229cdbaa1d8",
            "value": "Extracting data files: 100%"
          }
        },
        "94181dad410345e4b0b47aa18c4ec383": {
          "model_module": "@jupyter-widgets/controls",
          "model_name": "FloatProgressModel",
          "model_module_version": "1.5.0",
          "state": {
            "_dom_classes": [],
            "_model_module": "@jupyter-widgets/controls",
            "_model_module_version": "1.5.0",
            "_model_name": "FloatProgressModel",
            "_view_count": null,
            "_view_module": "@jupyter-widgets/controls",
            "_view_module_version": "1.5.0",
            "_view_name": "ProgressView",
            "bar_style": "success",
            "description": "",
            "description_tooltip": null,
            "layout": "IPY_MODEL_3e7b7338913e4aa191a533bf1f611772",
            "max": 1,
            "min": 0,
            "orientation": "horizontal",
            "style": "IPY_MODEL_15002d910405400fa6a8346bd6acefac",
            "value": 1
          }
        },
        "53661b2f34dd428c8842d673284d40fc": {
          "model_module": "@jupyter-widgets/controls",
          "model_name": "HTMLModel",
          "model_module_version": "1.5.0",
          "state": {
            "_dom_classes": [],
            "_model_module": "@jupyter-widgets/controls",
            "_model_module_version": "1.5.0",
            "_model_name": "HTMLModel",
            "_view_count": null,
            "_view_module": "@jupyter-widgets/controls",
            "_view_module_version": "1.5.0",
            "_view_name": "HTMLView",
            "description": "",
            "description_tooltip": null,
            "layout": "IPY_MODEL_4756eb99512f417491af8a418a413be0",
            "placeholder": "​",
            "style": "IPY_MODEL_d3f9baf284a040a2a1039a6bca484571",
            "value": " 1/1 [00:00&lt;00:00, 42.07it/s]"
          }
        },
        "11910e7d23a24713a3dd268302b094da": {
          "model_module": "@jupyter-widgets/base",
          "model_name": "LayoutModel",
          "model_module_version": "1.2.0",
          "state": {
            "_model_module": "@jupyter-widgets/base",
            "_model_module_version": "1.2.0",
            "_model_name": "LayoutModel",
            "_view_count": null,
            "_view_module": "@jupyter-widgets/base",
            "_view_module_version": "1.2.0",
            "_view_name": "LayoutView",
            "align_content": null,
            "align_items": null,
            "align_self": null,
            "border": null,
            "bottom": null,
            "display": null,
            "flex": null,
            "flex_flow": null,
            "grid_area": null,
            "grid_auto_columns": null,
            "grid_auto_flow": null,
            "grid_auto_rows": null,
            "grid_column": null,
            "grid_gap": null,
            "grid_row": null,
            "grid_template_areas": null,
            "grid_template_columns": null,
            "grid_template_rows": null,
            "height": null,
            "justify_content": null,
            "justify_items": null,
            "left": null,
            "margin": null,
            "max_height": null,
            "max_width": null,
            "min_height": null,
            "min_width": null,
            "object_fit": null,
            "object_position": null,
            "order": null,
            "overflow": null,
            "overflow_x": null,
            "overflow_y": null,
            "padding": null,
            "right": null,
            "top": null,
            "visibility": null,
            "width": null
          }
        },
        "0a8a55ddfe7249edab92a01aff7bb1fd": {
          "model_module": "@jupyter-widgets/base",
          "model_name": "LayoutModel",
          "model_module_version": "1.2.0",
          "state": {
            "_model_module": "@jupyter-widgets/base",
            "_model_module_version": "1.2.0",
            "_model_name": "LayoutModel",
            "_view_count": null,
            "_view_module": "@jupyter-widgets/base",
            "_view_module_version": "1.2.0",
            "_view_name": "LayoutView",
            "align_content": null,
            "align_items": null,
            "align_self": null,
            "border": null,
            "bottom": null,
            "display": null,
            "flex": null,
            "flex_flow": null,
            "grid_area": null,
            "grid_auto_columns": null,
            "grid_auto_flow": null,
            "grid_auto_rows": null,
            "grid_column": null,
            "grid_gap": null,
            "grid_row": null,
            "grid_template_areas": null,
            "grid_template_columns": null,
            "grid_template_rows": null,
            "height": null,
            "justify_content": null,
            "justify_items": null,
            "left": null,
            "margin": null,
            "max_height": null,
            "max_width": null,
            "min_height": null,
            "min_width": null,
            "object_fit": null,
            "object_position": null,
            "order": null,
            "overflow": null,
            "overflow_x": null,
            "overflow_y": null,
            "padding": null,
            "right": null,
            "top": null,
            "visibility": null,
            "width": null
          }
        },
        "d52b9b99105e4090b1e9a229cdbaa1d8": {
          "model_module": "@jupyter-widgets/controls",
          "model_name": "DescriptionStyleModel",
          "model_module_version": "1.5.0",
          "state": {
            "_model_module": "@jupyter-widgets/controls",
            "_model_module_version": "1.5.0",
            "_model_name": "DescriptionStyleModel",
            "_view_count": null,
            "_view_module": "@jupyter-widgets/base",
            "_view_module_version": "1.2.0",
            "_view_name": "StyleView",
            "description_width": ""
          }
        },
        "3e7b7338913e4aa191a533bf1f611772": {
          "model_module": "@jupyter-widgets/base",
          "model_name": "LayoutModel",
          "model_module_version": "1.2.0",
          "state": {
            "_model_module": "@jupyter-widgets/base",
            "_model_module_version": "1.2.0",
            "_model_name": "LayoutModel",
            "_view_count": null,
            "_view_module": "@jupyter-widgets/base",
            "_view_module_version": "1.2.0",
            "_view_name": "LayoutView",
            "align_content": null,
            "align_items": null,
            "align_self": null,
            "border": null,
            "bottom": null,
            "display": null,
            "flex": null,
            "flex_flow": null,
            "grid_area": null,
            "grid_auto_columns": null,
            "grid_auto_flow": null,
            "grid_auto_rows": null,
            "grid_column": null,
            "grid_gap": null,
            "grid_row": null,
            "grid_template_areas": null,
            "grid_template_columns": null,
            "grid_template_rows": null,
            "height": null,
            "justify_content": null,
            "justify_items": null,
            "left": null,
            "margin": null,
            "max_height": null,
            "max_width": null,
            "min_height": null,
            "min_width": null,
            "object_fit": null,
            "object_position": null,
            "order": null,
            "overflow": null,
            "overflow_x": null,
            "overflow_y": null,
            "padding": null,
            "right": null,
            "top": null,
            "visibility": null,
            "width": null
          }
        },
        "15002d910405400fa6a8346bd6acefac": {
          "model_module": "@jupyter-widgets/controls",
          "model_name": "ProgressStyleModel",
          "model_module_version": "1.5.0",
          "state": {
            "_model_module": "@jupyter-widgets/controls",
            "_model_module_version": "1.5.0",
            "_model_name": "ProgressStyleModel",
            "_view_count": null,
            "_view_module": "@jupyter-widgets/base",
            "_view_module_version": "1.2.0",
            "_view_name": "StyleView",
            "bar_color": null,
            "description_width": ""
          }
        },
        "4756eb99512f417491af8a418a413be0": {
          "model_module": "@jupyter-widgets/base",
          "model_name": "LayoutModel",
          "model_module_version": "1.2.0",
          "state": {
            "_model_module": "@jupyter-widgets/base",
            "_model_module_version": "1.2.0",
            "_model_name": "LayoutModel",
            "_view_count": null,
            "_view_module": "@jupyter-widgets/base",
            "_view_module_version": "1.2.0",
            "_view_name": "LayoutView",
            "align_content": null,
            "align_items": null,
            "align_self": null,
            "border": null,
            "bottom": null,
            "display": null,
            "flex": null,
            "flex_flow": null,
            "grid_area": null,
            "grid_auto_columns": null,
            "grid_auto_flow": null,
            "grid_auto_rows": null,
            "grid_column": null,
            "grid_gap": null,
            "grid_row": null,
            "grid_template_areas": null,
            "grid_template_columns": null,
            "grid_template_rows": null,
            "height": null,
            "justify_content": null,
            "justify_items": null,
            "left": null,
            "margin": null,
            "max_height": null,
            "max_width": null,
            "min_height": null,
            "min_width": null,
            "object_fit": null,
            "object_position": null,
            "order": null,
            "overflow": null,
            "overflow_x": null,
            "overflow_y": null,
            "padding": null,
            "right": null,
            "top": null,
            "visibility": null,
            "width": null
          }
        },
        "d3f9baf284a040a2a1039a6bca484571": {
          "model_module": "@jupyter-widgets/controls",
          "model_name": "DescriptionStyleModel",
          "model_module_version": "1.5.0",
          "state": {
            "_model_module": "@jupyter-widgets/controls",
            "_model_module_version": "1.5.0",
            "_model_name": "DescriptionStyleModel",
            "_view_count": null,
            "_view_module": "@jupyter-widgets/base",
            "_view_module_version": "1.2.0",
            "_view_name": "StyleView",
            "description_width": ""
          }
        },
        "9c6d1e9fc5c6414ea55b8679ff9ed9dd": {
          "model_module": "@jupyter-widgets/controls",
          "model_name": "HBoxModel",
          "model_module_version": "1.5.0",
          "state": {
            "_dom_classes": [],
            "_model_module": "@jupyter-widgets/controls",
            "_model_module_version": "1.5.0",
            "_model_name": "HBoxModel",
            "_view_count": null,
            "_view_module": "@jupyter-widgets/controls",
            "_view_module_version": "1.5.0",
            "_view_name": "HBoxView",
            "box_style": "",
            "children": [
              "IPY_MODEL_3071fe88d79940969b18f8489b636701",
              "IPY_MODEL_7beff5f5dcb2469e85e3af325d792f98",
              "IPY_MODEL_27d4e24b06fd43bfb267c6b0ff89fd89"
            ],
            "layout": "IPY_MODEL_a6f00db2ddb64eb7b69b83350f43ab6a"
          }
        },
        "3071fe88d79940969b18f8489b636701": {
          "model_module": "@jupyter-widgets/controls",
          "model_name": "HTMLModel",
          "model_module_version": "1.5.0",
          "state": {
            "_dom_classes": [],
            "_model_module": "@jupyter-widgets/controls",
            "_model_module_version": "1.5.0",
            "_model_name": "HTMLModel",
            "_view_count": null,
            "_view_module": "@jupyter-widgets/controls",
            "_view_module_version": "1.5.0",
            "_view_name": "HTMLView",
            "description": "",
            "description_tooltip": null,
            "layout": "IPY_MODEL_4d378f925b52404aa9d6d547e28cd234",
            "placeholder": "​",
            "style": "IPY_MODEL_ac9da2a7465b4da4bc13b140b318bcf7",
            "value": "Generating train split: "
          }
        },
        "7beff5f5dcb2469e85e3af325d792f98": {
          "model_module": "@jupyter-widgets/controls",
          "model_name": "FloatProgressModel",
          "model_module_version": "1.5.0",
          "state": {
            "_dom_classes": [],
            "_model_module": "@jupyter-widgets/controls",
            "_model_module_version": "1.5.0",
            "_model_name": "FloatProgressModel",
            "_view_count": null,
            "_view_module": "@jupyter-widgets/controls",
            "_view_module_version": "1.5.0",
            "_view_name": "ProgressView",
            "bar_style": "info",
            "description": "",
            "description_tooltip": null,
            "layout": "IPY_MODEL_c790d85a59a94028a715f804af30bf10",
            "max": 1,
            "min": 0,
            "orientation": "horizontal",
            "style": "IPY_MODEL_63416331b0a94721a5ab4724d4183c29",
            "value": 1
          }
        },
        "27d4e24b06fd43bfb267c6b0ff89fd89": {
          "model_module": "@jupyter-widgets/controls",
          "model_name": "HTMLModel",
          "model_module_version": "1.5.0",
          "state": {
            "_dom_classes": [],
            "_model_module": "@jupyter-widgets/controls",
            "_model_module_version": "1.5.0",
            "_model_name": "HTMLModel",
            "_view_count": null,
            "_view_module": "@jupyter-widgets/controls",
            "_view_module_version": "1.5.0",
            "_view_name": "HTMLView",
            "description": "",
            "description_tooltip": null,
            "layout": "IPY_MODEL_5fbff9459f9f4e3e881e8cfe884fc226",
            "placeholder": "​",
            "style": "IPY_MODEL_f7fbcc1e8a6e4fba9c35aff8be64007d",
            "value": " 0/0 [00:00&lt;?, ? examples/s]"
          }
        },
        "a6f00db2ddb64eb7b69b83350f43ab6a": {
          "model_module": "@jupyter-widgets/base",
          "model_name": "LayoutModel",
          "model_module_version": "1.2.0",
          "state": {
            "_model_module": "@jupyter-widgets/base",
            "_model_module_version": "1.2.0",
            "_model_name": "LayoutModel",
            "_view_count": null,
            "_view_module": "@jupyter-widgets/base",
            "_view_module_version": "1.2.0",
            "_view_name": "LayoutView",
            "align_content": null,
            "align_items": null,
            "align_self": null,
            "border": null,
            "bottom": null,
            "display": null,
            "flex": null,
            "flex_flow": null,
            "grid_area": null,
            "grid_auto_columns": null,
            "grid_auto_flow": null,
            "grid_auto_rows": null,
            "grid_column": null,
            "grid_gap": null,
            "grid_row": null,
            "grid_template_areas": null,
            "grid_template_columns": null,
            "grid_template_rows": null,
            "height": null,
            "justify_content": null,
            "justify_items": null,
            "left": null,
            "margin": null,
            "max_height": null,
            "max_width": null,
            "min_height": null,
            "min_width": null,
            "object_fit": null,
            "object_position": null,
            "order": null,
            "overflow": null,
            "overflow_x": null,
            "overflow_y": null,
            "padding": null,
            "right": null,
            "top": null,
            "visibility": "hidden",
            "width": null
          }
        },
        "4d378f925b52404aa9d6d547e28cd234": {
          "model_module": "@jupyter-widgets/base",
          "model_name": "LayoutModel",
          "model_module_version": "1.2.0",
          "state": {
            "_model_module": "@jupyter-widgets/base",
            "_model_module_version": "1.2.0",
            "_model_name": "LayoutModel",
            "_view_count": null,
            "_view_module": "@jupyter-widgets/base",
            "_view_module_version": "1.2.0",
            "_view_name": "LayoutView",
            "align_content": null,
            "align_items": null,
            "align_self": null,
            "border": null,
            "bottom": null,
            "display": null,
            "flex": null,
            "flex_flow": null,
            "grid_area": null,
            "grid_auto_columns": null,
            "grid_auto_flow": null,
            "grid_auto_rows": null,
            "grid_column": null,
            "grid_gap": null,
            "grid_row": null,
            "grid_template_areas": null,
            "grid_template_columns": null,
            "grid_template_rows": null,
            "height": null,
            "justify_content": null,
            "justify_items": null,
            "left": null,
            "margin": null,
            "max_height": null,
            "max_width": null,
            "min_height": null,
            "min_width": null,
            "object_fit": null,
            "object_position": null,
            "order": null,
            "overflow": null,
            "overflow_x": null,
            "overflow_y": null,
            "padding": null,
            "right": null,
            "top": null,
            "visibility": null,
            "width": null
          }
        },
        "ac9da2a7465b4da4bc13b140b318bcf7": {
          "model_module": "@jupyter-widgets/controls",
          "model_name": "DescriptionStyleModel",
          "model_module_version": "1.5.0",
          "state": {
            "_model_module": "@jupyter-widgets/controls",
            "_model_module_version": "1.5.0",
            "_model_name": "DescriptionStyleModel",
            "_view_count": null,
            "_view_module": "@jupyter-widgets/base",
            "_view_module_version": "1.2.0",
            "_view_name": "StyleView",
            "description_width": ""
          }
        },
        "c790d85a59a94028a715f804af30bf10": {
          "model_module": "@jupyter-widgets/base",
          "model_name": "LayoutModel",
          "model_module_version": "1.2.0",
          "state": {
            "_model_module": "@jupyter-widgets/base",
            "_model_module_version": "1.2.0",
            "_model_name": "LayoutModel",
            "_view_count": null,
            "_view_module": "@jupyter-widgets/base",
            "_view_module_version": "1.2.0",
            "_view_name": "LayoutView",
            "align_content": null,
            "align_items": null,
            "align_self": null,
            "border": null,
            "bottom": null,
            "display": null,
            "flex": null,
            "flex_flow": null,
            "grid_area": null,
            "grid_auto_columns": null,
            "grid_auto_flow": null,
            "grid_auto_rows": null,
            "grid_column": null,
            "grid_gap": null,
            "grid_row": null,
            "grid_template_areas": null,
            "grid_template_columns": null,
            "grid_template_rows": null,
            "height": null,
            "justify_content": null,
            "justify_items": null,
            "left": null,
            "margin": null,
            "max_height": null,
            "max_width": null,
            "min_height": null,
            "min_width": null,
            "object_fit": null,
            "object_position": null,
            "order": null,
            "overflow": null,
            "overflow_x": null,
            "overflow_y": null,
            "padding": null,
            "right": null,
            "top": null,
            "visibility": null,
            "width": "20px"
          }
        },
        "63416331b0a94721a5ab4724d4183c29": {
          "model_module": "@jupyter-widgets/controls",
          "model_name": "ProgressStyleModel",
          "model_module_version": "1.5.0",
          "state": {
            "_model_module": "@jupyter-widgets/controls",
            "_model_module_version": "1.5.0",
            "_model_name": "ProgressStyleModel",
            "_view_count": null,
            "_view_module": "@jupyter-widgets/base",
            "_view_module_version": "1.2.0",
            "_view_name": "StyleView",
            "bar_color": null,
            "description_width": ""
          }
        },
        "5fbff9459f9f4e3e881e8cfe884fc226": {
          "model_module": "@jupyter-widgets/base",
          "model_name": "LayoutModel",
          "model_module_version": "1.2.0",
          "state": {
            "_model_module": "@jupyter-widgets/base",
            "_model_module_version": "1.2.0",
            "_model_name": "LayoutModel",
            "_view_count": null,
            "_view_module": "@jupyter-widgets/base",
            "_view_module_version": "1.2.0",
            "_view_name": "LayoutView",
            "align_content": null,
            "align_items": null,
            "align_self": null,
            "border": null,
            "bottom": null,
            "display": null,
            "flex": null,
            "flex_flow": null,
            "grid_area": null,
            "grid_auto_columns": null,
            "grid_auto_flow": null,
            "grid_auto_rows": null,
            "grid_column": null,
            "grid_gap": null,
            "grid_row": null,
            "grid_template_areas": null,
            "grid_template_columns": null,
            "grid_template_rows": null,
            "height": null,
            "justify_content": null,
            "justify_items": null,
            "left": null,
            "margin": null,
            "max_height": null,
            "max_width": null,
            "min_height": null,
            "min_width": null,
            "object_fit": null,
            "object_position": null,
            "order": null,
            "overflow": null,
            "overflow_x": null,
            "overflow_y": null,
            "padding": null,
            "right": null,
            "top": null,
            "visibility": null,
            "width": null
          }
        },
        "f7fbcc1e8a6e4fba9c35aff8be64007d": {
          "model_module": "@jupyter-widgets/controls",
          "model_name": "DescriptionStyleModel",
          "model_module_version": "1.5.0",
          "state": {
            "_model_module": "@jupyter-widgets/controls",
            "_model_module_version": "1.5.0",
            "_model_name": "DescriptionStyleModel",
            "_view_count": null,
            "_view_module": "@jupyter-widgets/base",
            "_view_module_version": "1.2.0",
            "_view_name": "StyleView",
            "description_width": ""
          }
        },
        "7fb675656d6a4a098469c84ee16bf3b6": {
          "model_module": "@jupyter-widgets/controls",
          "model_name": "HBoxModel",
          "model_module_version": "1.5.0",
          "state": {
            "_dom_classes": [],
            "_model_module": "@jupyter-widgets/controls",
            "_model_module_version": "1.5.0",
            "_model_name": "HBoxModel",
            "_view_count": null,
            "_view_module": "@jupyter-widgets/controls",
            "_view_module_version": "1.5.0",
            "_view_name": "HBoxView",
            "box_style": "",
            "children": [
              "IPY_MODEL_9c496ccf7c8c49cd808f3a2120daae64",
              "IPY_MODEL_890c0434ef874cd5aca1c8b86ec24a63",
              "IPY_MODEL_67f54c4ba91b4160a699cba3acc4b514"
            ],
            "layout": "IPY_MODEL_3c3b584d7fc1425d91fef0abed931969"
          }
        },
        "9c496ccf7c8c49cd808f3a2120daae64": {
          "model_module": "@jupyter-widgets/controls",
          "model_name": "HTMLModel",
          "model_module_version": "1.5.0",
          "state": {
            "_dom_classes": [],
            "_model_module": "@jupyter-widgets/controls",
            "_model_module_version": "1.5.0",
            "_model_name": "HTMLModel",
            "_view_count": null,
            "_view_module": "@jupyter-widgets/controls",
            "_view_module_version": "1.5.0",
            "_view_name": "HTMLView",
            "description": "",
            "description_tooltip": null,
            "layout": "IPY_MODEL_a9cc218e45c24388a06c62f21b4b0167",
            "placeholder": "​",
            "style": "IPY_MODEL_c9c80e8e6a514d38986755f055f47955",
            "value": "100%"
          }
        },
        "890c0434ef874cd5aca1c8b86ec24a63": {
          "model_module": "@jupyter-widgets/controls",
          "model_name": "FloatProgressModel",
          "model_module_version": "1.5.0",
          "state": {
            "_dom_classes": [],
            "_model_module": "@jupyter-widgets/controls",
            "_model_module_version": "1.5.0",
            "_model_name": "FloatProgressModel",
            "_view_count": null,
            "_view_module": "@jupyter-widgets/controls",
            "_view_module_version": "1.5.0",
            "_view_name": "ProgressView",
            "bar_style": "success",
            "description": "",
            "description_tooltip": null,
            "layout": "IPY_MODEL_0b0a2b6f843d493ab12ec8f15f42b41c",
            "max": 1,
            "min": 0,
            "orientation": "horizontal",
            "style": "IPY_MODEL_c05e97b8e5ea4366942c96cc37568a10",
            "value": 1
          }
        },
        "67f54c4ba91b4160a699cba3acc4b514": {
          "model_module": "@jupyter-widgets/controls",
          "model_name": "HTMLModel",
          "model_module_version": "1.5.0",
          "state": {
            "_dom_classes": [],
            "_model_module": "@jupyter-widgets/controls",
            "_model_module_version": "1.5.0",
            "_model_name": "HTMLModel",
            "_view_count": null,
            "_view_module": "@jupyter-widgets/controls",
            "_view_module_version": "1.5.0",
            "_view_name": "HTMLView",
            "description": "",
            "description_tooltip": null,
            "layout": "IPY_MODEL_1d069b6fa8f1476395b00ab9ef33589a",
            "placeholder": "​",
            "style": "IPY_MODEL_5bc331bc3705473fb1dd75aed89dc8bc",
            "value": " 1/1 [00:00&lt;00:00, 55.43it/s]"
          }
        },
        "3c3b584d7fc1425d91fef0abed931969": {
          "model_module": "@jupyter-widgets/base",
          "model_name": "LayoutModel",
          "model_module_version": "1.2.0",
          "state": {
            "_model_module": "@jupyter-widgets/base",
            "_model_module_version": "1.2.0",
            "_model_name": "LayoutModel",
            "_view_count": null,
            "_view_module": "@jupyter-widgets/base",
            "_view_module_version": "1.2.0",
            "_view_name": "LayoutView",
            "align_content": null,
            "align_items": null,
            "align_self": null,
            "border": null,
            "bottom": null,
            "display": null,
            "flex": null,
            "flex_flow": null,
            "grid_area": null,
            "grid_auto_columns": null,
            "grid_auto_flow": null,
            "grid_auto_rows": null,
            "grid_column": null,
            "grid_gap": null,
            "grid_row": null,
            "grid_template_areas": null,
            "grid_template_columns": null,
            "grid_template_rows": null,
            "height": null,
            "justify_content": null,
            "justify_items": null,
            "left": null,
            "margin": null,
            "max_height": null,
            "max_width": null,
            "min_height": null,
            "min_width": null,
            "object_fit": null,
            "object_position": null,
            "order": null,
            "overflow": null,
            "overflow_x": null,
            "overflow_y": null,
            "padding": null,
            "right": null,
            "top": null,
            "visibility": null,
            "width": null
          }
        },
        "a9cc218e45c24388a06c62f21b4b0167": {
          "model_module": "@jupyter-widgets/base",
          "model_name": "LayoutModel",
          "model_module_version": "1.2.0",
          "state": {
            "_model_module": "@jupyter-widgets/base",
            "_model_module_version": "1.2.0",
            "_model_name": "LayoutModel",
            "_view_count": null,
            "_view_module": "@jupyter-widgets/base",
            "_view_module_version": "1.2.0",
            "_view_name": "LayoutView",
            "align_content": null,
            "align_items": null,
            "align_self": null,
            "border": null,
            "bottom": null,
            "display": null,
            "flex": null,
            "flex_flow": null,
            "grid_area": null,
            "grid_auto_columns": null,
            "grid_auto_flow": null,
            "grid_auto_rows": null,
            "grid_column": null,
            "grid_gap": null,
            "grid_row": null,
            "grid_template_areas": null,
            "grid_template_columns": null,
            "grid_template_rows": null,
            "height": null,
            "justify_content": null,
            "justify_items": null,
            "left": null,
            "margin": null,
            "max_height": null,
            "max_width": null,
            "min_height": null,
            "min_width": null,
            "object_fit": null,
            "object_position": null,
            "order": null,
            "overflow": null,
            "overflow_x": null,
            "overflow_y": null,
            "padding": null,
            "right": null,
            "top": null,
            "visibility": null,
            "width": null
          }
        },
        "c9c80e8e6a514d38986755f055f47955": {
          "model_module": "@jupyter-widgets/controls",
          "model_name": "DescriptionStyleModel",
          "model_module_version": "1.5.0",
          "state": {
            "_model_module": "@jupyter-widgets/controls",
            "_model_module_version": "1.5.0",
            "_model_name": "DescriptionStyleModel",
            "_view_count": null,
            "_view_module": "@jupyter-widgets/base",
            "_view_module_version": "1.2.0",
            "_view_name": "StyleView",
            "description_width": ""
          }
        },
        "0b0a2b6f843d493ab12ec8f15f42b41c": {
          "model_module": "@jupyter-widgets/base",
          "model_name": "LayoutModel",
          "model_module_version": "1.2.0",
          "state": {
            "_model_module": "@jupyter-widgets/base",
            "_model_module_version": "1.2.0",
            "_model_name": "LayoutModel",
            "_view_count": null,
            "_view_module": "@jupyter-widgets/base",
            "_view_module_version": "1.2.0",
            "_view_name": "LayoutView",
            "align_content": null,
            "align_items": null,
            "align_self": null,
            "border": null,
            "bottom": null,
            "display": null,
            "flex": null,
            "flex_flow": null,
            "grid_area": null,
            "grid_auto_columns": null,
            "grid_auto_flow": null,
            "grid_auto_rows": null,
            "grid_column": null,
            "grid_gap": null,
            "grid_row": null,
            "grid_template_areas": null,
            "grid_template_columns": null,
            "grid_template_rows": null,
            "height": null,
            "justify_content": null,
            "justify_items": null,
            "left": null,
            "margin": null,
            "max_height": null,
            "max_width": null,
            "min_height": null,
            "min_width": null,
            "object_fit": null,
            "object_position": null,
            "order": null,
            "overflow": null,
            "overflow_x": null,
            "overflow_y": null,
            "padding": null,
            "right": null,
            "top": null,
            "visibility": null,
            "width": null
          }
        },
        "c05e97b8e5ea4366942c96cc37568a10": {
          "model_module": "@jupyter-widgets/controls",
          "model_name": "ProgressStyleModel",
          "model_module_version": "1.5.0",
          "state": {
            "_model_module": "@jupyter-widgets/controls",
            "_model_module_version": "1.5.0",
            "_model_name": "ProgressStyleModel",
            "_view_count": null,
            "_view_module": "@jupyter-widgets/base",
            "_view_module_version": "1.2.0",
            "_view_name": "StyleView",
            "bar_color": null,
            "description_width": ""
          }
        },
        "1d069b6fa8f1476395b00ab9ef33589a": {
          "model_module": "@jupyter-widgets/base",
          "model_name": "LayoutModel",
          "model_module_version": "1.2.0",
          "state": {
            "_model_module": "@jupyter-widgets/base",
            "_model_module_version": "1.2.0",
            "_model_name": "LayoutModel",
            "_view_count": null,
            "_view_module": "@jupyter-widgets/base",
            "_view_module_version": "1.2.0",
            "_view_name": "LayoutView",
            "align_content": null,
            "align_items": null,
            "align_self": null,
            "border": null,
            "bottom": null,
            "display": null,
            "flex": null,
            "flex_flow": null,
            "grid_area": null,
            "grid_auto_columns": null,
            "grid_auto_flow": null,
            "grid_auto_rows": null,
            "grid_column": null,
            "grid_gap": null,
            "grid_row": null,
            "grid_template_areas": null,
            "grid_template_columns": null,
            "grid_template_rows": null,
            "height": null,
            "justify_content": null,
            "justify_items": null,
            "left": null,
            "margin": null,
            "max_height": null,
            "max_width": null,
            "min_height": null,
            "min_width": null,
            "object_fit": null,
            "object_position": null,
            "order": null,
            "overflow": null,
            "overflow_x": null,
            "overflow_y": null,
            "padding": null,
            "right": null,
            "top": null,
            "visibility": null,
            "width": null
          }
        },
        "5bc331bc3705473fb1dd75aed89dc8bc": {
          "model_module": "@jupyter-widgets/controls",
          "model_name": "DescriptionStyleModel",
          "model_module_version": "1.5.0",
          "state": {
            "_model_module": "@jupyter-widgets/controls",
            "_model_module_version": "1.5.0",
            "_model_name": "DescriptionStyleModel",
            "_view_count": null,
            "_view_module": "@jupyter-widgets/base",
            "_view_module_version": "1.2.0",
            "_view_name": "StyleView",
            "description_width": ""
          }
        },
        "883825314d984c50a4e222c8459c5e5f": {
          "model_module": "@jupyter-widgets/controls",
          "model_name": "HBoxModel",
          "model_module_version": "1.5.0",
          "state": {
            "_dom_classes": [],
            "_model_module": "@jupyter-widgets/controls",
            "_model_module_version": "1.5.0",
            "_model_name": "HBoxModel",
            "_view_count": null,
            "_view_module": "@jupyter-widgets/controls",
            "_view_module_version": "1.5.0",
            "_view_name": "HBoxView",
            "box_style": "",
            "children": [
              "IPY_MODEL_e070c5c47ecd49b4a865366dde4e1476",
              "IPY_MODEL_3a7ccae43ecf4c838459972742b8818f",
              "IPY_MODEL_a2363bb2e02a4fd982426c3d5da8bf4d"
            ],
            "layout": "IPY_MODEL_30dfd3c92bb3480aaf0e015d79d6db06"
          }
        },
        "e070c5c47ecd49b4a865366dde4e1476": {
          "model_module": "@jupyter-widgets/controls",
          "model_name": "HTMLModel",
          "model_module_version": "1.5.0",
          "state": {
            "_dom_classes": [],
            "_model_module": "@jupyter-widgets/controls",
            "_model_module_version": "1.5.0",
            "_model_name": "HTMLModel",
            "_view_count": null,
            "_view_module": "@jupyter-widgets/controls",
            "_view_module_version": "1.5.0",
            "_view_name": "HTMLView",
            "description": "",
            "description_tooltip": null,
            "layout": "IPY_MODEL_f72e2257e1c74ff59f99d993a0c88ecf",
            "placeholder": "​",
            "style": "IPY_MODEL_959d2e5409d64eba8fcbd7309a4448a4",
            "value": "Downloading (…)okenizer_config.json: 100%"
          }
        },
        "3a7ccae43ecf4c838459972742b8818f": {
          "model_module": "@jupyter-widgets/controls",
          "model_name": "FloatProgressModel",
          "model_module_version": "1.5.0",
          "state": {
            "_dom_classes": [],
            "_model_module": "@jupyter-widgets/controls",
            "_model_module_version": "1.5.0",
            "_model_name": "FloatProgressModel",
            "_view_count": null,
            "_view_module": "@jupyter-widgets/controls",
            "_view_module_version": "1.5.0",
            "_view_name": "ProgressView",
            "bar_style": "success",
            "description": "",
            "description_tooltip": null,
            "layout": "IPY_MODEL_5281b26b1cd64f8590bd756f49756d64",
            "max": 685,
            "min": 0,
            "orientation": "horizontal",
            "style": "IPY_MODEL_76d998eb0cbd4d7ca3108605e6d47154",
            "value": 685
          }
        },
        "a2363bb2e02a4fd982426c3d5da8bf4d": {
          "model_module": "@jupyter-widgets/controls",
          "model_name": "HTMLModel",
          "model_module_version": "1.5.0",
          "state": {
            "_dom_classes": [],
            "_model_module": "@jupyter-widgets/controls",
            "_model_module_version": "1.5.0",
            "_model_name": "HTMLModel",
            "_view_count": null,
            "_view_module": "@jupyter-widgets/controls",
            "_view_module_version": "1.5.0",
            "_view_name": "HTMLView",
            "description": "",
            "description_tooltip": null,
            "layout": "IPY_MODEL_8a0e75544bc54527bb7721c48c571557",
            "placeholder": "​",
            "style": "IPY_MODEL_962c2f3e718a49dea5af069908d5b529",
            "value": " 685/685 [00:00&lt;00:00, 31.3kB/s]"
          }
        },
        "30dfd3c92bb3480aaf0e015d79d6db06": {
          "model_module": "@jupyter-widgets/base",
          "model_name": "LayoutModel",
          "model_module_version": "1.2.0",
          "state": {
            "_model_module": "@jupyter-widgets/base",
            "_model_module_version": "1.2.0",
            "_model_name": "LayoutModel",
            "_view_count": null,
            "_view_module": "@jupyter-widgets/base",
            "_view_module_version": "1.2.0",
            "_view_name": "LayoutView",
            "align_content": null,
            "align_items": null,
            "align_self": null,
            "border": null,
            "bottom": null,
            "display": null,
            "flex": null,
            "flex_flow": null,
            "grid_area": null,
            "grid_auto_columns": null,
            "grid_auto_flow": null,
            "grid_auto_rows": null,
            "grid_column": null,
            "grid_gap": null,
            "grid_row": null,
            "grid_template_areas": null,
            "grid_template_columns": null,
            "grid_template_rows": null,
            "height": null,
            "justify_content": null,
            "justify_items": null,
            "left": null,
            "margin": null,
            "max_height": null,
            "max_width": null,
            "min_height": null,
            "min_width": null,
            "object_fit": null,
            "object_position": null,
            "order": null,
            "overflow": null,
            "overflow_x": null,
            "overflow_y": null,
            "padding": null,
            "right": null,
            "top": null,
            "visibility": null,
            "width": null
          }
        },
        "f72e2257e1c74ff59f99d993a0c88ecf": {
          "model_module": "@jupyter-widgets/base",
          "model_name": "LayoutModel",
          "model_module_version": "1.2.0",
          "state": {
            "_model_module": "@jupyter-widgets/base",
            "_model_module_version": "1.2.0",
            "_model_name": "LayoutModel",
            "_view_count": null,
            "_view_module": "@jupyter-widgets/base",
            "_view_module_version": "1.2.0",
            "_view_name": "LayoutView",
            "align_content": null,
            "align_items": null,
            "align_self": null,
            "border": null,
            "bottom": null,
            "display": null,
            "flex": null,
            "flex_flow": null,
            "grid_area": null,
            "grid_auto_columns": null,
            "grid_auto_flow": null,
            "grid_auto_rows": null,
            "grid_column": null,
            "grid_gap": null,
            "grid_row": null,
            "grid_template_areas": null,
            "grid_template_columns": null,
            "grid_template_rows": null,
            "height": null,
            "justify_content": null,
            "justify_items": null,
            "left": null,
            "margin": null,
            "max_height": null,
            "max_width": null,
            "min_height": null,
            "min_width": null,
            "object_fit": null,
            "object_position": null,
            "order": null,
            "overflow": null,
            "overflow_x": null,
            "overflow_y": null,
            "padding": null,
            "right": null,
            "top": null,
            "visibility": null,
            "width": null
          }
        },
        "959d2e5409d64eba8fcbd7309a4448a4": {
          "model_module": "@jupyter-widgets/controls",
          "model_name": "DescriptionStyleModel",
          "model_module_version": "1.5.0",
          "state": {
            "_model_module": "@jupyter-widgets/controls",
            "_model_module_version": "1.5.0",
            "_model_name": "DescriptionStyleModel",
            "_view_count": null,
            "_view_module": "@jupyter-widgets/base",
            "_view_module_version": "1.2.0",
            "_view_name": "StyleView",
            "description_width": ""
          }
        },
        "5281b26b1cd64f8590bd756f49756d64": {
          "model_module": "@jupyter-widgets/base",
          "model_name": "LayoutModel",
          "model_module_version": "1.2.0",
          "state": {
            "_model_module": "@jupyter-widgets/base",
            "_model_module_version": "1.2.0",
            "_model_name": "LayoutModel",
            "_view_count": null,
            "_view_module": "@jupyter-widgets/base",
            "_view_module_version": "1.2.0",
            "_view_name": "LayoutView",
            "align_content": null,
            "align_items": null,
            "align_self": null,
            "border": null,
            "bottom": null,
            "display": null,
            "flex": null,
            "flex_flow": null,
            "grid_area": null,
            "grid_auto_columns": null,
            "grid_auto_flow": null,
            "grid_auto_rows": null,
            "grid_column": null,
            "grid_gap": null,
            "grid_row": null,
            "grid_template_areas": null,
            "grid_template_columns": null,
            "grid_template_rows": null,
            "height": null,
            "justify_content": null,
            "justify_items": null,
            "left": null,
            "margin": null,
            "max_height": null,
            "max_width": null,
            "min_height": null,
            "min_width": null,
            "object_fit": null,
            "object_position": null,
            "order": null,
            "overflow": null,
            "overflow_x": null,
            "overflow_y": null,
            "padding": null,
            "right": null,
            "top": null,
            "visibility": null,
            "width": null
          }
        },
        "76d998eb0cbd4d7ca3108605e6d47154": {
          "model_module": "@jupyter-widgets/controls",
          "model_name": "ProgressStyleModel",
          "model_module_version": "1.5.0",
          "state": {
            "_model_module": "@jupyter-widgets/controls",
            "_model_module_version": "1.5.0",
            "_model_name": "ProgressStyleModel",
            "_view_count": null,
            "_view_module": "@jupyter-widgets/base",
            "_view_module_version": "1.2.0",
            "_view_name": "StyleView",
            "bar_color": null,
            "description_width": ""
          }
        },
        "8a0e75544bc54527bb7721c48c571557": {
          "model_module": "@jupyter-widgets/base",
          "model_name": "LayoutModel",
          "model_module_version": "1.2.0",
          "state": {
            "_model_module": "@jupyter-widgets/base",
            "_model_module_version": "1.2.0",
            "_model_name": "LayoutModel",
            "_view_count": null,
            "_view_module": "@jupyter-widgets/base",
            "_view_module_version": "1.2.0",
            "_view_name": "LayoutView",
            "align_content": null,
            "align_items": null,
            "align_self": null,
            "border": null,
            "bottom": null,
            "display": null,
            "flex": null,
            "flex_flow": null,
            "grid_area": null,
            "grid_auto_columns": null,
            "grid_auto_flow": null,
            "grid_auto_rows": null,
            "grid_column": null,
            "grid_gap": null,
            "grid_row": null,
            "grid_template_areas": null,
            "grid_template_columns": null,
            "grid_template_rows": null,
            "height": null,
            "justify_content": null,
            "justify_items": null,
            "left": null,
            "margin": null,
            "max_height": null,
            "max_width": null,
            "min_height": null,
            "min_width": null,
            "object_fit": null,
            "object_position": null,
            "order": null,
            "overflow": null,
            "overflow_x": null,
            "overflow_y": null,
            "padding": null,
            "right": null,
            "top": null,
            "visibility": null,
            "width": null
          }
        },
        "962c2f3e718a49dea5af069908d5b529": {
          "model_module": "@jupyter-widgets/controls",
          "model_name": "DescriptionStyleModel",
          "model_module_version": "1.5.0",
          "state": {
            "_model_module": "@jupyter-widgets/controls",
            "_model_module_version": "1.5.0",
            "_model_name": "DescriptionStyleModel",
            "_view_count": null,
            "_view_module": "@jupyter-widgets/base",
            "_view_module_version": "1.2.0",
            "_view_name": "StyleView",
            "description_width": ""
          }
        },
        "7e324af113544ce985c4d3be8f5f1a5c": {
          "model_module": "@jupyter-widgets/controls",
          "model_name": "HBoxModel",
          "model_module_version": "1.5.0",
          "state": {
            "_dom_classes": [],
            "_model_module": "@jupyter-widgets/controls",
            "_model_module_version": "1.5.0",
            "_model_name": "HBoxModel",
            "_view_count": null,
            "_view_module": "@jupyter-widgets/controls",
            "_view_module_version": "1.5.0",
            "_view_name": "HBoxView",
            "box_style": "",
            "children": [
              "IPY_MODEL_ececaf8c195b416a95a92a13a032ea41",
              "IPY_MODEL_8170162c9fab4f4ca149521407d6946b",
              "IPY_MODEL_0a3bd4bab94845168a4624bb5a56b752"
            ],
            "layout": "IPY_MODEL_cc64d549541e46c69552ab493cc15cd2"
          }
        },
        "ececaf8c195b416a95a92a13a032ea41": {
          "model_module": "@jupyter-widgets/controls",
          "model_name": "HTMLModel",
          "model_module_version": "1.5.0",
          "state": {
            "_dom_classes": [],
            "_model_module": "@jupyter-widgets/controls",
            "_model_module_version": "1.5.0",
            "_model_name": "HTMLModel",
            "_view_count": null,
            "_view_module": "@jupyter-widgets/controls",
            "_view_module_version": "1.5.0",
            "_view_name": "HTMLView",
            "description": "",
            "description_tooltip": null,
            "layout": "IPY_MODEL_44dc640d89b24de0977b31bd8b94287e",
            "placeholder": "​",
            "style": "IPY_MODEL_3b40b49770d04c0a814b88028751fc48",
            "value": "Downloading (…)lve/main/config.json: 100%"
          }
        },
        "8170162c9fab4f4ca149521407d6946b": {
          "model_module": "@jupyter-widgets/controls",
          "model_name": "FloatProgressModel",
          "model_module_version": "1.5.0",
          "state": {
            "_dom_classes": [],
            "_model_module": "@jupyter-widgets/controls",
            "_model_module_version": "1.5.0",
            "_model_name": "FloatProgressModel",
            "_view_count": null,
            "_view_module": "@jupyter-widgets/controls",
            "_view_module_version": "1.5.0",
            "_view_name": "ProgressView",
            "bar_style": "success",
            "description": "",
            "description_tooltip": null,
            "layout": "IPY_MODEL_99e250e368ac40e3963007c256195ff0",
            "max": 651,
            "min": 0,
            "orientation": "horizontal",
            "style": "IPY_MODEL_256fc48469044b0fa5f6356111a83a1e",
            "value": 651
          }
        },
        "0a3bd4bab94845168a4624bb5a56b752": {
          "model_module": "@jupyter-widgets/controls",
          "model_name": "HTMLModel",
          "model_module_version": "1.5.0",
          "state": {
            "_dom_classes": [],
            "_model_module": "@jupyter-widgets/controls",
            "_model_module_version": "1.5.0",
            "_model_name": "HTMLModel",
            "_view_count": null,
            "_view_module": "@jupyter-widgets/controls",
            "_view_module_version": "1.5.0",
            "_view_name": "HTMLView",
            "description": "",
            "description_tooltip": null,
            "layout": "IPY_MODEL_0d327e2beb6f44b1afffcd0a97505fb7",
            "placeholder": "​",
            "style": "IPY_MODEL_1b5aa7f2d6e74b43838490ef9a2a1b11",
            "value": " 651/651 [00:00&lt;00:00, 41.0kB/s]"
          }
        },
        "cc64d549541e46c69552ab493cc15cd2": {
          "model_module": "@jupyter-widgets/base",
          "model_name": "LayoutModel",
          "model_module_version": "1.2.0",
          "state": {
            "_model_module": "@jupyter-widgets/base",
            "_model_module_version": "1.2.0",
            "_model_name": "LayoutModel",
            "_view_count": null,
            "_view_module": "@jupyter-widgets/base",
            "_view_module_version": "1.2.0",
            "_view_name": "LayoutView",
            "align_content": null,
            "align_items": null,
            "align_self": null,
            "border": null,
            "bottom": null,
            "display": null,
            "flex": null,
            "flex_flow": null,
            "grid_area": null,
            "grid_auto_columns": null,
            "grid_auto_flow": null,
            "grid_auto_rows": null,
            "grid_column": null,
            "grid_gap": null,
            "grid_row": null,
            "grid_template_areas": null,
            "grid_template_columns": null,
            "grid_template_rows": null,
            "height": null,
            "justify_content": null,
            "justify_items": null,
            "left": null,
            "margin": null,
            "max_height": null,
            "max_width": null,
            "min_height": null,
            "min_width": null,
            "object_fit": null,
            "object_position": null,
            "order": null,
            "overflow": null,
            "overflow_x": null,
            "overflow_y": null,
            "padding": null,
            "right": null,
            "top": null,
            "visibility": null,
            "width": null
          }
        },
        "44dc640d89b24de0977b31bd8b94287e": {
          "model_module": "@jupyter-widgets/base",
          "model_name": "LayoutModel",
          "model_module_version": "1.2.0",
          "state": {
            "_model_module": "@jupyter-widgets/base",
            "_model_module_version": "1.2.0",
            "_model_name": "LayoutModel",
            "_view_count": null,
            "_view_module": "@jupyter-widgets/base",
            "_view_module_version": "1.2.0",
            "_view_name": "LayoutView",
            "align_content": null,
            "align_items": null,
            "align_self": null,
            "border": null,
            "bottom": null,
            "display": null,
            "flex": null,
            "flex_flow": null,
            "grid_area": null,
            "grid_auto_columns": null,
            "grid_auto_flow": null,
            "grid_auto_rows": null,
            "grid_column": null,
            "grid_gap": null,
            "grid_row": null,
            "grid_template_areas": null,
            "grid_template_columns": null,
            "grid_template_rows": null,
            "height": null,
            "justify_content": null,
            "justify_items": null,
            "left": null,
            "margin": null,
            "max_height": null,
            "max_width": null,
            "min_height": null,
            "min_width": null,
            "object_fit": null,
            "object_position": null,
            "order": null,
            "overflow": null,
            "overflow_x": null,
            "overflow_y": null,
            "padding": null,
            "right": null,
            "top": null,
            "visibility": null,
            "width": null
          }
        },
        "3b40b49770d04c0a814b88028751fc48": {
          "model_module": "@jupyter-widgets/controls",
          "model_name": "DescriptionStyleModel",
          "model_module_version": "1.5.0",
          "state": {
            "_model_module": "@jupyter-widgets/controls",
            "_model_module_version": "1.5.0",
            "_model_name": "DescriptionStyleModel",
            "_view_count": null,
            "_view_module": "@jupyter-widgets/base",
            "_view_module_version": "1.2.0",
            "_view_name": "StyleView",
            "description_width": ""
          }
        },
        "99e250e368ac40e3963007c256195ff0": {
          "model_module": "@jupyter-widgets/base",
          "model_name": "LayoutModel",
          "model_module_version": "1.2.0",
          "state": {
            "_model_module": "@jupyter-widgets/base",
            "_model_module_version": "1.2.0",
            "_model_name": "LayoutModel",
            "_view_count": null,
            "_view_module": "@jupyter-widgets/base",
            "_view_module_version": "1.2.0",
            "_view_name": "LayoutView",
            "align_content": null,
            "align_items": null,
            "align_self": null,
            "border": null,
            "bottom": null,
            "display": null,
            "flex": null,
            "flex_flow": null,
            "grid_area": null,
            "grid_auto_columns": null,
            "grid_auto_flow": null,
            "grid_auto_rows": null,
            "grid_column": null,
            "grid_gap": null,
            "grid_row": null,
            "grid_template_areas": null,
            "grid_template_columns": null,
            "grid_template_rows": null,
            "height": null,
            "justify_content": null,
            "justify_items": null,
            "left": null,
            "margin": null,
            "max_height": null,
            "max_width": null,
            "min_height": null,
            "min_width": null,
            "object_fit": null,
            "object_position": null,
            "order": null,
            "overflow": null,
            "overflow_x": null,
            "overflow_y": null,
            "padding": null,
            "right": null,
            "top": null,
            "visibility": null,
            "width": null
          }
        },
        "256fc48469044b0fa5f6356111a83a1e": {
          "model_module": "@jupyter-widgets/controls",
          "model_name": "ProgressStyleModel",
          "model_module_version": "1.5.0",
          "state": {
            "_model_module": "@jupyter-widgets/controls",
            "_model_module_version": "1.5.0",
            "_model_name": "ProgressStyleModel",
            "_view_count": null,
            "_view_module": "@jupyter-widgets/base",
            "_view_module_version": "1.2.0",
            "_view_name": "StyleView",
            "bar_color": null,
            "description_width": ""
          }
        },
        "0d327e2beb6f44b1afffcd0a97505fb7": {
          "model_module": "@jupyter-widgets/base",
          "model_name": "LayoutModel",
          "model_module_version": "1.2.0",
          "state": {
            "_model_module": "@jupyter-widgets/base",
            "_model_module_version": "1.2.0",
            "_model_name": "LayoutModel",
            "_view_count": null,
            "_view_module": "@jupyter-widgets/base",
            "_view_module_version": "1.2.0",
            "_view_name": "LayoutView",
            "align_content": null,
            "align_items": null,
            "align_self": null,
            "border": null,
            "bottom": null,
            "display": null,
            "flex": null,
            "flex_flow": null,
            "grid_area": null,
            "grid_auto_columns": null,
            "grid_auto_flow": null,
            "grid_auto_rows": null,
            "grid_column": null,
            "grid_gap": null,
            "grid_row": null,
            "grid_template_areas": null,
            "grid_template_columns": null,
            "grid_template_rows": null,
            "height": null,
            "justify_content": null,
            "justify_items": null,
            "left": null,
            "margin": null,
            "max_height": null,
            "max_width": null,
            "min_height": null,
            "min_width": null,
            "object_fit": null,
            "object_position": null,
            "order": null,
            "overflow": null,
            "overflow_x": null,
            "overflow_y": null,
            "padding": null,
            "right": null,
            "top": null,
            "visibility": null,
            "width": null
          }
        },
        "1b5aa7f2d6e74b43838490ef9a2a1b11": {
          "model_module": "@jupyter-widgets/controls",
          "model_name": "DescriptionStyleModel",
          "model_module_version": "1.5.0",
          "state": {
            "_model_module": "@jupyter-widgets/controls",
            "_model_module_version": "1.5.0",
            "_model_name": "DescriptionStyleModel",
            "_view_count": null,
            "_view_module": "@jupyter-widgets/base",
            "_view_module_version": "1.2.0",
            "_view_name": "StyleView",
            "description_width": ""
          }
        },
        "1db8d19a46ca429fb8ed124f3e1f53f6": {
          "model_module": "@jupyter-widgets/controls",
          "model_name": "HBoxModel",
          "model_module_version": "1.5.0",
          "state": {
            "_dom_classes": [],
            "_model_module": "@jupyter-widgets/controls",
            "_model_module_version": "1.5.0",
            "_model_name": "HBoxModel",
            "_view_count": null,
            "_view_module": "@jupyter-widgets/controls",
            "_view_module_version": "1.5.0",
            "_view_name": "HBoxView",
            "box_style": "",
            "children": [
              "IPY_MODEL_da66ce30edbe4925950cd43b45964877",
              "IPY_MODEL_056b11b3b9d94b80a54bfcbbabd7d7dd",
              "IPY_MODEL_1946306cb76b48bf9ab28bc66f27034f"
            ],
            "layout": "IPY_MODEL_16e2337245054ea3bc202ec4ca9928c0"
          }
        },
        "da66ce30edbe4925950cd43b45964877": {
          "model_module": "@jupyter-widgets/controls",
          "model_name": "HTMLModel",
          "model_module_version": "1.5.0",
          "state": {
            "_dom_classes": [],
            "_model_module": "@jupyter-widgets/controls",
            "_model_module_version": "1.5.0",
            "_model_name": "HTMLModel",
            "_view_count": null,
            "_view_module": "@jupyter-widgets/controls",
            "_view_module_version": "1.5.0",
            "_view_name": "HTMLView",
            "description": "",
            "description_tooltip": null,
            "layout": "IPY_MODEL_ba6402de003d4125a13ee34f4a2b8b75",
            "placeholder": "​",
            "style": "IPY_MODEL_6e7c915dad1244fb829ce38af5e5383d",
            "value": "Downloading (…)olve/main/vocab.json: 100%"
          }
        },
        "056b11b3b9d94b80a54bfcbbabd7d7dd": {
          "model_module": "@jupyter-widgets/controls",
          "model_name": "FloatProgressModel",
          "model_module_version": "1.5.0",
          "state": {
            "_dom_classes": [],
            "_model_module": "@jupyter-widgets/controls",
            "_model_module_version": "1.5.0",
            "_model_name": "FloatProgressModel",
            "_view_count": null,
            "_view_module": "@jupyter-widgets/controls",
            "_view_module_version": "1.5.0",
            "_view_name": "ProgressView",
            "bar_style": "success",
            "description": "",
            "description_tooltip": null,
            "layout": "IPY_MODEL_2a3dd27f04a04341a3321a1d78c34f84",
            "max": 898822,
            "min": 0,
            "orientation": "horizontal",
            "style": "IPY_MODEL_17134c36d0394be2952b217174a8e081",
            "value": 898822
          }
        },
        "1946306cb76b48bf9ab28bc66f27034f": {
          "model_module": "@jupyter-widgets/controls",
          "model_name": "HTMLModel",
          "model_module_version": "1.5.0",
          "state": {
            "_dom_classes": [],
            "_model_module": "@jupyter-widgets/controls",
            "_model_module_version": "1.5.0",
            "_model_name": "HTMLModel",
            "_view_count": null,
            "_view_module": "@jupyter-widgets/controls",
            "_view_module_version": "1.5.0",
            "_view_name": "HTMLView",
            "description": "",
            "description_tooltip": null,
            "layout": "IPY_MODEL_c998c69986aa4f0996ded8dcf0ec4e5f",
            "placeholder": "​",
            "style": "IPY_MODEL_77a380226bb2490783c74941d7c00d94",
            "value": " 899k/899k [00:01&lt;00:00, 802kB/s]"
          }
        },
        "16e2337245054ea3bc202ec4ca9928c0": {
          "model_module": "@jupyter-widgets/base",
          "model_name": "LayoutModel",
          "model_module_version": "1.2.0",
          "state": {
            "_model_module": "@jupyter-widgets/base",
            "_model_module_version": "1.2.0",
            "_model_name": "LayoutModel",
            "_view_count": null,
            "_view_module": "@jupyter-widgets/base",
            "_view_module_version": "1.2.0",
            "_view_name": "LayoutView",
            "align_content": null,
            "align_items": null,
            "align_self": null,
            "border": null,
            "bottom": null,
            "display": null,
            "flex": null,
            "flex_flow": null,
            "grid_area": null,
            "grid_auto_columns": null,
            "grid_auto_flow": null,
            "grid_auto_rows": null,
            "grid_column": null,
            "grid_gap": null,
            "grid_row": null,
            "grid_template_areas": null,
            "grid_template_columns": null,
            "grid_template_rows": null,
            "height": null,
            "justify_content": null,
            "justify_items": null,
            "left": null,
            "margin": null,
            "max_height": null,
            "max_width": null,
            "min_height": null,
            "min_width": null,
            "object_fit": null,
            "object_position": null,
            "order": null,
            "overflow": null,
            "overflow_x": null,
            "overflow_y": null,
            "padding": null,
            "right": null,
            "top": null,
            "visibility": null,
            "width": null
          }
        },
        "ba6402de003d4125a13ee34f4a2b8b75": {
          "model_module": "@jupyter-widgets/base",
          "model_name": "LayoutModel",
          "model_module_version": "1.2.0",
          "state": {
            "_model_module": "@jupyter-widgets/base",
            "_model_module_version": "1.2.0",
            "_model_name": "LayoutModel",
            "_view_count": null,
            "_view_module": "@jupyter-widgets/base",
            "_view_module_version": "1.2.0",
            "_view_name": "LayoutView",
            "align_content": null,
            "align_items": null,
            "align_self": null,
            "border": null,
            "bottom": null,
            "display": null,
            "flex": null,
            "flex_flow": null,
            "grid_area": null,
            "grid_auto_columns": null,
            "grid_auto_flow": null,
            "grid_auto_rows": null,
            "grid_column": null,
            "grid_gap": null,
            "grid_row": null,
            "grid_template_areas": null,
            "grid_template_columns": null,
            "grid_template_rows": null,
            "height": null,
            "justify_content": null,
            "justify_items": null,
            "left": null,
            "margin": null,
            "max_height": null,
            "max_width": null,
            "min_height": null,
            "min_width": null,
            "object_fit": null,
            "object_position": null,
            "order": null,
            "overflow": null,
            "overflow_x": null,
            "overflow_y": null,
            "padding": null,
            "right": null,
            "top": null,
            "visibility": null,
            "width": null
          }
        },
        "6e7c915dad1244fb829ce38af5e5383d": {
          "model_module": "@jupyter-widgets/controls",
          "model_name": "DescriptionStyleModel",
          "model_module_version": "1.5.0",
          "state": {
            "_model_module": "@jupyter-widgets/controls",
            "_model_module_version": "1.5.0",
            "_model_name": "DescriptionStyleModel",
            "_view_count": null,
            "_view_module": "@jupyter-widgets/base",
            "_view_module_version": "1.2.0",
            "_view_name": "StyleView",
            "description_width": ""
          }
        },
        "2a3dd27f04a04341a3321a1d78c34f84": {
          "model_module": "@jupyter-widgets/base",
          "model_name": "LayoutModel",
          "model_module_version": "1.2.0",
          "state": {
            "_model_module": "@jupyter-widgets/base",
            "_model_module_version": "1.2.0",
            "_model_name": "LayoutModel",
            "_view_count": null,
            "_view_module": "@jupyter-widgets/base",
            "_view_module_version": "1.2.0",
            "_view_name": "LayoutView",
            "align_content": null,
            "align_items": null,
            "align_self": null,
            "border": null,
            "bottom": null,
            "display": null,
            "flex": null,
            "flex_flow": null,
            "grid_area": null,
            "grid_auto_columns": null,
            "grid_auto_flow": null,
            "grid_auto_rows": null,
            "grid_column": null,
            "grid_gap": null,
            "grid_row": null,
            "grid_template_areas": null,
            "grid_template_columns": null,
            "grid_template_rows": null,
            "height": null,
            "justify_content": null,
            "justify_items": null,
            "left": null,
            "margin": null,
            "max_height": null,
            "max_width": null,
            "min_height": null,
            "min_width": null,
            "object_fit": null,
            "object_position": null,
            "order": null,
            "overflow": null,
            "overflow_x": null,
            "overflow_y": null,
            "padding": null,
            "right": null,
            "top": null,
            "visibility": null,
            "width": null
          }
        },
        "17134c36d0394be2952b217174a8e081": {
          "model_module": "@jupyter-widgets/controls",
          "model_name": "ProgressStyleModel",
          "model_module_version": "1.5.0",
          "state": {
            "_model_module": "@jupyter-widgets/controls",
            "_model_module_version": "1.5.0",
            "_model_name": "ProgressStyleModel",
            "_view_count": null,
            "_view_module": "@jupyter-widgets/base",
            "_view_module_version": "1.2.0",
            "_view_name": "StyleView",
            "bar_color": null,
            "description_width": ""
          }
        },
        "c998c69986aa4f0996ded8dcf0ec4e5f": {
          "model_module": "@jupyter-widgets/base",
          "model_name": "LayoutModel",
          "model_module_version": "1.2.0",
          "state": {
            "_model_module": "@jupyter-widgets/base",
            "_model_module_version": "1.2.0",
            "_model_name": "LayoutModel",
            "_view_count": null,
            "_view_module": "@jupyter-widgets/base",
            "_view_module_version": "1.2.0",
            "_view_name": "LayoutView",
            "align_content": null,
            "align_items": null,
            "align_self": null,
            "border": null,
            "bottom": null,
            "display": null,
            "flex": null,
            "flex_flow": null,
            "grid_area": null,
            "grid_auto_columns": null,
            "grid_auto_flow": null,
            "grid_auto_rows": null,
            "grid_column": null,
            "grid_gap": null,
            "grid_row": null,
            "grid_template_areas": null,
            "grid_template_columns": null,
            "grid_template_rows": null,
            "height": null,
            "justify_content": null,
            "justify_items": null,
            "left": null,
            "margin": null,
            "max_height": null,
            "max_width": null,
            "min_height": null,
            "min_width": null,
            "object_fit": null,
            "object_position": null,
            "order": null,
            "overflow": null,
            "overflow_x": null,
            "overflow_y": null,
            "padding": null,
            "right": null,
            "top": null,
            "visibility": null,
            "width": null
          }
        },
        "77a380226bb2490783c74941d7c00d94": {
          "model_module": "@jupyter-widgets/controls",
          "model_name": "DescriptionStyleModel",
          "model_module_version": "1.5.0",
          "state": {
            "_model_module": "@jupyter-widgets/controls",
            "_model_module_version": "1.5.0",
            "_model_name": "DescriptionStyleModel",
            "_view_count": null,
            "_view_module": "@jupyter-widgets/base",
            "_view_module_version": "1.2.0",
            "_view_name": "StyleView",
            "description_width": ""
          }
        },
        "e52e8139c3e4472bb00a1597ea16cc76": {
          "model_module": "@jupyter-widgets/controls",
          "model_name": "HBoxModel",
          "model_module_version": "1.5.0",
          "state": {
            "_dom_classes": [],
            "_model_module": "@jupyter-widgets/controls",
            "_model_module_version": "1.5.0",
            "_model_name": "HBoxModel",
            "_view_count": null,
            "_view_module": "@jupyter-widgets/controls",
            "_view_module_version": "1.5.0",
            "_view_name": "HBoxView",
            "box_style": "",
            "children": [
              "IPY_MODEL_88b997b287164f90bfe3f2791c4a861c",
              "IPY_MODEL_dc7c023d669f487a88439c317e7af07d",
              "IPY_MODEL_b8e4f6d227fa4c47bc53ad8b1054a379"
            ],
            "layout": "IPY_MODEL_23a00d76003c44d09fe6eeff735644d1"
          }
        },
        "88b997b287164f90bfe3f2791c4a861c": {
          "model_module": "@jupyter-widgets/controls",
          "model_name": "HTMLModel",
          "model_module_version": "1.5.0",
          "state": {
            "_dom_classes": [],
            "_model_module": "@jupyter-widgets/controls",
            "_model_module_version": "1.5.0",
            "_model_name": "HTMLModel",
            "_view_count": null,
            "_view_module": "@jupyter-widgets/controls",
            "_view_module_version": "1.5.0",
            "_view_name": "HTMLView",
            "description": "",
            "description_tooltip": null,
            "layout": "IPY_MODEL_bf20d20e54c34e0cadc0e553afdf35f3",
            "placeholder": "​",
            "style": "IPY_MODEL_a57aebd1182243248f41f327e6bf025e",
            "value": "Downloading (…)olve/main/merges.txt: 100%"
          }
        },
        "dc7c023d669f487a88439c317e7af07d": {
          "model_module": "@jupyter-widgets/controls",
          "model_name": "FloatProgressModel",
          "model_module_version": "1.5.0",
          "state": {
            "_dom_classes": [],
            "_model_module": "@jupyter-widgets/controls",
            "_model_module_version": "1.5.0",
            "_model_name": "FloatProgressModel",
            "_view_count": null,
            "_view_module": "@jupyter-widgets/controls",
            "_view_module_version": "1.5.0",
            "_view_name": "ProgressView",
            "bar_style": "success",
            "description": "",
            "description_tooltip": null,
            "layout": "IPY_MODEL_60d74eecdd794165afcf2473e152f71c",
            "max": 456318,
            "min": 0,
            "orientation": "horizontal",
            "style": "IPY_MODEL_ca69c309812348f1bf1693a83a1bd8f9",
            "value": 456318
          }
        },
        "b8e4f6d227fa4c47bc53ad8b1054a379": {
          "model_module": "@jupyter-widgets/controls",
          "model_name": "HTMLModel",
          "model_module_version": "1.5.0",
          "state": {
            "_dom_classes": [],
            "_model_module": "@jupyter-widgets/controls",
            "_model_module_version": "1.5.0",
            "_model_name": "HTMLModel",
            "_view_count": null,
            "_view_module": "@jupyter-widgets/controls",
            "_view_module_version": "1.5.0",
            "_view_name": "HTMLView",
            "description": "",
            "description_tooltip": null,
            "layout": "IPY_MODEL_c45a0048fb39403282abe899e9563aa9",
            "placeholder": "​",
            "style": "IPY_MODEL_671d61daf8774f189c45fe636eac68f5",
            "value": " 456k/456k [00:00&lt;00:00, 514kB/s]"
          }
        },
        "23a00d76003c44d09fe6eeff735644d1": {
          "model_module": "@jupyter-widgets/base",
          "model_name": "LayoutModel",
          "model_module_version": "1.2.0",
          "state": {
            "_model_module": "@jupyter-widgets/base",
            "_model_module_version": "1.2.0",
            "_model_name": "LayoutModel",
            "_view_count": null,
            "_view_module": "@jupyter-widgets/base",
            "_view_module_version": "1.2.0",
            "_view_name": "LayoutView",
            "align_content": null,
            "align_items": null,
            "align_self": null,
            "border": null,
            "bottom": null,
            "display": null,
            "flex": null,
            "flex_flow": null,
            "grid_area": null,
            "grid_auto_columns": null,
            "grid_auto_flow": null,
            "grid_auto_rows": null,
            "grid_column": null,
            "grid_gap": null,
            "grid_row": null,
            "grid_template_areas": null,
            "grid_template_columns": null,
            "grid_template_rows": null,
            "height": null,
            "justify_content": null,
            "justify_items": null,
            "left": null,
            "margin": null,
            "max_height": null,
            "max_width": null,
            "min_height": null,
            "min_width": null,
            "object_fit": null,
            "object_position": null,
            "order": null,
            "overflow": null,
            "overflow_x": null,
            "overflow_y": null,
            "padding": null,
            "right": null,
            "top": null,
            "visibility": null,
            "width": null
          }
        },
        "bf20d20e54c34e0cadc0e553afdf35f3": {
          "model_module": "@jupyter-widgets/base",
          "model_name": "LayoutModel",
          "model_module_version": "1.2.0",
          "state": {
            "_model_module": "@jupyter-widgets/base",
            "_model_module_version": "1.2.0",
            "_model_name": "LayoutModel",
            "_view_count": null,
            "_view_module": "@jupyter-widgets/base",
            "_view_module_version": "1.2.0",
            "_view_name": "LayoutView",
            "align_content": null,
            "align_items": null,
            "align_self": null,
            "border": null,
            "bottom": null,
            "display": null,
            "flex": null,
            "flex_flow": null,
            "grid_area": null,
            "grid_auto_columns": null,
            "grid_auto_flow": null,
            "grid_auto_rows": null,
            "grid_column": null,
            "grid_gap": null,
            "grid_row": null,
            "grid_template_areas": null,
            "grid_template_columns": null,
            "grid_template_rows": null,
            "height": null,
            "justify_content": null,
            "justify_items": null,
            "left": null,
            "margin": null,
            "max_height": null,
            "max_width": null,
            "min_height": null,
            "min_width": null,
            "object_fit": null,
            "object_position": null,
            "order": null,
            "overflow": null,
            "overflow_x": null,
            "overflow_y": null,
            "padding": null,
            "right": null,
            "top": null,
            "visibility": null,
            "width": null
          }
        },
        "a57aebd1182243248f41f327e6bf025e": {
          "model_module": "@jupyter-widgets/controls",
          "model_name": "DescriptionStyleModel",
          "model_module_version": "1.5.0",
          "state": {
            "_model_module": "@jupyter-widgets/controls",
            "_model_module_version": "1.5.0",
            "_model_name": "DescriptionStyleModel",
            "_view_count": null,
            "_view_module": "@jupyter-widgets/base",
            "_view_module_version": "1.2.0",
            "_view_name": "StyleView",
            "description_width": ""
          }
        },
        "60d74eecdd794165afcf2473e152f71c": {
          "model_module": "@jupyter-widgets/base",
          "model_name": "LayoutModel",
          "model_module_version": "1.2.0",
          "state": {
            "_model_module": "@jupyter-widgets/base",
            "_model_module_version": "1.2.0",
            "_model_name": "LayoutModel",
            "_view_count": null,
            "_view_module": "@jupyter-widgets/base",
            "_view_module_version": "1.2.0",
            "_view_name": "LayoutView",
            "align_content": null,
            "align_items": null,
            "align_self": null,
            "border": null,
            "bottom": null,
            "display": null,
            "flex": null,
            "flex_flow": null,
            "grid_area": null,
            "grid_auto_columns": null,
            "grid_auto_flow": null,
            "grid_auto_rows": null,
            "grid_column": null,
            "grid_gap": null,
            "grid_row": null,
            "grid_template_areas": null,
            "grid_template_columns": null,
            "grid_template_rows": null,
            "height": null,
            "justify_content": null,
            "justify_items": null,
            "left": null,
            "margin": null,
            "max_height": null,
            "max_width": null,
            "min_height": null,
            "min_width": null,
            "object_fit": null,
            "object_position": null,
            "order": null,
            "overflow": null,
            "overflow_x": null,
            "overflow_y": null,
            "padding": null,
            "right": null,
            "top": null,
            "visibility": null,
            "width": null
          }
        },
        "ca69c309812348f1bf1693a83a1bd8f9": {
          "model_module": "@jupyter-widgets/controls",
          "model_name": "ProgressStyleModel",
          "model_module_version": "1.5.0",
          "state": {
            "_model_module": "@jupyter-widgets/controls",
            "_model_module_version": "1.5.0",
            "_model_name": "ProgressStyleModel",
            "_view_count": null,
            "_view_module": "@jupyter-widgets/base",
            "_view_module_version": "1.2.0",
            "_view_name": "StyleView",
            "bar_color": null,
            "description_width": ""
          }
        },
        "c45a0048fb39403282abe899e9563aa9": {
          "model_module": "@jupyter-widgets/base",
          "model_name": "LayoutModel",
          "model_module_version": "1.2.0",
          "state": {
            "_model_module": "@jupyter-widgets/base",
            "_model_module_version": "1.2.0",
            "_model_name": "LayoutModel",
            "_view_count": null,
            "_view_module": "@jupyter-widgets/base",
            "_view_module_version": "1.2.0",
            "_view_name": "LayoutView",
            "align_content": null,
            "align_items": null,
            "align_self": null,
            "border": null,
            "bottom": null,
            "display": null,
            "flex": null,
            "flex_flow": null,
            "grid_area": null,
            "grid_auto_columns": null,
            "grid_auto_flow": null,
            "grid_auto_rows": null,
            "grid_column": null,
            "grid_gap": null,
            "grid_row": null,
            "grid_template_areas": null,
            "grid_template_columns": null,
            "grid_template_rows": null,
            "height": null,
            "justify_content": null,
            "justify_items": null,
            "left": null,
            "margin": null,
            "max_height": null,
            "max_width": null,
            "min_height": null,
            "min_width": null,
            "object_fit": null,
            "object_position": null,
            "order": null,
            "overflow": null,
            "overflow_x": null,
            "overflow_y": null,
            "padding": null,
            "right": null,
            "top": null,
            "visibility": null,
            "width": null
          }
        },
        "671d61daf8774f189c45fe636eac68f5": {
          "model_module": "@jupyter-widgets/controls",
          "model_name": "DescriptionStyleModel",
          "model_module_version": "1.5.0",
          "state": {
            "_model_module": "@jupyter-widgets/controls",
            "_model_module_version": "1.5.0",
            "_model_name": "DescriptionStyleModel",
            "_view_count": null,
            "_view_module": "@jupyter-widgets/base",
            "_view_module_version": "1.2.0",
            "_view_name": "StyleView",
            "description_width": ""
          }
        },
        "cf29a38c3503431c96ceafe33f44c3fd": {
          "model_module": "@jupyter-widgets/controls",
          "model_name": "HBoxModel",
          "model_module_version": "1.5.0",
          "state": {
            "_dom_classes": [],
            "_model_module": "@jupyter-widgets/controls",
            "_model_module_version": "1.5.0",
            "_model_name": "HBoxModel",
            "_view_count": null,
            "_view_module": "@jupyter-widgets/controls",
            "_view_module_version": "1.5.0",
            "_view_name": "HBoxView",
            "box_style": "",
            "children": [
              "IPY_MODEL_02c08b7bc0254fd688efbabf3de5f79d",
              "IPY_MODEL_f3c8a2b76873410fadd7b7130bebaf8d",
              "IPY_MODEL_cd31a31a235e4658bb763f4cf0e1398f"
            ],
            "layout": "IPY_MODEL_eeeec052b9be4f33a6d2c6b6671fdff2"
          }
        },
        "02c08b7bc0254fd688efbabf3de5f79d": {
          "model_module": "@jupyter-widgets/controls",
          "model_name": "HTMLModel",
          "model_module_version": "1.5.0",
          "state": {
            "_dom_classes": [],
            "_model_module": "@jupyter-widgets/controls",
            "_model_module_version": "1.5.0",
            "_model_name": "HTMLModel",
            "_view_count": null,
            "_view_module": "@jupyter-widgets/controls",
            "_view_module_version": "1.5.0",
            "_view_name": "HTMLView",
            "description": "",
            "description_tooltip": null,
            "layout": "IPY_MODEL_0988e0be573e4210aadb5d0c34dd40fc",
            "placeholder": "​",
            "style": "IPY_MODEL_3a635e05a5754820ae2701d7c54fad70",
            "value": "Downloading (…)cial_tokens_map.json: 100%"
          }
        },
        "f3c8a2b76873410fadd7b7130bebaf8d": {
          "model_module": "@jupyter-widgets/controls",
          "model_name": "FloatProgressModel",
          "model_module_version": "1.5.0",
          "state": {
            "_dom_classes": [],
            "_model_module": "@jupyter-widgets/controls",
            "_model_module_version": "1.5.0",
            "_model_name": "FloatProgressModel",
            "_view_count": null,
            "_view_module": "@jupyter-widgets/controls",
            "_view_module_version": "1.5.0",
            "_view_name": "ProgressView",
            "bar_style": "success",
            "description": "",
            "description_tooltip": null,
            "layout": "IPY_MODEL_8bad256cac3a435db5dcaac5676a1f49",
            "max": 441,
            "min": 0,
            "orientation": "horizontal",
            "style": "IPY_MODEL_095275b56d3d47878f8ecdc1e6ecd320",
            "value": 441
          }
        },
        "cd31a31a235e4658bb763f4cf0e1398f": {
          "model_module": "@jupyter-widgets/controls",
          "model_name": "HTMLModel",
          "model_module_version": "1.5.0",
          "state": {
            "_dom_classes": [],
            "_model_module": "@jupyter-widgets/controls",
            "_model_module_version": "1.5.0",
            "_model_name": "HTMLModel",
            "_view_count": null,
            "_view_module": "@jupyter-widgets/controls",
            "_view_module_version": "1.5.0",
            "_view_name": "HTMLView",
            "description": "",
            "description_tooltip": null,
            "layout": "IPY_MODEL_ab7ea86e7d91448e9991ae73758e6768",
            "placeholder": "​",
            "style": "IPY_MODEL_d2daf831283a49b6887f80c1f38904d3",
            "value": " 441/441 [00:00&lt;00:00, 27.7kB/s]"
          }
        },
        "eeeec052b9be4f33a6d2c6b6671fdff2": {
          "model_module": "@jupyter-widgets/base",
          "model_name": "LayoutModel",
          "model_module_version": "1.2.0",
          "state": {
            "_model_module": "@jupyter-widgets/base",
            "_model_module_version": "1.2.0",
            "_model_name": "LayoutModel",
            "_view_count": null,
            "_view_module": "@jupyter-widgets/base",
            "_view_module_version": "1.2.0",
            "_view_name": "LayoutView",
            "align_content": null,
            "align_items": null,
            "align_self": null,
            "border": null,
            "bottom": null,
            "display": null,
            "flex": null,
            "flex_flow": null,
            "grid_area": null,
            "grid_auto_columns": null,
            "grid_auto_flow": null,
            "grid_auto_rows": null,
            "grid_column": null,
            "grid_gap": null,
            "grid_row": null,
            "grid_template_areas": null,
            "grid_template_columns": null,
            "grid_template_rows": null,
            "height": null,
            "justify_content": null,
            "justify_items": null,
            "left": null,
            "margin": null,
            "max_height": null,
            "max_width": null,
            "min_height": null,
            "min_width": null,
            "object_fit": null,
            "object_position": null,
            "order": null,
            "overflow": null,
            "overflow_x": null,
            "overflow_y": null,
            "padding": null,
            "right": null,
            "top": null,
            "visibility": null,
            "width": null
          }
        },
        "0988e0be573e4210aadb5d0c34dd40fc": {
          "model_module": "@jupyter-widgets/base",
          "model_name": "LayoutModel",
          "model_module_version": "1.2.0",
          "state": {
            "_model_module": "@jupyter-widgets/base",
            "_model_module_version": "1.2.0",
            "_model_name": "LayoutModel",
            "_view_count": null,
            "_view_module": "@jupyter-widgets/base",
            "_view_module_version": "1.2.0",
            "_view_name": "LayoutView",
            "align_content": null,
            "align_items": null,
            "align_self": null,
            "border": null,
            "bottom": null,
            "display": null,
            "flex": null,
            "flex_flow": null,
            "grid_area": null,
            "grid_auto_columns": null,
            "grid_auto_flow": null,
            "grid_auto_rows": null,
            "grid_column": null,
            "grid_gap": null,
            "grid_row": null,
            "grid_template_areas": null,
            "grid_template_columns": null,
            "grid_template_rows": null,
            "height": null,
            "justify_content": null,
            "justify_items": null,
            "left": null,
            "margin": null,
            "max_height": null,
            "max_width": null,
            "min_height": null,
            "min_width": null,
            "object_fit": null,
            "object_position": null,
            "order": null,
            "overflow": null,
            "overflow_x": null,
            "overflow_y": null,
            "padding": null,
            "right": null,
            "top": null,
            "visibility": null,
            "width": null
          }
        },
        "3a635e05a5754820ae2701d7c54fad70": {
          "model_module": "@jupyter-widgets/controls",
          "model_name": "DescriptionStyleModel",
          "model_module_version": "1.5.0",
          "state": {
            "_model_module": "@jupyter-widgets/controls",
            "_model_module_version": "1.5.0",
            "_model_name": "DescriptionStyleModel",
            "_view_count": null,
            "_view_module": "@jupyter-widgets/base",
            "_view_module_version": "1.2.0",
            "_view_name": "StyleView",
            "description_width": ""
          }
        },
        "8bad256cac3a435db5dcaac5676a1f49": {
          "model_module": "@jupyter-widgets/base",
          "model_name": "LayoutModel",
          "model_module_version": "1.2.0",
          "state": {
            "_model_module": "@jupyter-widgets/base",
            "_model_module_version": "1.2.0",
            "_model_name": "LayoutModel",
            "_view_count": null,
            "_view_module": "@jupyter-widgets/base",
            "_view_module_version": "1.2.0",
            "_view_name": "LayoutView",
            "align_content": null,
            "align_items": null,
            "align_self": null,
            "border": null,
            "bottom": null,
            "display": null,
            "flex": null,
            "flex_flow": null,
            "grid_area": null,
            "grid_auto_columns": null,
            "grid_auto_flow": null,
            "grid_auto_rows": null,
            "grid_column": null,
            "grid_gap": null,
            "grid_row": null,
            "grid_template_areas": null,
            "grid_template_columns": null,
            "grid_template_rows": null,
            "height": null,
            "justify_content": null,
            "justify_items": null,
            "left": null,
            "margin": null,
            "max_height": null,
            "max_width": null,
            "min_height": null,
            "min_width": null,
            "object_fit": null,
            "object_position": null,
            "order": null,
            "overflow": null,
            "overflow_x": null,
            "overflow_y": null,
            "padding": null,
            "right": null,
            "top": null,
            "visibility": null,
            "width": null
          }
        },
        "095275b56d3d47878f8ecdc1e6ecd320": {
          "model_module": "@jupyter-widgets/controls",
          "model_name": "ProgressStyleModel",
          "model_module_version": "1.5.0",
          "state": {
            "_model_module": "@jupyter-widgets/controls",
            "_model_module_version": "1.5.0",
            "_model_name": "ProgressStyleModel",
            "_view_count": null,
            "_view_module": "@jupyter-widgets/base",
            "_view_module_version": "1.2.0",
            "_view_name": "StyleView",
            "bar_color": null,
            "description_width": ""
          }
        },
        "ab7ea86e7d91448e9991ae73758e6768": {
          "model_module": "@jupyter-widgets/base",
          "model_name": "LayoutModel",
          "model_module_version": "1.2.0",
          "state": {
            "_model_module": "@jupyter-widgets/base",
            "_model_module_version": "1.2.0",
            "_model_name": "LayoutModel",
            "_view_count": null,
            "_view_module": "@jupyter-widgets/base",
            "_view_module_version": "1.2.0",
            "_view_name": "LayoutView",
            "align_content": null,
            "align_items": null,
            "align_self": null,
            "border": null,
            "bottom": null,
            "display": null,
            "flex": null,
            "flex_flow": null,
            "grid_area": null,
            "grid_auto_columns": null,
            "grid_auto_flow": null,
            "grid_auto_rows": null,
            "grid_column": null,
            "grid_gap": null,
            "grid_row": null,
            "grid_template_areas": null,
            "grid_template_columns": null,
            "grid_template_rows": null,
            "height": null,
            "justify_content": null,
            "justify_items": null,
            "left": null,
            "margin": null,
            "max_height": null,
            "max_width": null,
            "min_height": null,
            "min_width": null,
            "object_fit": null,
            "object_position": null,
            "order": null,
            "overflow": null,
            "overflow_x": null,
            "overflow_y": null,
            "padding": null,
            "right": null,
            "top": null,
            "visibility": null,
            "width": null
          }
        },
        "d2daf831283a49b6887f80c1f38904d3": {
          "model_module": "@jupyter-widgets/controls",
          "model_name": "DescriptionStyleModel",
          "model_module_version": "1.5.0",
          "state": {
            "_model_module": "@jupyter-widgets/controls",
            "_model_module_version": "1.5.0",
            "_model_name": "DescriptionStyleModel",
            "_view_count": null,
            "_view_module": "@jupyter-widgets/base",
            "_view_module_version": "1.2.0",
            "_view_name": "StyleView",
            "description_width": ""
          }
        },
        "f9cd7e31bd0546c8a3481c6136a1cf3b": {
          "model_module": "@jupyter-widgets/controls",
          "model_name": "HBoxModel",
          "model_module_version": "1.5.0",
          "state": {
            "_dom_classes": [],
            "_model_module": "@jupyter-widgets/controls",
            "_model_module_version": "1.5.0",
            "_model_name": "HBoxModel",
            "_view_count": null,
            "_view_module": "@jupyter-widgets/controls",
            "_view_module_version": "1.5.0",
            "_view_name": "HBoxView",
            "box_style": "",
            "children": [
              "IPY_MODEL_5eb631b1f2844d8182aed14e4adfca4e",
              "IPY_MODEL_3ff873f554f74acaaed01e59d901bd5a",
              "IPY_MODEL_d566506af979493b864923ecede1325c"
            ],
            "layout": "IPY_MODEL_600f9679c3224b29a6c6903b9cef34a8"
          }
        },
        "5eb631b1f2844d8182aed14e4adfca4e": {
          "model_module": "@jupyter-widgets/controls",
          "model_name": "HTMLModel",
          "model_module_version": "1.5.0",
          "state": {
            "_dom_classes": [],
            "_model_module": "@jupyter-widgets/controls",
            "_model_module_version": "1.5.0",
            "_model_name": "HTMLModel",
            "_view_count": null,
            "_view_module": "@jupyter-widgets/controls",
            "_view_module_version": "1.5.0",
            "_view_name": "HTMLView",
            "description": "",
            "description_tooltip": null,
            "layout": "IPY_MODEL_3d5b7180a50c4a8b95981b49b8dd1a73",
            "placeholder": "​",
            "style": "IPY_MODEL_74d1f8eecf894aedaee0cc015fc6be82",
            "value": "Map (num_proc=4):  24%"
          }
        },
        "3ff873f554f74acaaed01e59d901bd5a": {
          "model_module": "@jupyter-widgets/controls",
          "model_name": "FloatProgressModel",
          "model_module_version": "1.5.0",
          "state": {
            "_dom_classes": [],
            "_model_module": "@jupyter-widgets/controls",
            "_model_module_version": "1.5.0",
            "_model_name": "FloatProgressModel",
            "_view_count": null,
            "_view_module": "@jupyter-widgets/controls",
            "_view_module_version": "1.5.0",
            "_view_name": "ProgressView",
            "bar_style": "",
            "description": "",
            "description_tooltip": null,
            "layout": "IPY_MODEL_44bb70f213074ebbac9997d51e4e2030",
            "max": 95,
            "min": 0,
            "orientation": "horizontal",
            "style": "IPY_MODEL_e3f0586b1ee04e058bbf5362e9a31aab",
            "value": 95
          }
        },
        "d566506af979493b864923ecede1325c": {
          "model_module": "@jupyter-widgets/controls",
          "model_name": "HTMLModel",
          "model_module_version": "1.5.0",
          "state": {
            "_dom_classes": [],
            "_model_module": "@jupyter-widgets/controls",
            "_model_module_version": "1.5.0",
            "_model_name": "HTMLModel",
            "_view_count": null,
            "_view_module": "@jupyter-widgets/controls",
            "_view_module_version": "1.5.0",
            "_view_name": "HTMLView",
            "description": "",
            "description_tooltip": null,
            "layout": "IPY_MODEL_214fb447c29444afb4bf34f87b6e7c33",
            "placeholder": "​",
            "style": "IPY_MODEL_df7bbcae077e42c5864d7bd95fb9935a",
            "value": " 23/95 [00:00&lt;00:00, 118.65 examples/s]"
          }
        },
        "600f9679c3224b29a6c6903b9cef34a8": {
          "model_module": "@jupyter-widgets/base",
          "model_name": "LayoutModel",
          "model_module_version": "1.2.0",
          "state": {
            "_model_module": "@jupyter-widgets/base",
            "_model_module_version": "1.2.0",
            "_model_name": "LayoutModel",
            "_view_count": null,
            "_view_module": "@jupyter-widgets/base",
            "_view_module_version": "1.2.0",
            "_view_name": "LayoutView",
            "align_content": null,
            "align_items": null,
            "align_self": null,
            "border": null,
            "bottom": null,
            "display": null,
            "flex": null,
            "flex_flow": null,
            "grid_area": null,
            "grid_auto_columns": null,
            "grid_auto_flow": null,
            "grid_auto_rows": null,
            "grid_column": null,
            "grid_gap": null,
            "grid_row": null,
            "grid_template_areas": null,
            "grid_template_columns": null,
            "grid_template_rows": null,
            "height": null,
            "justify_content": null,
            "justify_items": null,
            "left": null,
            "margin": null,
            "max_height": null,
            "max_width": null,
            "min_height": null,
            "min_width": null,
            "object_fit": null,
            "object_position": null,
            "order": null,
            "overflow": null,
            "overflow_x": null,
            "overflow_y": null,
            "padding": null,
            "right": null,
            "top": null,
            "visibility": "hidden",
            "width": null
          }
        },
        "3d5b7180a50c4a8b95981b49b8dd1a73": {
          "model_module": "@jupyter-widgets/base",
          "model_name": "LayoutModel",
          "model_module_version": "1.2.0",
          "state": {
            "_model_module": "@jupyter-widgets/base",
            "_model_module_version": "1.2.0",
            "_model_name": "LayoutModel",
            "_view_count": null,
            "_view_module": "@jupyter-widgets/base",
            "_view_module_version": "1.2.0",
            "_view_name": "LayoutView",
            "align_content": null,
            "align_items": null,
            "align_self": null,
            "border": null,
            "bottom": null,
            "display": null,
            "flex": null,
            "flex_flow": null,
            "grid_area": null,
            "grid_auto_columns": null,
            "grid_auto_flow": null,
            "grid_auto_rows": null,
            "grid_column": null,
            "grid_gap": null,
            "grid_row": null,
            "grid_template_areas": null,
            "grid_template_columns": null,
            "grid_template_rows": null,
            "height": null,
            "justify_content": null,
            "justify_items": null,
            "left": null,
            "margin": null,
            "max_height": null,
            "max_width": null,
            "min_height": null,
            "min_width": null,
            "object_fit": null,
            "object_position": null,
            "order": null,
            "overflow": null,
            "overflow_x": null,
            "overflow_y": null,
            "padding": null,
            "right": null,
            "top": null,
            "visibility": null,
            "width": null
          }
        },
        "74d1f8eecf894aedaee0cc015fc6be82": {
          "model_module": "@jupyter-widgets/controls",
          "model_name": "DescriptionStyleModel",
          "model_module_version": "1.5.0",
          "state": {
            "_model_module": "@jupyter-widgets/controls",
            "_model_module_version": "1.5.0",
            "_model_name": "DescriptionStyleModel",
            "_view_count": null,
            "_view_module": "@jupyter-widgets/base",
            "_view_module_version": "1.2.0",
            "_view_name": "StyleView",
            "description_width": ""
          }
        },
        "44bb70f213074ebbac9997d51e4e2030": {
          "model_module": "@jupyter-widgets/base",
          "model_name": "LayoutModel",
          "model_module_version": "1.2.0",
          "state": {
            "_model_module": "@jupyter-widgets/base",
            "_model_module_version": "1.2.0",
            "_model_name": "LayoutModel",
            "_view_count": null,
            "_view_module": "@jupyter-widgets/base",
            "_view_module_version": "1.2.0",
            "_view_name": "LayoutView",
            "align_content": null,
            "align_items": null,
            "align_self": null,
            "border": null,
            "bottom": null,
            "display": null,
            "flex": null,
            "flex_flow": null,
            "grid_area": null,
            "grid_auto_columns": null,
            "grid_auto_flow": null,
            "grid_auto_rows": null,
            "grid_column": null,
            "grid_gap": null,
            "grid_row": null,
            "grid_template_areas": null,
            "grid_template_columns": null,
            "grid_template_rows": null,
            "height": null,
            "justify_content": null,
            "justify_items": null,
            "left": null,
            "margin": null,
            "max_height": null,
            "max_width": null,
            "min_height": null,
            "min_width": null,
            "object_fit": null,
            "object_position": null,
            "order": null,
            "overflow": null,
            "overflow_x": null,
            "overflow_y": null,
            "padding": null,
            "right": null,
            "top": null,
            "visibility": null,
            "width": null
          }
        },
        "e3f0586b1ee04e058bbf5362e9a31aab": {
          "model_module": "@jupyter-widgets/controls",
          "model_name": "ProgressStyleModel",
          "model_module_version": "1.5.0",
          "state": {
            "_model_module": "@jupyter-widgets/controls",
            "_model_module_version": "1.5.0",
            "_model_name": "ProgressStyleModel",
            "_view_count": null,
            "_view_module": "@jupyter-widgets/base",
            "_view_module_version": "1.2.0",
            "_view_name": "StyleView",
            "bar_color": null,
            "description_width": ""
          }
        },
        "214fb447c29444afb4bf34f87b6e7c33": {
          "model_module": "@jupyter-widgets/base",
          "model_name": "LayoutModel",
          "model_module_version": "1.2.0",
          "state": {
            "_model_module": "@jupyter-widgets/base",
            "_model_module_version": "1.2.0",
            "_model_name": "LayoutModel",
            "_view_count": null,
            "_view_module": "@jupyter-widgets/base",
            "_view_module_version": "1.2.0",
            "_view_name": "LayoutView",
            "align_content": null,
            "align_items": null,
            "align_self": null,
            "border": null,
            "bottom": null,
            "display": null,
            "flex": null,
            "flex_flow": null,
            "grid_area": null,
            "grid_auto_columns": null,
            "grid_auto_flow": null,
            "grid_auto_rows": null,
            "grid_column": null,
            "grid_gap": null,
            "grid_row": null,
            "grid_template_areas": null,
            "grid_template_columns": null,
            "grid_template_rows": null,
            "height": null,
            "justify_content": null,
            "justify_items": null,
            "left": null,
            "margin": null,
            "max_height": null,
            "max_width": null,
            "min_height": null,
            "min_width": null,
            "object_fit": null,
            "object_position": null,
            "order": null,
            "overflow": null,
            "overflow_x": null,
            "overflow_y": null,
            "padding": null,
            "right": null,
            "top": null,
            "visibility": null,
            "width": null
          }
        },
        "df7bbcae077e42c5864d7bd95fb9935a": {
          "model_module": "@jupyter-widgets/controls",
          "model_name": "DescriptionStyleModel",
          "model_module_version": "1.5.0",
          "state": {
            "_model_module": "@jupyter-widgets/controls",
            "_model_module_version": "1.5.0",
            "_model_name": "DescriptionStyleModel",
            "_view_count": null,
            "_view_module": "@jupyter-widgets/base",
            "_view_module_version": "1.2.0",
            "_view_name": "StyleView",
            "description_width": ""
          }
        },
        "048b60f7dfc74607bfe17102a96ed903": {
          "model_module": "@jupyter-widgets/controls",
          "model_name": "HBoxModel",
          "model_module_version": "1.5.0",
          "state": {
            "_dom_classes": [],
            "_model_module": "@jupyter-widgets/controls",
            "_model_module_version": "1.5.0",
            "_model_name": "HBoxModel",
            "_view_count": null,
            "_view_module": "@jupyter-widgets/controls",
            "_view_module_version": "1.5.0",
            "_view_name": "HBoxView",
            "box_style": "",
            "children": [
              "IPY_MODEL_040d3f54afba4e56bbcbc93b469922fa",
              "IPY_MODEL_f42f9334588b47809e97c037713dd030",
              "IPY_MODEL_597f5cf0c8dd431db38ef3375766012d"
            ],
            "layout": "IPY_MODEL_d9240d1ddc0543c0bd16df129933edbf"
          }
        },
        "040d3f54afba4e56bbcbc93b469922fa": {
          "model_module": "@jupyter-widgets/controls",
          "model_name": "HTMLModel",
          "model_module_version": "1.5.0",
          "state": {
            "_dom_classes": [],
            "_model_module": "@jupyter-widgets/controls",
            "_model_module_version": "1.5.0",
            "_model_name": "HTMLModel",
            "_view_count": null,
            "_view_module": "@jupyter-widgets/controls",
            "_view_module_version": "1.5.0",
            "_view_name": "HTMLView",
            "description": "",
            "description_tooltip": null,
            "layout": "IPY_MODEL_1234df3ac700400a8baee756950ebeb2",
            "placeholder": "​",
            "style": "IPY_MODEL_9a65d4d9241f4c368b8a8b2f8ceef98c",
            "value": "Map (num_proc=4): 100%"
          }
        },
        "f42f9334588b47809e97c037713dd030": {
          "model_module": "@jupyter-widgets/controls",
          "model_name": "FloatProgressModel",
          "model_module_version": "1.5.0",
          "state": {
            "_dom_classes": [],
            "_model_module": "@jupyter-widgets/controls",
            "_model_module_version": "1.5.0",
            "_model_name": "FloatProgressModel",
            "_view_count": null,
            "_view_module": "@jupyter-widgets/controls",
            "_view_module_version": "1.5.0",
            "_view_name": "ProgressView",
            "bar_style": "",
            "description": "",
            "description_tooltip": null,
            "layout": "IPY_MODEL_b6fe7e6f2e664d13905f2daa5ecc5ac1",
            "max": 5,
            "min": 0,
            "orientation": "horizontal",
            "style": "IPY_MODEL_fbca13bfdd0c49348546a0d29c0c198c",
            "value": 5
          }
        },
        "597f5cf0c8dd431db38ef3375766012d": {
          "model_module": "@jupyter-widgets/controls",
          "model_name": "HTMLModel",
          "model_module_version": "1.5.0",
          "state": {
            "_dom_classes": [],
            "_model_module": "@jupyter-widgets/controls",
            "_model_module_version": "1.5.0",
            "_model_name": "HTMLModel",
            "_view_count": null,
            "_view_module": "@jupyter-widgets/controls",
            "_view_module_version": "1.5.0",
            "_view_name": "HTMLView",
            "description": "",
            "description_tooltip": null,
            "layout": "IPY_MODEL_433b80ae6fa5411cbb982d8912484626",
            "placeholder": "​",
            "style": "IPY_MODEL_8680d5b69ba7456882641e3276590943",
            "value": " 5/5 [00:00&lt;00:00, 49.62 examples/s]"
          }
        },
        "d9240d1ddc0543c0bd16df129933edbf": {
          "model_module": "@jupyter-widgets/base",
          "model_name": "LayoutModel",
          "model_module_version": "1.2.0",
          "state": {
            "_model_module": "@jupyter-widgets/base",
            "_model_module_version": "1.2.0",
            "_model_name": "LayoutModel",
            "_view_count": null,
            "_view_module": "@jupyter-widgets/base",
            "_view_module_version": "1.2.0",
            "_view_name": "LayoutView",
            "align_content": null,
            "align_items": null,
            "align_self": null,
            "border": null,
            "bottom": null,
            "display": null,
            "flex": null,
            "flex_flow": null,
            "grid_area": null,
            "grid_auto_columns": null,
            "grid_auto_flow": null,
            "grid_auto_rows": null,
            "grid_column": null,
            "grid_gap": null,
            "grid_row": null,
            "grid_template_areas": null,
            "grid_template_columns": null,
            "grid_template_rows": null,
            "height": null,
            "justify_content": null,
            "justify_items": null,
            "left": null,
            "margin": null,
            "max_height": null,
            "max_width": null,
            "min_height": null,
            "min_width": null,
            "object_fit": null,
            "object_position": null,
            "order": null,
            "overflow": null,
            "overflow_x": null,
            "overflow_y": null,
            "padding": null,
            "right": null,
            "top": null,
            "visibility": "hidden",
            "width": null
          }
        },
        "1234df3ac700400a8baee756950ebeb2": {
          "model_module": "@jupyter-widgets/base",
          "model_name": "LayoutModel",
          "model_module_version": "1.2.0",
          "state": {
            "_model_module": "@jupyter-widgets/base",
            "_model_module_version": "1.2.0",
            "_model_name": "LayoutModel",
            "_view_count": null,
            "_view_module": "@jupyter-widgets/base",
            "_view_module_version": "1.2.0",
            "_view_name": "LayoutView",
            "align_content": null,
            "align_items": null,
            "align_self": null,
            "border": null,
            "bottom": null,
            "display": null,
            "flex": null,
            "flex_flow": null,
            "grid_area": null,
            "grid_auto_columns": null,
            "grid_auto_flow": null,
            "grid_auto_rows": null,
            "grid_column": null,
            "grid_gap": null,
            "grid_row": null,
            "grid_template_areas": null,
            "grid_template_columns": null,
            "grid_template_rows": null,
            "height": null,
            "justify_content": null,
            "justify_items": null,
            "left": null,
            "margin": null,
            "max_height": null,
            "max_width": null,
            "min_height": null,
            "min_width": null,
            "object_fit": null,
            "object_position": null,
            "order": null,
            "overflow": null,
            "overflow_x": null,
            "overflow_y": null,
            "padding": null,
            "right": null,
            "top": null,
            "visibility": null,
            "width": null
          }
        },
        "9a65d4d9241f4c368b8a8b2f8ceef98c": {
          "model_module": "@jupyter-widgets/controls",
          "model_name": "DescriptionStyleModel",
          "model_module_version": "1.5.0",
          "state": {
            "_model_module": "@jupyter-widgets/controls",
            "_model_module_version": "1.5.0",
            "_model_name": "DescriptionStyleModel",
            "_view_count": null,
            "_view_module": "@jupyter-widgets/base",
            "_view_module_version": "1.2.0",
            "_view_name": "StyleView",
            "description_width": ""
          }
        },
        "b6fe7e6f2e664d13905f2daa5ecc5ac1": {
          "model_module": "@jupyter-widgets/base",
          "model_name": "LayoutModel",
          "model_module_version": "1.2.0",
          "state": {
            "_model_module": "@jupyter-widgets/base",
            "_model_module_version": "1.2.0",
            "_model_name": "LayoutModel",
            "_view_count": null,
            "_view_module": "@jupyter-widgets/base",
            "_view_module_version": "1.2.0",
            "_view_name": "LayoutView",
            "align_content": null,
            "align_items": null,
            "align_self": null,
            "border": null,
            "bottom": null,
            "display": null,
            "flex": null,
            "flex_flow": null,
            "grid_area": null,
            "grid_auto_columns": null,
            "grid_auto_flow": null,
            "grid_auto_rows": null,
            "grid_column": null,
            "grid_gap": null,
            "grid_row": null,
            "grid_template_areas": null,
            "grid_template_columns": null,
            "grid_template_rows": null,
            "height": null,
            "justify_content": null,
            "justify_items": null,
            "left": null,
            "margin": null,
            "max_height": null,
            "max_width": null,
            "min_height": null,
            "min_width": null,
            "object_fit": null,
            "object_position": null,
            "order": null,
            "overflow": null,
            "overflow_x": null,
            "overflow_y": null,
            "padding": null,
            "right": null,
            "top": null,
            "visibility": null,
            "width": null
          }
        },
        "fbca13bfdd0c49348546a0d29c0c198c": {
          "model_module": "@jupyter-widgets/controls",
          "model_name": "ProgressStyleModel",
          "model_module_version": "1.5.0",
          "state": {
            "_model_module": "@jupyter-widgets/controls",
            "_model_module_version": "1.5.0",
            "_model_name": "ProgressStyleModel",
            "_view_count": null,
            "_view_module": "@jupyter-widgets/base",
            "_view_module_version": "1.2.0",
            "_view_name": "StyleView",
            "bar_color": null,
            "description_width": ""
          }
        },
        "433b80ae6fa5411cbb982d8912484626": {
          "model_module": "@jupyter-widgets/base",
          "model_name": "LayoutModel",
          "model_module_version": "1.2.0",
          "state": {
            "_model_module": "@jupyter-widgets/base",
            "_model_module_version": "1.2.0",
            "_model_name": "LayoutModel",
            "_view_count": null,
            "_view_module": "@jupyter-widgets/base",
            "_view_module_version": "1.2.0",
            "_view_name": "LayoutView",
            "align_content": null,
            "align_items": null,
            "align_self": null,
            "border": null,
            "bottom": null,
            "display": null,
            "flex": null,
            "flex_flow": null,
            "grid_area": null,
            "grid_auto_columns": null,
            "grid_auto_flow": null,
            "grid_auto_rows": null,
            "grid_column": null,
            "grid_gap": null,
            "grid_row": null,
            "grid_template_areas": null,
            "grid_template_columns": null,
            "grid_template_rows": null,
            "height": null,
            "justify_content": null,
            "justify_items": null,
            "left": null,
            "margin": null,
            "max_height": null,
            "max_width": null,
            "min_height": null,
            "min_width": null,
            "object_fit": null,
            "object_position": null,
            "order": null,
            "overflow": null,
            "overflow_x": null,
            "overflow_y": null,
            "padding": null,
            "right": null,
            "top": null,
            "visibility": null,
            "width": null
          }
        },
        "8680d5b69ba7456882641e3276590943": {
          "model_module": "@jupyter-widgets/controls",
          "model_name": "DescriptionStyleModel",
          "model_module_version": "1.5.0",
          "state": {
            "_model_module": "@jupyter-widgets/controls",
            "_model_module_version": "1.5.0",
            "_model_name": "DescriptionStyleModel",
            "_view_count": null,
            "_view_module": "@jupyter-widgets/base",
            "_view_module_version": "1.2.0",
            "_view_name": "StyleView",
            "description_width": ""
          }
        }
      }
    }
  },
  "nbformat": 4,
  "nbformat_minor": 0
}