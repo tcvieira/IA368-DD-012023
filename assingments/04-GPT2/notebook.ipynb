{
  "cells": [
    {
      "cell_type": "markdown",
      "metadata": {
        "id": "iTp7lUCWvXxE"
      },
      "source": [
        "# Hugging Face Causal Language Model\n",
        "\n",
        "fine-tuning of the [Facebook/opt-125](https://huggingface.co/facebook/opt-125m) model using an portuguese dataset [mc4-pt-sample-1g.txt](https://unicamp-dl/ia025a_2022s1/aula9/sample-1gb.txt) of 300 million tokens in its causal language modeling pre-training. The opt-125 model was originally trained on a english dataset of approximately 300 bil\\lion tokens.\n",
        "\n",
        "The task is to predict the next token in a sequence, like GPT and not like BERT\n",
        "\n",
        "[![google colab link](https://colab.research.google.com/assets/colab-badge.svg)](https://colab.research.google.com/github/tcvieira/IA368-DD-012023/blob/main/assingments/04/notebook.ipynb)"
      ]
    },
    {
      "cell_type": "markdown",
      "source": [
        "# Installs"
      ],
      "metadata": {
        "id": "FxtL-z4DOlLm"
      }
    },
    {
      "cell_type": "code",
      "source": [
        "!pip install transformers -q\n",
        "!pip install datasets -q\n",
        "!pip install ipython-autotime -q\n",
        "%load_ext autotime"
      ],
      "metadata": {
        "colab": {
          "base_uri": "https://localhost:8080/"
        },
        "id": "GR7NS7wUOkjP",
        "outputId": "dd5c4793-8ceb-4159-d68a-38e5b4d043c3"
      },
      "execution_count": 29,
      "outputs": [
        {
          "output_type": "stream",
          "name": "stdout",
          "text": [
            "The autotime extension is already loaded. To reload it, use:\n",
            "  %reload_ext autotime\n",
            "time: 12.5 s (started: 2023-03-30 02:44:26 +00:00)\n"
          ]
        }
      ]
    },
    {
      "cell_type": "code",
      "source": [
        "!pip install numba -q"
      ],
      "metadata": {
        "colab": {
          "base_uri": "https://localhost:8080/"
        },
        "id": "TLUD54Dg-79G",
        "outputId": "1f855423-69c3-4b6c-d5e0-ebf637ca3478"
      },
      "execution_count": 30,
      "outputs": [
        {
          "output_type": "stream",
          "name": "stdout",
          "text": [
            "time: 4.2 s (started: 2023-03-30 02:44:39 +00:00)\n"
          ]
        }
      ]
    },
    {
      "cell_type": "markdown",
      "source": [
        "# Imports"
      ],
      "metadata": {
        "id": "iQ1z2uJwtGUS"
      }
    },
    {
      "cell_type": "code",
      "source": [
        "from datasets import load_dataset, DatasetDict\n",
        "from transformers import (\n",
        "    AutoTokenizer,\n",
        "    AutoModelForCausalLM,\n",
        "    DataCollatorForLanguageModeling,\n",
        "    Trainer,\n",
        "    TrainingArguments,\n",
        "    AutoConfig\n",
        ")\n",
        "import torch\n",
        "\n",
        "device = torch.device('cuda' if torch.cuda.is_available() else 'cpu')\n",
        "device"
      ],
      "metadata": {
        "colab": {
          "base_uri": "https://localhost:8080/"
        },
        "id": "qFljHbultHia",
        "outputId": "e37e7ed6-5f25-4999-a9dc-e7efc81c5086"
      },
      "execution_count": 31,
      "outputs": [
        {
          "output_type": "execute_result",
          "data": {
            "text/plain": [
              "device(type='cuda')"
            ]
          },
          "metadata": {},
          "execution_count": 31
        },
        {
          "output_type": "stream",
          "name": "stdout",
          "text": [
            "time: 3.38 ms (started: 2023-03-30 02:44:43 +00:00)\n"
          ]
        }
      ]
    },
    {
      "cell_type": "markdown",
      "metadata": {
        "id": "Fv8Y9pDUzriX"
      },
      "source": [
        "# Dataset"
      ]
    },
    {
      "cell_type": "code",
      "source": [
        "from google.colab import drive\n",
        "drive.mount('/content/drive', force_remount=True)"
      ],
      "metadata": {
        "colab": {
          "base_uri": "https://localhost:8080/"
        },
        "id": "zy064E4bO5V5",
        "outputId": "456cfa99-7f93-429d-9b03-c7d26787e8bc"
      },
      "execution_count": 32,
      "outputs": [
        {
          "output_type": "stream",
          "name": "stdout",
          "text": [
            "Mounted at /content/drive\n",
            "time: 5.14 s (started: 2023-03-30 02:44:43 +00:00)\n"
          ]
        }
      ]
    },
    {
      "cell_type": "code",
      "source": [
        "PATH_DATASET = '/content/drive/MyDrive/unicamp/IA368DD/class_4'"
      ],
      "metadata": {
        "colab": {
          "base_uri": "https://localhost:8080/"
        },
        "id": "ejSZ8wsKQyp3",
        "outputId": "a6377b5a-9090-4769-e3f2-1b0af403e5b0"
      },
      "execution_count": 33,
      "outputs": [
        {
          "output_type": "stream",
          "name": "stdout",
          "text": [
            "time: 410 µs (started: 2023-03-30 02:44:48 +00:00)\n"
          ]
        }
      ]
    },
    {
      "cell_type": "code",
      "source": [
        "#!gsutil cp gs://unicamp-dl/ia025a_2022s1/aula9/sample-1gb.txt {PATH_DATASET}/sample-1gb.txt"
      ],
      "metadata": {
        "colab": {
          "base_uri": "https://localhost:8080/"
        },
        "id": "T_AOOtmSRbPQ",
        "outputId": "57c51b3b-4bb5-4324-c451-34cd9d05f98c"
      },
      "execution_count": 34,
      "outputs": [
        {
          "output_type": "stream",
          "name": "stdout",
          "text": [
            "time: 241 µs (started: 2023-03-30 02:44:48 +00:00)\n"
          ]
        }
      ]
    },
    {
      "cell_type": "code",
      "source": [
        "!head {PATH_DATASET}/sample-1gb.txt"
      ],
      "metadata": {
        "colab": {
          "base_uri": "https://localhost:8080/"
        },
        "id": "rlKzW9mxR3Ak",
        "outputId": "365f8e10-e65d-4c98-fdf0-dff5000bfff7"
      },
      "execution_count": 35,
      "outputs": [
        {
          "output_type": "stream",
          "name": "stdout",
          "text": [
            "Linkbar Há alguns anos, o número de rapazes e moças que subiam ao púlpito para pregar era maior que o de hoje. Na sua simplicidade, falavam do amor de Deus, da Salvação e davam testemunho sob a unção do Espirito Santo. Hoje, parece que a figura do \"preletor oficial\" inibiu muitos de falarem com ousadia a Palavra de Deus. Parece que há um receio de falar diante de um público que, certamente, é mais intelectualizado que há alguns anos. Jovens pregadores ficam embaraçados e cometem certos deslizes, que poderiam ser evitados. Neste modesto trabalho, vamos dar apenas algumas sugestões, e não um estudo sobre a Homilética (Arte de Falar em Publico). I -O QUE PREGAR? É a comunicação verbal da Palavra de Deus aos ouvintes. É a transmissão do evangelho de Nosso Senhor Jesus Cristo às pessoas que precisam ouvi-lo. II- QUAL A FINALIDADE DA PREGAÇÃO? É persuadir as pessoas a aceitarem a mensagem da Palavra de Deus para sua salvação (descrentes) ou para seu crescimento espiritual (crentes). Diante disso, o pregador precisa saber para quem esta falando: Para crentes ou para descrentes? III- QUE DEVE CONTER A PREGAÇÃO? Três coisas são básicas: 1. OBJETIVIDADE. Refere-se ao alvo a atingir. Se pregamos para descrentes, desejamos que eles entendam que precisam crer em Jesus para ser salvos. Devemos orar muito, antes de pregar, para que o Espirito Santo convença as pessoas do seu pecado. Se isso acontecer, a pregação alcança seu alvo. O centro da pregação deve ser Cristo e não o pregador, como acontece em certas cruzadas ou movimentos evangelísticos. Há pregadores que se perdem no púlpito. Começam a falar do amor de Deus, e passam a divagar sobre o Apocalipse, vão até Gênesis, aos profetas e, ao final, não sabem como sair do emaranhado de palavras. É preciso ter objetividade. 2. TRANSMISSÃO. O pregador deve procurar transmitir a mensagem de Deus às pessoas. Paulo disse: \"Porque eu recebi do Senhor o que também vos ensinei...\" O mensageiro deve receber a mensagem de Deus e transmiti-la aos homens. Não deve ficar inventando mensagens, terias, filosofias para mostrar conhecimentos. 3. CONVICÇÃO. O pregador deve transmitir aquilo de que tem convicção, para que a mensagem seja aceita. Tem que viver aquilo que prega. IV - A BASE DA PREGAÇÃO (ou do sermão) 1. A PALAVRA DE DEUS A base da pregação deve ser a Palavra de Deus, a Bíblia Sagrada. Podemos dizer, em outras palavras que a base da pregação deve ser o TEXTO BÍBLICO . Ilustrações podem ser aproveitadas, desde que Que se relacionem com o tema da mensagem , mas não podem tomar o lugar da Palavra de Deus. Ouvimos um pregador que, não tendo êxito em \"abalar\" os ouvintes, apelou para uma história fantasiosa e tomou 80% do tempo destinado à mensagem. 2. QUE TEXTO ESCOLHER? O Pr. Elienai Cabral sugere (em resumo) 8 (oito) características para um bom tema a ser escolhido )p. 50-51). 3) Textos objetivos: que atendam às necessidades espirituais das pessoas (Com oração e unção). 4) Textos sobre os quais não haja dificuldade para a interpretação (hermenêutica). 5) Textos dentro dos limites de capacidade do pregador. 6) Textos que expressem o tema da pregação para não fugir ao objetivo. 7) Texto que desperte interesse (Com oração, o Espírito mostra o que deve ser pregado). 8) Textos cuja seqüência seja de fácil acompanhamento pelo pregador e pelo auditório. V - A ESTRUTURA DA PREGAÇÃO ( Do sermão) Toda pregação com esboço ou não, deve ser dividida, basicamente, em duas partes: 1. INTRODUÇÃO. É a parte inicial da mensagem, pela qual o pregador entra em contato com o auditório. Visa despertar o interesse pela pregação; \"prepara a mente dos ouvintes , para que possam compreender o assunto do sermão e as idéias a serem desenvolvidas...\" (Key, p. 31). Uma boa introdução deve ser BREVE, SIMPLES, INTERESSANTE E APROPRIADA. (Cabral, p. 66) Conhecemos um grande pregador que gasta 30 ou 40 minutos na introdução. Isso cansa, principalmente os descrentes. A introdução não deve ir além de 10 ou 15% do tempo da mensagem. (Normalmente, o pregador sabe de quanto tempo dispõe, exceto em casos especiais). 2. CORPO (ou desenvolvimento) DA MENSAGEM (Do sermão). É a parte mais importante da mensagem. Ela deve conter a seqüência das idéias a serem apresentadas. No corpo do sermão ou da mensagem , podemos ter: 1) Ordem ou divisões (1º , 2º, 3º , etc.); 2) Transição de um pensamento para outro. As divisões devem ser de acordo com os objetivos mensagem; devem-se evitar \" excesso de floreios\", \"rodeios\", ou \"conversa fiada\". O povo percebe. 3.CONCLUSÃO. É o auge da pregação. O seu clímax. Nela, o pregador faz a aplicação do que pregou no corpo do sermão. Nesse momento, o pregador e o auditório, pelo poder do Espirito Santo, devem chegar à conclusão de que a mensagem atingiu seu objetivo. Sem uma boa conclusão, o que foi dito pode perder o brilho. Uma conclusão pode ser feita através de: 1) Recapitulação. O pregador deve rever o que pregou, em resumo ou tópicos, evidenciando pensamentos-chave , pontos fortes da mensagem (Cabral, p. 70). 2) Narração. O pregador pode valer-se de um fato, uma rápida ilustração para comover o auditório, levando o descrente a uma decisão, na unção do Espírito Santo. 3) Persuasão . É a parte mais difícil da conclusão. Depende muito mais do Espírito Santo do que do pregador. Por isso, toda mensagem deve ter a unção do Espírito Santo. Para tanto, o pregador precisa orar muito, e até jejuar, diante de Deus, para que a mensagem atinja seu alvo. 4) Convite. Toda pregação deve terminar com um convite ou apelo, seja para pecadores, seja para a igreja. Um convite na unção do Espírito tem maravilhoso efeito no coração das pessoas. De acordo com Braga (p. 211-212), a conclusão deve ser breve e simples, e com palavras adequadas. Um certo jovem pregou numa igreja. Ao fazer o apelo, não vendo ninguém atender, passou a contar que alguém ganhou um grande prêmio porque deu uma grande oferta para a Obra. Desviou totalmente o alvo da mensagem. VI - TIPOS DE SERMÕES 1. SERMÃO TEMÁTICO (Ou Tópico). É aquele \"cujas divisões principais derivam do tema, independentemente do (Braga, p.17). É aquele em que as divisões principais do derivadas de um TEXTO constituído de UMA BREVE PORÇÃO DA BÍBLIA ( Braga, p. 30). Exemplo: Titulo: \"O Único Caminho Para Deus\" (Jo 14.6). 1) Através de Jesus, o único caminho. 2) Através de Jesus, a verdade. 3)Através de Jesus, a vida. 3. SERMÃO EXPOSITIVO É aquele em que as divisões baseiam-se numa porção mais extensa (texto) da Bíblia, não abrangendo \"um só versículo, mas uma passagem, um capítulo, vários capítulos, ou mesmo um livro inteiro\" (Cabral, p. 78). Nele , é mostrada (exposta) uma verdade contida num texto bíblico. Exige tempo, estudo e conhecimento bíblico. É o que caracteriza uma pessoa e a torna diferente de outra. \"É tudo quanto o indivíduo é\". Na pregação, o pregador demonstra que tem personalidade, quando se expressa, falando ou gesticulando, de acordo com aquilo que ele é e não imitando outras pessoas. De vez em quando, percebe-se pregadores , imitando evangelistas famosos, dando gritos, pulando e correndo no púlpito, torcendo o pescoço, ajeitando a gravata, falando rouco ou estridente. Isso é falta de personalidade. É querer ser ator, imitador e não um instrumento nas mãos do Espírito Santo. É o sentimento de devoção e amor pelos outros e pelas coisas de Deus. O pregador deve sentir pelo Espírito as necessidades do auditório, principalmente dos pecadores. (1 Tm 4.8; Hb 12.28). 2) Devoção É o sentimento religioso, de dedicação às práticas ensinadas na Palavra de Deus. Na devoção, o pregador busca inspirar-se na ORAÇÃO, na LEITURA DA BÍBLIA, e no LOUVAR A DEUS. Temos visto verdadeiros profissionais da pregação, técnicos, que sabem pregar, mas não sabem orar; sabem gritar, mas não sabem amar as almas. Pregam por interesse, por torpe ganância. Que os jovens pregadores (e os antigos) não entrem por esse caminho. Conta-se que Moody, o grande evangelista, orava uma hora para pregar cinco minutos. Enquanto isso, temos pregadores que oram cinco minutos para pregarem uma hora! 3) Sinceridade Reflete a verdade contida na própria alma. O pregador deve pregar aquilo que vive e viver aquilo que prega (Tg 2.12). Um jovem, dirigente de Mocidade, pregava bem. O povo se alegrava. Mas, um dia, uma jovem descrente procurou a direção da igreja para dizer que estava grávida dele e, o pior, o jovem não assumiu a paternidade. Por fim, confessou o pecado, foi excluído, e contribuiu para uma alma descrer do evangelho. 4) Humildade \"Nenhum pregador pode subir ao púlpito sem antes ter descido, pela oração, os degraus da humildade. Na oração, o egoísmo se quebranta. O medo se desfaz, e a certeza da vitória aparece clara como a luz do sol ao meio-dia\" (Cabral, p. 43). (Ler Pv 15.33). Um jovem vivia criticando quem ia pregar, dizendo que, se fosse ele, pregaria muito melhor. Um dia, o pastor deu oportunidade ao moço para pregar. Ele subiu ao púlpito, orgulhoso, sorridente. Tentou achar um texto na Bíblia, de um lado para outro, e nada. Suou, pediu desculpa, e desceu cabisbaixo. Sentou noutro lugar, junto a um irmão experiente, que, percebendo sua tristeza, disse: \"Moço, se você tivesse subido como desceu (humilde), teria descido como subiu (alegre)\". E uma grande lição para todo pregador. 5) Poder O pregador (jovem ou não) precisa do Poder de Deus. S. Paulo disse que não pregava sabedoria humana, mas com poder (1 Co 1.4-5). É preciso ter unção e graça para pregar. Do contrário, ocupa-se o púlpito e o tempo para dizer coisas inoportunas. E melhor um sermão fora da Homilética, mas na unção de Deus, do que dentro da técnica, e sem poder. Isso só se consegue com oração, jejum, leitura bíblica, e vida consagrada. Não se obtém num curso de Homilética. Um mosaico com inscrições em hebraico contando a histórica bíblica de Sansão foi encontrado na Galiléia (Israel), nas ruínas de uma sinagoga do século 4 a.C. A escavação foi conduzida pelo Dr. Jodi Magnees, da North Carolina University (EUA), em parceria com arqueólogos da Israel Antiquities Authority (Autoridade de Antiguidades de Israel). A descoberta ocorreu perto do kibbutz Hokuk, local que várias fontes talmúdicas se referem como sendo a Hokuk histórica, onde rabinos se reuniam para escrever o Talmude (livro sagrado dos judeus). Um livro do rabino mediveal Ashtori Ishtori, do século XIV, faz referência a uma sinagoga na mesma área onde as descobertas foram feitas. Segundo o dr. David Amit, da Autoridade de Antiguidades de Israel, o mosaico \"contém uma descrição do Sansão bíblico e dois pares de raposas com uma tocha flamejante ligando suas caudas\", como descrito nas obras de Sansão no Livro dos Juízes.Read more... \"Não dizeis vós: Ainda há quatro meses até que venha a ceifa? Ora eu vos digo: Levantai os vossos olhos, e vede os campos, que já estão brancos para a ceifa. Quem ceifa já está recebendo recompensa e ajuntando fruto para a vida eterna; para que o que semeia e o que ceifa juntamente se regozijem\" João 4:35,36. Logo após se encontrar com a mulher samaritana e ela ter saído para evangelizar sua cidade, Jesus se encontra com os seus discípulos e estes insistem para que ele coma a comida que eles trouxeram da cidade. Jesus se recusa a comer e passa a ensinar-lhes verdades espirituais sobre o tempo da colheita de Deus. (as vezes precisamos recusar algumas comidas, mesmo que pareçam muito boas e tenham sido trazidas a nós por pessoas com as melhores intenções). Calendários diferentesJesus disse: No calendário de vocês, ainda faltam quatro meses para a colheita, no calendário de Deus, o tempo é agora. É possível que a nossa forma de ver as coisas possa estar diferente da de Deus. Temos discernido que este é um tempo de colheita, mas alguns talvez estejam pensando: Falta muito tempo, não se preocupe, não esquenta a cabeça, temos outras prioridades. Queridos, este é o tempo de Deus para colheita! Com mais ou menos tempo de igreja, com muito preparo ou pouco, com situações pessoais todas resolvidas ou ainda algumas dificuldades para resolver, este é um tempo de colheita e todos poderão participar. A mulher samaritana tinha muitas dificuldades ainda, mas isso não impediu que ela largasse o cântaro e fosse colher vidas para Jesus. Olhos voltados para as coisas terrenasJesus disse: \"Levantai os vossos olhos\", olhos que precisam ser levantados, são olhos que não estão focados onde deveriam estar. Olhos tem relação com o coração. Onde o meu coração está? Nas coisas que desejo? no meu estilo de vida que não pode ser mudado? Nos meus conceitos que são perfeitos e indiscutíveis? Nas coisas terrenas? A recomendação de Jesus é que os nossos olhos estejam nos campos do Senhor, mas somente quem ergue os olhos para olhar firmemente para Jesus é que pode ver e discernir o tempo e perceber que uma grande colheita já está preparada. Mas se o nosso calendário (propósitos e desejos do coração) não estiver alinhado com o do Senhor, nada acontecerá. Nem em sua vida, nem na vida dos que precisam ser alcançados.Semeadura e colheita, só se realizam quando arde no coração o desejo de plantar e colher, quando os olhos do coração estão focalizados no propósito de Deus. Fazendo a coisa certa no lugar certoA ordem de Jesus é semear e colher, não adianta dizer: Senhor, eu trabalho na fazenda, mas só quero cuidar do gado. Em nossa igreja, plantamos e colhemos principalmente através dos grupos familiares, é por isso que líderes não devem somente administrar o grupo ou simplesmente cuidar, mas pastorear e investir plantando coisas do reino de Deus na vida dos seus liderados. O grupo é o celeiro e lugar de treinamento para novos ceifeiros. É o lugar onde recebemos diversos tipos de sementes diferentes ( fé, amor, autoridade, unidade...), traçamos as estratégias apropriadas para plantarmos na vidas das pessoas as coisas do reino de Deus, é onde consideramos a forma de plantio, os adubos a irrigação, os cuidados com as ervas daninhas, é lugar de preparo e encaminhamento (encontro, café com leite puro, discipulado, curso preparatório, veredas, diaconato, treinamento de líderes....) deve haver unidade de propósito e de visão entre os ceifeiros, do contrário a colheita não acontece. Alcançando o resultado finalSemear e colher não acontece por acaso. É necessário um processo. O processo realizado corretamente é o que nos permite chegar ao resultado final. No grupo familiar devemos agir como garimpeiros procurando as pedras preciosas. Primeiro o garimpeiro sonda o terreno, analisa as barrancas do rio, as suas areias, o seu aspecto. Na esperança de que algo de muito valor possa sair dali, ele monta o acampamento (decide investir o seu tempo naquele lugar). Então, entra na água e começa o processo de procura ( pode ser longo). É um processo sistemático mas que deve ser feito com toda atenção ( no descuido podemos perder pedras preciosas). Ele está disposto a enfrentar as dificuldades (friagem no corpo pelo contato com a água fria, dor nas costas, sol na cabeça, picadas de inseto...) desconforto é um preço a ser pago. Mas eis que as pedras começam a surgir na bateia. Hoje uma, daqui a dois meses, duas, depois outras e ele vai encontrando seu tesouro (vidas). Geralmente saem da areia e do barro sujas, sem forma bonita e sem brilho. Mas, logo em seguida começa a fase de lavagem e formação (encontro, libertação, curso preparatório...) e depois a lapidação e polimento (pressões e experiências com Deus). Destino final: Ser parte de uma jóia com muitas outras pedras que refletem a luz da glória de Deus. O local do seu grupo familiar é o canto do riacho que o Senhor te deu para garimpar, as pedras são pessoas esperando para serem alcançadas. Peça a Deus sabedoria, força, direção e entusiasmo para cumprir o propósito. O papa Bento XVI iliba totalmente o povo judeu da morte de Jesus Cristo, um dos assuntos mais controversos do cristianismo, num novo livro de que foram hoje publicados. No livro, intitulado \"Jesus de Nazaré\", Bento XVI recorre a uma análise bíblica e teológica para explicar por que não é verdade que o povo judeu no seu conjunto seja responsável pela morte de Jesus. Embora o Vaticano sustente há cinco décadas que os judeus não foram coletivamente responsáveis, académicos judeus ouvidos pela agência noticiosa norte-americana AP consideraram que o argumento agora exposto pelo papa é significativo e vai contribuir para combater o antissemitismo. \"Há uma tendência humana natural para aceitar as coisas como verdadeiras e muitas vezes isto leva a erros de perceção\" quanto aos riscos de antissemitismo, considerou o rabi David Rosen, responsável para os assuntos inter-religiosos do comité judaico americano que há vários anos lidera o diálogo entre as duas religiões. Segundo Rosen, o Vaticano divulgou em 1965 a sua nota mais autorizada sobre o assunto, \"Nostra Aetate\", nota que revolucionou as relações da Igreja Católica com o judaísmo ao afirmar que a morte de Cristo não pode ser atribuída ao povo judeu nem na altura nem atualmente. Para o rabi, as palavras de Bento XVI podem representar um marco mais importante e duradouro na medida em que os crentes tendem a ler mais as escrituras e artigos ou livros do que os documentos da Igreja, especialmente os mais antigos. Este é o segundo volume de \"Jesus de Nazaré\" de Bento XVI lançado em 2007, o primeiro livro que lançou como papa, sobre os primeiros anos da vida e dos ensinamentos de Jesus Cristo. Este segundo volume, com lançamento previsto para 10 de março, é sobre a segunda parte da vida de Cristo. Quatro cristãos foram presos em Laos por serem surpreendidos pela polícia enquanto tentavam explicar a Bíblia para um homem. Dois deles eram cidadãos tailandeses. O caso aconteceu na aldeia de Luang Namtha na segunda quinzena do mês de junho e só foi divulgado dias depois por agências internacionais. Os relatos afirmam que supostamente um ex-policial ficou chocado por ver esses homens citando a Bíblia e resolveu denunciar. Os presos estavam dentro de uma casa fazendo visitas e falando sobre o Livro Sagrado para o morador. \"Quando a polícia chegou eles procuraram e acharam entre os pertences desses cristãos discos de história da Bíblia e um livro de figuras em preto e branco. A medida da polícia foi tomar os passaportes de todos eles\", disse Prasertsee que é diretor da ONG HRWLRF que defende dos direitos humanos. \"De noite a polícia voltou para prendê-los e os transportaram para a prisão\", continuou Prasertsee. \"Todos os pertences, inclusive dinheiro, fones e coisas pessoas foram confiscados\", denuncia.As famílias estão preocupadas com os prisioneiros, dois dos tailandeses tiveram os nomes divulgados: Phanthakorn, de 40 anos, e Wiwardamrong, de 54. A preocupação se dá pelo fato de que em Laos os prisioneiros não recebem alimento, é a família deles quem fornecem comida. \"As famílias estão se esforçando para ter contato com os presos, mas as autoridades de Laos tem dificultado essa relação\", afirma o direto da HRWLRF. hebraico TRANSLITERAÇÃO DO GREGO É possível fazer a transliteração de qualquer palavra constituída pelo alfabeto grego para o latino e vice-versa. ARQUEOLOGIA E TEOLOGIA pastor paulo Mestrado em Ciências da Religião; Bacharel em Teologia; Psicologia Pastoral; Doutor em Teologia, Doutor Honoris causa em Teologia Sistemática; Psicanálise Clinica com Mestrado em Psicanalise;É bacharel em linguística e hebraico e mestre em hebraico. Professor da área bíblica e de hebraico do Seminário, em São Paulo.\n",
            "Comissão de Construção da Nova Sede GOB. A Comissão de Construção da Nova Sede do Grande Oriente do Brasil - Minas Gerais disponibiliza esta área para que os IIr.'. Maçons, devidamente regularizados, possam acompanhar todo o processo de construção da nova sede do GOB-MG; inclusive esclarecendo possíveis dúvidas que possam existir. Acesse a página da SMI - Sociedade Maçônica de Investimentos S/A e vejam todo conteúdo.\n",
            "06/12/2011 MPT realiza audiência pública e alerta para aumento de acidentes na construção civil 180°.com/PI A construção civil passa por um \"boom\" na cidade de Picos, especialmente na iniciativa privada. Motivado pela necessidade de debater as normas de segurança para os funcionários da construção civil, o Ministério Público do Trabalho do Piauí promoveu na tarde desta sexta-feira (02) uma audiência pública na Câmara Municipal. Além de explanar sobre as normas de segurança a serem seguidas pelos trabalhadores, os procuradores do MPT também alertaram para o aumento de acidentes registrados na construção civil local. \"Agente observa, aqui, que a maioria das obras não se segue as normas mínimas de segurança do trabalho, especialmente a Norma Regulamentada N° 18, que é a norma do Ministério do Trabalho para a construção civil, e o que observamos é um crescente número de acidentes de trabalho e exposição de risco a vida dos trabalhadores\", explicou o procurador do Ministério Público do Trabalho, Carlos Henrique Pereira Leite. Dentre as irregularidades mais graves e constatadas com mais freqüência pelo MPT, estão: trabalho em altura sem proteção e trabalho com instalação elétrica. \"Em que trabalham pessoas não qualificadas e sem a utilização dos equipamentos de proteção individual e coletiva\", informou. Carlos Henrique alerta que o dono de uma obra pode ser responsabilizado caso ocorra um acidente de trabalho. Ele informou que as denúncias ainda são subnotificadas, devido em parte a ausência de um sindicato que lute pelos direitos dos trabalhadores da construção civil em Picos. \"É oportuno lembrar que não há sindicato da construção civil na cidade de Picos\", declarou. A chefe de fiscalização da Superintendência Regional do Trabalho, Soraya Lima declarou que há empenho por parte da Superintendência, mas que esse é um momento de \"boom\" da construção civil em que há um grande número de obras e o consequente aumento das contratações. \"Temos de reconhecer que ainda falta muito para atingir o ideal na construção civil\", declarou. A audiência pública era voltada para os trabalhadores da construção civil e também para os empregadores, oportunidade em que as normas e leis foram explicadas, mas infelizmente a audiência registrou um comparecimento reduzido de pessoas.\n",
            "Usando como exemplo um pneu com código \"P175/70 R14 86V\" já sabemos que é para um veículo de passeio, pois começou com a letra P. Já o código 175/70 é o tamanho do pneu: o número 175 significa a largura de rodagem, medida em milímetros; já o 70 é a altura do pneu, indicando que tem 70% da largura de rodagem – nesse caso 122,5mm. A letra R que vem em seguida significa que o pneu é radial, ou seja, tem uma malha de aço com vergalhões paralelos e transversais. Esses pneus operam sem câmara. O número 14 indicado no código do pneu indica o raio da roda: dependendo do seu veículo, mesmo sendo de passeio, o raio da roda pode ser modificado. Se desejar alterá-lo por qualquer motivo, terá que trocar as rodas também. Por fim, o número 86 significa o índice da carga do pneu, ou seja, ele diz o quanto de peso o pneu aguenta.Aqui, um pneu 86 suporta 530 kgs; como são usados quatro deles num automóvel, ele suporta 2.120 kgs – um peso de carro popular. Existem sites de venda de pneus online que fornecem os tamanhos ideais de aros de pneus conforme a marca do seu carro. Como Cuidar dos Pneus do seu Carro Para que os seus pneus durem mais, é importante mantê-los calibrados no nível correto informado no manual do proprietário, assim como fazer o alinhamento e balanceamento periodicamente. A calibragem deve acontecer a cada 15 dias. Tente memorizar o nível de calibragem para facilitar esse processo. O modo de dirigir também conta: evite aceleradas e freadas bruscas. Vá com calma. Dicas para a Hora de Trocar os Pneus Desgastados Mesmo tomando esses cuidados necessários, eventualmente chega o momento da troca dos pneus por simples desgaste. Uma dica para reduzir o impacto no orçamento é trocá-los aos poucos: compre apenas dois e posteriormente substitua os outros dois. Lembre-se de que o eixo traseiro tem a preferência dos pneus novos. Aproveite e coloque bicos e válvulas novos também. Inovação: Pneus Verdes Recentemente a marca de pneus Pirelli lançou no mercado os chamados \"pneus verdes\". Eles contam com a tecnologia Novateck, desenvolvida especialmente para sua própria reconstrução. Ou seja, ao adquirir o produto, o consumidor, através de reformadores credenciados pela empresa, pode reformar o seu pneu quando desgastes ocorrerem. A marca oferece a mesma qualidade do produto original e garantia de fábrica até a terceira reforma do seu pneu. É um diferencial que a empresa buscar perante os seus clientes e uma forma sustentável de contribuir com o meio ambiente.\n",
            "Utiliza-se quando a ação não ocorre por intervenção deliberada de um agente, mas acidentalmente. Usa-se se + pronome átono + verbo na 3ª pessoa (concordando com o substantivo). ¡Cuidado! ¡El perro se te está escapando! (Cuidado! O cachorro está escapando!) Se me rompió la taza. (A xícara quebrou.) Se nos cayeron los relojes. (Os relógios caíram.) FORMAS ÁTONAS: lo / la / los / las Empregam-se sempre como complemento direto, ou seja, substituindo objetos diretos. 1) Llama un taxi, por favor. (Chama um táxi, por favor.) Llámalo, por favor. (Chama-o, por favor.) 2) Visitaré a mi familia en mis vacaciones. (Visitarei minha família em minhas férias.) La visitaré en mis vacaciones. (Eu a visitarei em minhas férias.) 3) ¿Has encontrado a tus amigos? (Encontraste teus amigos?) No, los estoy buscando. (Não, estou procurando-os.) Atenção! Diferentemente do português, em espanhol os objetos diretos de pessoa ou coisa/animal personificado aparecem precedidos da preposição a. Repare nos exemplos dados acima: os objetos diretos precedidos da preposição a (segundo e terceiro exemplo) são objetos de pessoa, enquanto que o objeto direto não preposicionado (primeiro exemplo) refere-se à coisa não personificada.\n",
            "ATUAÇÃO CINEPASS Uma equipe de alemães está por trás deste novo mercado de vendas de ingressos de cinema. Eles planejam ocupar os 83% de assentos não utilizados nas extremidades traseiras das salas de cinema. Por meio do website, oferecem ofertas exclusivas e preços acessíveis de ingressos e combo de alimentos. Home Página do Filme Página com dados técnicos do filme como Descrição, Duração, Gênero e Elenco. Além das informações sobre o filme, o cliente realiza um filtro de salas de cinema por cidade. Página Promocional Filmes promocionais de determinada sala de cinema. Combos Promocionais O cliente escolhe o combo promocional para determinado filme com data e hora agendada.\n",
            "Agentes de saúde fazem manifestação por melhores condições de trabalho Os agentes de endemias e agentes comunitários da saúde se reuniram hoje pela manhã (17) em uma manifestação na porta da prefeitura reivindicando melhores condições de trabalho. Segundo os representantes do Sindicato dos trabalhadores do Sistema único de Saúde no Estado de Goiás (Sindisaúde) os funcionários cobram melhores salários, além de outros benefícios como vale transporte, equipamentos de proteção individual e uniformes. O sindicato tentou por várias vezes se reunirem com a ex-secretaria de saúde e o prefeito, mas as tentativas não chegaram a lugar algum, o que causou a manifestação. O movimento que começou na porta da prefeitura se estendeu em uma passeata até a Secretária de Saúde, onde estava sendo empossado o novo secretario municipal de saúde. De acordo com Orlando Pedro, um dos cabeça da manifestação, o salário de um agente de endemias é de R$ 779,00, considerado baixo quando relacionado as despesas que cada um tem. \"Tem gente que trabalha em Goiânia e tem que tirar o vale transporte do próprio bolso. Quem fica em áreas mais longes e tem moto, ou carro, também tira do salário para fazer o seu serviço\". Fato este confirmado por uma agente de endemia que diz retirar todo mês do salário mais de R$ 100 só para cumprir sua rota de trabalho. A ex-secretária de saúde, Sônia Maria Martins, disse em uma entrevista de que os funcionários da saúde \"trabalhavam no céu\" e justificou dizendo que até o protetor solar era um dos melhores. Já os agentes discordam da declaração e alegam que poucos recebem o protetor solar, e que o filtro não é o essencial, e trabalham com os mesmos uniformes distribuídos há mais de dois anos. Leocides José Souza, diretor do interior e regional do SindiSaúde, disse que a categoria precisa lutar por um plano de carreira no município e que há uma portaria do Ministério da Saúde que o repasse para os agentes comunitários seria de R$ 950,00 , sendo a diferença entre o salário base e a portaria (algo em torno de R$200) investidos na melhoria de condições dos trabalhadores ou em repasse financeiro como complemento salarial, porém nenhum dos dois é feito na cidade. \"A única coisa que eles dizem ter feito com este valor é comprar algumas bicicletas para os agentes e que todo mês há a manutenção, mas isso não basta. Se há investimentos, prove através de notas que uma melhoria tem sido buscada\", completou o diretor. O prefeito tentou conversar com os agentes antes da manifestação, mas os representantes do sindicato não fariam parte da reunião, o que foi negado. Já no final da passeata, que percorreu as ruas dizendo \"saúde na rua, prefeito a culpa é sua\", Miller Assis conversou com os agentes e disse que tem feito o que a lei permite e o limite do possível para dar condições aos trabalhadores. Ele pediu que as reinvindicações fossem entregues ao novo secretário de saúde, Dirley Côrrea, e que em um prazo breve novas reuniões seriam marcadas. O prefeito disse que o salário dos agentes foi reajustado neste ano, assim como manda a lei e que em um consenso com Conselho Municipal de Saúde decidiu cortas as gratificações recebidas por alguns funcionários, por entender que deve haver isonomia entre os agentes. Em relação aos protetores solares Miller disse que este material já foi comprado, mas não disse quando seria entregue, e que os uniformes estão em fase de licitação. A diretora financeira do Sindisaúde se prontificou a acompanhar as negociações do município e que há outras cidades com menor arrecadação que já pagam o piso salarial de R$ 930,00. Galeria do post Comentários0Comentar!Este artigo ainda não possue comentários. Seja o primeiro a comentar!\n",
            "O governo da província de Misiones, na Argentina, já investiu R$ 13,5 milhões para revitalizar a orla de Puerto Iguazú, às margens do Rio Iguaçu: iniciativa serve de inspiração para o projeto Beira FozFronteira Proposta quer urbanizar orla de Foz Projeto Beira Foz prevê instalação de parques, restaurantes, avenidas e hotéis nas margens do rios Paraná e Iguaçu para combater a criminalidade Exemplo \"Costanera\" trouxe paz e progresso na margem argentina A ocupação das margens dos rios para reduzir a criminalidade e proporcionar bem-estar aos moradores já é uma realidade na Argentina. Em Puerto Iguazú, cidade vizinha a Foz do Iguaçu, o governo da província de Misiones investiu R$ 13,5 milhões para remodelar a orla do rio. A \"costanera\" argentina, como é chamada pelos brasileiros, tem restaurantes, parques, pistas de caminhada e internet gratuita. Omar Rodriguez, diretor de Turismo em Puerto Iguazú, diz que, antes de a orla ser revitalizada, o contrabando de mercadorias do Paraguai via Rio Iguaçu era intenso. \"Agora é paz. A costanera trouxe paz e progresso\", afirma. A orla de Puerto Iguazú é bem menor se comparada à brasileira – são três quilômetros – e a primeira etapa das obras, no trecho de 1.500 metros, está praticamente pronta. Os argentinos aguardam a finalização da construção de restaurantes e bares, um deles já confirmado é o Hard Rock Café em um local cedido pela prefeitura em sistema de concessão pública. Nova etapa Rodriguez adianta que uma segunda etapa da obra está prevista com a ocupação das margens do Rio Iguaçu até a entrada do parque nacional. Entre esses dois pontos já existe uma área de 600 hectares onde está sendo construído um conjunto de hotéis, entre eles, um da rede Hilton. Alguns deles, situados em meio à floresta, já funcionam. A cidade de Posadas, capital de Misiones, tem uma orla exemplar. Situada na fronteira com Encarnación, no Paraguai, a cidade, às margens do Rio Paraná, tem uma extensa orla, com praia artificial, calçadão e restaurantes. Urbanização Novas avenidas aproximam comunidade de rios Um dos aspectos mais importantes do projeto Beira Foz é a reintegração dos moradores à orla. \"Em todo lugar do mundo o rio é o elemento principal para uma cidade, e aqui é o problema. Mas agora vamos resgatar esse potencial\", diz o engenheiro Fábio Prado, representante do Conselho Consultivo da Associação Comercial e Industrial de Foz do Iguaçu (Acifi) e da União Dinâmica de Faculdades Cataratas (UDC) no projeto. Para possibilitar a integração entre a população e os rios, o projeto prevê a construção de avenidas e pistas de caminhada às margens dos Rios Iguaçu e Paraná. A ideia é fazer três traçados. O primeiro, chamado Beira Rio PR-Norte, começa no trevo da Vila C, região da Itaipu Binacional, e termina na Ponte da Amizade. O segundo se estende da ponte até o Marco das Três Fronteiras. E o terceiro liga o marco à entrada do Parque Nacional do Iguaçu. Esse braço do projeto, chamado de Sistema Viário, é coordenado pela Itaipu e pelo Parque Tecnológico de Itaipu (PTI). Entre os locais públicos, estão contemplados no projeto a construção do Parque da Memória, da torre dos 100 anos, em alusão ao centenário de Foz em 2014, a revitalização do Marco das Três Fronteiras, da Colônia de Pescadores, além de pistas para caminhadas e ciclovias. Outros espaços serão ocupados pela iniciativa privada com a construção de hotéis, bares e restaurantes. Aduana Prado lembra que a reurbanização da orla do Rio Paraná tem relação com um movimento iniciado na fronteira em 2001, junto com a Receita Federal, para a ampliação da aduana da Ponte da Amizade, lado brasileiro, cuja obra foi entregue em 2007. Na sequência, a aduana paraguaia também foi reformulada, o que melhorou a receptividade aos turistas nas alfândegas de Foz e Ciudad del Este. Um projeto de iniciativa pública e privada pretende mudar a paisagem da orla do Rio Paraná, na fronteira do Brasil com o Paraguai. Hoje, a área entre a barragem da Itaipu Binacional e o Marco das Três Fronteiras é cercada por portos clandestinos e moradias irregulares, usados pelo contrabando para trazer mercadorias, drogas e armas para o Brasil. A proposta para alterar essa realidade é ocupar os 21 quilômetros de margens do rio com parques, restaurantes, avenidas e hotéis. A ideia – chamada de Projeto Beira Foz – também se estende às margens do Rio Iguaçu, entre o Marco das Três Fronteiras e a entrada do Parque Nacional do Iguaçu, em um trajeto de 17 quilômetros. Além de criar condições para a população de Foz se aproximar e usufruir dos rios, a intervenção urbanística é uma aposta contra a criminalidade. \"O projeto em si é de fundamental importância para mudar não só a cara de Foz do Iguaçu, mas a segurança de todo o país\", opina o delegado-chefe da Polícia Federal (PF) em Foz do Iguaçu, Guilherme de Biagi. Segundo ele, com a ocupação da orla, a própria sociedade se torna um agente fiscalizador. Atualmente, a orla do Paraná tem pelo menos 12 conglomerados de moradias irregulares e uma população de quase mil pessoas. Em meio às residências é comum ver imóveis de fachadas que são depósitos de drogas, cigarros e produtos contrabandeados. O povoamento da beira rio é importante, segundo Biagi, porque a PF pode direcionar o efetivo que hoje patrulha o Rio Paraná para pontos nevrálgicos da fronteira, como o Lago de Itaipu. Ao longo do reservatório, de 1.350 quilômetros, a polícia já mapeou 3 mil miniportos e picadas na mata usados pelos criminosos. Três eixos O Beira Foz está dividido em três eixos: segurança e justiça; habitação e promoção social; e sistema viário. Em relação à segurança, a proposta é instalar três bases ao longo do Rio Paraná chamadas Unidades de Policiamento de Fronteira (UPFron). As estruturas blindadas que serão usadas pela Marinha, PF, Polícia Am­biental e Receita Federal estão sendo projetadas no Parque Tecnológico de Itaipu (PTI), uma das parceiras da proposta. Câmeras para monitoramento eletrônico com visão noturna também auxiliarão o trabalho policial. O projeto envolve os governos federal e estadual, prefeitura de Foz e já tem aval dos Ministérios da Justiça e do Meio Ambiente. Ainda não há estimativa de custo para implementá-lo, mas o valor deve superar R$ 300 milhões. Uma comissão com representantes de instituições públicas e privadas, incluindo a Itaipu Binacional, União Dinâmica de Faculdades Cataratas (UDC) e Associação Comercial e Industrial de Foz do Iguaçu (Acifi), foi formada para levar a proposta adiante. O diretor-superintenden­te da Fundação PTI Juan Sotuyo diz que o Beira Foz vai atrair investimentos privados e beneficiar a cidade. \"O custo benefício é maior que o prejuízo gerado hoje pelo tráfico e contrabando\", ressalta. O mesmo movimento deve ocorrer no Paraguai, segundo Sotuyo. O governo paraguaio acompanha o desenvolvimento do projeto para montar uma estrutura semelhante do outro lado da fronteira, nas cidades de Hernandárias, Ciudad del Este e Presidente Franco, margeadas pelo Rio Paraná. O que você acha O Beira Foz vai conter o trânsito de criminosos na tríplice fronteira? Por quê? Assine a Gazeta do Povo A Cobertura Mais Completa Assine o plano completo da Gazeta do Povo e receba as edições impressas todos os dias da semana + acesso ilimitado no celular, computador e tablet. Tenha a cobertura mais completa do Paraná com a opinião e credibilidade dos melhores colunistas!\n",
            "Ameaçados de punição severa, os ex-palmeirenses Maurício e Obina puderam respirar aliviados, nesta quarta-feira, após o resultado de seus julgamentos no STJD. O zagueiro foi suspenso por três partidas, enquanto o atacante por duas. Os jogadores, que haviam sido denunciados no artigo 253 do Código Brasileiro de Justiça Desportiva (agressão física) por conta da briga em que se envolveram no intervalo da partida entre Palmeiras e Grêmio, no Olímpico em Porto Alegre, pela 36ª rodada do Campeonato Brasileiro, corriam o risco de pegar gancho de 120 a 540 dias. A confusão aconteceu durante uma discussão a respeito do lance que originou o primeiro gol dos gremistas. Antes do início do segundo tempo, ambos foram expulsos e os gaúchos venceram o duelo por 2 a 0. As informações são do site \"Justiça Desportiva\". A defesa de Maurício - que deverá ser emprestado - foi feita pelo advogado do Palmeiras, Rafael Pestana, que negou a agressão e ressaltou o arrependimento do atleta, que teria deixado o estádio chorando. O defensor teve acatado o pedido para que a denúncia fosse desclassificada para o artigo 255 (ato de hostilidade) - que tem pena máxima de três partidas. Obina foi defendido por Michel Assef Filho, advogado do Flamengo - para onde o atacante deverá voltar em 2010. O tribunal desclassificou a denúncia do jogador para o artigo 258 do CBJD (atitude antidesportiva). Assef sustentou que Obina teria reagido a uma ameaça de agressão e usou as imagens para desmentir a súmula do árbitro, afirmando não ter havido troca de socos.\n",
            "Autoridades participam de reabertura dos trabalhos legislativos Os trabalhos legislativos da Assembleia Legislativa de Mato Grosso do Sul foram reabertos na manhã desta terça-feira (2/2), com a solenidade de instalação da 2ª Sessão Legislativa da 10ª Legislatura. O evento, que reúne várias autoridades, teve início às 8h50, no Pavilhão das Bandeiras, entrada principal do Palácio Guaicurus, no Parque dos Poderes. A cerimônia segue um protocolo determinado pelo Regimento Interno da Casa de Leis. Na chegada ao Palácio Guaicurus, o governador Reinaldo Azambuja passou em revista a tropa formada pela Polícia Militar, sendo recebido logo depois pelo presidente Junior Mochi (PMDB) e demais deputados. Prosseguindo o rito, as Bandeiras foram hasteadas. A expectativa com relação a economia foi ressaltada por algumas das autoridades presentes. \"A união existente em nosso Estado, sob o comando do governador Reinaldo e com apoio da Assembleia e Tribunal de Justiça, nos dá esperança que vamos superar a crise econômica e trilhar o melhor caminho possível\", afirmou o desembargador João Maria Lós, presidente do Tribunal de Justiça de Mato Grosso do Sul. Presidente do Tribunal de Contas do Estado, o conselheiro Waldir Neves destacou a importância da relação harmônica entre os Poderes para enfrentar a crise econômica. \"Na atual conjuntura econômica vivida pelo País, os Poderes estão unidos para superarem as dificuldades. Otimismo, garra e vontade são fundamentais. A relação harmônica ajuda muito neste momento\". O Procurador- Geral de Justiça, Humberto de Matos Brites, também comentou sobre relação institucional com a Casa de Leis . \"Sempre tivemos uma relação institucional muito boa com a Assembleia. O Ministério Publico está aqui para desejar um excelente ano legislativo, não obstante a crise que vivemos, temos a certeza que os deputados irão cumprir a risca todas as suas atribuições legais\". Os deputados e autoridades já se dirigiram ao Plenário Júlio Maia para o início da sessão solene. O governador fará a leitura da Mensagem Constitucional de prestação de contas do Poder Executivo referente ao exercício de 2015. Ainda acontecerá o pronunciamento do presidente Junior Mochi e os deputados farão uso da palavra pelo Protocolo. Permitida a reprodução, desde que contenha a assinatura \"Agência ALMS\".Crédito obrigatório para as fotografias, no formato \"Nome do fotógrafo/ALMS\".\n",
            "time: 187 ms (started: 2023-03-30 02:44:48 +00:00)\n"
          ]
        }
      ]
    },
    {
      "cell_type": "code",
      "source": [
        "!wc -l {PATH_DATASET}/sample-1gb.txt"
      ],
      "metadata": {
        "colab": {
          "base_uri": "https://localhost:8080/"
        },
        "id": "f_egfjedSUvb",
        "outputId": "00c448d4-ac17-4940-efba-36a9dbcbc6a7"
      },
      "execution_count": 36,
      "outputs": [
        {
          "output_type": "stream",
          "name": "stdout",
          "text": [
            "250000 /content/drive/MyDrive/unicamp/IA368DD/class_4/sample-1gb.txt\n",
            "time: 784 ms (started: 2023-03-30 02:44:48 +00:00)\n"
          ]
        }
      ]
    },
    {
      "cell_type": "markdown",
      "source": [
        "## small dataset for testing"
      ],
      "metadata": {
        "id": "ymDm3ZnUVIL8"
      }
    },
    {
      "cell_type": "code",
      "source": [
        "#!sed -n '1,100p' {PATH_DATASET}/sample-1gb.txt > {PATH_DATASET}/sample_small.txt"
      ],
      "metadata": {
        "colab": {
          "base_uri": "https://localhost:8080/"
        },
        "id": "RyuXMIdoVLGu",
        "outputId": "4c7c5cf5-bf1c-48fd-8085-18205c9f7699"
      },
      "execution_count": 37,
      "outputs": [
        {
          "output_type": "stream",
          "name": "stdout",
          "text": [
            "time: 252 µs (started: 2023-03-30 02:44:49 +00:00)\n"
          ]
        }
      ]
    },
    {
      "cell_type": "code",
      "source": [
        "!wc -l {PATH_DATASET}/sample_small.txt"
      ],
      "metadata": {
        "colab": {
          "base_uri": "https://localhost:8080/"
        },
        "id": "tYKjM8rzVWKe",
        "outputId": "eab656ec-c904-4014-cd40-70b3138ad964"
      },
      "execution_count": 38,
      "outputs": [
        {
          "output_type": "stream",
          "name": "stdout",
          "text": [
            "100 /content/drive/MyDrive/unicamp/IA368DD/class_4/sample_small.txt\n",
            "time: 182 ms (started: 2023-03-30 02:44:49 +00:00)\n"
          ]
        }
      ]
    },
    {
      "cell_type": "code",
      "source": [
        "small_dataset = load_dataset(\"text\", data_files=f'{PATH_DATASET}/sample_small.txt')\n",
        "small_dataset[\"validation\"] = load_dataset(\"text\", data_files=f'{PATH_DATASET}/sample_small.txt', split=f\"train[:5%]\")\n",
        "small_dataset[\"train\"] = load_dataset(\"text\", data_files=f'{PATH_DATASET}/sample_small.txt', split=f\"train[5%:]\")\n",
        "\n",
        "small_dataset"
      ],
      "metadata": {
        "colab": {
          "base_uri": "https://localhost:8080/",
          "height": 295,
          "referenced_widgets": [
            "b420cac49b254e79a4f8e2c701e1582d",
            "44e4e227c4d74f29aee155d17e23986f",
            "1bc9f50514ab47cf8e08deb568050fe0",
            "2d93b52dd25f45a38529e2b68c01b149",
            "900a409a027d4e9288702b57db947c57",
            "386c904beb804baf844d5df1b931ef75",
            "908fa225c60349acb663868a31ffbfc2",
            "a17c9e45f4114f8f8f272c91fc3f8d41",
            "cdf8b7e7d0f2433c9e2e65d6da0d60ee",
            "4f5ff88f4de24c3d8c33934e2890dd03",
            "3ddac26439384981b5abc361d8ffb4c0"
          ]
        },
        "id": "lumhT46K0_-H",
        "outputId": "9e16bb38-84d5-4d0e-a44a-e13005350dd6"
      },
      "execution_count": 39,
      "outputs": [
        {
          "output_type": "stream",
          "name": "stderr",
          "text": [
            "WARNING:datasets.builder:Found cached dataset text (/root/.cache/huggingface/datasets/text/default-9e0a1430f318dd3d/0.0.0/cb1e9bd71a82ad27976be3b12b407850fe2837d80c22c5e03a28949843a8ace2)\n"
          ]
        },
        {
          "output_type": "display_data",
          "data": {
            "text/plain": [
              "  0%|          | 0/1 [00:00<?, ?it/s]"
            ],
            "application/vnd.jupyter.widget-view+json": {
              "version_major": 2,
              "version_minor": 0,
              "model_id": "b420cac49b254e79a4f8e2c701e1582d"
            }
          },
          "metadata": {}
        },
        {
          "output_type": "stream",
          "name": "stderr",
          "text": [
            "WARNING:datasets.builder:Found cached dataset text (/root/.cache/huggingface/datasets/text/default-9e0a1430f318dd3d/0.0.0/cb1e9bd71a82ad27976be3b12b407850fe2837d80c22c5e03a28949843a8ace2)\n",
            "WARNING:datasets.builder:Found cached dataset text (/root/.cache/huggingface/datasets/text/default-9e0a1430f318dd3d/0.0.0/cb1e9bd71a82ad27976be3b12b407850fe2837d80c22c5e03a28949843a8ace2)\n"
          ]
        },
        {
          "output_type": "execute_result",
          "data": {
            "text/plain": [
              "DatasetDict({\n",
              "    train: Dataset({\n",
              "        features: ['text'],\n",
              "        num_rows: 95\n",
              "    })\n",
              "    validation: Dataset({\n",
              "        features: ['text'],\n",
              "        num_rows: 5\n",
              "    })\n",
              "})"
            ]
          },
          "metadata": {},
          "execution_count": 39
        },
        {
          "output_type": "stream",
          "name": "stdout",
          "text": [
            "time: 875 ms (started: 2023-03-30 02:44:49 +00:00)\n"
          ]
        }
      ]
    },
    {
      "cell_type": "code",
      "source": [
        "base_dataset = load_dataset(\"text\", data_files=f'{PATH_DATASET}/sample-1gb.txt')\n",
        "base_dataset[\"validation\"] = load_dataset(\"text\", data_files=f'{PATH_DATASET}/sample-1gb.txt', split=f\"train[:20%]\")\n",
        "base_dataset[\"train\"] = load_dataset(\"text\", data_files=f'{PATH_DATASET}/sample-1gb.txt', split=f\"train[20%:]\")\n",
        "\n",
        "base_dataset"
      ],
      "metadata": {
        "colab": {
          "base_uri": "https://localhost:8080/",
          "height": 295,
          "referenced_widgets": [
            "86a6005893024393b38820ac7f2113b5",
            "b6c0a89680ce4192a4d214912a6ab520",
            "160d576e4b914a42a53486352c143d80",
            "58eb2b6e552e47fe99b3ca5cdd300a44",
            "7e851357bb544ad0aa85223bf70e92df",
            "7d13c7695af04860b63bf467dff8db95",
            "48f9e08317554a338a7e8ad99dff6ed0",
            "0f851bc51d7c48b58daf61989e949b40",
            "e7c77ffd6ef940b98549b37b96f6264c",
            "ecdb2364fab74fb5a048a201e6570aaf",
            "5ae13b7263ab4538a22a14c3a5e48c79"
          ]
        },
        "id": "bv_gQCO7pB6G",
        "outputId": "80d33e9d-507d-442a-c689-a5f66452665d"
      },
      "execution_count": 40,
      "outputs": [
        {
          "output_type": "stream",
          "name": "stderr",
          "text": [
            "WARNING:datasets.builder:Found cached dataset text (/root/.cache/huggingface/datasets/text/default-f6bf8ee78acb5d75/0.0.0/cb1e9bd71a82ad27976be3b12b407850fe2837d80c22c5e03a28949843a8ace2)\n"
          ]
        },
        {
          "output_type": "display_data",
          "data": {
            "text/plain": [
              "  0%|          | 0/1 [00:00<?, ?it/s]"
            ],
            "application/vnd.jupyter.widget-view+json": {
              "version_major": 2,
              "version_minor": 0,
              "model_id": "86a6005893024393b38820ac7f2113b5"
            }
          },
          "metadata": {}
        },
        {
          "output_type": "stream",
          "name": "stderr",
          "text": [
            "WARNING:datasets.builder:Found cached dataset text (/root/.cache/huggingface/datasets/text/default-f6bf8ee78acb5d75/0.0.0/cb1e9bd71a82ad27976be3b12b407850fe2837d80c22c5e03a28949843a8ace2)\n",
            "WARNING:datasets.builder:Found cached dataset text (/root/.cache/huggingface/datasets/text/default-f6bf8ee78acb5d75/0.0.0/cb1e9bd71a82ad27976be3b12b407850fe2837d80c22c5e03a28949843a8ace2)\n"
          ]
        },
        {
          "output_type": "execute_result",
          "data": {
            "text/plain": [
              "DatasetDict({\n",
              "    train: Dataset({\n",
              "        features: ['text'],\n",
              "        num_rows: 200000\n",
              "    })\n",
              "    validation: Dataset({\n",
              "        features: ['text'],\n",
              "        num_rows: 50000\n",
              "    })\n",
              "})"
            ]
          },
          "metadata": {},
          "execution_count": 40
        },
        {
          "output_type": "stream",
          "name": "stdout",
          "text": [
            "time: 884 ms (started: 2023-03-30 02:44:50 +00:00)\n"
          ]
        }
      ]
    },
    {
      "cell_type": "markdown",
      "source": [
        "# Select Dataset"
      ],
      "metadata": {
        "id": "hnIQ_w602Oqk"
      }
    },
    {
      "cell_type": "code",
      "source": [
        "#dataset = small_dataset\n",
        "dataset = base_dataset"
      ],
      "metadata": {
        "colab": {
          "base_uri": "https://localhost:8080/"
        },
        "id": "5_lth-U22RDw",
        "outputId": "c9a72dda-b167-4797-8c57-3d3cc7247db2"
      },
      "execution_count": 41,
      "outputs": [
        {
          "output_type": "stream",
          "name": "stdout",
          "text": [
            "time: 341 µs (started: 2023-03-30 02:44:51 +00:00)\n"
          ]
        }
      ]
    },
    {
      "cell_type": "markdown",
      "source": [
        "# Parameters"
      ],
      "metadata": {
        "id": "6Cv8lozgSeP_"
      }
    },
    {
      "cell_type": "code",
      "source": [
        "MODEL_NAME = 'facebook/opt-125m'\n",
        "MAX_SEQ_LENGTH=512\n",
        "BATCH_SIZE=8\n",
        "EPOCHS=2\n",
        "MODEL_OUTPUT_FOLDER=f'{PATH_DATASET}/model_output'\n",
        "MODEL_SAVE_FOLDER=f'{PATH_DATASET}/model_save'\n",
        "TOKENIZER_SAVE_FOLDER=f'{PATH_DATASET}/tokenizer_save'"
      ],
      "metadata": {
        "colab": {
          "base_uri": "https://localhost:8080/"
        },
        "id": "uX_3ufzNSgjY",
        "outputId": "7a740b7c-d7d4-4b92-af49-fb2f999e30e0"
      },
      "execution_count": 42,
      "outputs": [
        {
          "output_type": "stream",
          "name": "stdout",
          "text": [
            "time: 519 µs (started: 2023-03-30 02:44:51 +00:00)\n"
          ]
        }
      ]
    },
    {
      "cell_type": "markdown",
      "source": [
        "# Tokenizer"
      ],
      "metadata": {
        "id": "Zp-IF2AjUqL6"
      }
    },
    {
      "cell_type": "code",
      "source": [
        "tokenizer = AutoTokenizer.from_pretrained(MODEL_NAME)"
      ],
      "metadata": {
        "colab": {
          "base_uri": "https://localhost:8080/"
        },
        "id": "2fDt3xQ3UsjP",
        "outputId": "526e5461-dbac-4941-9526-fa8e1a7b0a75"
      },
      "execution_count": 43,
      "outputs": [
        {
          "output_type": "stream",
          "name": "stdout",
          "text": [
            "time: 415 ms (started: 2023-03-30 02:44:51 +00:00)\n"
          ]
        }
      ]
    },
    {
      "cell_type": "markdown",
      "source": [
        "# Model"
      ],
      "metadata": {
        "id": "hi_hABhVcpRi"
      }
    },
    {
      "cell_type": "markdown",
      "source": [
        "`AutoModelForCausalLM` is used for auto-regressive language models like all the GPT models, while `AutoModelForSeq2SeqLM` is used for language models with encoder-decoder architecture like T5 and BART.\n",
        "\n",
        "https://huggingface.co/docs/transformers/model_doc/auto#transformers.AutoModelForCausalLM"
      ],
      "metadata": {
        "id": "VZS50t59ccdU"
      }
    },
    {
      "cell_type": "code",
      "source": [
        "# Download configuration from huggingface.co and cache.\n",
        "#config = AutoConfig.from_pretrained(MODEL_NAME)\n",
        "#model = AutoModelForCausalLM.from_config(config)\n",
        "model = AutoModelForCausalLM.from_pretrained(MODEL_NAME)\n",
        "model.to(device)"
      ],
      "metadata": {
        "colab": {
          "base_uri": "https://localhost:8080/"
        },
        "id": "xxDnD128dBqZ",
        "outputId": "88af8e53-7eec-42aa-ddfa-c948068b8d9e"
      },
      "execution_count": 44,
      "outputs": [
        {
          "output_type": "execute_result",
          "data": {
            "text/plain": [
              "OPTForCausalLM(\n",
              "  (model): OPTModel(\n",
              "    (decoder): OPTDecoder(\n",
              "      (embed_tokens): Embedding(50272, 768, padding_idx=1)\n",
              "      (embed_positions): OPTLearnedPositionalEmbedding(2050, 768)\n",
              "      (final_layer_norm): LayerNorm((768,), eps=1e-05, elementwise_affine=True)\n",
              "      (layers): ModuleList(\n",
              "        (0): OPTDecoderLayer(\n",
              "          (self_attn): OPTAttention(\n",
              "            (k_proj): Linear(in_features=768, out_features=768, bias=True)\n",
              "            (v_proj): Linear(in_features=768, out_features=768, bias=True)\n",
              "            (q_proj): Linear(in_features=768, out_features=768, bias=True)\n",
              "            (out_proj): Linear(in_features=768, out_features=768, bias=True)\n",
              "          )\n",
              "          (activation_fn): ReLU()\n",
              "          (self_attn_layer_norm): LayerNorm((768,), eps=1e-05, elementwise_affine=True)\n",
              "          (fc1): Linear(in_features=768, out_features=3072, bias=True)\n",
              "          (fc2): Linear(in_features=3072, out_features=768, bias=True)\n",
              "          (final_layer_norm): LayerNorm((768,), eps=1e-05, elementwise_affine=True)\n",
              "        )\n",
              "        (1): OPTDecoderLayer(\n",
              "          (self_attn): OPTAttention(\n",
              "            (k_proj): Linear(in_features=768, out_features=768, bias=True)\n",
              "            (v_proj): Linear(in_features=768, out_features=768, bias=True)\n",
              "            (q_proj): Linear(in_features=768, out_features=768, bias=True)\n",
              "            (out_proj): Linear(in_features=768, out_features=768, bias=True)\n",
              "          )\n",
              "          (activation_fn): ReLU()\n",
              "          (self_attn_layer_norm): LayerNorm((768,), eps=1e-05, elementwise_affine=True)\n",
              "          (fc1): Linear(in_features=768, out_features=3072, bias=True)\n",
              "          (fc2): Linear(in_features=3072, out_features=768, bias=True)\n",
              "          (final_layer_norm): LayerNorm((768,), eps=1e-05, elementwise_affine=True)\n",
              "        )\n",
              "        (2): OPTDecoderLayer(\n",
              "          (self_attn): OPTAttention(\n",
              "            (k_proj): Linear(in_features=768, out_features=768, bias=True)\n",
              "            (v_proj): Linear(in_features=768, out_features=768, bias=True)\n",
              "            (q_proj): Linear(in_features=768, out_features=768, bias=True)\n",
              "            (out_proj): Linear(in_features=768, out_features=768, bias=True)\n",
              "          )\n",
              "          (activation_fn): ReLU()\n",
              "          (self_attn_layer_norm): LayerNorm((768,), eps=1e-05, elementwise_affine=True)\n",
              "          (fc1): Linear(in_features=768, out_features=3072, bias=True)\n",
              "          (fc2): Linear(in_features=3072, out_features=768, bias=True)\n",
              "          (final_layer_norm): LayerNorm((768,), eps=1e-05, elementwise_affine=True)\n",
              "        )\n",
              "        (3): OPTDecoderLayer(\n",
              "          (self_attn): OPTAttention(\n",
              "            (k_proj): Linear(in_features=768, out_features=768, bias=True)\n",
              "            (v_proj): Linear(in_features=768, out_features=768, bias=True)\n",
              "            (q_proj): Linear(in_features=768, out_features=768, bias=True)\n",
              "            (out_proj): Linear(in_features=768, out_features=768, bias=True)\n",
              "          )\n",
              "          (activation_fn): ReLU()\n",
              "          (self_attn_layer_norm): LayerNorm((768,), eps=1e-05, elementwise_affine=True)\n",
              "          (fc1): Linear(in_features=768, out_features=3072, bias=True)\n",
              "          (fc2): Linear(in_features=3072, out_features=768, bias=True)\n",
              "          (final_layer_norm): LayerNorm((768,), eps=1e-05, elementwise_affine=True)\n",
              "        )\n",
              "        (4): OPTDecoderLayer(\n",
              "          (self_attn): OPTAttention(\n",
              "            (k_proj): Linear(in_features=768, out_features=768, bias=True)\n",
              "            (v_proj): Linear(in_features=768, out_features=768, bias=True)\n",
              "            (q_proj): Linear(in_features=768, out_features=768, bias=True)\n",
              "            (out_proj): Linear(in_features=768, out_features=768, bias=True)\n",
              "          )\n",
              "          (activation_fn): ReLU()\n",
              "          (self_attn_layer_norm): LayerNorm((768,), eps=1e-05, elementwise_affine=True)\n",
              "          (fc1): Linear(in_features=768, out_features=3072, bias=True)\n",
              "          (fc2): Linear(in_features=3072, out_features=768, bias=True)\n",
              "          (final_layer_norm): LayerNorm((768,), eps=1e-05, elementwise_affine=True)\n",
              "        )\n",
              "        (5): OPTDecoderLayer(\n",
              "          (self_attn): OPTAttention(\n",
              "            (k_proj): Linear(in_features=768, out_features=768, bias=True)\n",
              "            (v_proj): Linear(in_features=768, out_features=768, bias=True)\n",
              "            (q_proj): Linear(in_features=768, out_features=768, bias=True)\n",
              "            (out_proj): Linear(in_features=768, out_features=768, bias=True)\n",
              "          )\n",
              "          (activation_fn): ReLU()\n",
              "          (self_attn_layer_norm): LayerNorm((768,), eps=1e-05, elementwise_affine=True)\n",
              "          (fc1): Linear(in_features=768, out_features=3072, bias=True)\n",
              "          (fc2): Linear(in_features=3072, out_features=768, bias=True)\n",
              "          (final_layer_norm): LayerNorm((768,), eps=1e-05, elementwise_affine=True)\n",
              "        )\n",
              "        (6): OPTDecoderLayer(\n",
              "          (self_attn): OPTAttention(\n",
              "            (k_proj): Linear(in_features=768, out_features=768, bias=True)\n",
              "            (v_proj): Linear(in_features=768, out_features=768, bias=True)\n",
              "            (q_proj): Linear(in_features=768, out_features=768, bias=True)\n",
              "            (out_proj): Linear(in_features=768, out_features=768, bias=True)\n",
              "          )\n",
              "          (activation_fn): ReLU()\n",
              "          (self_attn_layer_norm): LayerNorm((768,), eps=1e-05, elementwise_affine=True)\n",
              "          (fc1): Linear(in_features=768, out_features=3072, bias=True)\n",
              "          (fc2): Linear(in_features=3072, out_features=768, bias=True)\n",
              "          (final_layer_norm): LayerNorm((768,), eps=1e-05, elementwise_affine=True)\n",
              "        )\n",
              "        (7): OPTDecoderLayer(\n",
              "          (self_attn): OPTAttention(\n",
              "            (k_proj): Linear(in_features=768, out_features=768, bias=True)\n",
              "            (v_proj): Linear(in_features=768, out_features=768, bias=True)\n",
              "            (q_proj): Linear(in_features=768, out_features=768, bias=True)\n",
              "            (out_proj): Linear(in_features=768, out_features=768, bias=True)\n",
              "          )\n",
              "          (activation_fn): ReLU()\n",
              "          (self_attn_layer_norm): LayerNorm((768,), eps=1e-05, elementwise_affine=True)\n",
              "          (fc1): Linear(in_features=768, out_features=3072, bias=True)\n",
              "          (fc2): Linear(in_features=3072, out_features=768, bias=True)\n",
              "          (final_layer_norm): LayerNorm((768,), eps=1e-05, elementwise_affine=True)\n",
              "        )\n",
              "        (8): OPTDecoderLayer(\n",
              "          (self_attn): OPTAttention(\n",
              "            (k_proj): Linear(in_features=768, out_features=768, bias=True)\n",
              "            (v_proj): Linear(in_features=768, out_features=768, bias=True)\n",
              "            (q_proj): Linear(in_features=768, out_features=768, bias=True)\n",
              "            (out_proj): Linear(in_features=768, out_features=768, bias=True)\n",
              "          )\n",
              "          (activation_fn): ReLU()\n",
              "          (self_attn_layer_norm): LayerNorm((768,), eps=1e-05, elementwise_affine=True)\n",
              "          (fc1): Linear(in_features=768, out_features=3072, bias=True)\n",
              "          (fc2): Linear(in_features=3072, out_features=768, bias=True)\n",
              "          (final_layer_norm): LayerNorm((768,), eps=1e-05, elementwise_affine=True)\n",
              "        )\n",
              "        (9): OPTDecoderLayer(\n",
              "          (self_attn): OPTAttention(\n",
              "            (k_proj): Linear(in_features=768, out_features=768, bias=True)\n",
              "            (v_proj): Linear(in_features=768, out_features=768, bias=True)\n",
              "            (q_proj): Linear(in_features=768, out_features=768, bias=True)\n",
              "            (out_proj): Linear(in_features=768, out_features=768, bias=True)\n",
              "          )\n",
              "          (activation_fn): ReLU()\n",
              "          (self_attn_layer_norm): LayerNorm((768,), eps=1e-05, elementwise_affine=True)\n",
              "          (fc1): Linear(in_features=768, out_features=3072, bias=True)\n",
              "          (fc2): Linear(in_features=3072, out_features=768, bias=True)\n",
              "          (final_layer_norm): LayerNorm((768,), eps=1e-05, elementwise_affine=True)\n",
              "        )\n",
              "        (10): OPTDecoderLayer(\n",
              "          (self_attn): OPTAttention(\n",
              "            (k_proj): Linear(in_features=768, out_features=768, bias=True)\n",
              "            (v_proj): Linear(in_features=768, out_features=768, bias=True)\n",
              "            (q_proj): Linear(in_features=768, out_features=768, bias=True)\n",
              "            (out_proj): Linear(in_features=768, out_features=768, bias=True)\n",
              "          )\n",
              "          (activation_fn): ReLU()\n",
              "          (self_attn_layer_norm): LayerNorm((768,), eps=1e-05, elementwise_affine=True)\n",
              "          (fc1): Linear(in_features=768, out_features=3072, bias=True)\n",
              "          (fc2): Linear(in_features=3072, out_features=768, bias=True)\n",
              "          (final_layer_norm): LayerNorm((768,), eps=1e-05, elementwise_affine=True)\n",
              "        )\n",
              "        (11): OPTDecoderLayer(\n",
              "          (self_attn): OPTAttention(\n",
              "            (k_proj): Linear(in_features=768, out_features=768, bias=True)\n",
              "            (v_proj): Linear(in_features=768, out_features=768, bias=True)\n",
              "            (q_proj): Linear(in_features=768, out_features=768, bias=True)\n",
              "            (out_proj): Linear(in_features=768, out_features=768, bias=True)\n",
              "          )\n",
              "          (activation_fn): ReLU()\n",
              "          (self_attn_layer_norm): LayerNorm((768,), eps=1e-05, elementwise_affine=True)\n",
              "          (fc1): Linear(in_features=768, out_features=3072, bias=True)\n",
              "          (fc2): Linear(in_features=3072, out_features=768, bias=True)\n",
              "          (final_layer_norm): LayerNorm((768,), eps=1e-05, elementwise_affine=True)\n",
              "        )\n",
              "      )\n",
              "    )\n",
              "  )\n",
              "  (lm_head): Linear(in_features=768, out_features=50272, bias=False)\n",
              ")"
            ]
          },
          "metadata": {},
          "execution_count": 44
        },
        {
          "output_type": "stream",
          "name": "stdout",
          "text": [
            "time: 2.07 s (started: 2023-03-30 02:44:52 +00:00)\n"
          ]
        }
      ]
    },
    {
      "cell_type": "code",
      "source": [
        "model_size = sum(t.numel() for t in model.parameters())\n",
        "print(f\"OPT-125m size: {model_size/1000**2:.1f}M parameters\")"
      ],
      "metadata": {
        "colab": {
          "base_uri": "https://localhost:8080/"
        },
        "id": "9xFyDe3w2uT5",
        "outputId": "64bd888f-892b-45ef-d86f-da587811abe8"
      },
      "execution_count": 45,
      "outputs": [
        {
          "output_type": "stream",
          "name": "stdout",
          "text": [
            "OPT-125m size: 125.2M parameters\n",
            "time: 1.55 ms (started: 2023-03-30 02:44:54 +00:00)\n"
          ]
        }
      ]
    },
    {
      "cell_type": "markdown",
      "source": [
        "# Tokenization\n",
        "\n",
        "The model was pretrained with max sequence length of 2048. We use length 256 initially to overcome the exceeded ram problem.\n",
        "\n",
        "CHANGE: we tokenize all samples in the batch (consisting of 1000 documents) and create a long sequence of tokens by concatenating all examples and separating them with the special EOS token. Finally, we divide the long sequence into chunks of 512 tokens, which will be used for training."
      ],
      "metadata": {
        "id": "JSUXfiRMjM15"
      }
    },
    {
      "cell_type": "code",
      "source": [
        "tokenized_dataset = dataset.map(lambda x: tokenizer(x[\"text\"], \n",
        "                                      truncation=True, \n",
        "                                      padding=\"max_length\", \n",
        "                                      max_length=MAX_SEQ_LENGTH), \n",
        "                                      batched=True, \n",
        "                                      num_proc=4, \n",
        "                                      remove_columns=[\"text\"],\n",
        "                                      #return_overflowing_tokens=True,\n",
        "                                      #return_length=True,\n",
        "                                     )"
      ],
      "metadata": {
        "colab": {
          "base_uri": "https://localhost:8080/"
        },
        "id": "L7cvziurjOof",
        "outputId": "a0659a51-388d-4006-a0a2-10d3361226c0"
      },
      "execution_count": 46,
      "outputs": [
        {
          "output_type": "stream",
          "name": "stderr",
          "text": [
            "WARNING:datasets.arrow_dataset:Loading cached processed dataset at /root/.cache/huggingface/datasets/text/default-f6bf8ee78acb5d75/0.0.0/cb1e9bd71a82ad27976be3b12b407850fe2837d80c22c5e03a28949843a8ace2/cache-8c3693e545bd489b_*_of_00004.arrow\n",
            "WARNING:datasets.arrow_dataset:Loading cached processed dataset at /root/.cache/huggingface/datasets/text/default-f6bf8ee78acb5d75/0.0.0/cb1e9bd71a82ad27976be3b12b407850fe2837d80c22c5e03a28949843a8ace2/cache-0f35203c8c23f03d_*_of_00004.arrow\n"
          ]
        },
        {
          "output_type": "stream",
          "name": "stdout",
          "text": [
            "time: 96.9 ms (started: 2023-03-30 02:44:54 +00:00)\n"
          ]
        }
      ]
    },
    {
      "cell_type": "code",
      "source": [
        "#tokenized_dataset.save_to_disk(TOKENIZER_SAVE_FOLDER)"
      ],
      "metadata": {
        "colab": {
          "base_uri": "https://localhost:8080/",
          "height": 66,
          "referenced_widgets": [
            "54cc7182b31046539bae4a64fcfccfab",
            "f3f0c749f95b47eca83fe6112c0c12b0",
            "c392cff9bc3d44f098c4b44af8db4d41",
            "226f88d9724843a49049d1940b3174d6",
            "709a1ea169af4816b9251bf5a1b8114f",
            "3af391f90c0641488d4a47bbababa5ea",
            "6ce88d2124f949cf96917a9bd35bc08c",
            "68ebc59d52e34ad3866ecb6bc4aadd94",
            "371384cdd2f24992b7f2c7ef755a3f11",
            "2516f9481c2e47d0810344a3088059e0",
            "486e0698a06f4109b696f27f42021969",
            "e2de8c60f92c4617a8cfb7480e1bbd66",
            "bc9f71a8b4f6424db6f0026bbe596e74",
            "591c03c62a0a4d42aa6c05c6c2346c74",
            "b4e11d6e41a943479975ddf275f7436a",
            "b24bca147cb14a9c8774a42d8870847c",
            "781c0ea3f3d34685a28dec551d1075c6",
            "fac58cf1d3d94145aa724f0c6fbdca77",
            "d5d213bd3ca849e0bba8495572f227cc",
            "6f2bae299e9449a0ad9a96a8a4e616ac",
            "539602992aeb4d6fa585a7159ae56889",
            "03a54e1c004f4bb99d65c646ff3a5f5f"
          ]
        },
        "id": "8GDOrKTeWrUn",
        "outputId": "9b045e87-74a1-48b2-e24c-d4d454f9b0ee"
      },
      "execution_count": 47,
      "outputs": [
        {
          "output_type": "display_data",
          "data": {
            "text/plain": [
              "Saving the dataset (0/2 shards):   0%|          | 0/200000 [00:00<?, ? examples/s]"
            ],
            "application/vnd.jupyter.widget-view+json": {
              "version_major": 2,
              "version_minor": 0,
              "model_id": "54cc7182b31046539bae4a64fcfccfab"
            }
          },
          "metadata": {}
        },
        {
          "output_type": "display_data",
          "data": {
            "text/plain": [
              "Saving the dataset (0/1 shards):   0%|          | 0/50000 [00:00<?, ? examples/s]"
            ],
            "application/vnd.jupyter.widget-view+json": {
              "version_major": 2,
              "version_minor": 0,
              "model_id": "e2de8c60f92c4617a8cfb7480e1bbd66"
            }
          },
          "metadata": {}
        },
        {
          "output_type": "stream",
          "name": "stdout",
          "text": [
            "time: 3.05 s (started: 2023-03-30 02:44:54 +00:00)\n"
          ]
        }
      ]
    },
    {
      "cell_type": "code",
      "source": [
        "#tokenized_dataset = load_dataset(TOKENIZER_SAVE_FOLDER)"
      ],
      "metadata": {
        "colab": {
          "base_uri": "https://localhost:8080/"
        },
        "id": "VDd_tDtZYozk",
        "outputId": "78bef228-043f-43aa-9ddd-2d9ab57d9f05"
      },
      "execution_count": 22,
      "outputs": [
        {
          "output_type": "stream",
          "name": "stdout",
          "text": [
            "time: 227 µs (started: 2023-03-30 02:41:52 +00:00)\n"
          ]
        }
      ]
    },
    {
      "cell_type": "code",
      "source": [
        "# print(tokenized_dataset)\n",
        "# print(f\"{len(tokenized_dataset['train']['input_ids'][0])} tokens - {tokenized_dataset['train']['input_ids'][0]}\")"
      ],
      "metadata": {
        "colab": {
          "base_uri": "https://localhost:8080/"
        },
        "id": "KUbw9TEc2bdY",
        "outputId": "a5a01973-1671-4ae7-ca21-99f26abd7cd6"
      },
      "execution_count": 20,
      "outputs": [
        {
          "output_type": "stream",
          "name": "stdout",
          "text": [
            "time: 228 µs (started: 2023-03-30 02:27:06 +00:00)\n"
          ]
        }
      ]
    },
    {
      "cell_type": "markdown",
      "source": [
        "# Training"
      ],
      "metadata": {
        "id": "52rYOmiEjPAc"
      }
    },
    {
      "cell_type": "code",
      "source": [
        "# The training is done using an T4 with 16GB of memory\n",
        "!nvidia-smi"
      ],
      "metadata": {
        "colab": {
          "base_uri": "https://localhost:8080/"
        },
        "id": "qN24HFJZDwVO",
        "outputId": "a655bcf2-17be-4be3-8163-7df0b5b98050"
      },
      "execution_count": 48,
      "outputs": [
        {
          "output_type": "stream",
          "name": "stdout",
          "text": [
            "Thu Mar 30 02:44:57 2023       \n",
            "+-----------------------------------------------------------------------------+\n",
            "| NVIDIA-SMI 525.85.12    Driver Version: 525.85.12    CUDA Version: 12.0     |\n",
            "|-------------------------------+----------------------+----------------------+\n",
            "| GPU  Name        Persistence-M| Bus-Id        Disp.A | Volatile Uncorr. ECC |\n",
            "| Fan  Temp  Perf  Pwr:Usage/Cap|         Memory-Usage | GPU-Util  Compute M. |\n",
            "|                               |                      |               MIG M. |\n",
            "|===============================+======================+======================|\n",
            "|   0  NVIDIA A100-SXM...  Off  | 00000000:00:04.0 Off |                    0 |\n",
            "| N/A   40C    P0    55W / 400W |   2507MiB / 40960MiB |      0%      Default |\n",
            "|                               |                      |             Disabled |\n",
            "+-------------------------------+----------------------+----------------------+\n",
            "                                                                               \n",
            "+-----------------------------------------------------------------------------+\n",
            "| Processes:                                                                  |\n",
            "|  GPU   GI   CI        PID   Type   Process name                  GPU Memory |\n",
            "|        ID   ID                                                   Usage      |\n",
            "|=============================================================================|\n",
            "+-----------------------------------------------------------------------------+\n",
            "time: 284 ms (started: 2023-03-30 02:44:57 +00:00)\n"
          ]
        }
      ]
    },
    {
      "cell_type": "code",
      "source": [
        "from numba import cuda \n",
        "\n",
        "device = cuda.get_current_device()\n",
        "device.reset()"
      ],
      "metadata": {
        "colab": {
          "base_uri": "https://localhost:8080/"
        },
        "id": "wzv92d3wEAxl",
        "outputId": "9dd58be5-0fef-44b5-a819-a78aa1c24c98"
      },
      "execution_count": 29,
      "outputs": [
        {
          "output_type": "stream",
          "name": "stdout",
          "text": [
            "time: 762 ms (started: 2023-03-30 02:35:44 +00:00)\n"
          ]
        }
      ]
    },
    {
      "cell_type": "code",
      "source": [
        "from transformers import TrainingArguments\n",
        "\n",
        "training_args = TrainingArguments(output_dir=MODEL_OUTPUT_FOLDER,\n",
        "                                  num_train_epochs=EPOCHS, \n",
        "                                  per_device_train_batch_size=BATCH_SIZE,\n",
        "                                  per_device_eval_batch_size=BATCH_SIZE, \n",
        "                                  evaluation_strategy=\"epoch\", \n",
        "                                  save_strategy=\"epoch\",\n",
        "                                  logging_strategy=\"epoch\", \n",
        "                                  learning_rate=2e-5, \n",
        "                                  weight_decay=0.01,\n",
        "                                  fp16=True # Use mixed precision\n",
        "                                )"
      ],
      "metadata": {
        "colab": {
          "base_uri": "https://localhost:8080/"
        },
        "id": "_xJic3-DjQ5y",
        "outputId": "698e9004-6804-45d6-a048-c76d5f7d148d"
      },
      "execution_count": 49,
      "outputs": [
        {
          "output_type": "stream",
          "name": "stdout",
          "text": [
            "time: 2.8 ms (started: 2023-03-30 02:44:57 +00:00)\n"
          ]
        }
      ]
    },
    {
      "cell_type": "code",
      "source": [
        "data_collator = DataCollatorForLanguageModeling(tokenizer=tokenizer, mlm=False)\n",
        "trainer = Trainer(model=model, \n",
        "                  args=training_args, \n",
        "                  train_dataset=tokenized_dataset[\"train\"],\n",
        "                  eval_dataset=tokenized_dataset[\"validation\"], \n",
        "                  data_collator=data_collator)"
      ],
      "metadata": {
        "colab": {
          "base_uri": "https://localhost:8080/"
        },
        "id": "KAPtAMhbsGia",
        "outputId": "72aad5f0-846a-4c38-cfb4-28961a304d55"
      },
      "execution_count": 50,
      "outputs": [
        {
          "output_type": "stream",
          "name": "stdout",
          "text": [
            "time: 5.62 ms (started: 2023-03-30 02:44:57 +00:00)\n"
          ]
        }
      ]
    },
    {
      "cell_type": "code",
      "source": [
        "trainer.train()"
      ],
      "metadata": {
        "colab": {
          "base_uri": "https://localhost:8080/",
          "height": 349
        },
        "id": "TBvfrNQgsY1k",
        "outputId": "e849dc60-d339-43d5-c809-2015bfee5cea"
      },
      "execution_count": 51,
      "outputs": [
        {
          "output_type": "stream",
          "name": "stderr",
          "text": [
            "/usr/local/lib/python3.9/dist-packages/transformers/optimization.py:391: FutureWarning: This implementation of AdamW is deprecated and will be removed in a future version. Use the PyTorch implementation torch.optim.AdamW instead, or set `no_deprecation_warning=True` to disable this warning\n",
            "  warnings.warn(\n",
            "You're using a GPT2TokenizerFast tokenizer. Please note that with a fast tokenizer, using the `__call__` method is faster than using a method to encode the text followed by a call to the `pad` method to get a padded encoding.\n"
          ]
        },
        {
          "output_type": "display_data",
          "data": {
            "text/plain": [
              "<IPython.core.display.HTML object>"
            ],
            "text/html": [
              "\n",
              "    <div>\n",
              "      \n",
              "      <progress value='50000' max='50000' style='width:300px; height:20px; vertical-align: middle;'></progress>\n",
              "      [50000/50000 1:32:53, Epoch 2/2]\n",
              "    </div>\n",
              "    <table border=\"1\" class=\"dataframe\">\n",
              "  <thead>\n",
              " <tr style=\"text-align: left;\">\n",
              "      <th>Epoch</th>\n",
              "      <th>Training Loss</th>\n",
              "      <th>Validation Loss</th>\n",
              "    </tr>\n",
              "  </thead>\n",
              "  <tbody>\n",
              "    <tr>\n",
              "      <td>1</td>\n",
              "      <td>2.571000</td>\n",
              "      <td>2.339543</td>\n",
              "    </tr>\n",
              "    <tr>\n",
              "      <td>2</td>\n",
              "      <td>2.327500</td>\n",
              "      <td>2.269327</td>\n",
              "    </tr>\n",
              "  </tbody>\n",
              "</table><p>"
            ]
          },
          "metadata": {}
        },
        {
          "output_type": "stream",
          "name": "stderr",
          "text": [
            "Exception ignored in: <generator object Json._generate_tables at 0x7f5ed3aeb200>\n",
            "Traceback (most recent call last):\n",
            "  File \"/usr/local/lib/python3.9/dist-packages/datasets/packaged_modules/json/json.py\", line 158, in _generate_tables\n",
            "    batch_idx += 1\n",
            "OSError: [Errno 107] Transport endpoint is not connected\n"
          ]
        },
        {
          "output_type": "execute_result",
          "data": {
            "text/plain": [
              "TrainOutput(global_step=50000, training_loss=2.449279375, metrics={'train_runtime': 5575.0933, 'train_samples_per_second': 71.748, 'train_steps_per_second': 8.968, 'total_flos': 1.045168128e+17, 'train_loss': 2.449279375, 'epoch': 2.0})"
            ]
          },
          "metadata": {},
          "execution_count": 51
        },
        {
          "output_type": "stream",
          "name": "stdout",
          "text": [
            "time: 1h 32min 55s (started: 2023-03-30 02:44:57 +00:00)\n"
          ]
        }
      ]
    },
    {
      "cell_type": "code",
      "source": [
        "model.save_pretrained(MODEL_SAVE_FOLDER)\n",
        "tokenizer.save_pretrained(MODEL_SAVE_FOLDER)"
      ],
      "metadata": {
        "colab": {
          "base_uri": "https://localhost:8080/"
        },
        "id": "Zn-6bzd9se62",
        "outputId": "e1c861dc-6196-4bb8-d025-c78f161b2436"
      },
      "execution_count": 52,
      "outputs": [
        {
          "output_type": "execute_result",
          "data": {
            "text/plain": [
              "('/content/drive/MyDrive/unicamp/IA368DD/class_4/model_save/tokenizer_config.json',\n",
              " '/content/drive/MyDrive/unicamp/IA368DD/class_4/model_save/special_tokens_map.json',\n",
              " '/content/drive/MyDrive/unicamp/IA368DD/class_4/model_save/vocab.json',\n",
              " '/content/drive/MyDrive/unicamp/IA368DD/class_4/model_save/merges.txt',\n",
              " '/content/drive/MyDrive/unicamp/IA368DD/class_4/model_save/added_tokens.json',\n",
              " '/content/drive/MyDrive/unicamp/IA368DD/class_4/model_save/tokenizer.json')"
            ]
          },
          "metadata": {},
          "execution_count": 52
        },
        {
          "output_type": "stream",
          "name": "stdout",
          "text": [
            "time: 1.6 s (started: 2023-03-30 04:19:47 +00:00)\n"
          ]
        }
      ]
    },
    {
      "cell_type": "code",
      "source": [
        "#!zip model {MODEL_SAVE_FOLDER}/*"
      ],
      "metadata": {
        "colab": {
          "base_uri": "https://localhost:8080/"
        },
        "id": "psdbomF3vxjs",
        "outputId": "e967a97b-f271-425d-b84d-7b4646db61ad"
      },
      "execution_count": 58,
      "outputs": [
        {
          "output_type": "stream",
          "name": "stdout",
          "text": [
            "time: 283 µs (started: 2023-03-29 22:55:03 +00:00)\n"
          ]
        }
      ]
    },
    {
      "cell_type": "markdown",
      "source": [
        "# Evaluation"
      ],
      "metadata": {
        "id": "KEd2tpNEjRLx"
      }
    },
    {
      "cell_type": "code",
      "source": [
        "model = AutoModelForCausalLM.from_pretrained(MODEL_SAVE_FOLDER)\n",
        "trainer = Trainer(\n",
        "    model = model,\n",
        "    args=training_args,\n",
        "    train_dataset=tokenized_dataset['train'],\n",
        "    eval_dataset=tokenized_dataset['validation'],\n",
        "    data_collator = data_collator\n",
        ")"
      ],
      "metadata": {
        "colab": {
          "base_uri": "https://localhost:8080/"
        },
        "id": "3H_PNQljudHI",
        "outputId": "69dfc8b5-7014-4387-82aa-1aae20faff55"
      },
      "execution_count": 53,
      "outputs": [
        {
          "output_type": "stream",
          "name": "stdout",
          "text": [
            "time: 1.99 s (started: 2023-03-30 04:19:52 +00:00)\n"
          ]
        }
      ]
    },
    {
      "cell_type": "code",
      "source": [
        "# eval_results = trainer.evaluate()\n",
        "# perplexity = torch.exp(torch.tensor(eval_results[\"eval_loss\"]))\n",
        "# print(f'Validation Perplexity =  {perplexity.item():.2f}')"
      ],
      "metadata": {
        "colab": {
          "base_uri": "https://localhost:8080/",
          "height": 72
        },
        "id": "qDpjxNFksaPI",
        "outputId": "2423a713-91f5-4491-b836-f8127d1a88b5"
      },
      "execution_count": 54,
      "outputs": [
        {
          "output_type": "display_data",
          "data": {
            "text/plain": [
              "<IPython.core.display.HTML object>"
            ],
            "text/html": [
              "\n",
              "    <div>\n",
              "      \n",
              "      <progress value='6250' max='6250' style='width:300px; height:20px; vertical-align: middle;'></progress>\n",
              "      [6250/6250 02:40]\n",
              "    </div>\n",
              "    "
            ]
          },
          "metadata": {}
        },
        {
          "output_type": "stream",
          "name": "stdout",
          "text": [
            "Validation Perplexity =  9.67\n",
            "time: 2min 40s (started: 2023-03-30 04:20:00 +00:00)\n"
          ]
        }
      ]
    },
    {
      "cell_type": "code",
      "source": [
        "import math\n",
        "\n",
        "print(f\"Validation Perplexity: {math.exp(2.269327):.3f}\")"
      ],
      "metadata": {
        "colab": {
          "base_uri": "https://localhost:8080/"
        },
        "id": "6Kbi-Q_SwGhX",
        "outputId": "edd0325a-8580-47ef-f49b-4899e1bad067"
      },
      "execution_count": 55,
      "outputs": [
        {
          "output_type": "stream",
          "name": "stdout",
          "text": [
            "Validation Perplexity: 9.673\n",
            "time: 911 µs (started: 2023-03-30 04:22:46 +00:00)\n"
          ]
        }
      ]
    },
    {
      "cell_type": "code",
      "source": [
        "# eval_results = trainer.evaluate(tokenized_dataset[\"train\"])\n",
        "# perplexity = torch.exp(torch.tensor(eval_results[\"eval_loss\"]))\n",
        "# print(f'Train Perplexity =  {perplexity.item():.2f}')"
      ],
      "metadata": {
        "colab": {
          "base_uri": "https://localhost:8080/"
        },
        "id": "3nEjQiAb260X",
        "outputId": "d171d927-a939-438d-a8c1-28fc35af1ac9"
      },
      "execution_count": 28,
      "outputs": [
        {
          "output_type": "stream",
          "name": "stdout",
          "text": [
            "time: 272 µs (started: 2023-03-30 02:24:17 +00:00)\n"
          ]
        }
      ]
    },
    {
      "cell_type": "code",
      "source": [
        "prompt = 'Era uma vez na fazenda '\n",
        "inputs = tokenizer(prompt, return_tensors='pt')\n",
        "\n",
        "# Generate\n",
        "generate_ids = model.generate(inputs.input_ids.to(device), max_length=30)\n",
        "tokenizer.batch_decode(generate_ids, skip_special_tokens=True, clean_up_tokenization_spaces=False)[0]"
      ],
      "metadata": {
        "colab": {
          "base_uri": "https://localhost:8080/",
          "height": 35
        },
        "id": "uRgUhhsHfNhl",
        "outputId": "fc754e29-21fb-4779-a0cc-8f8049516807"
      },
      "execution_count": 56,
      "outputs": [
        {
          "output_type": "execute_result",
          "data": {
            "text/plain": [
              "'Era uma vez na fazenda irmã de um homem que se encontrava com um pai. Ele'"
            ],
            "application/vnd.google.colaboratory.intrinsic+json": {
              "type": "string"
            }
          },
          "metadata": {},
          "execution_count": 56
        },
        {
          "output_type": "stream",
          "name": "stdout",
          "text": [
            "time: 1.48 s (started: 2023-03-30 04:26:04 +00:00)\n"
          ]
        }
      ]
    },
    {
      "cell_type": "code",
      "source": [
        "from transformers import pipeline\n",
        "\n",
        "pipe = pipeline('text-generation', model=MODEL_SAVE_FOLDER, tokenizer=tokenizer, max_length=30)"
      ],
      "metadata": {
        "colab": {
          "base_uri": "https://localhost:8080/"
        },
        "id": "G-TjQ2PR7VK0",
        "outputId": "f0305f94-13a9-4de2-b920-465d5c75b619"
      },
      "execution_count": 58,
      "outputs": [
        {
          "output_type": "stream",
          "name": "stdout",
          "text": [
            "time: 1.96 s (started: 2023-03-30 04:27:07 +00:00)\n"
          ]
        }
      ]
    },
    {
      "cell_type": "code",
      "source": [
        "#print(pipe(\"Era uma vez na fazenda \", num_return_sequences=1)[0][\"generated_text\"])"
      ],
      "metadata": {
        "colab": {
          "base_uri": "https://localhost:8080/"
        },
        "id": "4NVXWRcR7dG5",
        "outputId": "bac2588a-e3e5-4724-f0ac-c96bd651ab86"
      },
      "execution_count": 59,
      "outputs": [
        {
          "output_type": "stream",
          "name": "stdout",
          "text": [
            "Era uma vez na fazenda irmã de um homem que se encontrava com um pai. Ele est\n",
            "time: 375 ms (started: 2023-03-30 04:27:19 +00:00)\n"
          ]
        }
      ]
    },
    {
      "cell_type": "code",
      "source": [
        "#print(pipe(\"era uma vez na fazenda\", num_return_sequences=1, max_length=200)[0][\"generated_text\"])\n",
        "\n",
        "prompt = \"Era uma vez na fazenda \"\n",
        "for _ in range(10):\n",
        "    print(pipe(prompt, max_length=50, do_sample=True)[0][\"generated_text\"])"
      ],
      "metadata": {
        "colab": {
          "base_uri": "https://localhost:8080/"
        },
        "id": "bo8v_2987nTy",
        "outputId": "402119e3-61b8-42f8-8912-4bd0cd8655be"
      },
      "execution_count": 60,
      "outputs": [
        {
          "output_type": "stream",
          "name": "stdout",
          "text": [
            "Era uma vez na fazenda irmã, e seu vizinho e o vizinho que comanda o salão de restaurantes com a cachoeira e a borboleta. Na frent\n",
            "Era uma vez na fazenda irmão o destacando e os dias de hoje fomei meus olhos de manho que a chuva deu conta de que meu am\n",
            "Era uma vez na fazenda irmão de Paulo que, no início dos anos 90, tanto na família do empresário, como na família dos comerci\n",
            "Era uma vez na fazenda és outra até o nome do Sr. Manoel, com quem era um jovem és a primeira a conhecer minha cidade.\n",
            "Era uma vez na fazenda irmão que desafiu a vida para poder se dedicar ao povo que ele tinha. Ele, por sua vez, foi um grande\n",
            "Era uma vez na fazenda ilesa do sossego Zey, um pediatra que fez a reativação dos dentes fazendo parte da rotina com as crian\n",
            "Era uma vez na fazenda Â nãos que, hoje em dia, se escondeu à beira de uma linda família. Não é assim. Um grupo\n",
            "Era uma vez na fazenda irmã do casal que pessoas de coração amada e muito amadora deu àquelas que gostavam de se amare\n",
            "Era uma vez na fazenda ilegal a mãe de um filho que estava comercialando seus produtos. A mãe da menina sentiu-se aos dentes\n",
            "Era uma vez na fazenda irmão irmã que não era um político, mas não tinha como se aproveitar para se envolver em uma mudança\n",
            "time: 8.46 s (started: 2023-03-30 04:27:54 +00:00)\n"
          ]
        }
      ]
    },
    {
      "cell_type": "code",
      "source": [
        "prompt = \"Era uma vez na fazenda \"\n",
        "for _ in range(10):\n",
        "    print(pipe(prompt, max_length=50, do_sample=True, num_beams=5, early_stopping=True, no_repeat_ngram_size=2)[0][\"generated_text\"])\n"
      ],
      "metadata": {
        "colab": {
          "base_uri": "https://localhost:8080/"
        },
        "id": "YIazsOa3Arg_",
        "outputId": "617a5078-2aea-4fe4-8076-1d9747fb875a"
      },
      "execution_count": 62,
      "outputs": [
        {
          "output_type": "stream",
          "name": "stdout",
          "text": [
            "Era uma vez na fazenda irmã, que a gente ficou muito feliz com o trabalho de nossa família. Estávamos juntos em u\n",
            "Era uma vez na fazenda Ângela, na cidade de Santo Antônio de Jesus, no Rio de Janeiro, que se encontrava com a família de um homem\n",
            "Era uma vez na fazenda irmã de um grupo de amigos que estavam na cidade de Florianópolis, nos Estados Unidos. Eles se encontrav\n",
            "Era uma vez na fazenda irmã de um grupo de pessoas que trabalhavam como lanchonete. Eles tinham um grande público, que\n",
            "Era uma vez na fazenda Ângela, no bairro São João, que eu tinha oportunidade de conhecer um pouco mais sobre a histó\n",
            "Era uma vez na fazenda irmã de um jovem de 19 anos que acabou de morar em um apartamento na cidade de São José dos Campos, no interior de\n",
            "Era uma vez na fazenda irmã de um jovem de 16 anos que, após a morte de sua mãe, decidiu seguir para a cidade de\n",
            "Era uma vez na fazenda irmã de um jovem de 20 anos, que se encontrava em um apartamento na Zona Norte de São Paulo. A vítima\n",
            "Era uma vez na fazenda irmã de um amigo que eu tinha ouvido falar sobre o assunto. Não sabia o que fazer, mas acho que quando\n",
            "Era uma vez na fazenda Ângela, no bairro de São Bento, que se encontrava com um grupo de moradores que estavam próximos de\n",
            "time: 14.3 s (started: 2023-03-30 04:28:24 +00:00)\n"
          ]
        }
      ]
    },
    {
      "cell_type": "code",
      "source": [
        "# Leonardo Augusto da Silva Pacheco - https://github.com/leonardo3108/IA368dd/blob/main/exercicios/Aula_5/Aula_5_Treino_Modelo_de_Linguagem.ipynb\n",
        "\n",
        "prompt = 'Era uma vez na fazenda '\n",
        "max_output_tokens = 20\n",
        "model.eval()\n",
        "\n",
        "for _ in range(max_output_tokens):\n",
        "    input_ids = tokenizer(text=prompt)['input_ids']\n",
        "    input_ids_truncated = input_ids[-MAX_SEQ_LENGTH:]  # Usamos apenas os últimos tokens como entrada para o modelo.\n",
        "    output = model(torch.LongTensor([input_ids_truncated]).to(device))\n",
        "    logits = output['logits'][:, -1, :]  # Usamos apenas o ultimo token da sequencia\n",
        "    predicted_id = torch.argmax(logits).item()  # extraindo o token de maior probabilidade (greedy decoding)\n",
        "    input_ids += [predicted_id]  # Concatenamos a entrada com o token escolhido nesse passo.\n",
        "    prompt = tokenizer.decode(input_ids)\n",
        "    print(prompt.replace('</s>', ''))"
      ],
      "metadata": {
        "colab": {
          "base_uri": "https://localhost:8080/"
        },
        "id": "Z7jJYwfrvmHI",
        "outputId": "7ff10c4f-40ec-41aa-f894-14eafb7e3d70"
      },
      "execution_count": 61,
      "outputs": [
        {
          "output_type": "stream",
          "name": "stdout",
          "text": [
            "Era uma vez na fazenda irm\n",
            "Era uma vez na fazenda irmã\n",
            "Era uma vez na fazenda irmã de\n",
            "Era uma vez na fazenda irmã de um\n",
            "Era uma vez na fazenda irmã de um am\n",
            "Era uma vez na fazenda irmã de um amigo\n",
            "Era uma vez na fazenda irmã de um amigo de\n",
            "Era uma vez na fazenda irmã de um amigo de um\n",
            "Era uma vez na fazenda irmã de um amigo de um dos\n",
            "Era uma vez na fazenda irmã de um amigo de um dos m\n",
            "Era uma vez na fazenda irmã de um amigo de um dos mais\n",
            "Era uma vez na fazenda irmã de um amigo de um dos mais important\n",
            "Era uma vez na fazenda irmã de um amigo de um dos mais importantes\n",
            "Era uma vez na fazenda irmã de um amigo de um dos mais importantes adv\n",
            "Era uma vez na fazenda irmã de um amigo de um dos mais importantes advog\n",
            "Era uma vez na fazenda irmã de um amigo de um dos mais importantes advogados\n",
            "Era uma vez na fazenda irmã de um amigo de um dos mais importantes advogados do\n",
            "Era uma vez na fazenda irmã de um amigo de um dos mais importantes advogados do Bras\n",
            "Era uma vez na fazenda irmã de um amigo de um dos mais importantes advogados do Brasil\n",
            "Era uma vez na fazenda irmã de um amigo de um dos mais importantes advogados do Brasil,\n",
            "time: 313 ms (started: 2023-03-30 04:28:16 +00:00)\n"
          ]
        }
      ]
    },
    {
      "cell_type": "markdown",
      "source": [
        "# Results\n",
        "\n",
        "split train/validation (200.000, 50.000)\n",
        "\n",
        "| seq length | epochs | batch size |    gpu    | time/epoch | val_ppl |\n",
        "|:----------:|:------:|:----------:|:---------:|:----------:|:-------:|\n",
        "|     256    |    1   |      4     |  T4 16GB  |     ~2h    |  31.67  |\n",
        "|     512    |    1   |      4     |  T4 16GB  |     OOM    |    -    |\n",
        "|     512    |    1   |      8     | A100 40GB |    45min   |  10.96  |\n",
        "|     512    |   1+1  |      8     | A100 40GB | colab fail |    -    |\n",
        "|     512    |    2   |      8     | A100 40GB |     ~2h    |   9.67  |\n",
        "|    1024    |    1   |     16     | A100 40GB |     OOM    |    -    |"
      ],
      "metadata": {
        "id": "b4hGBK9uwKXf"
      }
    },
    {
      "cell_type": "markdown",
      "source": [
        "----"
      ],
      "metadata": {
        "id": "Hl3CwFerSHyS"
      }
    }
  ],
  "metadata": {
    "colab": {
      "provenance": []
    },
    "gpuClass": "premium",
    "kernelspec": {
      "display_name": "Python 3 (ipykernel)",
      "language": "python",
      "name": "python3"
    },
    "language_info": {
      "codemirror_mode": {
        "name": "ipython",
        "version": 3
      },
      "file_extension": ".py",
      "mimetype": "text/x-python",
      "name": "python",
      "nbconvert_exporter": "python",
      "pygments_lexer": "ipython3",
      "version": "3.9.12"
    },
    "widgets": {
      "application/vnd.jupyter.widget-state+json": {
        "b420cac49b254e79a4f8e2c701e1582d": {
          "model_module": "@jupyter-widgets/controls",
          "model_name": "HBoxModel",
          "model_module_version": "1.5.0",
          "state": {
            "_dom_classes": [],
            "_model_module": "@jupyter-widgets/controls",
            "_model_module_version": "1.5.0",
            "_model_name": "HBoxModel",
            "_view_count": null,
            "_view_module": "@jupyter-widgets/controls",
            "_view_module_version": "1.5.0",
            "_view_name": "HBoxView",
            "box_style": "",
            "children": [
              "IPY_MODEL_44e4e227c4d74f29aee155d17e23986f",
              "IPY_MODEL_1bc9f50514ab47cf8e08deb568050fe0",
              "IPY_MODEL_2d93b52dd25f45a38529e2b68c01b149"
            ],
            "layout": "IPY_MODEL_900a409a027d4e9288702b57db947c57"
          }
        },
        "44e4e227c4d74f29aee155d17e23986f": {
          "model_module": "@jupyter-widgets/controls",
          "model_name": "HTMLModel",
          "model_module_version": "1.5.0",
          "state": {
            "_dom_classes": [],
            "_model_module": "@jupyter-widgets/controls",
            "_model_module_version": "1.5.0",
            "_model_name": "HTMLModel",
            "_view_count": null,
            "_view_module": "@jupyter-widgets/controls",
            "_view_module_version": "1.5.0",
            "_view_name": "HTMLView",
            "description": "",
            "description_tooltip": null,
            "layout": "IPY_MODEL_386c904beb804baf844d5df1b931ef75",
            "placeholder": "​",
            "style": "IPY_MODEL_908fa225c60349acb663868a31ffbfc2",
            "value": "100%"
          }
        },
        "1bc9f50514ab47cf8e08deb568050fe0": {
          "model_module": "@jupyter-widgets/controls",
          "model_name": "FloatProgressModel",
          "model_module_version": "1.5.0",
          "state": {
            "_dom_classes": [],
            "_model_module": "@jupyter-widgets/controls",
            "_model_module_version": "1.5.0",
            "_model_name": "FloatProgressModel",
            "_view_count": null,
            "_view_module": "@jupyter-widgets/controls",
            "_view_module_version": "1.5.0",
            "_view_name": "ProgressView",
            "bar_style": "success",
            "description": "",
            "description_tooltip": null,
            "layout": "IPY_MODEL_a17c9e45f4114f8f8f272c91fc3f8d41",
            "max": 1,
            "min": 0,
            "orientation": "horizontal",
            "style": "IPY_MODEL_cdf8b7e7d0f2433c9e2e65d6da0d60ee",
            "value": 1
          }
        },
        "2d93b52dd25f45a38529e2b68c01b149": {
          "model_module": "@jupyter-widgets/controls",
          "model_name": "HTMLModel",
          "model_module_version": "1.5.0",
          "state": {
            "_dom_classes": [],
            "_model_module": "@jupyter-widgets/controls",
            "_model_module_version": "1.5.0",
            "_model_name": "HTMLModel",
            "_view_count": null,
            "_view_module": "@jupyter-widgets/controls",
            "_view_module_version": "1.5.0",
            "_view_name": "HTMLView",
            "description": "",
            "description_tooltip": null,
            "layout": "IPY_MODEL_4f5ff88f4de24c3d8c33934e2890dd03",
            "placeholder": "​",
            "style": "IPY_MODEL_3ddac26439384981b5abc361d8ffb4c0",
            "value": " 1/1 [00:00&lt;00:00, 70.35it/s]"
          }
        },
        "900a409a027d4e9288702b57db947c57": {
          "model_module": "@jupyter-widgets/base",
          "model_name": "LayoutModel",
          "model_module_version": "1.2.0",
          "state": {
            "_model_module": "@jupyter-widgets/base",
            "_model_module_version": "1.2.0",
            "_model_name": "LayoutModel",
            "_view_count": null,
            "_view_module": "@jupyter-widgets/base",
            "_view_module_version": "1.2.0",
            "_view_name": "LayoutView",
            "align_content": null,
            "align_items": null,
            "align_self": null,
            "border": null,
            "bottom": null,
            "display": null,
            "flex": null,
            "flex_flow": null,
            "grid_area": null,
            "grid_auto_columns": null,
            "grid_auto_flow": null,
            "grid_auto_rows": null,
            "grid_column": null,
            "grid_gap": null,
            "grid_row": null,
            "grid_template_areas": null,
            "grid_template_columns": null,
            "grid_template_rows": null,
            "height": null,
            "justify_content": null,
            "justify_items": null,
            "left": null,
            "margin": null,
            "max_height": null,
            "max_width": null,
            "min_height": null,
            "min_width": null,
            "object_fit": null,
            "object_position": null,
            "order": null,
            "overflow": null,
            "overflow_x": null,
            "overflow_y": null,
            "padding": null,
            "right": null,
            "top": null,
            "visibility": null,
            "width": null
          }
        },
        "386c904beb804baf844d5df1b931ef75": {
          "model_module": "@jupyter-widgets/base",
          "model_name": "LayoutModel",
          "model_module_version": "1.2.0",
          "state": {
            "_model_module": "@jupyter-widgets/base",
            "_model_module_version": "1.2.0",
            "_model_name": "LayoutModel",
            "_view_count": null,
            "_view_module": "@jupyter-widgets/base",
            "_view_module_version": "1.2.0",
            "_view_name": "LayoutView",
            "align_content": null,
            "align_items": null,
            "align_self": null,
            "border": null,
            "bottom": null,
            "display": null,
            "flex": null,
            "flex_flow": null,
            "grid_area": null,
            "grid_auto_columns": null,
            "grid_auto_flow": null,
            "grid_auto_rows": null,
            "grid_column": null,
            "grid_gap": null,
            "grid_row": null,
            "grid_template_areas": null,
            "grid_template_columns": null,
            "grid_template_rows": null,
            "height": null,
            "justify_content": null,
            "justify_items": null,
            "left": null,
            "margin": null,
            "max_height": null,
            "max_width": null,
            "min_height": null,
            "min_width": null,
            "object_fit": null,
            "object_position": null,
            "order": null,
            "overflow": null,
            "overflow_x": null,
            "overflow_y": null,
            "padding": null,
            "right": null,
            "top": null,
            "visibility": null,
            "width": null
          }
        },
        "908fa225c60349acb663868a31ffbfc2": {
          "model_module": "@jupyter-widgets/controls",
          "model_name": "DescriptionStyleModel",
          "model_module_version": "1.5.0",
          "state": {
            "_model_module": "@jupyter-widgets/controls",
            "_model_module_version": "1.5.0",
            "_model_name": "DescriptionStyleModel",
            "_view_count": null,
            "_view_module": "@jupyter-widgets/base",
            "_view_module_version": "1.2.0",
            "_view_name": "StyleView",
            "description_width": ""
          }
        },
        "a17c9e45f4114f8f8f272c91fc3f8d41": {
          "model_module": "@jupyter-widgets/base",
          "model_name": "LayoutModel",
          "model_module_version": "1.2.0",
          "state": {
            "_model_module": "@jupyter-widgets/base",
            "_model_module_version": "1.2.0",
            "_model_name": "LayoutModel",
            "_view_count": null,
            "_view_module": "@jupyter-widgets/base",
            "_view_module_version": "1.2.0",
            "_view_name": "LayoutView",
            "align_content": null,
            "align_items": null,
            "align_self": null,
            "border": null,
            "bottom": null,
            "display": null,
            "flex": null,
            "flex_flow": null,
            "grid_area": null,
            "grid_auto_columns": null,
            "grid_auto_flow": null,
            "grid_auto_rows": null,
            "grid_column": null,
            "grid_gap": null,
            "grid_row": null,
            "grid_template_areas": null,
            "grid_template_columns": null,
            "grid_template_rows": null,
            "height": null,
            "justify_content": null,
            "justify_items": null,
            "left": null,
            "margin": null,
            "max_height": null,
            "max_width": null,
            "min_height": null,
            "min_width": null,
            "object_fit": null,
            "object_position": null,
            "order": null,
            "overflow": null,
            "overflow_x": null,
            "overflow_y": null,
            "padding": null,
            "right": null,
            "top": null,
            "visibility": null,
            "width": null
          }
        },
        "cdf8b7e7d0f2433c9e2e65d6da0d60ee": {
          "model_module": "@jupyter-widgets/controls",
          "model_name": "ProgressStyleModel",
          "model_module_version": "1.5.0",
          "state": {
            "_model_module": "@jupyter-widgets/controls",
            "_model_module_version": "1.5.0",
            "_model_name": "ProgressStyleModel",
            "_view_count": null,
            "_view_module": "@jupyter-widgets/base",
            "_view_module_version": "1.2.0",
            "_view_name": "StyleView",
            "bar_color": null,
            "description_width": ""
          }
        },
        "4f5ff88f4de24c3d8c33934e2890dd03": {
          "model_module": "@jupyter-widgets/base",
          "model_name": "LayoutModel",
          "model_module_version": "1.2.0",
          "state": {
            "_model_module": "@jupyter-widgets/base",
            "_model_module_version": "1.2.0",
            "_model_name": "LayoutModel",
            "_view_count": null,
            "_view_module": "@jupyter-widgets/base",
            "_view_module_version": "1.2.0",
            "_view_name": "LayoutView",
            "align_content": null,
            "align_items": null,
            "align_self": null,
            "border": null,
            "bottom": null,
            "display": null,
            "flex": null,
            "flex_flow": null,
            "grid_area": null,
            "grid_auto_columns": null,
            "grid_auto_flow": null,
            "grid_auto_rows": null,
            "grid_column": null,
            "grid_gap": null,
            "grid_row": null,
            "grid_template_areas": null,
            "grid_template_columns": null,
            "grid_template_rows": null,
            "height": null,
            "justify_content": null,
            "justify_items": null,
            "left": null,
            "margin": null,
            "max_height": null,
            "max_width": null,
            "min_height": null,
            "min_width": null,
            "object_fit": null,
            "object_position": null,
            "order": null,
            "overflow": null,
            "overflow_x": null,
            "overflow_y": null,
            "padding": null,
            "right": null,
            "top": null,
            "visibility": null,
            "width": null
          }
        },
        "3ddac26439384981b5abc361d8ffb4c0": {
          "model_module": "@jupyter-widgets/controls",
          "model_name": "DescriptionStyleModel",
          "model_module_version": "1.5.0",
          "state": {
            "_model_module": "@jupyter-widgets/controls",
            "_model_module_version": "1.5.0",
            "_model_name": "DescriptionStyleModel",
            "_view_count": null,
            "_view_module": "@jupyter-widgets/base",
            "_view_module_version": "1.2.0",
            "_view_name": "StyleView",
            "description_width": ""
          }
        },
        "86a6005893024393b38820ac7f2113b5": {
          "model_module": "@jupyter-widgets/controls",
          "model_name": "HBoxModel",
          "model_module_version": "1.5.0",
          "state": {
            "_dom_classes": [],
            "_model_module": "@jupyter-widgets/controls",
            "_model_module_version": "1.5.0",
            "_model_name": "HBoxModel",
            "_view_count": null,
            "_view_module": "@jupyter-widgets/controls",
            "_view_module_version": "1.5.0",
            "_view_name": "HBoxView",
            "box_style": "",
            "children": [
              "IPY_MODEL_b6c0a89680ce4192a4d214912a6ab520",
              "IPY_MODEL_160d576e4b914a42a53486352c143d80",
              "IPY_MODEL_58eb2b6e552e47fe99b3ca5cdd300a44"
            ],
            "layout": "IPY_MODEL_7e851357bb544ad0aa85223bf70e92df"
          }
        },
        "b6c0a89680ce4192a4d214912a6ab520": {
          "model_module": "@jupyter-widgets/controls",
          "model_name": "HTMLModel",
          "model_module_version": "1.5.0",
          "state": {
            "_dom_classes": [],
            "_model_module": "@jupyter-widgets/controls",
            "_model_module_version": "1.5.0",
            "_model_name": "HTMLModel",
            "_view_count": null,
            "_view_module": "@jupyter-widgets/controls",
            "_view_module_version": "1.5.0",
            "_view_name": "HTMLView",
            "description": "",
            "description_tooltip": null,
            "layout": "IPY_MODEL_7d13c7695af04860b63bf467dff8db95",
            "placeholder": "​",
            "style": "IPY_MODEL_48f9e08317554a338a7e8ad99dff6ed0",
            "value": "100%"
          }
        },
        "160d576e4b914a42a53486352c143d80": {
          "model_module": "@jupyter-widgets/controls",
          "model_name": "FloatProgressModel",
          "model_module_version": "1.5.0",
          "state": {
            "_dom_classes": [],
            "_model_module": "@jupyter-widgets/controls",
            "_model_module_version": "1.5.0",
            "_model_name": "FloatProgressModel",
            "_view_count": null,
            "_view_module": "@jupyter-widgets/controls",
            "_view_module_version": "1.5.0",
            "_view_name": "ProgressView",
            "bar_style": "success",
            "description": "",
            "description_tooltip": null,
            "layout": "IPY_MODEL_0f851bc51d7c48b58daf61989e949b40",
            "max": 1,
            "min": 0,
            "orientation": "horizontal",
            "style": "IPY_MODEL_e7c77ffd6ef940b98549b37b96f6264c",
            "value": 1
          }
        },
        "58eb2b6e552e47fe99b3ca5cdd300a44": {
          "model_module": "@jupyter-widgets/controls",
          "model_name": "HTMLModel",
          "model_module_version": "1.5.0",
          "state": {
            "_dom_classes": [],
            "_model_module": "@jupyter-widgets/controls",
            "_model_module_version": "1.5.0",
            "_model_name": "HTMLModel",
            "_view_count": null,
            "_view_module": "@jupyter-widgets/controls",
            "_view_module_version": "1.5.0",
            "_view_name": "HTMLView",
            "description": "",
            "description_tooltip": null,
            "layout": "IPY_MODEL_ecdb2364fab74fb5a048a201e6570aaf",
            "placeholder": "​",
            "style": "IPY_MODEL_5ae13b7263ab4538a22a14c3a5e48c79",
            "value": " 1/1 [00:00&lt;00:00, 49.46it/s]"
          }
        },
        "7e851357bb544ad0aa85223bf70e92df": {
          "model_module": "@jupyter-widgets/base",
          "model_name": "LayoutModel",
          "model_module_version": "1.2.0",
          "state": {
            "_model_module": "@jupyter-widgets/base",
            "_model_module_version": "1.2.0",
            "_model_name": "LayoutModel",
            "_view_count": null,
            "_view_module": "@jupyter-widgets/base",
            "_view_module_version": "1.2.0",
            "_view_name": "LayoutView",
            "align_content": null,
            "align_items": null,
            "align_self": null,
            "border": null,
            "bottom": null,
            "display": null,
            "flex": null,
            "flex_flow": null,
            "grid_area": null,
            "grid_auto_columns": null,
            "grid_auto_flow": null,
            "grid_auto_rows": null,
            "grid_column": null,
            "grid_gap": null,
            "grid_row": null,
            "grid_template_areas": null,
            "grid_template_columns": null,
            "grid_template_rows": null,
            "height": null,
            "justify_content": null,
            "justify_items": null,
            "left": null,
            "margin": null,
            "max_height": null,
            "max_width": null,
            "min_height": null,
            "min_width": null,
            "object_fit": null,
            "object_position": null,
            "order": null,
            "overflow": null,
            "overflow_x": null,
            "overflow_y": null,
            "padding": null,
            "right": null,
            "top": null,
            "visibility": null,
            "width": null
          }
        },
        "7d13c7695af04860b63bf467dff8db95": {
          "model_module": "@jupyter-widgets/base",
          "model_name": "LayoutModel",
          "model_module_version": "1.2.0",
          "state": {
            "_model_module": "@jupyter-widgets/base",
            "_model_module_version": "1.2.0",
            "_model_name": "LayoutModel",
            "_view_count": null,
            "_view_module": "@jupyter-widgets/base",
            "_view_module_version": "1.2.0",
            "_view_name": "LayoutView",
            "align_content": null,
            "align_items": null,
            "align_self": null,
            "border": null,
            "bottom": null,
            "display": null,
            "flex": null,
            "flex_flow": null,
            "grid_area": null,
            "grid_auto_columns": null,
            "grid_auto_flow": null,
            "grid_auto_rows": null,
            "grid_column": null,
            "grid_gap": null,
            "grid_row": null,
            "grid_template_areas": null,
            "grid_template_columns": null,
            "grid_template_rows": null,
            "height": null,
            "justify_content": null,
            "justify_items": null,
            "left": null,
            "margin": null,
            "max_height": null,
            "max_width": null,
            "min_height": null,
            "min_width": null,
            "object_fit": null,
            "object_position": null,
            "order": null,
            "overflow": null,
            "overflow_x": null,
            "overflow_y": null,
            "padding": null,
            "right": null,
            "top": null,
            "visibility": null,
            "width": null
          }
        },
        "48f9e08317554a338a7e8ad99dff6ed0": {
          "model_module": "@jupyter-widgets/controls",
          "model_name": "DescriptionStyleModel",
          "model_module_version": "1.5.0",
          "state": {
            "_model_module": "@jupyter-widgets/controls",
            "_model_module_version": "1.5.0",
            "_model_name": "DescriptionStyleModel",
            "_view_count": null,
            "_view_module": "@jupyter-widgets/base",
            "_view_module_version": "1.2.0",
            "_view_name": "StyleView",
            "description_width": ""
          }
        },
        "0f851bc51d7c48b58daf61989e949b40": {
          "model_module": "@jupyter-widgets/base",
          "model_name": "LayoutModel",
          "model_module_version": "1.2.0",
          "state": {
            "_model_module": "@jupyter-widgets/base",
            "_model_module_version": "1.2.0",
            "_model_name": "LayoutModel",
            "_view_count": null,
            "_view_module": "@jupyter-widgets/base",
            "_view_module_version": "1.2.0",
            "_view_name": "LayoutView",
            "align_content": null,
            "align_items": null,
            "align_self": null,
            "border": null,
            "bottom": null,
            "display": null,
            "flex": null,
            "flex_flow": null,
            "grid_area": null,
            "grid_auto_columns": null,
            "grid_auto_flow": null,
            "grid_auto_rows": null,
            "grid_column": null,
            "grid_gap": null,
            "grid_row": null,
            "grid_template_areas": null,
            "grid_template_columns": null,
            "grid_template_rows": null,
            "height": null,
            "justify_content": null,
            "justify_items": null,
            "left": null,
            "margin": null,
            "max_height": null,
            "max_width": null,
            "min_height": null,
            "min_width": null,
            "object_fit": null,
            "object_position": null,
            "order": null,
            "overflow": null,
            "overflow_x": null,
            "overflow_y": null,
            "padding": null,
            "right": null,
            "top": null,
            "visibility": null,
            "width": null
          }
        },
        "e7c77ffd6ef940b98549b37b96f6264c": {
          "model_module": "@jupyter-widgets/controls",
          "model_name": "ProgressStyleModel",
          "model_module_version": "1.5.0",
          "state": {
            "_model_module": "@jupyter-widgets/controls",
            "_model_module_version": "1.5.0",
            "_model_name": "ProgressStyleModel",
            "_view_count": null,
            "_view_module": "@jupyter-widgets/base",
            "_view_module_version": "1.2.0",
            "_view_name": "StyleView",
            "bar_color": null,
            "description_width": ""
          }
        },
        "ecdb2364fab74fb5a048a201e6570aaf": {
          "model_module": "@jupyter-widgets/base",
          "model_name": "LayoutModel",
          "model_module_version": "1.2.0",
          "state": {
            "_model_module": "@jupyter-widgets/base",
            "_model_module_version": "1.2.0",
            "_model_name": "LayoutModel",
            "_view_count": null,
            "_view_module": "@jupyter-widgets/base",
            "_view_module_version": "1.2.0",
            "_view_name": "LayoutView",
            "align_content": null,
            "align_items": null,
            "align_self": null,
            "border": null,
            "bottom": null,
            "display": null,
            "flex": null,
            "flex_flow": null,
            "grid_area": null,
            "grid_auto_columns": null,
            "grid_auto_flow": null,
            "grid_auto_rows": null,
            "grid_column": null,
            "grid_gap": null,
            "grid_row": null,
            "grid_template_areas": null,
            "grid_template_columns": null,
            "grid_template_rows": null,
            "height": null,
            "justify_content": null,
            "justify_items": null,
            "left": null,
            "margin": null,
            "max_height": null,
            "max_width": null,
            "min_height": null,
            "min_width": null,
            "object_fit": null,
            "object_position": null,
            "order": null,
            "overflow": null,
            "overflow_x": null,
            "overflow_y": null,
            "padding": null,
            "right": null,
            "top": null,
            "visibility": null,
            "width": null
          }
        },
        "5ae13b7263ab4538a22a14c3a5e48c79": {
          "model_module": "@jupyter-widgets/controls",
          "model_name": "DescriptionStyleModel",
          "model_module_version": "1.5.0",
          "state": {
            "_model_module": "@jupyter-widgets/controls",
            "_model_module_version": "1.5.0",
            "_model_name": "DescriptionStyleModel",
            "_view_count": null,
            "_view_module": "@jupyter-widgets/base",
            "_view_module_version": "1.2.0",
            "_view_name": "StyleView",
            "description_width": ""
          }
        },
        "54cc7182b31046539bae4a64fcfccfab": {
          "model_module": "@jupyter-widgets/controls",
          "model_name": "HBoxModel",
          "model_module_version": "1.5.0",
          "state": {
            "_dom_classes": [],
            "_model_module": "@jupyter-widgets/controls",
            "_model_module_version": "1.5.0",
            "_model_name": "HBoxModel",
            "_view_count": null,
            "_view_module": "@jupyter-widgets/controls",
            "_view_module_version": "1.5.0",
            "_view_name": "HBoxView",
            "box_style": "",
            "children": [
              "IPY_MODEL_f3f0c749f95b47eca83fe6112c0c12b0",
              "IPY_MODEL_c392cff9bc3d44f098c4b44af8db4d41",
              "IPY_MODEL_226f88d9724843a49049d1940b3174d6"
            ],
            "layout": "IPY_MODEL_709a1ea169af4816b9251bf5a1b8114f"
          }
        },
        "f3f0c749f95b47eca83fe6112c0c12b0": {
          "model_module": "@jupyter-widgets/controls",
          "model_name": "HTMLModel",
          "model_module_version": "1.5.0",
          "state": {
            "_dom_classes": [],
            "_model_module": "@jupyter-widgets/controls",
            "_model_module_version": "1.5.0",
            "_model_name": "HTMLModel",
            "_view_count": null,
            "_view_module": "@jupyter-widgets/controls",
            "_view_module_version": "1.5.0",
            "_view_name": "HTMLView",
            "description": "",
            "description_tooltip": null,
            "layout": "IPY_MODEL_3af391f90c0641488d4a47bbababa5ea",
            "placeholder": "​",
            "style": "IPY_MODEL_6ce88d2124f949cf96917a9bd35bc08c",
            "value": "Saving the dataset (1/2 shards):  50%"
          }
        },
        "c392cff9bc3d44f098c4b44af8db4d41": {
          "model_module": "@jupyter-widgets/controls",
          "model_name": "FloatProgressModel",
          "model_module_version": "1.5.0",
          "state": {
            "_dom_classes": [],
            "_model_module": "@jupyter-widgets/controls",
            "_model_module_version": "1.5.0",
            "_model_name": "FloatProgressModel",
            "_view_count": null,
            "_view_module": "@jupyter-widgets/controls",
            "_view_module_version": "1.5.0",
            "_view_name": "ProgressView",
            "bar_style": "danger",
            "description": "",
            "description_tooltip": null,
            "layout": "IPY_MODEL_68ebc59d52e34ad3866ecb6bc4aadd94",
            "max": 200000,
            "min": 0,
            "orientation": "horizontal",
            "style": "IPY_MODEL_371384cdd2f24992b7f2c7ef755a3f11",
            "value": 100000
          }
        },
        "226f88d9724843a49049d1940b3174d6": {
          "model_module": "@jupyter-widgets/controls",
          "model_name": "HTMLModel",
          "model_module_version": "1.5.0",
          "state": {
            "_dom_classes": [],
            "_model_module": "@jupyter-widgets/controls",
            "_model_module_version": "1.5.0",
            "_model_name": "HTMLModel",
            "_view_count": null,
            "_view_module": "@jupyter-widgets/controls",
            "_view_module_version": "1.5.0",
            "_view_name": "HTMLView",
            "description": "",
            "description_tooltip": null,
            "layout": "IPY_MODEL_2516f9481c2e47d0810344a3088059e0",
            "placeholder": "​",
            "style": "IPY_MODEL_486e0698a06f4109b696f27f42021969",
            "value": " 100000/200000 [00:00&lt;00:00, 185770.49 examples/s]"
          }
        },
        "709a1ea169af4816b9251bf5a1b8114f": {
          "model_module": "@jupyter-widgets/base",
          "model_name": "LayoutModel",
          "model_module_version": "1.2.0",
          "state": {
            "_model_module": "@jupyter-widgets/base",
            "_model_module_version": "1.2.0",
            "_model_name": "LayoutModel",
            "_view_count": null,
            "_view_module": "@jupyter-widgets/base",
            "_view_module_version": "1.2.0",
            "_view_name": "LayoutView",
            "align_content": null,
            "align_items": null,
            "align_self": null,
            "border": null,
            "bottom": null,
            "display": null,
            "flex": null,
            "flex_flow": null,
            "grid_area": null,
            "grid_auto_columns": null,
            "grid_auto_flow": null,
            "grid_auto_rows": null,
            "grid_column": null,
            "grid_gap": null,
            "grid_row": null,
            "grid_template_areas": null,
            "grid_template_columns": null,
            "grid_template_rows": null,
            "height": null,
            "justify_content": null,
            "justify_items": null,
            "left": null,
            "margin": null,
            "max_height": null,
            "max_width": null,
            "min_height": null,
            "min_width": null,
            "object_fit": null,
            "object_position": null,
            "order": null,
            "overflow": null,
            "overflow_x": null,
            "overflow_y": null,
            "padding": null,
            "right": null,
            "top": null,
            "visibility": null,
            "width": null
          }
        },
        "3af391f90c0641488d4a47bbababa5ea": {
          "model_module": "@jupyter-widgets/base",
          "model_name": "LayoutModel",
          "model_module_version": "1.2.0",
          "state": {
            "_model_module": "@jupyter-widgets/base",
            "_model_module_version": "1.2.0",
            "_model_name": "LayoutModel",
            "_view_count": null,
            "_view_module": "@jupyter-widgets/base",
            "_view_module_version": "1.2.0",
            "_view_name": "LayoutView",
            "align_content": null,
            "align_items": null,
            "align_self": null,
            "border": null,
            "bottom": null,
            "display": null,
            "flex": null,
            "flex_flow": null,
            "grid_area": null,
            "grid_auto_columns": null,
            "grid_auto_flow": null,
            "grid_auto_rows": null,
            "grid_column": null,
            "grid_gap": null,
            "grid_row": null,
            "grid_template_areas": null,
            "grid_template_columns": null,
            "grid_template_rows": null,
            "height": null,
            "justify_content": null,
            "justify_items": null,
            "left": null,
            "margin": null,
            "max_height": null,
            "max_width": null,
            "min_height": null,
            "min_width": null,
            "object_fit": null,
            "object_position": null,
            "order": null,
            "overflow": null,
            "overflow_x": null,
            "overflow_y": null,
            "padding": null,
            "right": null,
            "top": null,
            "visibility": null,
            "width": null
          }
        },
        "6ce88d2124f949cf96917a9bd35bc08c": {
          "model_module": "@jupyter-widgets/controls",
          "model_name": "DescriptionStyleModel",
          "model_module_version": "1.5.0",
          "state": {
            "_model_module": "@jupyter-widgets/controls",
            "_model_module_version": "1.5.0",
            "_model_name": "DescriptionStyleModel",
            "_view_count": null,
            "_view_module": "@jupyter-widgets/base",
            "_view_module_version": "1.2.0",
            "_view_name": "StyleView",
            "description_width": ""
          }
        },
        "68ebc59d52e34ad3866ecb6bc4aadd94": {
          "model_module": "@jupyter-widgets/base",
          "model_name": "LayoutModel",
          "model_module_version": "1.2.0",
          "state": {
            "_model_module": "@jupyter-widgets/base",
            "_model_module_version": "1.2.0",
            "_model_name": "LayoutModel",
            "_view_count": null,
            "_view_module": "@jupyter-widgets/base",
            "_view_module_version": "1.2.0",
            "_view_name": "LayoutView",
            "align_content": null,
            "align_items": null,
            "align_self": null,
            "border": null,
            "bottom": null,
            "display": null,
            "flex": null,
            "flex_flow": null,
            "grid_area": null,
            "grid_auto_columns": null,
            "grid_auto_flow": null,
            "grid_auto_rows": null,
            "grid_column": null,
            "grid_gap": null,
            "grid_row": null,
            "grid_template_areas": null,
            "grid_template_columns": null,
            "grid_template_rows": null,
            "height": null,
            "justify_content": null,
            "justify_items": null,
            "left": null,
            "margin": null,
            "max_height": null,
            "max_width": null,
            "min_height": null,
            "min_width": null,
            "object_fit": null,
            "object_position": null,
            "order": null,
            "overflow": null,
            "overflow_x": null,
            "overflow_y": null,
            "padding": null,
            "right": null,
            "top": null,
            "visibility": null,
            "width": null
          }
        },
        "371384cdd2f24992b7f2c7ef755a3f11": {
          "model_module": "@jupyter-widgets/controls",
          "model_name": "ProgressStyleModel",
          "model_module_version": "1.5.0",
          "state": {
            "_model_module": "@jupyter-widgets/controls",
            "_model_module_version": "1.5.0",
            "_model_name": "ProgressStyleModel",
            "_view_count": null,
            "_view_module": "@jupyter-widgets/base",
            "_view_module_version": "1.2.0",
            "_view_name": "StyleView",
            "bar_color": null,
            "description_width": ""
          }
        },
        "2516f9481c2e47d0810344a3088059e0": {
          "model_module": "@jupyter-widgets/base",
          "model_name": "LayoutModel",
          "model_module_version": "1.2.0",
          "state": {
            "_model_module": "@jupyter-widgets/base",
            "_model_module_version": "1.2.0",
            "_model_name": "LayoutModel",
            "_view_count": null,
            "_view_module": "@jupyter-widgets/base",
            "_view_module_version": "1.2.0",
            "_view_name": "LayoutView",
            "align_content": null,
            "align_items": null,
            "align_self": null,
            "border": null,
            "bottom": null,
            "display": null,
            "flex": null,
            "flex_flow": null,
            "grid_area": null,
            "grid_auto_columns": null,
            "grid_auto_flow": null,
            "grid_auto_rows": null,
            "grid_column": null,
            "grid_gap": null,
            "grid_row": null,
            "grid_template_areas": null,
            "grid_template_columns": null,
            "grid_template_rows": null,
            "height": null,
            "justify_content": null,
            "justify_items": null,
            "left": null,
            "margin": null,
            "max_height": null,
            "max_width": null,
            "min_height": null,
            "min_width": null,
            "object_fit": null,
            "object_position": null,
            "order": null,
            "overflow": null,
            "overflow_x": null,
            "overflow_y": null,
            "padding": null,
            "right": null,
            "top": null,
            "visibility": null,
            "width": null
          }
        },
        "486e0698a06f4109b696f27f42021969": {
          "model_module": "@jupyter-widgets/controls",
          "model_name": "DescriptionStyleModel",
          "model_module_version": "1.5.0",
          "state": {
            "_model_module": "@jupyter-widgets/controls",
            "_model_module_version": "1.5.0",
            "_model_name": "DescriptionStyleModel",
            "_view_count": null,
            "_view_module": "@jupyter-widgets/base",
            "_view_module_version": "1.2.0",
            "_view_name": "StyleView",
            "description_width": ""
          }
        },
        "e2de8c60f92c4617a8cfb7480e1bbd66": {
          "model_module": "@jupyter-widgets/controls",
          "model_name": "HBoxModel",
          "model_module_version": "1.5.0",
          "state": {
            "_dom_classes": [],
            "_model_module": "@jupyter-widgets/controls",
            "_model_module_version": "1.5.0",
            "_model_name": "HBoxModel",
            "_view_count": null,
            "_view_module": "@jupyter-widgets/controls",
            "_view_module_version": "1.5.0",
            "_view_name": "HBoxView",
            "box_style": "",
            "children": [
              "IPY_MODEL_bc9f71a8b4f6424db6f0026bbe596e74",
              "IPY_MODEL_591c03c62a0a4d42aa6c05c6c2346c74",
              "IPY_MODEL_b4e11d6e41a943479975ddf275f7436a"
            ],
            "layout": "IPY_MODEL_b24bca147cb14a9c8774a42d8870847c"
          }
        },
        "bc9f71a8b4f6424db6f0026bbe596e74": {
          "model_module": "@jupyter-widgets/controls",
          "model_name": "HTMLModel",
          "model_module_version": "1.5.0",
          "state": {
            "_dom_classes": [],
            "_model_module": "@jupyter-widgets/controls",
            "_model_module_version": "1.5.0",
            "_model_name": "HTMLModel",
            "_view_count": null,
            "_view_module": "@jupyter-widgets/controls",
            "_view_module_version": "1.5.0",
            "_view_name": "HTMLView",
            "description": "",
            "description_tooltip": null,
            "layout": "IPY_MODEL_781c0ea3f3d34685a28dec551d1075c6",
            "placeholder": "​",
            "style": "IPY_MODEL_fac58cf1d3d94145aa724f0c6fbdca77",
            "value": "Saving the dataset (1/1 shards): 100%"
          }
        },
        "591c03c62a0a4d42aa6c05c6c2346c74": {
          "model_module": "@jupyter-widgets/controls",
          "model_name": "FloatProgressModel",
          "model_module_version": "1.5.0",
          "state": {
            "_dom_classes": [],
            "_model_module": "@jupyter-widgets/controls",
            "_model_module_version": "1.5.0",
            "_model_name": "FloatProgressModel",
            "_view_count": null,
            "_view_module": "@jupyter-widgets/controls",
            "_view_module_version": "1.5.0",
            "_view_name": "ProgressView",
            "bar_style": "",
            "description": "",
            "description_tooltip": null,
            "layout": "IPY_MODEL_d5d213bd3ca849e0bba8495572f227cc",
            "max": 50000,
            "min": 0,
            "orientation": "horizontal",
            "style": "IPY_MODEL_6f2bae299e9449a0ad9a96a8a4e616ac",
            "value": 50000
          }
        },
        "b4e11d6e41a943479975ddf275f7436a": {
          "model_module": "@jupyter-widgets/controls",
          "model_name": "HTMLModel",
          "model_module_version": "1.5.0",
          "state": {
            "_dom_classes": [],
            "_model_module": "@jupyter-widgets/controls",
            "_model_module_version": "1.5.0",
            "_model_name": "HTMLModel",
            "_view_count": null,
            "_view_module": "@jupyter-widgets/controls",
            "_view_module_version": "1.5.0",
            "_view_name": "HTMLView",
            "description": "",
            "description_tooltip": null,
            "layout": "IPY_MODEL_539602992aeb4d6fa585a7159ae56889",
            "placeholder": "​",
            "style": "IPY_MODEL_03a54e1c004f4bb99d65c646ff3a5f5f",
            "value": " 50000/50000 [00:01&lt;00:00, 44124.89 examples/s]"
          }
        },
        "b24bca147cb14a9c8774a42d8870847c": {
          "model_module": "@jupyter-widgets/base",
          "model_name": "LayoutModel",
          "model_module_version": "1.2.0",
          "state": {
            "_model_module": "@jupyter-widgets/base",
            "_model_module_version": "1.2.0",
            "_model_name": "LayoutModel",
            "_view_count": null,
            "_view_module": "@jupyter-widgets/base",
            "_view_module_version": "1.2.0",
            "_view_name": "LayoutView",
            "align_content": null,
            "align_items": null,
            "align_self": null,
            "border": null,
            "bottom": null,
            "display": null,
            "flex": null,
            "flex_flow": null,
            "grid_area": null,
            "grid_auto_columns": null,
            "grid_auto_flow": null,
            "grid_auto_rows": null,
            "grid_column": null,
            "grid_gap": null,
            "grid_row": null,
            "grid_template_areas": null,
            "grid_template_columns": null,
            "grid_template_rows": null,
            "height": null,
            "justify_content": null,
            "justify_items": null,
            "left": null,
            "margin": null,
            "max_height": null,
            "max_width": null,
            "min_height": null,
            "min_width": null,
            "object_fit": null,
            "object_position": null,
            "order": null,
            "overflow": null,
            "overflow_x": null,
            "overflow_y": null,
            "padding": null,
            "right": null,
            "top": null,
            "visibility": "hidden",
            "width": null
          }
        },
        "781c0ea3f3d34685a28dec551d1075c6": {
          "model_module": "@jupyter-widgets/base",
          "model_name": "LayoutModel",
          "model_module_version": "1.2.0",
          "state": {
            "_model_module": "@jupyter-widgets/base",
            "_model_module_version": "1.2.0",
            "_model_name": "LayoutModel",
            "_view_count": null,
            "_view_module": "@jupyter-widgets/base",
            "_view_module_version": "1.2.0",
            "_view_name": "LayoutView",
            "align_content": null,
            "align_items": null,
            "align_self": null,
            "border": null,
            "bottom": null,
            "display": null,
            "flex": null,
            "flex_flow": null,
            "grid_area": null,
            "grid_auto_columns": null,
            "grid_auto_flow": null,
            "grid_auto_rows": null,
            "grid_column": null,
            "grid_gap": null,
            "grid_row": null,
            "grid_template_areas": null,
            "grid_template_columns": null,
            "grid_template_rows": null,
            "height": null,
            "justify_content": null,
            "justify_items": null,
            "left": null,
            "margin": null,
            "max_height": null,
            "max_width": null,
            "min_height": null,
            "min_width": null,
            "object_fit": null,
            "object_position": null,
            "order": null,
            "overflow": null,
            "overflow_x": null,
            "overflow_y": null,
            "padding": null,
            "right": null,
            "top": null,
            "visibility": null,
            "width": null
          }
        },
        "fac58cf1d3d94145aa724f0c6fbdca77": {
          "model_module": "@jupyter-widgets/controls",
          "model_name": "DescriptionStyleModel",
          "model_module_version": "1.5.0",
          "state": {
            "_model_module": "@jupyter-widgets/controls",
            "_model_module_version": "1.5.0",
            "_model_name": "DescriptionStyleModel",
            "_view_count": null,
            "_view_module": "@jupyter-widgets/base",
            "_view_module_version": "1.2.0",
            "_view_name": "StyleView",
            "description_width": ""
          }
        },
        "d5d213bd3ca849e0bba8495572f227cc": {
          "model_module": "@jupyter-widgets/base",
          "model_name": "LayoutModel",
          "model_module_version": "1.2.0",
          "state": {
            "_model_module": "@jupyter-widgets/base",
            "_model_module_version": "1.2.0",
            "_model_name": "LayoutModel",
            "_view_count": null,
            "_view_module": "@jupyter-widgets/base",
            "_view_module_version": "1.2.0",
            "_view_name": "LayoutView",
            "align_content": null,
            "align_items": null,
            "align_self": null,
            "border": null,
            "bottom": null,
            "display": null,
            "flex": null,
            "flex_flow": null,
            "grid_area": null,
            "grid_auto_columns": null,
            "grid_auto_flow": null,
            "grid_auto_rows": null,
            "grid_column": null,
            "grid_gap": null,
            "grid_row": null,
            "grid_template_areas": null,
            "grid_template_columns": null,
            "grid_template_rows": null,
            "height": null,
            "justify_content": null,
            "justify_items": null,
            "left": null,
            "margin": null,
            "max_height": null,
            "max_width": null,
            "min_height": null,
            "min_width": null,
            "object_fit": null,
            "object_position": null,
            "order": null,
            "overflow": null,
            "overflow_x": null,
            "overflow_y": null,
            "padding": null,
            "right": null,
            "top": null,
            "visibility": null,
            "width": null
          }
        },
        "6f2bae299e9449a0ad9a96a8a4e616ac": {
          "model_module": "@jupyter-widgets/controls",
          "model_name": "ProgressStyleModel",
          "model_module_version": "1.5.0",
          "state": {
            "_model_module": "@jupyter-widgets/controls",
            "_model_module_version": "1.5.0",
            "_model_name": "ProgressStyleModel",
            "_view_count": null,
            "_view_module": "@jupyter-widgets/base",
            "_view_module_version": "1.2.0",
            "_view_name": "StyleView",
            "bar_color": null,
            "description_width": ""
          }
        },
        "539602992aeb4d6fa585a7159ae56889": {
          "model_module": "@jupyter-widgets/base",
          "model_name": "LayoutModel",
          "model_module_version": "1.2.0",
          "state": {
            "_model_module": "@jupyter-widgets/base",
            "_model_module_version": "1.2.0",
            "_model_name": "LayoutModel",
            "_view_count": null,
            "_view_module": "@jupyter-widgets/base",
            "_view_module_version": "1.2.0",
            "_view_name": "LayoutView",
            "align_content": null,
            "align_items": null,
            "align_self": null,
            "border": null,
            "bottom": null,
            "display": null,
            "flex": null,
            "flex_flow": null,
            "grid_area": null,
            "grid_auto_columns": null,
            "grid_auto_flow": null,
            "grid_auto_rows": null,
            "grid_column": null,
            "grid_gap": null,
            "grid_row": null,
            "grid_template_areas": null,
            "grid_template_columns": null,
            "grid_template_rows": null,
            "height": null,
            "justify_content": null,
            "justify_items": null,
            "left": null,
            "margin": null,
            "max_height": null,
            "max_width": null,
            "min_height": null,
            "min_width": null,
            "object_fit": null,
            "object_position": null,
            "order": null,
            "overflow": null,
            "overflow_x": null,
            "overflow_y": null,
            "padding": null,
            "right": null,
            "top": null,
            "visibility": null,
            "width": null
          }
        },
        "03a54e1c004f4bb99d65c646ff3a5f5f": {
          "model_module": "@jupyter-widgets/controls",
          "model_name": "DescriptionStyleModel",
          "model_module_version": "1.5.0",
          "state": {
            "_model_module": "@jupyter-widgets/controls",
            "_model_module_version": "1.5.0",
            "_model_name": "DescriptionStyleModel",
            "_view_count": null,
            "_view_module": "@jupyter-widgets/base",
            "_view_module_version": "1.2.0",
            "_view_name": "StyleView",
            "description_width": ""
          }
        }
      }
    }
  },
  "nbformat": 4,
  "nbformat_minor": 0
}