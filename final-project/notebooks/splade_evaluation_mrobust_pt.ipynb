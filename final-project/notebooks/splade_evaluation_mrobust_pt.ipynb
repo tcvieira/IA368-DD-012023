{
  "cells": [
    {
      "cell_type": "markdown",
      "metadata": {
        "id": "xp6l5DLs-wbE"
      },
      "source": [
        "# Evaluating a Splade-v2 mrobust-pt pre-trained model"
      ]
    },
    {
      "cell_type": "markdown",
      "metadata": {
        "id": "GKeHjiDK5NDR"
      },
      "source": [
        "# imports/configs"
      ]
    },
    {
      "cell_type": "code",
      "execution_count": 1,
      "metadata": {
        "colab": {
          "base_uri": "https://localhost:8080/"
        },
        "id": "DcSOc_BH5C0r",
        "outputId": "ac58b6f0-04ba-4e02-8209-c55bd399ed32"
      },
      "outputs": [
        {
          "output_type": "stream",
          "name": "stdout",
          "text": [
            "Thu Jun 29 04:39:29 2023       \n",
            "+-----------------------------------------------------------------------------+\n",
            "| NVIDIA-SMI 525.85.12    Driver Version: 525.85.12    CUDA Version: 12.0     |\n",
            "|-------------------------------+----------------------+----------------------+\n",
            "| GPU  Name        Persistence-M| Bus-Id        Disp.A | Volatile Uncorr. ECC |\n",
            "| Fan  Temp  Perf  Pwr:Usage/Cap|         Memory-Usage | GPU-Util  Compute M. |\n",
            "|                               |                      |               MIG M. |\n",
            "|===============================+======================+======================|\n",
            "|   0  NVIDIA A100-SXM...  Off  | 00000000:00:04.0 Off |                    0 |\n",
            "| N/A   32C    P0    44W / 400W |      0MiB / 40960MiB |      0%      Default |\n",
            "|                               |                      |             Disabled |\n",
            "+-------------------------------+----------------------+----------------------+\n",
            "                                                                               \n",
            "+-----------------------------------------------------------------------------+\n",
            "| Processes:                                                                  |\n",
            "|  GPU   GI   CI        PID   Type   Process name                  GPU Memory |\n",
            "|        ID   ID                                                   Usage      |\n",
            "|=============================================================================|\n",
            "|  No running processes found                                                 |\n",
            "+-----------------------------------------------------------------------------+\n"
          ]
        }
      ],
      "source": [
        "!nvidia-smi"
      ]
    },
    {
      "cell_type": "code",
      "execution_count": 2,
      "metadata": {
        "colab": {
          "base_uri": "https://localhost:8080/"
        },
        "id": "NWCIT2iU5Rgn",
        "outputId": "fe489918-72e8-4896-aa76-46a7b0d66eb6"
      },
      "outputs": [
        {
          "output_type": "stream",
          "name": "stdout",
          "text": [
            "Mounted at /content/gdrive\n"
          ]
        }
      ],
      "source": [
        "from google.colab import drive\n",
        "drive.mount('/content/gdrive', force_remount=True)"
      ]
    },
    {
      "cell_type": "code",
      "execution_count": 3,
      "metadata": {
        "id": "Pj6K6v9y5Tim"
      },
      "outputs": [],
      "source": [
        "data_dir = '/content/gdrive/MyDrive/unicamp/IA368DD/final-project'"
      ]
    },
    {
      "cell_type": "code",
      "execution_count": 4,
      "metadata": {
        "colab": {
          "base_uri": "https://localhost:8080/"
        },
        "id": "6FzAlsl85Vut",
        "outputId": "a4edea6b-5ad9-41bb-f5e1-c84018f3bd2a"
      },
      "outputs": [
        {
          "output_type": "stream",
          "name": "stdout",
          "text": [
            "  Preparing metadata (setup.py) ... \u001b[?25l\u001b[?25hdone\n",
            "\u001b[2K     \u001b[90m━━━━━━━━━━━━━━━━━━━━━━━━━━━━━━━━━━━━━━━━\u001b[0m \u001b[32m4.0/4.0 MB\u001b[0m \u001b[31m76.7 MB/s\u001b[0m eta \u001b[36m0:00:00\u001b[0m\n",
            "\u001b[2K     \u001b[90m━━━━━━━━━━━━━━━━━━━━━━━━━━━━━━━━━━━━━━━━\u001b[0m \u001b[32m74.7/74.7 kB\u001b[0m \u001b[31m11.1 MB/s\u001b[0m eta \u001b[36m0:00:00\u001b[0m\n",
            "\u001b[2K     \u001b[90m━━━━━━━━━━━━━━━━━━━━━━━━━━━━━━━━━━━━━━\u001b[0m \u001b[32m112.4/112.4 kB\u001b[0m \u001b[31m17.6 MB/s\u001b[0m eta \u001b[36m0:00:00\u001b[0m\n",
            "\u001b[?25h  Preparing metadata (setup.py) ... \u001b[?25l\u001b[?25hdone\n",
            "\u001b[2K     \u001b[90m━━━━━━━━━━━━━━━━━━━━━━━━━━━━━━━━━━━━━━\u001b[0m \u001b[32m236.8/236.8 kB\u001b[0m \u001b[31m31.3 MB/s\u001b[0m eta \u001b[36m0:00:00\u001b[0m\n",
            "\u001b[2K     \u001b[90m━━━━━━━━━━━━━━━━━━━━━━━━━━━━━━━━━━━━━━\u001b[0m \u001b[32m880.6/880.6 kB\u001b[0m \u001b[31m64.5 MB/s\u001b[0m eta \u001b[36m0:00:00\u001b[0m\n",
            "\u001b[?25h  Preparing metadata (setup.py) ... \u001b[?25l\u001b[?25hdone\n",
            "\u001b[2K     \u001b[90m━━━━━━━━━━━━━━━━━━━━━━━━━━━━━━━━━━━━━━━━\u001b[0m \u001b[32m6.6/6.6 MB\u001b[0m \u001b[31m90.1 MB/s\u001b[0m eta \u001b[36m0:00:00\u001b[0m\n",
            "\u001b[?25h  Building wheel for SPLADE (setup.py) ... \u001b[?25l\u001b[?25hdone\n",
            "  Building wheel for antlr4-python3-runtime (setup.py) ... \u001b[?25l\u001b[?25hdone\n",
            "  Building wheel for sacremoses (setup.py) ... \u001b[?25l\u001b[?25hdone\n",
            "\u001b[2K     \u001b[90m━━━━━━━━━━━━━━━━━━━━━━━━━━━━━━━━━━━━━━\u001b[0m \u001b[32m154.5/154.5 kB\u001b[0m \u001b[31m15.6 MB/s\u001b[0m eta \u001b[36m0:00:00\u001b[0m\n",
            "\u001b[2K     \u001b[90m━━━━━━━━━━━━━━━━━━━━━━━━━━━━━━━━━━━━━━━━\u001b[0m \u001b[32m79.5/79.5 kB\u001b[0m \u001b[31m12.4 MB/s\u001b[0m eta \u001b[36m0:00:00\u001b[0m\n",
            "\u001b[2K     \u001b[90m━━━━━━━━━━━━━━━━━━━━━━━━━━━━━━━━━━━━━━\u001b[0m \u001b[32m117.0/117.0 kB\u001b[0m \u001b[31m18.5 MB/s\u001b[0m eta \u001b[36m0:00:00\u001b[0m\n",
            "\u001b[?25h  Preparing metadata (setup.py) ... \u001b[?25l\u001b[?25hdone\n",
            "  Building wheel for antlr4-python3-runtime (setup.py) ... \u001b[?25l\u001b[?25hdone\n",
            "\u001b[31mERROR: pip's dependency resolver does not currently take into account all the packages that are installed. This behaviour is the source of the following dependency conflicts.\n",
            "splade 2.1 requires omegaconf==2.1.2, but you have omegaconf 2.3.0 which is incompatible.\u001b[0m\u001b[31m\n",
            "\u001b[0m  Preparing metadata (setup.py) ... \u001b[?25l\u001b[?25hdone\n",
            "  Building wheel for pytrec_eval (setup.py) ... \u001b[?25l\u001b[?25hdone\n"
          ]
        }
      ],
      "source": [
        "# install splade deps from forked repo\n",
        "!pip install git+https://github.com/naver/splade.git -q\n",
        "# fix version problem\n",
        "!pip install hydra-core --upgrade -q\n",
        "# missing dep\n",
        "!pip install pytrec_eval -q"
      ]
    },
    {
      "cell_type": "code",
      "execution_count": 5,
      "metadata": {
        "colab": {
          "base_uri": "https://localhost:8080/"
        },
        "id": "UVDaz_9v5Xxr",
        "outputId": "965f7254-ee6b-48ec-cd9e-68abe84a3b89"
      },
      "outputs": [
        {
          "output_type": "stream",
          "name": "stdout",
          "text": [
            "2.0.1+cu118\n"
          ]
        }
      ],
      "source": [
        "import torch\n",
        "print(torch.__version__)"
      ]
    },
    {
      "cell_type": "code",
      "execution_count": 6,
      "metadata": {
        "colab": {
          "base_uri": "https://localhost:8080/"
        },
        "id": "-e03eWaI5Y_z",
        "outputId": "e94534b9-675a-47b7-c9c7-991d57a5ac92"
      },
      "outputs": [
        {
          "output_type": "stream",
          "name": "stdout",
          "text": [
            "Cloning into 'splade-mine'...\n",
            "remote: Enumerating objects: 565, done.\u001b[K\n",
            "remote: Counting objects: 100% (268/268), done.\u001b[K\n",
            "remote: Compressing objects: 100% (120/120), done.\u001b[K\n",
            "remote: Total 565 (delta 196), reused 166 (delta 148), pack-reused 297\u001b[K\n",
            "Receiving objects: 100% (565/565), 3.08 MiB | 6.85 MiB/s, done.\n",
            "Resolving deltas: 100% (284/284), done.\n"
          ]
        }
      ],
      "source": [
        "# clone forked splade repo\n",
        "!git clone https://github.com/tcvieira/splade.git splade-mine"
      ]
    },
    {
      "cell_type": "code",
      "execution_count": 23,
      "metadata": {
        "colab": {
          "base_uri": "https://localhost:8080/"
        },
        "id": "OD0LN9Vs5aaa",
        "outputId": "58995ad2-9d9f-4b46-cb2d-fadb6666f42e"
      },
      "outputs": [
        {
          "output_type": "stream",
          "name": "stdout",
          "text": [
            "remote: Enumerating objects: 11, done.\u001b[K\n",
            "remote: Counting objects:   9% (1/11)\u001b[K\rremote: Counting objects:  18% (2/11)\u001b[K\rremote: Counting objects:  27% (3/11)\u001b[K\rremote: Counting objects:  36% (4/11)\u001b[K\rremote: Counting objects:  45% (5/11)\u001b[K\rremote: Counting objects:  54% (6/11)\u001b[K\rremote: Counting objects:  63% (7/11)\u001b[K\rremote: Counting objects:  72% (8/11)\u001b[K\rremote: Counting objects:  81% (9/11)\u001b[K\rremote: Counting objects:  90% (10/11)\u001b[K\rremote: Counting objects: 100% (11/11)\u001b[K\rremote: Counting objects: 100% (11/11), done.\u001b[K\n",
            "remote: Compressing objects: 100% (1/1)\u001b[K\rremote: Compressing objects: 100% (1/1), done.\u001b[K\n",
            "remote: Total 6 (delta 5), reused 6 (delta 5), pack-reused 0\u001b[K\n",
            "Unpacking objects:  16% (1/6)\rUnpacking objects:  33% (2/6)\rUnpacking objects:  50% (3/6)\rUnpacking objects:  66% (4/6)\rUnpacking objects:  83% (5/6)\rUnpacking objects: 100% (6/6)\rUnpacking objects: 100% (6/6), 568 bytes | 568.00 KiB/s, done.\n",
            "From https://github.com/tcvieira/splade\n",
            "   ef6d1de..075c119  main       -> origin/main\n",
            "Updating ef6d1de..075c119\n",
            "Fast-forward\n",
            " conf/retrieve_evaluate/mmarco-pt.yaml  | 2 \u001b[32m+\u001b[m\u001b[31m-\u001b[m\n",
            " conf/retrieve_evaluate/mrobust-pt.yaml | 2 \u001b[32m+\u001b[m\u001b[31m-\u001b[m\n",
            " 2 files changed, 2 insertions(+), 2 deletions(-)\n"
          ]
        }
      ],
      "source": [
        "!cd splade-mine && git pull"
      ]
    },
    {
      "cell_type": "code",
      "execution_count": 8,
      "metadata": {
        "id": "mVyjomzP5ced"
      },
      "outputs": [],
      "source": [
        "# clone forked splade repo\n",
        "#!git clone https://github.com/naver/splade.git splade"
      ]
    },
    {
      "cell_type": "code",
      "execution_count": 9,
      "metadata": {
        "id": "DYuCtArg5d2_"
      },
      "outputs": [],
      "source": [
        "#!cd splade && git checkout hf && git status"
      ]
    },
    {
      "cell_type": "markdown",
      "metadata": {
        "id": "LNZW_BsE5onR"
      },
      "source": [
        "# dataset"
      ]
    },
    {
      "cell_type": "code",
      "execution_count": 10,
      "metadata": {
        "id": "L6xCjkpV5pTh"
      },
      "outputs": [],
      "source": [
        "!cp gdrive/MyDrive/unicamp/IA368DD/final-project/mrobust-eval-dataset.zip splade-mine/data"
      ]
    },
    {
      "cell_type": "code",
      "execution_count": 11,
      "metadata": {
        "colab": {
          "base_uri": "https://localhost:8080/"
        },
        "id": "CBEolCnR5r0O",
        "outputId": "9f13701c-81d2-4dc6-ff06-874a626fcd3d"
      },
      "outputs": [
        {
          "output_type": "stream",
          "name": "stdout",
          "text": [
            "Archive:  splade-mine/data/mrobust-eval-dataset.zip\n",
            "   creating: splade-mine/data/mrobust-pt/\n",
            "   creating: splade-mine/data/mrobust-pt/qrel/\n",
            "   creating: splade-mine/data/mrobust-pt/dev_queries/\n",
            "   creating: splade-mine/data/mrobust-pt/full_collection/\n",
            "  inflating: splade-mine/data/mrobust-pt/qrel/qrel.tsv  \n",
            "  inflating: splade-mine/data/mrobust-pt/qrel/qrel.json  \n",
            "  inflating: splade-mine/data/mrobust-pt/qrel/qrels.robust04.txt  \n",
            "  inflating: splade-mine/data/__MACOSX/mrobust-pt/qrel/._qrels.robust04.txt  \n",
            "  inflating: splade-mine/data/mrobust-pt/dev_queries/raw.tsv  \n",
            "  inflating: splade-mine/data/__MACOSX/mrobust-pt/dev_queries/._raw.tsv  \n",
            "  inflating: splade-mine/data/mrobust-pt/full_collection/raw.tsv  \n",
            "  inflating: splade-mine/data/mrobust-pt/full_collection/raw-alpha-ids.tsv  \n",
            "  inflating: splade-mine/data/__MACOSX/mrobust-pt/full_collection/._raw-alpha-ids.tsv  \n"
          ]
        }
      ],
      "source": [
        "!unzip splade-mine/data/mrobust-eval-dataset.zip -d splade-mine/data"
      ]
    },
    {
      "cell_type": "code",
      "execution_count": 12,
      "metadata": {
        "id": "4ejrGTax5tff"
      },
      "outputs": [],
      "source": [
        "!rm -rf splade-mine/data/__MACOSX"
      ]
    },
    {
      "cell_type": "markdown",
      "metadata": {
        "id": "vfAcqnqz6QeZ"
      },
      "source": [
        "# indexing mrobust pt"
      ]
    },
    {
      "cell_type": "code",
      "execution_count": 13,
      "metadata": {
        "id": "-420gXCBIX6O"
      },
      "outputs": [],
      "source": [
        "!mkdir -p experiments/splade_mmarco_pt_4M/"
      ]
    },
    {
      "cell_type": "code",
      "execution_count": 14,
      "metadata": {
        "id": "3-2DxjKUIaEn"
      },
      "outputs": [],
      "source": [
        "!cp -R /content/gdrive/MyDrive/unicamp/IA368DD/final-project/experiments/splade_mmarco_pt_4M/* experiments/splade_mmarco_pt_4M/"
      ]
    },
    {
      "cell_type": "code",
      "execution_count": 15,
      "metadata": {
        "colab": {
          "base_uri": "https://localhost:8080/"
        },
        "id": "qAZU5twDINRT",
        "outputId": "d196ec20-ee77-47a5-a550-b3ece9d040c3"
      },
      "outputs": [
        {
          "output_type": "stream",
          "name": "stdout",
          "text": [
            "/content/splade-mine/splade/index.py:12: UserWarning: \n",
            "The version_base parameter is not specified.\n",
            "Please specify a compatability version level, or None.\n",
            "Will assume defaults for version 1.1\n",
            "  @hydra.main(config_path=CONFIG_PATH, config_name=CONFIG_NAME)\n",
            "/usr/local/lib/python3.10/dist-packages/hydra/_internal/defaults_list.py:251: UserWarning: In 'config_splade_mrobust-pt': Defaults list is missing `_self_`. See https://hydra.cc/docs/1.2/upgrades/1.0_to_1.1/default_composition_order for more information\n",
            "  warnings.warn(msg, UserWarning)\n",
            "/usr/local/lib/python3.10/dist-packages/hydra/_internal/hydra.py:119: UserWarning: Future Hydra versions will no longer change working directory at job runtime by default.\n",
            "See https://hydra.cc/docs/1.2/upgrades/1.1_to_1.2/changes_to_job_working_dir/ for more information.\n",
            "  ret = run_job(\n",
            "config:\n",
            "  lr: 2.0e-05\n",
            "  seed: 123\n",
            "  gradient_accumulation_steps: 1\n",
            "  weight_decay: 0.01\n",
            "  validation_metrics:\n",
            "  - MRR@10\n",
            "  - recall@100\n",
            "  - recall@200\n",
            "  - recall@500\n",
            "  pretrained_no_yamlconfig: false\n",
            "  nb_iterations: 150000\n",
            "  train_batch_size: 64\n",
            "  eval_batch_size: 64\n",
            "  index_retrieve_batch_size: 64\n",
            "  record_frequency: 10000\n",
            "  train_monitoring_freq: 500\n",
            "  warmup_steps: 6000\n",
            "  max_length: 256\n",
            "  fp16: false\n",
            "  matching_type: splade\n",
            "  monitoring_ckpt: MRR@10\n",
            "  loss: InBatchPairwiseNLL\n",
            "  augment_pair: in_batch_negatives\n",
            "  regularizer:\n",
            "    FLOPS:\n",
            "      lambda_q: 0.0005\n",
            "      lambda_d: 0.0003\n",
            "      T: 3\n",
            "      targeted_rep: rep\n",
            "      reg: FLOPS\n",
            "  tokenizer_type: neuralmind/bert-base-portuguese-cased\n",
            "  top_k: 1000\n",
            "  threshold: 0\n",
            "  eval_metric:\n",
            "  - - mrr_10\n",
            "    - recall\n",
            "    - ndcg_cut_20\n",
            "    - recall@1000\n",
            "  checkpoint_dir: /content/experiments/splade_mmarco_pt_4M/checkpoint\n",
            "  index_dir: /content/experiments/splade_mrobust_pt/index\n",
            "  out_dir: /content/experiments/splade_mrobust_pt/out\n",
            "data:\n",
            "  type: triplets\n",
            "  TRAIN_DATA_DIR: data/mmarco-pt-4M/triplets\n",
            "  VALIDATION_SIZE_FOR_LOSS: 60000\n",
            "  VALIDATION_FULL_RANKING:\n",
            "    D_COLLECTION_PATH: data/mmarco-pt/val_collection\n",
            "    Q_COLLECTION_PATH: data/mmarco-pt/val_queries\n",
            "    QREL_PATH: data/mmarco-pt/qrel/qrel.json\n",
            "    TOP_K: 500\n",
            "  COLLECTION_PATH: data/mrobust-pt/full_collection\n",
            "  Q_COLLECTION_PATH:\n",
            "  - data/mrobust-pt/dev_queries\n",
            "  EVAL_QREL_PATH:\n",
            "  - data/mrobust-pt/qrel/qrel.json\n",
            "  flops_queries: data/mmarco-pt/dev_queries/\n",
            "init_dict:\n",
            "  model_type_or_dir: neuralmind/bert-base-portuguese-cased\n",
            "  model_type_or_dir_q: null\n",
            "  freeze_d_model: 0\n",
            "  agg: max\n",
            "  fp16: true\n",
            "\n",
            "Downloading: 100% 647/647 [00:00<00:00, 4.32MB/s]\n",
            "Downloading: 100% 418M/418M [00:03<00:00, 125MB/s]\n",
            "Some weights of the model checkpoint at neuralmind/bert-base-portuguese-cased were not used when initializing BertForMaskedLM: ['cls.seq_relationship.bias', 'cls.seq_relationship.weight']\n",
            "- This IS expected if you are initializing BertForMaskedLM from the checkpoint of a model trained on another task or with another architecture (e.g. initializing a BertForSequenceClassification model from a BertForPreTraining model).\n",
            "- This IS NOT expected if you are initializing BertForMaskedLM from the checkpoint of a model that you expect to be exactly identical (initializing a BertForSequenceClassification model from a BertForSequenceClassification model).\n",
            "Downloading: 100% 43.0/43.0 [00:00<00:00, 333kB/s]\n",
            "Downloading: 100% 205k/205k [00:00<00:00, 22.0MB/s]\n",
            "Downloading: 100% 2.00/2.00 [00:00<00:00, 15.0kB/s]\n",
            "Downloading: 100% 112/112 [00:00<00:00, 870kB/s]\n",
            "Preloading dataset\n",
            "528032it [00:11, 44521.54it/s]\n",
            "restoring model: Splade\n",
            "restore model on GPU at /content/experiments/splade_mmarco_pt_4M/checkpoint/model/model.tar\n",
            "initializing new index...\n",
            "100% 8251/8251 [36:58<00:00,  3.72it/s]\n",
            "converting to numpy\n",
            "100% 19296/19296 [00:00<00:00, 52303.64it/s]\n",
            "save to disk\n",
            "100% 19296/19296 [00:07<00:00, 2523.52it/s]\n",
            "saving index distribution...\n",
            "done iterating over the corpus...\n",
            "index contains 19296 posting lists\n",
            "index contains 528032 documents\n"
          ]
        }
      ],
      "source": [
        "!cd splade-mine && SPLADE_CONFIG_NAME=config_splade_mrobust-pt python3 -m splade.index \\\n",
        "  config.checkpoint_dir=/content/experiments/splade_mmarco_pt_4M/checkpoint \\\n",
        "  config.index_dir=/content/experiments/splade_mrobust_pt/index \\\n",
        "  config.out_dir=/content/experiments/splade_mrobust_pt/out"
      ]
    },
    {
      "cell_type": "code",
      "execution_count": 16,
      "metadata": {
        "id": "0hGAU0A3Igjb",
        "colab": {
          "base_uri": "https://localhost:8080/"
        },
        "outputId": "f8c1904c-5ec2-4511-ab37-f60e9dff7493"
      },
      "outputs": [
        {
          "output_type": "stream",
          "name": "stdout",
          "text": [
            "cp: target '/content/gdrive/MyDrive/unicamp/IA368DD/final-project/experiments/splade_mrobust_pt/index/' is not a directory\n"
          ]
        }
      ],
      "source": [
        "!cp -R /content/experiments/splade_mrobust_pt/index/*  /content/gdrive/MyDrive/unicamp/IA368DD/final-project/experiments/splade_mrobust_pt/index/"
      ]
    },
    {
      "cell_type": "code",
      "execution_count": 17,
      "metadata": {
        "id": "kPszw3Zu6ict",
        "colab": {
          "base_uri": "https://localhost:8080/"
        },
        "outputId": "ab5ec0f9-4b5a-43bc-8353-fabb25e1518c"
      },
      "outputs": [
        {
          "output_type": "stream",
          "name": "stdout",
          "text": [
            "  adding: experiments/splade_mrobust_pt/index/ (stored 0%)\n",
            "  adding: experiments/splade_mrobust_pt/index/index_stats.json (stored 0%)\n",
            "  adding: experiments/splade_mrobust_pt/index/doc_ids.pkl (deflated 66%)\n",
            "  adding: experiments/splade_mrobust_pt/index/array_index.h5py (deflated 36%)\n",
            "  adding: experiments/splade_mrobust_pt/index/index_dist.json (deflated 64%)\n"
          ]
        }
      ],
      "source": [
        "!zip -r index_mrobust_4M.zip experiments/splade_mrobust_pt/index/"
      ]
    },
    {
      "cell_type": "code",
      "execution_count": 20,
      "metadata": {
        "id": "rivrOR7wJCVy"
      },
      "outputs": [],
      "source": [
        "!cp index_mrobust_4M.zip /content/gdrive/MyDrive/unicamp/IA368DD/final-project/experiments/splade_mrobust_pt/"
      ]
    },
    {
      "cell_type": "code",
      "execution_count": null,
      "metadata": {
        "id": "Ka88tyKPJP6w"
      },
      "outputs": [],
      "source": [
        "from google.colab import runtime\n",
        "runtime.unassign()"
      ]
    },
    {
      "cell_type": "code",
      "execution_count": null,
      "metadata": {
        "id": "XTLHgL7ScylZ"
      },
      "outputs": [],
      "source": []
    },
    {
      "cell_type": "markdown",
      "metadata": {
        "id": "hXClxuIxEjxG"
      },
      "source": [
        "# retrieve and evaluate mrobust pt"
      ]
    },
    {
      "cell_type": "code",
      "source": [
        "import pytrec_eval\n",
        "pytrec_eval.supported_measures"
      ],
      "metadata": {
        "colab": {
          "base_uri": "https://localhost:8080/"
        },
        "id": "b9kFSE1DqvEE",
        "outputId": "c822f251-f8d5-4bfd-c195-27c6a34a4137"
      },
      "execution_count": 22,
      "outputs": [
        {
          "output_type": "execute_result",
          "data": {
            "text/plain": [
              "{'11pt_avg',\n",
              " 'G',\n",
              " 'P',\n",
              " 'Rndcg',\n",
              " 'Rprec',\n",
              " 'Rprec_mult',\n",
              " 'binG',\n",
              " 'bpref',\n",
              " 'gm_bpref',\n",
              " 'gm_map',\n",
              " 'infAP',\n",
              " 'iprec_at_recall',\n",
              " 'map',\n",
              " 'map_cut',\n",
              " 'ndcg',\n",
              " 'ndcg_cut',\n",
              " 'ndcg_rel',\n",
              " 'num_nonrel_judged_ret',\n",
              " 'num_q',\n",
              " 'num_rel',\n",
              " 'num_rel_ret',\n",
              " 'num_ret',\n",
              " 'recall',\n",
              " 'recip_rank',\n",
              " 'relative_P',\n",
              " 'relstring',\n",
              " 'runid',\n",
              " 'set_F',\n",
              " 'set_P',\n",
              " 'set_map',\n",
              " 'set_recall',\n",
              " 'set_relative_P',\n",
              " 'success',\n",
              " 'utility'}"
            ]
          },
          "metadata": {},
          "execution_count": 22
        }
      ]
    },
    {
      "cell_type": "code",
      "execution_count": 24,
      "metadata": {
        "id": "dP-7k2p6EnN7",
        "colab": {
          "base_uri": "https://localhost:8080/"
        },
        "outputId": "839e02d0-0c48-4212-fdd1-a0964b50cbb7"
      },
      "outputs": [
        {
          "output_type": "stream",
          "name": "stdout",
          "text": [
            "/content/splade-mine/splade/evaluate.py:12: UserWarning: \n",
            "The version_base parameter is not specified.\n",
            "Please specify a compatability version level, or None.\n",
            "Will assume defaults for version 1.1\n",
            "  @hydra.main(config_path=CONFIG_PATH, config_name=CONFIG_NAME)\n",
            "/content/splade-mine/splade/retrieve.py:13: UserWarning: \n",
            "The version_base parameter is not specified.\n",
            "Please specify a compatability version level, or None.\n",
            "Will assume defaults for version 1.1\n",
            "  @hydra.main(config_path=CONFIG_PATH, config_name=CONFIG_NAME)\n",
            "/usr/local/lib/python3.10/dist-packages/hydra/_internal/defaults_list.py:251: UserWarning: In 'config_splade_mrobust-pt': Defaults list is missing `_self_`. See https://hydra.cc/docs/1.2/upgrades/1.0_to_1.1/default_composition_order for more information\n",
            "  warnings.warn(msg, UserWarning)\n",
            "/usr/local/lib/python3.10/dist-packages/hydra/_internal/hydra.py:119: UserWarning: Future Hydra versions will no longer change working directory at job runtime by default.\n",
            "See https://hydra.cc/docs/1.2/upgrades/1.1_to_1.2/changes_to_job_working_dir/ for more information.\n",
            "  ret = run_job(\n",
            "config:\n",
            "  lr: 2.0e-05\n",
            "  seed: 123\n",
            "  gradient_accumulation_steps: 1\n",
            "  weight_decay: 0.01\n",
            "  validation_metrics:\n",
            "  - MRR@10\n",
            "  - recall@100\n",
            "  - recall@200\n",
            "  - recall@500\n",
            "  pretrained_no_yamlconfig: false\n",
            "  nb_iterations: 150000\n",
            "  train_batch_size: 64\n",
            "  eval_batch_size: 64\n",
            "  index_retrieve_batch_size: 64\n",
            "  record_frequency: 10000\n",
            "  train_monitoring_freq: 500\n",
            "  warmup_steps: 6000\n",
            "  max_length: 256\n",
            "  fp16: false\n",
            "  matching_type: splade\n",
            "  monitoring_ckpt: MRR@10\n",
            "  loss: InBatchPairwiseNLL\n",
            "  augment_pair: in_batch_negatives\n",
            "  regularizer:\n",
            "    FLOPS:\n",
            "      lambda_q: 0.0005\n",
            "      lambda_d: 0.0003\n",
            "      T: 3\n",
            "      targeted_rep: rep\n",
            "      reg: FLOPS\n",
            "  tokenizer_type: neuralmind/bert-base-portuguese-cased\n",
            "  top_k: 1000\n",
            "  threshold: 0\n",
            "  eval_metric:\n",
            "  - - mrr_10\n",
            "    - recall\n",
            "    - ndcg\n",
            "    - ndcg_cut\n",
            "    - ndcg_rel\n",
            "  checkpoint_dir: /content/experiments/splade_mmarco_pt_4M/checkpoint\n",
            "  index_dir: /content/experiments/splade_mrobust_pt/index\n",
            "  out_dir: /content/experiments/splade_mrobust_pt/out\n",
            "data:\n",
            "  type: triplets\n",
            "  TRAIN_DATA_DIR: data/mmarco-pt-4M/triplets\n",
            "  VALIDATION_SIZE_FOR_LOSS: 60000\n",
            "  VALIDATION_FULL_RANKING:\n",
            "    D_COLLECTION_PATH: data/mmarco-pt/val_collection\n",
            "    Q_COLLECTION_PATH: data/mmarco-pt/val_queries\n",
            "    QREL_PATH: data/mmarco-pt/qrel/qrel.json\n",
            "    TOP_K: 500\n",
            "  COLLECTION_PATH: data/mrobust-pt/full_collection\n",
            "  Q_COLLECTION_PATH:\n",
            "  - data/mrobust-pt/dev_queries\n",
            "  EVAL_QREL_PATH:\n",
            "  - data/mrobust-pt/qrel/qrel.json\n",
            "  flops_queries: data/mmarco-pt/dev_queries/\n",
            "init_dict:\n",
            "  model_type_or_dir: neuralmind/bert-base-portuguese-cased\n",
            "  model_type_or_dir_q: null\n",
            "  freeze_d_model: 0\n",
            "  agg: max\n",
            "  fp16: true\n",
            "\n",
            "Some weights of the model checkpoint at neuralmind/bert-base-portuguese-cased were not used when initializing BertForMaskedLM: ['cls.seq_relationship.bias', 'cls.seq_relationship.weight']\n",
            "- This IS expected if you are initializing BertForMaskedLM from the checkpoint of a model trained on another task or with another architecture (e.g. initializing a BertForSequenceClassification model from a BertForPreTraining model).\n",
            "- This IS NOT expected if you are initializing BertForMaskedLM from the checkpoint of a model that you expect to be exactly identical (initializing a BertForSequenceClassification model from a BertForSequenceClassification model).\n",
            "Preloading dataset\n",
            "250it [00:00, 428690.11it/s]\n",
            "restoring model: Splade\n",
            "restore model on GPU at /content/experiments/splade_mmarco_pt_4M/checkpoint/model/model.tar\n",
            "index already exists, loading...\n",
            "100% 29794/29794 [00:10<00:00, 2778.69it/s] \n",
            "done loading index...\n",
            "100% 250/250 [00:11<00:00, 21.86it/s]\n",
            "['mrr_10', 'recall', 'ndcg', 'ndcg_cut', 'ndcg_rel']\n",
            "MRR@10: 0.13714062599604773\n",
            "recall ==> {'recall_15': 0.019850278991895013, 'recall_20': 0.022323362758220545, 'recall_30': 0.026303069749171962, 'recall_100': 0.0462648510204969, 'recall_200': 0.06410152156580486, 'recall_500': 0.09041235023044522, 'recall_1000': 0.11687161114466087, 'recall_5': 0.00994396447182678, 'recall_10': 0.016355131211786986}\n",
            "ndcg ==> {'ndcg': 0.07292889998905591}\n",
            "ndcg_cut ==> {'ndcg_cut_15': 0.050194116531605604, 'ndcg_cut_20': 0.04831300911923663, 'ndcg_cut_30': 0.04542010250938648, 'ndcg_cut_100': 0.045842903928079846, 'ndcg_cut_200': 0.051881490202471195, 'ndcg_cut_500': 0.06281835540005898, 'ndcg_cut_1000': 0.07292889998905591, 'ndcg_cut_5': 0.05787788186272763, 'ndcg_cut_10': 0.05386072478815227}\n",
            "ndcg_rel ==> {'ndcg_rel': 0.07292098512066514}\n"
          ]
        }
      ],
      "source": [
        "!cd splade-mine && SPLADE_CONFIG_NAME=config_splade_mrobust-pt python3 -m splade.retrieve \\\n",
        "  config.checkpoint_dir=/content/experiments/splade_mmarco_pt_4M/checkpoint \\\n",
        "  config.index_dir=/content/experiments/splade_mrobust_pt/index \\\n",
        "  config.out_dir=/content/experiments/splade_mrobust_pt/out"
      ]
    },
    {
      "cell_type": "code",
      "source": [],
      "metadata": {
        "id": "-bqzDFdupufZ"
      },
      "execution_count": null,
      "outputs": []
    }
  ],
  "metadata": {
    "accelerator": "GPU",
    "colab": {
      "gpuType": "A100",
      "machine_shape": "hm",
      "provenance": []
    },
    "kernelspec": {
      "display_name": "Python 3",
      "name": "python3"
    },
    "language_info": {
      "name": "python"
    }
  },
  "nbformat": 4,
  "nbformat_minor": 0
}