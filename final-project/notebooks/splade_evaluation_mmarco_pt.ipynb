{
  "nbformat": 4,
  "nbformat_minor": 0,
  "metadata": {
    "colab": {
      "provenance": [],
      "machine_shape": "hm",
      "gpuType": "V100"
    },
    "kernelspec": {
      "name": "python3",
      "display_name": "Python 3"
    },
    "language_info": {
      "name": "python"
    },
    "accelerator": "GPU"
  },
  "cells": [
    {
      "cell_type": "markdown",
      "source": [
        "# Evaluating a Splade-v2 mmarco-pt pre-trained model"
      ],
      "metadata": {
        "id": "xp6l5DLs-wbE"
      }
    },
    {
      "cell_type": "markdown",
      "source": [
        "# imports/configs"
      ],
      "metadata": {
        "id": "GKeHjiDK5NDR"
      }
    },
    {
      "cell_type": "code",
      "source": [
        "!nvidia-smi"
      ],
      "metadata": {
        "id": "DcSOc_BH5C0r",
        "colab": {
          "base_uri": "https://localhost:8080/"
        },
        "outputId": "e9a6c6fd-ba9c-47fa-cf93-eee9d504322f"
      },
      "execution_count": 1,
      "outputs": [
        {
          "output_type": "stream",
          "name": "stdout",
          "text": [
            "Wed Jun 28 23:47:20 2023       \n",
            "+-----------------------------------------------------------------------------+\n",
            "| NVIDIA-SMI 525.85.12    Driver Version: 525.85.12    CUDA Version: 12.0     |\n",
            "|-------------------------------+----------------------+----------------------+\n",
            "| GPU  Name        Persistence-M| Bus-Id        Disp.A | Volatile Uncorr. ECC |\n",
            "| Fan  Temp  Perf  Pwr:Usage/Cap|         Memory-Usage | GPU-Util  Compute M. |\n",
            "|                               |                      |               MIG M. |\n",
            "|===============================+======================+======================|\n",
            "|   0  NVIDIA A100-SXM...  Off  | 00000000:00:04.0 Off |                    0 |\n",
            "| N/A   30C    P0    44W / 400W |      0MiB / 40960MiB |      0%      Default |\n",
            "|                               |                      |             Disabled |\n",
            "+-------------------------------+----------------------+----------------------+\n",
            "                                                                               \n",
            "+-----------------------------------------------------------------------------+\n",
            "| Processes:                                                                  |\n",
            "|  GPU   GI   CI        PID   Type   Process name                  GPU Memory |\n",
            "|        ID   ID                                                   Usage      |\n",
            "|=============================================================================|\n",
            "|  No running processes found                                                 |\n",
            "+-----------------------------------------------------------------------------+\n"
          ]
        }
      ]
    },
    {
      "cell_type": "code",
      "source": [
        "from google.colab import drive\n",
        "drive.mount('/content/gdrive', force_remount=True)"
      ],
      "metadata": {
        "id": "NWCIT2iU5Rgn",
        "colab": {
          "base_uri": "https://localhost:8080/"
        },
        "outputId": "bc9d1166-8394-4a6f-8423-35c70e96f03f"
      },
      "execution_count": 2,
      "outputs": [
        {
          "output_type": "stream",
          "name": "stdout",
          "text": [
            "Mounted at /content/gdrive\n"
          ]
        }
      ]
    },
    {
      "cell_type": "code",
      "source": [
        "data_dir = '/content/gdrive/MyDrive/unicamp/IA368DD/final-project'"
      ],
      "metadata": {
        "id": "Pj6K6v9y5Tim"
      },
      "execution_count": 3,
      "outputs": []
    },
    {
      "cell_type": "code",
      "source": [
        "# install splade deps from forked repo\n",
        "!pip install git+https://github.com/naver/splade.git -q\n",
        "# fix version problem\n",
        "!pip install hydra-core --upgrade -q\n",
        "# missing dep\n",
        "!pip install pytrec_eval -q"
      ],
      "metadata": {
        "id": "6FzAlsl85Vut",
        "colab": {
          "base_uri": "https://localhost:8080/"
        },
        "outputId": "b8e8f1fd-1f6a-460b-e439-c452e6c266ec"
      },
      "execution_count": 4,
      "outputs": [
        {
          "output_type": "stream",
          "name": "stdout",
          "text": [
            "  Preparing metadata (setup.py) ... \u001b[?25l\u001b[?25hdone\n",
            "\u001b[2K     \u001b[90m━━━━━━━━━━━━━━━━━━━━━━━━━━━━━━━━━━━━━━━━\u001b[0m \u001b[32m4.0/4.0 MB\u001b[0m \u001b[31m46.8 MB/s\u001b[0m eta \u001b[36m0:00:00\u001b[0m\n",
            "\u001b[2K     \u001b[90m━━━━━━━━━━━━━━━━━━━━━━━━━━━━━━━━━━━━━━━━\u001b[0m \u001b[32m74.7/74.7 kB\u001b[0m \u001b[31m9.7 MB/s\u001b[0m eta \u001b[36m0:00:00\u001b[0m\n",
            "\u001b[2K     \u001b[90m━━━━━━━━━━━━━━━━━━━━━━━━━━━━━━━━━━━━━━\u001b[0m \u001b[32m112.4/112.4 kB\u001b[0m \u001b[31m16.3 MB/s\u001b[0m eta \u001b[36m0:00:00\u001b[0m\n",
            "\u001b[?25h  Preparing metadata (setup.py) ... \u001b[?25l\u001b[?25hdone\n",
            "\u001b[2K     \u001b[90m━━━━━━━━━━━━━━━━━━━━━━━━━━━━━━━━━━━━━━\u001b[0m \u001b[32m236.8/236.8 kB\u001b[0m \u001b[31m27.2 MB/s\u001b[0m eta \u001b[36m0:00:00\u001b[0m\n",
            "\u001b[2K     \u001b[90m━━━━━━━━━━━━━━━━━━━━━━━━━━━━━━━━━━━━━━\u001b[0m \u001b[32m880.6/880.6 kB\u001b[0m \u001b[31m64.8 MB/s\u001b[0m eta \u001b[36m0:00:00\u001b[0m\n",
            "\u001b[?25h  Preparing metadata (setup.py) ... \u001b[?25l\u001b[?25hdone\n",
            "\u001b[2K     \u001b[90m━━━━━━━━━━━━━━━━━━━━━━━━━━━━━━━━━━━━━━━━\u001b[0m \u001b[32m6.6/6.6 MB\u001b[0m \u001b[31m61.2 MB/s\u001b[0m eta \u001b[36m0:00:00\u001b[0m\n",
            "\u001b[?25h  Building wheel for SPLADE (setup.py) ... \u001b[?25l\u001b[?25hdone\n",
            "  Building wheel for antlr4-python3-runtime (setup.py) ... \u001b[?25l\u001b[?25hdone\n",
            "  Building wheel for sacremoses (setup.py) ... \u001b[?25l\u001b[?25hdone\n",
            "\u001b[2K     \u001b[90m━━━━━━━━━━━━━━━━━━━━━━━━━━━━━━━━━━━━━━━\u001b[0m \u001b[32m154.5/154.5 kB\u001b[0m \u001b[31m7.4 MB/s\u001b[0m eta \u001b[36m0:00:00\u001b[0m\n",
            "\u001b[2K     \u001b[90m━━━━━━━━━━━━━━━━━━━━━━━━━━━━━━━━━━━━━━━━\u001b[0m \u001b[32m79.5/79.5 kB\u001b[0m \u001b[31m11.2 MB/s\u001b[0m eta \u001b[36m0:00:00\u001b[0m\n",
            "\u001b[2K     \u001b[90m━━━━━━━━━━━━━━━━━━━━━━━━━━━━━━━━━━━━━━\u001b[0m \u001b[32m117.0/117.0 kB\u001b[0m \u001b[31m16.1 MB/s\u001b[0m eta \u001b[36m0:00:00\u001b[0m\n",
            "\u001b[?25h  Preparing metadata (setup.py) ... \u001b[?25l\u001b[?25hdone\n",
            "  Building wheel for antlr4-python3-runtime (setup.py) ... \u001b[?25l\u001b[?25hdone\n",
            "\u001b[31mERROR: pip's dependency resolver does not currently take into account all the packages that are installed. This behaviour is the source of the following dependency conflicts.\n",
            "splade 2.1 requires omegaconf==2.1.2, but you have omegaconf 2.3.0 which is incompatible.\u001b[0m\u001b[31m\n",
            "\u001b[0m  Preparing metadata (setup.py) ... \u001b[?25l\u001b[?25hdone\n",
            "  Building wheel for pytrec_eval (setup.py) ... \u001b[?25l\u001b[?25hdone\n"
          ]
        }
      ]
    },
    {
      "cell_type": "code",
      "source": [
        "import torch\n",
        "print(torch.__version__)"
      ],
      "metadata": {
        "id": "UVDaz_9v5Xxr",
        "colab": {
          "base_uri": "https://localhost:8080/"
        },
        "outputId": "ce976371-eb06-494f-8ee2-deab0891a1ae"
      },
      "execution_count": 5,
      "outputs": [
        {
          "output_type": "stream",
          "name": "stdout",
          "text": [
            "2.0.1+cu118\n"
          ]
        }
      ]
    },
    {
      "cell_type": "code",
      "source": [
        "# clone forked splade repo\n",
        "!git clone https://github.com/tcvieira/splade.git splade-mine"
      ],
      "metadata": {
        "id": "-e03eWaI5Y_z",
        "colab": {
          "base_uri": "https://localhost:8080/"
        },
        "outputId": "6f6e222e-3a32-4039-86fe-bffb3118fbe6"
      },
      "execution_count": 6,
      "outputs": [
        {
          "output_type": "stream",
          "name": "stdout",
          "text": [
            "Cloning into 'splade-mine'...\n",
            "remote: Enumerating objects: 547, done.\u001b[K\n",
            "remote: Counting objects: 100% (252/252), done.\u001b[K\n",
            "remote: Compressing objects: 100% (109/109), done.\u001b[K\n",
            "remote: Total 547 (delta 189), reused 153 (delta 143), pack-reused 295\u001b[K\n",
            "Receiving objects: 100% (547/547), 3.08 MiB | 7.99 MiB/s, done.\n",
            "Resolving deltas: 100% (276/276), done.\n"
          ]
        }
      ]
    },
    {
      "cell_type": "code",
      "source": [
        "!cd splade-mine && git pull"
      ],
      "metadata": {
        "id": "OD0LN9Vs5aaa",
        "colab": {
          "base_uri": "https://localhost:8080/"
        },
        "outputId": "4e692772-3104-492c-c5da-68886f4cc9e0"
      },
      "execution_count": 7,
      "outputs": [
        {
          "output_type": "stream",
          "name": "stdout",
          "text": [
            "Already up to date.\n"
          ]
        }
      ]
    },
    {
      "cell_type": "code",
      "source": [
        "# clone forked splade repo\n",
        "#!git clone https://github.com/naver/splade.git splade"
      ],
      "metadata": {
        "id": "mVyjomzP5ced"
      },
      "execution_count": 8,
      "outputs": []
    },
    {
      "cell_type": "code",
      "source": [
        "#!cd splade && git checkout hf && git status"
      ],
      "metadata": {
        "id": "DYuCtArg5d2_"
      },
      "execution_count": 9,
      "outputs": []
    },
    {
      "cell_type": "markdown",
      "source": [
        "# dataset"
      ],
      "metadata": {
        "id": "LNZW_BsE5onR"
      }
    },
    {
      "cell_type": "code",
      "source": [
        "!cp gdrive/MyDrive/unicamp/IA368DD/final-project/mmarco-train-dataset.zip splade-mine/data"
      ],
      "metadata": {
        "id": "L6xCjkpV5pTh"
      },
      "execution_count": 10,
      "outputs": []
    },
    {
      "cell_type": "code",
      "source": [
        "!unzip splade-mine/data/mmarco-train-dataset.zip -d splade-mine/data"
      ],
      "metadata": {
        "id": "CBEolCnR5r0O",
        "colab": {
          "base_uri": "https://localhost:8080/"
        },
        "outputId": "c5b211c8-bef0-4f1f-cd65-51cf18dde099"
      },
      "execution_count": 11,
      "outputs": [
        {
          "output_type": "stream",
          "name": "stdout",
          "text": [
            "Archive:  splade-mine/data/mmarco-train-dataset.zip\n",
            "   creating: splade-mine/data/mmarco-pt/\n",
            "  inflating: splade-mine/data/mmarco-pt/.DS_Store  \n",
            "  inflating: splade-mine/data/__MACOSX/mmarco-pt/._.DS_Store  \n",
            "   creating: splade-mine/data/mmarco-pt/qrel/\n",
            "   creating: splade-mine/data/mmarco-pt/val_collection/\n",
            "   creating: splade-mine/data/mmarco-pt/dev_queries/\n",
            "   creating: splade-mine/data/mmarco-pt/full_collection/\n",
            "   creating: splade-mine/data/mmarco-pt/val_queries/\n",
            "  inflating: splade-mine/data/mmarco-pt/qrel/.DS_Store  \n",
            "  inflating: splade-mine/data/__MACOSX/mmarco-pt/qrel/._.DS_Store  \n",
            "  inflating: splade-mine/data/mmarco-pt/qrel/qrel.json  \n",
            "  inflating: splade-mine/data/mmarco-pt/val_collection/.DS_Store  \n",
            "  inflating: splade-mine/data/__MACOSX/mmarco-pt/val_collection/._.DS_Store  \n",
            "  inflating: splade-mine/data/mmarco-pt/val_collection/raw.tsv  \n",
            "  inflating: splade-mine/data/mmarco-pt/dev_queries/.DS_Store  \n",
            "  inflating: splade-mine/data/__MACOSX/mmarco-pt/dev_queries/._.DS_Store  \n",
            "  inflating: splade-mine/data/mmarco-pt/dev_queries/raw.tsv  \n",
            "  inflating: splade-mine/data/mmarco-pt/full_collection/.DS_Store  \n",
            "  inflating: splade-mine/data/__MACOSX/mmarco-pt/full_collection/._.DS_Store  \n",
            "  inflating: splade-mine/data/mmarco-pt/full_collection/raw.tsv  \n",
            "  inflating: splade-mine/data/mmarco-pt/val_queries/.DS_Store  \n",
            "  inflating: splade-mine/data/__MACOSX/mmarco-pt/val_queries/._.DS_Store  \n",
            "  inflating: splade-mine/data/mmarco-pt/val_queries/raw.tsv  \n",
            "   creating: splade-mine/data/mmarco-pt-4M/\n",
            "  inflating: splade-mine/data/mmarco-pt-4M/.DS_Store  \n",
            "  inflating: splade-mine/data/__MACOSX/mmarco-pt-4M/._.DS_Store  \n",
            "   creating: splade-mine/data/mmarco-pt-4M/triplets/\n",
            "  inflating: splade-mine/data/mmarco-pt-4M/triplets/.DS_Store  \n",
            "  inflating: splade-mine/data/__MACOSX/mmarco-pt-4M/triplets/._.DS_Store  \n",
            "  inflating: splade-mine/data/mmarco-pt-4M/triplets/raw.tsv  \n",
            "   creating: splade-mine/data/mmarco-pt-100k/\n",
            "  inflating: splade-mine/data/mmarco-pt-100k/.DS_Store  \n",
            "  inflating: splade-mine/data/__MACOSX/mmarco-pt-100k/._.DS_Store  \n",
            "   creating: splade-mine/data/mmarco-pt-100k/triplets/\n",
            "  inflating: splade-mine/data/mmarco-pt-100k/triplets/.DS_Store  \n",
            "  inflating: splade-mine/data/__MACOSX/mmarco-pt-100k/triplets/._.DS_Store  \n",
            "  inflating: splade-mine/data/mmarco-pt-100k/triplets/raw.tsv  \n"
          ]
        }
      ]
    },
    {
      "cell_type": "code",
      "source": [
        "!rm -rf splade-mine/data/__MACOSX"
      ],
      "metadata": {
        "id": "4ejrGTax5tff"
      },
      "execution_count": 12,
      "outputs": []
    },
    {
      "cell_type": "code",
      "source": [
        "#!cp -R splade-mine/data/mmarco-pt/* splade-mine/data/mmarco-pt-100k/"
      ],
      "metadata": {
        "id": "1F8wcNMD5u4k"
      },
      "execution_count": 13,
      "outputs": []
    },
    {
      "cell_type": "code",
      "source": [
        "!cp -R splade-mine/data/mmarco-pt/* splade-mine/data/mmarco-pt-4M/"
      ],
      "metadata": {
        "id": "ZwUPB18d5wUP"
      },
      "execution_count": 14,
      "outputs": []
    },
    {
      "cell_type": "markdown",
      "source": [
        "# model"
      ],
      "metadata": {
        "id": "nVexad_2KMwR"
      }
    },
    {
      "cell_type": "code",
      "source": [
        "# !mkdir model/"
      ],
      "metadata": {
        "id": "7r8vZAMyKU5V"
      },
      "execution_count": null,
      "outputs": []
    },
    {
      "cell_type": "code",
      "source": [
        "# !cp -R /content/gdrive/MyDrive/unicamp/IA368DD/final-project/experiments/splade_mmarco_pt_4M/model-final.tar ."
      ],
      "metadata": {
        "id": "6uMfddyYKOLb"
      },
      "execution_count": null,
      "outputs": []
    },
    {
      "cell_type": "code",
      "source": [
        "# !tar -C /content/model -xvf /content/model-final.tar"
      ],
      "metadata": {
        "id": "pNo3TDhyKkZs"
      },
      "execution_count": null,
      "outputs": []
    },
    {
      "cell_type": "markdown",
      "source": [
        "# indexing mmarco pt"
      ],
      "metadata": {
        "id": "vfAcqnqz6QeZ"
      }
    },
    {
      "cell_type": "code",
      "source": [
        "!mkdir -p experiments/splade_mmarco_pt_4M/"
      ],
      "metadata": {
        "id": "-420gXCBIX6O"
      },
      "execution_count": 15,
      "outputs": []
    },
    {
      "cell_type": "code",
      "source": [
        "!cp -R /content/gdrive/MyDrive/unicamp/IA368DD/final-project/experiments/splade_mmarco_pt_4M/* experiments/splade_mmarco_pt_4M/"
      ],
      "metadata": {
        "id": "3-2DxjKUIaEn"
      },
      "execution_count": 18,
      "outputs": []
    },
    {
      "cell_type": "code",
      "source": [
        "!cd splade-mine && SPLADE_CONFIG_NAME=config_splade_mmarco-pt python3 -m splade.index \\\n",
        "  config.checkpoint_dir=/content/experiments/splade_mmarco_pt_4M/checkpoint \\\n",
        "  config.index_dir=/content/experiments/splade_mmarco_pt_4M/index \\\n",
        "  config.out_dir=/content/experiments/splade_mmarco_pt_4M/out"
      ],
      "metadata": {
        "id": "qAZU5twDINRT",
        "colab": {
          "base_uri": "https://localhost:8080/"
        },
        "outputId": "e9f57c8c-e1fb-4dc9-81f3-4cd2ff6cf553"
      },
      "execution_count": 20,
      "outputs": [
        {
          "output_type": "stream",
          "name": "stdout",
          "text": [
            "/content/splade-mine/splade/index.py:12: UserWarning: \n",
            "The version_base parameter is not specified.\n",
            "Please specify a compatability version level, or None.\n",
            "Will assume defaults for version 1.1\n",
            "  @hydra.main(config_path=CONFIG_PATH, config_name=CONFIG_NAME)\n",
            "/usr/local/lib/python3.10/dist-packages/hydra/_internal/defaults_list.py:251: UserWarning: In 'config_splade_mmarco-pt': Defaults list is missing `_self_`. See https://hydra.cc/docs/1.2/upgrades/1.0_to_1.1/default_composition_order for more information\n",
            "  warnings.warn(msg, UserWarning)\n",
            "/usr/local/lib/python3.10/dist-packages/hydra/_internal/hydra.py:119: UserWarning: Future Hydra versions will no longer change working directory at job runtime by default.\n",
            "See https://hydra.cc/docs/1.2/upgrades/1.1_to_1.2/changes_to_job_working_dir/ for more information.\n",
            "  ret = run_job(\n",
            "config:\n",
            "  lr: 2.0e-05\n",
            "  seed: 123\n",
            "  gradient_accumulation_steps: 1\n",
            "  weight_decay: 0.01\n",
            "  validation_metrics:\n",
            "  - MRR@10\n",
            "  - recall@100\n",
            "  - recall@200\n",
            "  - recall@500\n",
            "  pretrained_no_yamlconfig: false\n",
            "  nb_iterations: 150000\n",
            "  train_batch_size: 64\n",
            "  eval_batch_size: 64\n",
            "  index_retrieve_batch_size: 64\n",
            "  record_frequency: 10000\n",
            "  train_monitoring_freq: 500\n",
            "  warmup_steps: 6000\n",
            "  max_length: 256\n",
            "  fp16: false\n",
            "  matching_type: splade\n",
            "  monitoring_ckpt: MRR@10\n",
            "  loss: InBatchPairwiseNLL\n",
            "  augment_pair: in_batch_negatives\n",
            "  regularizer:\n",
            "    FLOPS:\n",
            "      lambda_q: 0.0005\n",
            "      lambda_d: 0.0003\n",
            "      T: 3\n",
            "      targeted_rep: rep\n",
            "      reg: FLOPS\n",
            "  tokenizer_type: neuralmind/bert-base-portuguese-cased\n",
            "  top_k: 1000\n",
            "  threshold: 0\n",
            "  eval_metric:\n",
            "  - - mrr_10\n",
            "    - recall\n",
            "    - ndcg_cut_20\n",
            "    - recall@1000\n",
            "  checkpoint_dir: /content/experiments/splade_mmarco_pt_4M/checkpoint\n",
            "  index_dir: /content/experiments/splade_mmarco_pt_4M/index\n",
            "  out_dir: /content/experiments/splade_mmarco_pt_4M/out\n",
            "data:\n",
            "  type: triplets\n",
            "  TRAIN_DATA_DIR: data/mmarco-pt-4M/triplets\n",
            "  VALIDATION_SIZE_FOR_LOSS: 60000\n",
            "  VALIDATION_FULL_RANKING:\n",
            "    D_COLLECTION_PATH: data/mmarco-pt/val_collection\n",
            "    Q_COLLECTION_PATH: data/mmarco-pt/val_queries\n",
            "    QREL_PATH: data/mmarco-pt/qrel/qrel.json\n",
            "    TOP_K: 500\n",
            "  COLLECTION_PATH: data/mmarco-pt/full_collection\n",
            "  Q_COLLECTION_PATH:\n",
            "  - data/mmarco-pt/dev_queries\n",
            "  EVAL_QREL_PATH:\n",
            "  - data/mmarco-pt/dev_qrel.json\n",
            "  flops_queries: data/mmarco-pt/dev_queries/\n",
            "init_dict:\n",
            "  model_type_or_dir: neuralmind/bert-base-portuguese-cased\n",
            "  model_type_or_dir_q: null\n",
            "  freeze_d_model: 0\n",
            "  agg: max\n",
            "  fp16: true\n",
            "\n",
            "Downloading: 100% 647/647 [00:00<00:00, 5.77MB/s]\n",
            "Downloading: 100% 418M/418M [00:03<00:00, 119MB/s]\n",
            "Some weights of the model checkpoint at neuralmind/bert-base-portuguese-cased were not used when initializing BertForMaskedLM: ['cls.seq_relationship.bias', 'cls.seq_relationship.weight']\n",
            "- This IS expected if you are initializing BertForMaskedLM from the checkpoint of a model trained on another task or with another architecture (e.g. initializing a BertForSequenceClassification model from a BertForPreTraining model).\n",
            "- This IS NOT expected if you are initializing BertForMaskedLM from the checkpoint of a model that you expect to be exactly identical (initializing a BertForSequenceClassification model from a BertForSequenceClassification model).\n",
            "Downloading: 100% 43.0/43.0 [00:00<00:00, 395kB/s]\n",
            "Downloading: 100% 205k/205k [00:00<00:00, 2.86MB/s]\n",
            "Downloading: 100% 2.00/2.00 [00:00<00:00, 22.8kB/s]\n",
            "Downloading: 100% 112/112 [00:00<00:00, 1.23MB/s]\n",
            "Preloading dataset\n",
            "8841823it [00:34, 259133.37it/s]\n",
            "restoring model: Splade\n",
            "restore model on GPU at /content/experiments/splade_mmarco_pt_4M/checkpoint/model/model.tar\n",
            "initializing new index...\n",
            "100% 138154/138154 [8:05:49<00:00,  4.74it/s]\n",
            "converting to numpy\n",
            "100% 20899/20899 [00:06<00:00, 3060.11it/s] \n",
            "save to disk\n",
            "100% 20899/20899 [01:16<00:00, 271.48it/s] \n",
            "saving index distribution...\n",
            "done iterating over the corpus...\n",
            "index contains 20899 posting lists\n",
            "index contains 8841823 documents\n"
          ]
        }
      ]
    },
    {
      "cell_type": "code",
      "source": [
        "!cp -R experiments/splade_mmarco_pt_4M/index/*  /content/gdrive/MyDrive/unicamp/IA368DD/final-project/experiments/splade_mmarco_pt_4M/index/"
      ],
      "metadata": {
        "id": "0hGAU0A3Igjb"
      },
      "execution_count": 21,
      "outputs": []
    },
    {
      "cell_type": "code",
      "source": [
        "!zip -r index_4M.zip experiments/splade_mmarco_pt_4M/index/"
      ],
      "metadata": {
        "id": "kPszw3Zu6ict",
        "colab": {
          "base_uri": "https://localhost:8080/"
        },
        "outputId": "5fdecdac-b7c1-4bcc-9c6e-1e765820f957"
      },
      "execution_count": 22,
      "outputs": [
        {
          "output_type": "stream",
          "name": "stdout",
          "text": [
            "  adding: experiments/splade_mmarco_pt_4M/index/ (stored 0%)\n",
            "  adding: experiments/splade_mmarco_pt_4M/index/index_stats.json (stored 0%)\n",
            "  adding: experiments/splade_mmarco_pt_4M/index/doc_ids.pkl (deflated 69%)\n",
            "  adding: experiments/splade_mmarco_pt_4M/index/array_index.h5py (deflated 36%)\n",
            "  adding: experiments/splade_mmarco_pt_4M/index/index_dist.json (deflated 63%)\n"
          ]
        }
      ]
    },
    {
      "cell_type": "code",
      "source": [
        "!cp index_4M.zip /content/gdrive/MyDrive/unicamp/IA368DD/final-project/experiments/splade_mmarco_pt_4M/"
      ],
      "metadata": {
        "id": "rivrOR7wJCVy"
      },
      "execution_count": null,
      "outputs": []
    },
    {
      "cell_type": "code",
      "source": [
        "from google.colab import runtime\n",
        "runtime.unassign()"
      ],
      "metadata": {
        "id": "Ka88tyKPJP6w"
      },
      "execution_count": null,
      "outputs": []
    },
    {
      "cell_type": "code",
      "source": [],
      "metadata": {
        "id": "XTLHgL7ScylZ"
      },
      "execution_count": null,
      "outputs": []
    },
    {
      "cell_type": "markdown",
      "source": [
        "# retrieve and evaluate mmarco pt"
      ],
      "metadata": {
        "id": "hXClxuIxEjxG"
      }
    },
    {
      "cell_type": "code",
      "source": [
        "!cd splade-mine && SPLADE_CONFIG_NAME=config_splade_mmarco-pt python3 -m splade.retrieve \\\n",
        "  config.checkpoint_dir=/content/experiments/splade_mmarco_pt_4M/checkpoint \\\n",
        "  config.index_dir=/content/experiments/splade_mmarco_pt_4M/index \\\n",
        "  config.out_dir=/content/experiments/splade_mmarco_pt_4M/out"
      ],
      "metadata": {
        "id": "dP-7k2p6EnN7"
      },
      "execution_count": null,
      "outputs": []
    }
  ]
}